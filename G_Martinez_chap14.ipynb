{
  "nbformat": 4,
  "nbformat_minor": 0,
  "metadata": {
    "kernelspec": {
      "display_name": "Python 3",
      "language": "python",
      "name": "python3"
    },
    "language_info": {
      "codemirror_mode": {
        "name": "ipython",
        "version": 3
      },
      "file_extension": ".py",
      "mimetype": "text/x-python",
      "name": "python",
      "nbconvert_exporter": "python",
      "pygments_lexer": "ipython3",
      "version": "3.7.9"
    },
    "colab": {
      "name": "G_Martinez_chap14.ipynb",
      "provenance": [],
      "include_colab_link": true
    }
  },
  "cells": [
    {
      "cell_type": "markdown",
      "metadata": {
        "id": "view-in-github",
        "colab_type": "text"
      },
      "source": [
        "<a href=\"https://colab.research.google.com/github/gabbypaola/DATA604/blob/main/G_Martinez_chap14.ipynb\" target=\"_parent\"><img src=\"https://colab.research.google.com/assets/colab-badge.svg\" alt=\"Open In Colab\"/></a>"
      ]
    },
    {
      "cell_type": "markdown",
      "metadata": {
        "id": "yJf4VE-kWtvM"
      },
      "source": [
        "# Chapter 14"
      ]
    },
    {
      "cell_type": "markdown",
      "metadata": {
        "tags": [],
        "id": "ibPeu1wPWtvW"
      },
      "source": [
        "*Modeling and Simulation in Python*\n",
        "\n",
        "Copyright 2021 Allen Downey\n",
        "\n",
        "License: [Creative Commons Attribution-NonCommercial-ShareAlike 4.0 International](https://creativecommons.org/licenses/by-nc-sa/4.0/)"
      ]
    },
    {
      "cell_type": "code",
      "metadata": {
        "tags": [],
        "id": "wJVsuR69WtvZ",
        "colab": {
          "base_uri": "https://localhost:8080/"
        },
        "outputId": "913472b6-641c-470a-f25f-1262d727975d"
      },
      "source": [
        "# check if the libraries we need are installed\n",
        "\n",
        "try:\n",
        "    import pint\n",
        "except ImportError:\n",
        "    !pip install pint\n",
        "    import pint\n",
        "    \n",
        "try:\n",
        "    from modsim import *\n",
        "except ImportError:\n",
        "    !pip install modsimpy\n",
        "    from modsim import *"
      ],
      "execution_count": null,
      "outputs": [
        {
          "output_type": "stream",
          "text": [
            "Collecting pint\n",
            "\u001b[?25l  Downloading https://files.pythonhosted.org/packages/33/de/53a77b82553579affab7438d299f850acbc1c4dd741c5ce52594513cb0ef/Pint-0.17-py2.py3-none-any.whl (204kB)\n",
            "\r\u001b[K     |█▋                              | 10kB 15.0MB/s eta 0:00:01\r\u001b[K     |███▏                            | 20kB 21.7MB/s eta 0:00:01\r\u001b[K     |████▉                           | 30kB 24.5MB/s eta 0:00:01\r\u001b[K     |██████▍                         | 40kB 26.7MB/s eta 0:00:01\r\u001b[K     |████████                        | 51kB 28.6MB/s eta 0:00:01\r\u001b[K     |█████████▋                      | 61kB 31.3MB/s eta 0:00:01\r\u001b[K     |███████████▏                    | 71kB 28.0MB/s eta 0:00:01\r\u001b[K     |████████████▉                   | 81kB 28.7MB/s eta 0:00:01\r\u001b[K     |██████████████▍                 | 92kB 29.5MB/s eta 0:00:01\r\u001b[K     |████████████████                | 102kB 29.5MB/s eta 0:00:01\r\u001b[K     |█████████████████▋              | 112kB 29.5MB/s eta 0:00:01\r\u001b[K     |███████████████████▏            | 122kB 29.5MB/s eta 0:00:01\r\u001b[K     |████████████████████▉           | 133kB 29.5MB/s eta 0:00:01\r\u001b[K     |██████████████████████▍         | 143kB 29.5MB/s eta 0:00:01\r\u001b[K     |████████████████████████        | 153kB 29.5MB/s eta 0:00:01\r\u001b[K     |█████████████████████████▋      | 163kB 29.5MB/s eta 0:00:01\r\u001b[K     |███████████████████████████▏    | 174kB 29.5MB/s eta 0:00:01\r\u001b[K     |████████████████████████████▊   | 184kB 29.5MB/s eta 0:00:01\r\u001b[K     |██████████████████████████████▍ | 194kB 29.5MB/s eta 0:00:01\r\u001b[K     |████████████████████████████████| 204kB 29.5MB/s eta 0:00:01\r\u001b[K     |████████████████████████████████| 215kB 29.5MB/s \n",
            "\u001b[?25hRequirement already satisfied: packaging in /usr/local/lib/python3.7/dist-packages (from pint) (20.9)\n",
            "Requirement already satisfied: importlib-metadata; python_version < \"3.8\" in /usr/local/lib/python3.7/dist-packages (from pint) (4.6.0)\n",
            "Requirement already satisfied: pyparsing>=2.0.2 in /usr/local/lib/python3.7/dist-packages (from packaging->pint) (2.4.7)\n",
            "Requirement already satisfied: zipp>=0.5 in /usr/local/lib/python3.7/dist-packages (from importlib-metadata; python_version < \"3.8\"->pint) (3.4.1)\n",
            "Requirement already satisfied: typing-extensions>=3.6.4; python_version < \"3.8\" in /usr/local/lib/python3.7/dist-packages (from importlib-metadata; python_version < \"3.8\"->pint) (3.7.4.3)\n",
            "Installing collected packages: pint\n",
            "Successfully installed pint-0.17\n",
            "Collecting modsimpy\n",
            "  Downloading https://files.pythonhosted.org/packages/ee/ef/c170df0ee5311cda90a10fc71d1610b9a1cb2241fadbf04bf0f57ff161e9/modsimpy-1.1.3.tar.gz\n",
            "Building wheels for collected packages: modsimpy\n",
            "  Building wheel for modsimpy (setup.py) ... \u001b[?25l\u001b[?25hdone\n",
            "  Created wheel for modsimpy: filename=modsimpy-1.1.3-cp37-none-any.whl size=20356 sha256=6e51b4d85af9dc442ebacca7395e2da16abc6881e868b064337608147faea1e3\n",
            "  Stored in directory: /root/.cache/pip/wheels/59/34/ac/e82f103fbfb5d961b1a4d2b8e89bb6629a4c0b242e5373cbfa\n",
            "Successfully built modsimpy\n",
            "Installing collected packages: modsimpy\n",
            "Successfully installed modsimpy-1.1.3\n"
          ],
          "name": "stdout"
        }
      ]
    },
    {
      "cell_type": "markdown",
      "metadata": {
        "id": "PIO3BO0eWtvc"
      },
      "source": [
        "### Code from previous chapters"
      ]
    },
    {
      "cell_type": "code",
      "metadata": {
        "id": "LlRG3G3aWtve"
      },
      "source": [
        "def make_system(beta, gamma):\n",
        "    \"\"\"Make a system object for the SIR model.\n",
        "    \n",
        "    beta: contact rate in days\n",
        "    gamma: recovery rate in days\n",
        "    \n",
        "    returns: System object\n",
        "    \"\"\"\n",
        "    init = State(S=89, I=1, R=0)\n",
        "    init /= np.sum(init)\n",
        "\n",
        "    t0 = 0\n",
        "    t_end = 7 * 14\n",
        "\n",
        "    return System(init=init, t0=t0, t_end=t_end,\n",
        "                  beta=beta, gamma=gamma)"
      ],
      "execution_count": null,
      "outputs": []
    },
    {
      "cell_type": "code",
      "metadata": {
        "id": "7ah6r-T6Wtvg"
      },
      "source": [
        "def update_func(state, t, system):\n",
        "    \"\"\"Update the SIR model.\n",
        "    \n",
        "    state: State (s, i, r)\n",
        "    t: time\n",
        "    system: System object\n",
        "    \n",
        "    returns: State (sir)\n",
        "    \"\"\"\n",
        "    s, i, r = state\n",
        "\n",
        "    infected = system.beta * i * s    \n",
        "    recovered = system.gamma * i\n",
        "    \n",
        "    s -= infected\n",
        "    i += infected - recovered\n",
        "    r += recovered\n",
        "    \n",
        "    return State(S=s, I=i, R=r)"
      ],
      "execution_count": null,
      "outputs": []
    },
    {
      "cell_type": "code",
      "metadata": {
        "id": "koHfKZjJWtvi"
      },
      "source": [
        "def run_simulation(system, update_func):\n",
        "    \"\"\"Runs a simulation of the system.\n",
        "        \n",
        "    system: System object\n",
        "    update_func: function that updates state\n",
        "    \n",
        "    returns: TimeFrame\n",
        "    \"\"\"\n",
        "    init, t0, t_end = system.init, system.t0, system.t_end\n",
        "    \n",
        "    frame = TimeFrame(columns=init.index)\n",
        "    frame.row[t0] = init\n",
        "    \n",
        "    for t in linrange(t0, t_end):\n",
        "        frame.row[t+1] = update_func(frame.row[t], t, system)\n",
        "    \n",
        "    return frame"
      ],
      "execution_count": null,
      "outputs": []
    },
    {
      "cell_type": "code",
      "metadata": {
        "id": "GvYfZYoOWtvk"
      },
      "source": [
        "def calc_total_infected(results):\n",
        "    \"\"\"Fraction of population infected during the simulation.\n",
        "    \n",
        "    results: DataFrame with columns S, I, R\n",
        "    \n",
        "    returns: fraction of population\n",
        "    \"\"\"\n",
        "    return get_first_value(results.S) - get_last_value(results.S)"
      ],
      "execution_count": null,
      "outputs": []
    },
    {
      "cell_type": "code",
      "metadata": {
        "id": "qXIAIhz6Wtvm"
      },
      "source": [
        "def sweep_beta(beta_array, gamma):\n",
        "    \"\"\"Sweep a range of values for beta.\n",
        "    \n",
        "    beta_array: array of beta values\n",
        "    gamma: recovery rate\n",
        "    \n",
        "    returns: SweepSeries that maps from beta to total infected\n",
        "    \"\"\"\n",
        "    sweep = SweepSeries()\n",
        "    for beta in beta_array:\n",
        "        system = make_system(beta, gamma)\n",
        "        results = run_simulation(system, update_func)\n",
        "        sweep[system.beta] = calc_total_infected(results)\n",
        "    return sweep"
      ],
      "execution_count": null,
      "outputs": []
    },
    {
      "cell_type": "code",
      "metadata": {
        "id": "hUZvE8bCWtvp"
      },
      "source": [
        "def sweep_parameters(beta_array, gamma_array):\n",
        "    \"\"\"Sweep a range of values for beta and gamma.\n",
        "    \n",
        "    beta_array: array of infection rates\n",
        "    gamma_array: array of recovery rates\n",
        "    \n",
        "    returns: SweepFrame with one row for each beta\n",
        "             and one column for each gamma\n",
        "    \"\"\"\n",
        "    frame = SweepFrame(columns=gamma_array)\n",
        "    for gamma in gamma_array:\n",
        "        frame[gamma] = sweep_beta(beta_array, gamma)\n",
        "    return frame"
      ],
      "execution_count": null,
      "outputs": []
    },
    {
      "cell_type": "markdown",
      "metadata": {
        "id": "2rH6udlJWtvs"
      },
      "source": [
        "### Contact number"
      ]
    },
    {
      "cell_type": "markdown",
      "metadata": {
        "id": "rLXgLy15Wtvt"
      },
      "source": [
        "Here's the `SweepFrame` from the previous chapter, with one row for each value of `beta` and one column for each value of `gamma`."
      ]
    },
    {
      "cell_type": "code",
      "metadata": {
        "id": "TWjG6-KfWtvu",
        "colab": {
          "base_uri": "https://localhost:8080/",
          "height": 204
        },
        "outputId": "9a2f7d45-bff6-4399-97f9-5db71f5e48c2"
      },
      "source": [
        "beta_array = [0.1, 0.2, 0.3, 0.4, 0.5, 0.6, 0.7, 0.8, 0.9, 1.0 , 1.1]\n",
        "gamma_array = [0.2, 0.4, 0.6, 0.8]\n",
        "frame = sweep_parameters(beta_array, gamma_array)\n",
        "frame.head()"
      ],
      "execution_count": null,
      "outputs": [
        {
          "output_type": "execute_result",
          "data": {
            "text/html": [
              "<div>\n",
              "<style scoped>\n",
              "    .dataframe tbody tr th:only-of-type {\n",
              "        vertical-align: middle;\n",
              "    }\n",
              "\n",
              "    .dataframe tbody tr th {\n",
              "        vertical-align: top;\n",
              "    }\n",
              "\n",
              "    .dataframe thead th {\n",
              "        text-align: right;\n",
              "    }\n",
              "</style>\n",
              "<table border=\"1\" class=\"dataframe\">\n",
              "  <thead>\n",
              "    <tr style=\"text-align: right;\">\n",
              "      <th></th>\n",
              "      <th>0.2</th>\n",
              "      <th>0.4</th>\n",
              "      <th>0.6</th>\n",
              "      <th>0.8</th>\n",
              "    </tr>\n",
              "  </thead>\n",
              "  <tbody>\n",
              "    <tr>\n",
              "      <th>0.1</th>\n",
              "      <td>0.010756</td>\n",
              "      <td>0.003642</td>\n",
              "      <td>0.002191</td>\n",
              "      <td>0.001567</td>\n",
              "    </tr>\n",
              "    <tr>\n",
              "      <th>0.2</th>\n",
              "      <td>0.118984</td>\n",
              "      <td>0.010763</td>\n",
              "      <td>0.005447</td>\n",
              "      <td>0.003644</td>\n",
              "    </tr>\n",
              "    <tr>\n",
              "      <th>0.3</th>\n",
              "      <td>0.589095</td>\n",
              "      <td>0.030185</td>\n",
              "      <td>0.010771</td>\n",
              "      <td>0.006526</td>\n",
              "    </tr>\n",
              "    <tr>\n",
              "      <th>0.4</th>\n",
              "      <td>0.801339</td>\n",
              "      <td>0.131563</td>\n",
              "      <td>0.020917</td>\n",
              "      <td>0.010780</td>\n",
              "    </tr>\n",
              "    <tr>\n",
              "      <th>0.5</th>\n",
              "      <td>0.896577</td>\n",
              "      <td>0.396409</td>\n",
              "      <td>0.046140</td>\n",
              "      <td>0.017640</td>\n",
              "    </tr>\n",
              "  </tbody>\n",
              "</table>\n",
              "</div>"
            ],
            "text/plain": [
              "          0.2       0.4       0.6       0.8\n",
              "0.1  0.010756  0.003642  0.002191  0.001567\n",
              "0.2  0.118984  0.010763  0.005447  0.003644\n",
              "0.3  0.589095  0.030185  0.010771  0.006526\n",
              "0.4  0.801339  0.131563  0.020917  0.010780\n",
              "0.5  0.896577  0.396409  0.046140  0.017640"
            ]
          },
          "metadata": {
            "tags": []
          },
          "execution_count": 8
        }
      ]
    },
    {
      "cell_type": "markdown",
      "metadata": {
        "id": "73pfxM2RWtvv"
      },
      "source": [
        ""
      ]
    },
    {
      "cell_type": "code",
      "metadata": {
        "id": "kC72nvEVWtvw",
        "colab": {
          "base_uri": "https://localhost:8080/"
        },
        "outputId": "59daa68c-ff61-4895-ca88-ca232e3bde1f"
      },
      "source": [
        "frame.shape"
      ],
      "execution_count": null,
      "outputs": [
        {
          "output_type": "execute_result",
          "data": {
            "text/plain": [
              "(11, 4)"
            ]
          },
          "metadata": {
            "tags": []
          },
          "execution_count": 9
        }
      ]
    },
    {
      "cell_type": "markdown",
      "metadata": {
        "id": "gydk8fWEWtvx"
      },
      "source": [
        "The following loop shows how we can loop through the columns and rows of the `SweepFrame`.  With 11 rows and 4 columns, there are 44 elements."
      ]
    },
    {
      "cell_type": "code",
      "metadata": {
        "id": "pkkdyJTtWtvy",
        "colab": {
          "base_uri": "https://localhost:8080/"
        },
        "outputId": "4f80d039-4b02-43a0-8853-4b90b14157ac"
      },
      "source": [
        "for gamma in frame.columns:\n",
        "    column = frame[gamma]\n",
        "    for beta in column.index:\n",
        "        frac_infected = column[beta]\n",
        "        print(beta, gamma, frac_infected)"
      ],
      "execution_count": null,
      "outputs": [
        {
          "output_type": "stream",
          "text": [
            "0.1 0.2 0.010756340768063644\n",
            "0.2 0.2 0.11898421353185373\n",
            "0.3 0.2 0.5890954199973404\n",
            "0.4 0.2 0.8013385277185551\n",
            "0.5 0.2 0.8965769637207062\n",
            "0.6 0.2 0.942929291399791\n",
            "0.7 0.2 0.966299311298026\n",
            "0.8 0.2 0.9781518959989762\n",
            "0.9 0.2 0.9840568957948106\n",
            "1.0 0.2 0.9868823507202488\n",
            "1.1 0.2 0.988148177093735\n",
            "0.1 0.4 0.0036416926514175607\n",
            "0.2 0.4 0.010763463373360094\n",
            "0.3 0.4 0.030184952469116566\n",
            "0.4 0.4 0.131562924303259\n",
            "0.5 0.4 0.3964094037932606\n",
            "0.6 0.4 0.5979016626615987\n",
            "0.7 0.4 0.7284704154876106\n",
            "0.8 0.4 0.8144604459153759\n",
            "0.9 0.4 0.8722697237137128\n",
            "1.0 0.4 0.9116692168795855\n",
            "1.1 0.4 0.9386802509510287\n",
            "0.1 0.6 0.002190722188881611\n",
            "0.2 0.6 0.005446688837466351\n",
            "0.3 0.6 0.010771139974975585\n",
            "0.4 0.6 0.020916599304195316\n",
            "0.5 0.6 0.04614035896610047\n",
            "0.6 0.6 0.13288938996079536\n",
            "0.7 0.6 0.3118432512847451\n",
            "0.8 0.6 0.47832565854255393\n",
            "0.9 0.6 0.605687582114665\n",
            "1.0 0.6 0.7014254793376209\n",
            "1.1 0.6 0.7738176405451065\n",
            "0.1 0.8 0.0015665254038139675\n",
            "0.2 0.8 0.003643953969662994\n",
            "0.3 0.8 0.006526163529085194\n",
            "0.4 0.8 0.010779807499500693\n",
            "0.5 0.8 0.017639902596349066\n",
            "0.6 0.8 0.030291868201986594\n",
            "0.7 0.8 0.05882382948158804\n",
            "0.8 0.8 0.13358889291095588\n",
            "0.9 0.8 0.2668895539427739\n",
            "1.0 0.8 0.40375121210421994\n",
            "1.1 0.8 0.519583469821867\n"
          ],
          "name": "stdout"
        }
      ]
    },
    {
      "cell_type": "markdown",
      "metadata": {
        "id": "zjs_ubLsWtvz"
      },
      "source": [
        "Now we can wrap that loop in a function and plot the results.  For each element of the `SweepFrame`, we have `beta`, `gamma`, and `frac_infected`, and we plot `beta/gamma` on the x-axis and `frac_infected` on the y-axis."
      ]
    },
    {
      "cell_type": "code",
      "metadata": {
        "id": "CX8V-6GGWtv0"
      },
      "source": [
        "def plot_sweep_frame(frame):\n",
        "    \"\"\"Plot the values from a SweepFrame.\n",
        "    \n",
        "    For each (beta, gamma), compute the contact number,\n",
        "    beta/gamma\n",
        "    \n",
        "    frame: SweepFrame with one row per beta, one column per gamma\n",
        "    \"\"\"\n",
        "    for gamma in frame.columns:\n",
        "        column = frame[gamma]\n",
        "        for beta in column.index:\n",
        "            frac_infected = column[beta]\n",
        "            plot(beta/gamma, frac_infected, 'ro')"
      ],
      "execution_count": null,
      "outputs": []
    },
    {
      "cell_type": "markdown",
      "metadata": {
        "id": "h6rZoJsfWtv1"
      },
      "source": [
        "Here's what it looks like:"
      ]
    },
    {
      "cell_type": "code",
      "metadata": {
        "id": "ugk8S31FWtv2",
        "colab": {
          "base_uri": "https://localhost:8080/",
          "height": 297
        },
        "outputId": "b4b5872f-1a6e-4949-cbb1-cd830034549f"
      },
      "source": [
        "plot_sweep_frame(frame)\n",
        "\n",
        "decorate(xlabel='Contact number (beta/gamma)',\n",
        "         ylabel='Fraction infected')\n",
        "\n"
      ],
      "execution_count": null,
      "outputs": [
        {
          "output_type": "display_data",
          "data": {
            "image/png": "[encoded data removed]",
            "text/plain": [
              "<Figure size 432x288 with 1 Axes>"
            ]
          },
          "metadata": {
            "tags": [],
            "needs_background": "light"
          }
        }
      ]
    },
    {
      "cell_type": "markdown",
      "metadata": {
        "id": "JG0WMRb3Wtv3"
      },
      "source": [
        "It turns out that the ratio `beta/gamma`, called the \"contact number\" is sufficient to predict the total number of infections; we don't have to know `beta` and `gamma` separately.\n",
        "\n",
        "We can see that in the previous plot: when we plot the fraction infected versus the contact number, the results fall close to a curve."
      ]
    },
    {
      "cell_type": "markdown",
      "metadata": {
        "id": "iU-zr600Wtv5"
      },
      "source": [
        "### Analysis"
      ]
    },
    {
      "cell_type": "markdown",
      "metadata": {
        "id": "A4ku9jKyWtv7"
      },
      "source": [
        "In the book we figured out the relationship between $c$ and $s_{\\infty}$ analytically.  Now we can compute it for a range of values:"
      ]
    },
    {
      "cell_type": "code",
      "metadata": {
        "id": "2nh1foN-Wtv8"
      },
      "source": [
        "s_inf_array = linspace(0.0001, 0.9999, 101);"
      ],
      "execution_count": null,
      "outputs": []
    },
    {
      "cell_type": "code",
      "metadata": {
        "id": "-imqyX8yWtv9"
      },
      "source": [
        "c_array = log(s_inf_array) / (s_inf_array - 1);"
      ],
      "execution_count": null,
      "outputs": []
    },
    {
      "cell_type": "markdown",
      "metadata": {
        "id": "p-UkqiVNWtv-"
      },
      "source": [
        "`total_infected` is the change in $s$ from the beginning to the end."
      ]
    },
    {
      "cell_type": "code",
      "metadata": {
        "id": "-3P4eNcgWtv_"
      },
      "source": [
        "frac_infected = 1 - s_inf_array\n",
        "frac_infected_series = Series(frac_infected, index=c_array);"
      ],
      "execution_count": null,
      "outputs": []
    },
    {
      "cell_type": "markdown",
      "metadata": {
        "id": "NrpgdGKdWtv_"
      },
      "source": [
        "Now we can plot the analytic results and compare them to the simulations."
      ]
    },
    {
      "cell_type": "code",
      "metadata": {
        "id": "VFXfKCPPWtwA",
        "colab": {
          "base_uri": "https://localhost:8080/",
          "height": 297
        },
        "outputId": "6fee55d8-2dfd-4581-ead4-12421d013ff9"
      },
      "source": [
        "plot_sweep_frame(frame)\n",
        "plot(frac_infected_series, label='Analysis')\n",
        "\n",
        "decorate(xlabel='Contact number (c)',\n",
        "         ylabel='Fraction infected')\n",
        "\n"
      ],
      "execution_count": null,
      "outputs": [
        {
          "output_type": "display_data",
          "data": {
            "image/png": "[encoded data removed]",
            "text/plain": [
              "<Figure size 432x288 with 1 Axes>"
            ]
          },
          "metadata": {
            "tags": [],
            "needs_background": "light"
          }
        }
      ]
    },
    {
      "cell_type": "markdown",
      "metadata": {
        "id": "NEY0gtDOWtwB"
      },
      "source": [
        "The agreement is generally good, except for values of `c` less than 1."
      ]
    },
    {
      "cell_type": "markdown",
      "metadata": {
        "id": "38TvQC0HWtwC"
      },
      "source": [
        "## Exercises"
      ]
    },
    {
      "cell_type": "markdown",
      "metadata": {
        "id": "RRC1uG_IWtwC"
      },
      "source": [
        "**Exercise:**  If we didn't know about contact numbers, we might have explored other possibilities, like the difference between `beta` and `gamma`, rather than their ratio.\n",
        "\n",
        "Write a version of `plot_sweep_frame`, called `plot_sweep_frame_difference`, that plots the fraction infected versus the difference `beta-gamma`.\n",
        "\n",
        "What do the results look like, and what does that imply? "
      ]
    },
    {
      "cell_type": "code",
      "metadata": {
        "id": "7VA1q7xGWtwE"
      },
      "source": [
        "# Solution goes here\n",
        "# beta-gamma\n",
        "\n",
        "def plot_sweep_frame_difference(frame):\n",
        "    for gamma in frame.columns:\n",
        "        column = frame[gamma]\n",
        "        for beta in column.index:\n",
        "            frac_infected = column[beta]\n",
        "            plot(beta - gamma, frac_infected, 'ro')"
      ],
      "execution_count": null,
      "outputs": []
    },
    {
      "cell_type": "code",
      "metadata": {
        "id": "hYl0n-6cWtwF",
        "colab": {
          "base_uri": "https://localhost:8080/",
          "height": 297
        },
        "outputId": "b6ed0e3c-81b9-467c-fc40-e6f5120eebcb"
      },
      "source": [
        "# Solution goes here\n",
        "plot_sweep_frame_difference(frame)\n",
        "\n",
        "decorate(xlabel='Difference between beta and gamma',\n",
        "         ylabel='Fraction infected')"
      ],
      "execution_count": null,
      "outputs": [
        {
          "output_type": "display_data",
          "data": {
            "image/png": "[encoded data removed]",
            "text/plain": [
              "<Figure size 432x288 with 1 Axes>"
            ]
          },
          "metadata": {
            "tags": [],
            "needs_background": "light"
          }
        }
      ]
    },
    {
      "cell_type": "markdown",
      "metadata": {
        "id": "QuJ2PXSgWtwG"
      },
      "source": [
        "**Exercise:** Suppose you run a survey at the end of the semester and find that 26% of students had the Freshman Plague at some point.\n",
        "\n",
        "What is your best estimate of `c`?\n",
        "\n",
        "Hint: if you print `frac_infected_series`, you can read off the answer. "
      ]
    },
    {
      "cell_type": "markdown",
      "metadata": {
        "id": "diRHCwdkczfv"
      },
      "source": [
        "Based on the `frac_infected_series`, the best estimate for c would be 1.158132 when 26% of the population was considered infected. "
      ]
    },
    {
      "cell_type": "code",
      "metadata": {
        "scrolled": true,
        "id": "EgT8HRzsWtwH"
      },
      "source": [
        "# Solution goes here\n",
        "# print(frac_infected_series.iloc[50:100])"
      ],
      "execution_count": null,
      "outputs": []
    },
    {
      "cell_type": "code",
      "metadata": {
        "id": "422CHeg7WtwI",
        "colab": {
          "base_uri": "https://localhost:8080/"
        },
        "outputId": "0815c287-1aee-48a0-860e-5ca4bc3bc11e"
      },
      "source": [
        "print(frac_infected_series.iloc[74:75])"
      ],
      "execution_count": null,
      "outputs": [
        {
          "output_type": "stream",
          "text": [
            "1.158132    0.260048\n",
            "dtype: float64\n"
          ],
          "name": "stdout"
        }
      ]
    }
  ]
}