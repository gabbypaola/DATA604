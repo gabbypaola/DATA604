{
  "nbformat": 4,
  "nbformat_minor": 0,
  "metadata": {
    "kernelspec": {
      "display_name": "Python 3",
      "language": "python",
      "name": "python3"
    },
    "language_info": {
      "codemirror_mode": {
        "name": "ipython",
        "version": 3
      },
      "file_extension": ".py",
      "mimetype": "text/x-python",
      "name": "python",
      "nbconvert_exporter": "python",
      "pygments_lexer": "ipython3",
      "version": "3.7.9"
    },
    "colab": {
      "name": "G_Martinez_chap01.ipynb",
      "provenance": [],
      "collapsed_sections": [],
      "include_colab_link": true
    }
  },
  "cells": [
    {
      "cell_type": "markdown",
      "metadata": {
        "id": "view-in-github",
        "colab_type": "text"
      },
      "source": [
        "<a href=\"https://colab.research.google.com/github/gabbypaola/DATA604/blob/main/G_Martinez_chap01.ipynb\" target=\"_parent\"><img src=\"https://colab.research.google.com/assets/colab-badge.svg\" alt=\"Open In Colab\"/></a>"
      ]
    },
    {
      "cell_type": "markdown",
      "metadata": {
        "id": "7rQ6H_jHzGYf"
      },
      "source": [
        "# Chapter 1"
      ]
    },
    {
      "cell_type": "markdown",
      "metadata": {
        "tags": [],
        "id": "2hjP4LBHzGYs"
      },
      "source": [
        "*Modeling and Simulation in Python*\n",
        "\n",
        "Copyright 2021 Allen Downey\n",
        "\n",
        "License: [Creative Commons Attribution-NonCommercial-ShareAlike 4.0 International](https://creativecommons.org/licenses/by-nc-sa/4.0/)"
      ]
    },
    {
      "cell_type": "code",
      "metadata": {
        "tags": [],
        "id": "sIsYgt2TzGYx"
      },
      "source": [
        "# check if the libraries we need are installed\n",
        "\n",
        "try:\n",
        "    import pint\n",
        "except ImportError:\n",
        "    !pip install pint\n",
        "    import pint\n",
        "    \n",
        "try:\n",
        "    from modsim import *\n",
        "except ImportError:\n",
        "    !pip install modsimpy\n",
        "    from modsim import *"
      ],
      "execution_count": 1,
      "outputs": []
    },
    {
      "cell_type": "markdown",
      "metadata": {
        "id": "JbWMK9-TzGY1"
      },
      "source": [
        "## Jupyter\n",
        "\n",
        "Welcome to *Modeling and Simulation in Python*, and welcome to Jupyter.\n",
        "\n",
        "This is a Jupyter notebook, which is a development environment where you can write and run Python code.  Each notebook is divided into cells.  Each cell contains either text (like this cell) or Python code."
      ]
    },
    {
      "cell_type": "markdown",
      "metadata": {
        "id": "Q9mrlJT-zGY4"
      },
      "source": [
        "### Selecting and running cells\n",
        "\n",
        "To select a cell, click in the left margin next to the cell.  You should see a blue frame surrounding the selected cell.\n",
        "\n",
        "To edit a code cell, click inside the cell.  You should see a green frame around the selected cell, and you should see a cursor inside the cell.\n",
        "\n",
        "To edit a text cell, double-click inside the cell.  Again, you should see a green frame around the selected cell, and you should see a cursor inside the cell.\n",
        "\n",
        "To run a cell, hold down SHIFT and press ENTER.  \n",
        "\n",
        "* If you run a text cell, Jupyter formats the text and displays the result.\n",
        "\n",
        "* If you run a code cell, Jupyter runs the Python code in the cell and displays the result, if any.\n",
        "\n",
        "To try it out, edit this cell, change some of the text, and then press SHIFT-ENTER to format it."
      ]
    },
    {
      "cell_type": "markdown",
      "metadata": {
        "id": "ddL8f4HpzGY7"
      },
      "source": [
        "### Adding and removing cells\n",
        "\n",
        "You can add and remove cells from a notebook using the buttons in the toolbar and the items in the menu, both of which you should see at the top of this notebook.\n",
        "\n",
        "Try the following exercises:\n",
        "\n",
        "1.  From the Insert menu select \"Insert cell below\" to add a cell below this one.  By default, you get a code cell, as you can see in the pulldown menu that says \"Code\".\n",
        "\n",
        "2.  In the new cell, add a print statement like `print('Hello')`, and run it.\n",
        "\n",
        "3.  Add another cell, select the new cell, and then click on the pulldown menu that says \"Code\" and select \"Markdown\".  This makes the new cell a text cell.\n",
        "\n",
        "4.  In the new cell, type some text, and then run it.\n",
        "\n",
        "5.  Use the arrow buttons in the toolbar to move cells up and down.\n",
        "\n",
        "6.  Use the cut, copy, and paste buttons to delete, add, and move cells.\n",
        "\n",
        "7.  As you make changes, Jupyter saves your notebook automatically, but if you want to make sure, you can press the save button, which looks like a floppy disk from the 1990s.\n",
        "\n",
        "8.  Finally, when you are done with a notebook, select \"Close and Halt\" from the File menu."
      ]
    },
    {
      "cell_type": "markdown",
      "metadata": {
        "id": "9EEL4CXdzGY9"
      },
      "source": [
        "### Installing modules\n",
        "\n",
        "These notebooks use standard Python modules like NumPy and SciPy.  I assume you already have them installed in your environment.\n",
        "\n",
        "They also use two less common modules: Pint, which provides units, and `modsimpy`, which contains code I wrote specifically for this book.\n",
        "\n",
        "The following cells check whether you have these modules already and tries to install them if you don't."
      ]
    },
    {
      "cell_type": "code",
      "metadata": {
        "id": "qH1BCdQDzGY_"
      },
      "source": [
        "try:\n",
        "    import pint\n",
        "except ImportError:\n",
        "    !pip install pint\n",
        "    import pint"
      ],
      "execution_count": 2,
      "outputs": []
    },
    {
      "cell_type": "code",
      "metadata": {
        "id": "ssR7PrUCzGZB"
      },
      "source": [
        "try:\n",
        "    from modsim import *\n",
        "except ImportError:\n",
        "    !pip install modsimpy\n",
        "    from modsim import *"
      ],
      "execution_count": 3,
      "outputs": []
    },
    {
      "cell_type": "markdown",
      "metadata": {
        "id": "aQTMi15NzGZD"
      },
      "source": [
        "The first time you run this on a new installation of Python, it might produce a warning message in pink.  That's probably ok, but if you get a message that says `modsim.py depends on Python 3.7 features`, that means you have an older version of Python, and some features in `modsim.py` won't work correctly.\n",
        "\n",
        "If you need a newer version of Python, I recommend installing Anaconda.  You'll find more information in the preface of the book.\n",
        "\n",
        "You can find out what version of Python and Jupyter you have by running the following cells."
      ]
    },
    {
      "cell_type": "code",
      "metadata": {
        "id": "ZscDAMfvzGZG",
        "colab": {
          "base_uri": "https://localhost:8080/"
        },
        "outputId": "701f486d-65c6-48c5-cbc9-82d3749eecec"
      },
      "source": [
        "!python --version"
      ],
      "execution_count": 4,
      "outputs": [
        {
          "output_type": "stream",
          "text": [
            "Python 3.7.10\n"
          ],
          "name": "stdout"
        }
      ]
    },
    {
      "cell_type": "code",
      "metadata": {
        "id": "CL9lbZPSzGZH",
        "colab": {
          "base_uri": "https://localhost:8080/"
        },
        "outputId": "4fc11266-c54e-4de6-bc7d-694f8ecac48d"
      },
      "source": [
        "!jupyter-notebook --version"
      ],
      "execution_count": 5,
      "outputs": [
        {
          "output_type": "stream",
          "text": [
            "5.2.2\n"
          ],
          "name": "stdout"
        }
      ]
    },
    {
      "cell_type": "markdown",
      "metadata": {
        "id": "Ni3sqHHDzGZI"
      },
      "source": [
        "## The penny myth\n",
        "\n",
        "The following cells contain code from the beginning of Chapter 1.\n",
        "\n",
        "`modsim` defines `UNITS`, which contains variables representing pretty much every unit you've ever heard of.  It uses [Pint](https://pint.readthedocs.io/en/latest/), which is a Python library that provides tools for computing with units.\n",
        "\n",
        "The following lines create new variables named `meter` and `second`."
      ]
    },
    {
      "cell_type": "code",
      "metadata": {
        "id": "KypZp6UfzGZK"
      },
      "source": [
        "meter = UNITS.meter"
      ],
      "execution_count": 6,
      "outputs": []
    },
    {
      "cell_type": "code",
      "metadata": {
        "id": "5qTg5rhCzGZM"
      },
      "source": [
        "second = UNITS.second"
      ],
      "execution_count": 7,
      "outputs": []
    },
    {
      "cell_type": "markdown",
      "metadata": {
        "id": "6xofkEilzGZN"
      },
      "source": [
        "To find out what other units are defined, type `UNITS.` (including the period) in the next cell and then press TAB.  You should see a pop-up menu with a list of units."
      ]
    },
    {
      "cell_type": "code",
      "metadata": {
        "id": "qwqlb-yb3gev"
      },
      "source": [
        "#UNITS."
      ],
      "execution_count": 8,
      "outputs": []
    },
    {
      "cell_type": "markdown",
      "metadata": {
        "id": "CUxGklk_zGZR"
      },
      "source": [
        "Create a variable named `a` and give it the value of acceleration due to gravity."
      ]
    },
    {
      "cell_type": "code",
      "metadata": {
        "id": "6JEE2Zc6zGZW",
        "colab": {
          "base_uri": "https://localhost:8080/",
          "height": 38
        },
        "outputId": "2771107a-615a-4572-a4bc-7d5104986b2c"
      },
      "source": [
        "a = 9.8 * meter / second**2\n",
        "a"
      ],
      "execution_count": 9,
      "outputs": [
        {
          "output_type": "execute_result",
          "data": {
            "text/latex": "$9.8\\ \\frac{\\mathrm{meter}}{\\mathrm{second}^{2}}$",
            "text/html": [
              "9.8 meter/second<sup>2</sup>"
            ],
            "text/plain": [
              "9.8 meter/second²"
            ]
          },
          "metadata": {
            "tags": []
          },
          "execution_count": 9
        }
      ]
    },
    {
      "cell_type": "markdown",
      "metadata": {
        "id": "BzEv5V8NzGZb"
      },
      "source": [
        "Create `t` and give it the value 4 seconds."
      ]
    },
    {
      "cell_type": "code",
      "metadata": {
        "id": "SXKVV7SPzGZc",
        "colab": {
          "base_uri": "https://localhost:8080/",
          "height": 34
        },
        "outputId": "4e00d506-23f5-47cb-88cf-1096fcd3046f"
      },
      "source": [
        "t = 4 * second\n",
        "t"
      ],
      "execution_count": 10,
      "outputs": [
        {
          "output_type": "execute_result",
          "data": {
            "text/latex": "$4\\ \\mathrm{second}$",
            "text/html": [
              "4 second"
            ],
            "text/plain": [
              "4 second"
            ]
          },
          "metadata": {
            "tags": []
          },
          "execution_count": 10
        }
      ]
    },
    {
      "cell_type": "markdown",
      "metadata": {
        "id": "taAQeCDkzGZd"
      },
      "source": [
        "Compute the distance a penny would fall after `t` seconds with constant acceleration `a`.  Notice that the units of the result are correct."
      ]
    },
    {
      "cell_type": "code",
      "metadata": {
        "id": "J5XDgFTvzGZe",
        "colab": {
          "base_uri": "https://localhost:8080/",
          "height": 34
        },
        "outputId": "89987712-e256-4dc3-b3c8-62b1abc4d04c"
      },
      "source": [
        "a * t**2 / 2"
      ],
      "execution_count": 11,
      "outputs": [
        {
          "output_type": "execute_result",
          "data": {
            "text/latex": "$78.4\\ \\mathrm{meter}$",
            "text/html": [
              "78.4 meter"
            ],
            "text/plain": [
              "78.4 meter"
            ]
          },
          "metadata": {
            "tags": []
          },
          "execution_count": 11
        }
      ]
    },
    {
      "cell_type": "markdown",
      "metadata": {
        "id": "GCBCl8bDzGZf"
      },
      "source": [
        "**Exercise**: Compute the velocity of the penny after `t` seconds.  Check that the units of the result are correct."
      ]
    },
    {
      "cell_type": "code",
      "metadata": {
        "id": "c-HXQBN6zGZg",
        "colab": {
          "base_uri": "https://localhost:8080/",
          "height": 34
        },
        "outputId": "1c7fd676-3aee-49ca-bc0c-47763ab8a7ed"
      },
      "source": [
        "# Solution goes here\n",
        "#v=u+at where u is inital velocity\n",
        "a*t"
      ],
      "execution_count": 12,
      "outputs": [
        {
          "output_type": "execute_result",
          "data": {
            "text/latex": "$39.2\\ \\frac{\\mathrm{meter}}{\\mathrm{second}}$",
            "text/html": [
              "39.2 meter/second"
            ],
            "text/plain": [
              "39.2 meter/second"
            ]
          },
          "metadata": {
            "tags": []
          },
          "execution_count": 12
        }
      ]
    },
    {
      "cell_type": "markdown",
      "metadata": {
        "id": "VtxZrd1pzGZh"
      },
      "source": [
        "**Exercise**: Why would it be nonsensical to add `a` and `t`? What happens if you try?"
      ]
    },
    {
      "cell_type": "markdown",
      "metadata": {
        "id": "dn5u45fq6SGW"
      },
      "source": [
        "It wouldn't make sense to add acceleration and time because acceleraton is a measure of distance units over time squared."
      ]
    },
    {
      "cell_type": "code",
      "metadata": {
        "id": "A2PVVm-GzGZi",
        "colab": {
          "base_uri": "https://localhost:8080/",
          "height": 323
        },
        "outputId": "93c8c145-a40e-4f5c-f357-4938a2164255"
      },
      "source": [
        "# Solution goes here\n",
        "a+t"
      ],
      "execution_count": 13,
      "outputs": [
        {
          "output_type": "error",
          "ename": "DimensionalityError",
          "evalue": "ignored",
          "traceback": [
            "\u001b[0;31m---------------------------------------------------------------------------\u001b[0m",
            "\u001b[0;31mDimensionalityError\u001b[0m                       Traceback (most recent call last)",
            "\u001b[0;32m<ipython-input-13-dc3e007098a8>\u001b[0m in \u001b[0;36m<module>\u001b[0;34m()\u001b[0m\n\u001b[1;32m      1\u001b[0m \u001b[0;31m# Solution goes here\u001b[0m\u001b[0;34m\u001b[0m\u001b[0;34m\u001b[0m\u001b[0;34m\u001b[0m\u001b[0m\n\u001b[0;32m----> 2\u001b[0;31m \u001b[0ma\u001b[0m\u001b[0;34m+\u001b[0m\u001b[0mt\u001b[0m\u001b[0;34m\u001b[0m\u001b[0;34m\u001b[0m\u001b[0m\n\u001b[0m",
            "\u001b[0;32m/usr/local/lib/python3.7/dist-packages/pint/quantity.py\u001b[0m in \u001b[0;36m__add__\u001b[0;34m(self, other)\u001b[0m\n\u001b[1;32m   1076\u001b[0m             \u001b[0;32mreturn\u001b[0m \u001b[0mself\u001b[0m\u001b[0;34m.\u001b[0m\u001b[0mto_timedelta\u001b[0m\u001b[0;34m(\u001b[0m\u001b[0;34m)\u001b[0m \u001b[0;34m+\u001b[0m \u001b[0mother\u001b[0m\u001b[0;34m\u001b[0m\u001b[0;34m\u001b[0m\u001b[0m\n\u001b[1;32m   1077\u001b[0m         \u001b[0;32melse\u001b[0m\u001b[0;34m:\u001b[0m\u001b[0;34m\u001b[0m\u001b[0;34m\u001b[0m\u001b[0m\n\u001b[0;32m-> 1078\u001b[0;31m             \u001b[0;32mreturn\u001b[0m \u001b[0mself\u001b[0m\u001b[0;34m.\u001b[0m\u001b[0m_add_sub\u001b[0m\u001b[0;34m(\u001b[0m\u001b[0mother\u001b[0m\u001b[0;34m,\u001b[0m \u001b[0moperator\u001b[0m\u001b[0;34m.\u001b[0m\u001b[0madd\u001b[0m\u001b[0;34m)\u001b[0m\u001b[0;34m\u001b[0m\u001b[0;34m\u001b[0m\u001b[0m\n\u001b[0m\u001b[1;32m   1079\u001b[0m \u001b[0;34m\u001b[0m\u001b[0m\n\u001b[1;32m   1080\u001b[0m     \u001b[0m__radd__\u001b[0m \u001b[0;34m=\u001b[0m \u001b[0m__add__\u001b[0m\u001b[0;34m\u001b[0m\u001b[0;34m\u001b[0m\u001b[0m\n",
            "\u001b[0;32m/usr/local/lib/python3.7/dist-packages/pint/quantity.py\u001b[0m in \u001b[0;36mwrapped\u001b[0;34m(self, *args, **kwargs)\u001b[0m\n\u001b[1;32m    113\u001b[0m         \u001b[0;32melif\u001b[0m \u001b[0misinstance\u001b[0m\u001b[0;34m(\u001b[0m\u001b[0mother\u001b[0m\u001b[0;34m,\u001b[0m \u001b[0mlist\u001b[0m\u001b[0;34m)\u001b[0m \u001b[0;32mand\u001b[0m \u001b[0mother\u001b[0m \u001b[0;32mand\u001b[0m \u001b[0misinstance\u001b[0m\u001b[0;34m(\u001b[0m\u001b[0mother\u001b[0m\u001b[0;34m[\u001b[0m\u001b[0;36m0\u001b[0m\u001b[0;34m]\u001b[0m\u001b[0;34m,\u001b[0m \u001b[0mtype\u001b[0m\u001b[0;34m(\u001b[0m\u001b[0mself\u001b[0m\u001b[0;34m)\u001b[0m\u001b[0;34m)\u001b[0m\u001b[0;34m:\u001b[0m\u001b[0;34m\u001b[0m\u001b[0;34m\u001b[0m\u001b[0m\n\u001b[1;32m    114\u001b[0m             \u001b[0;32mreturn\u001b[0m \u001b[0mNotImplemented\u001b[0m\u001b[0;34m\u001b[0m\u001b[0;34m\u001b[0m\u001b[0m\n\u001b[0;32m--> 115\u001b[0;31m         \u001b[0;32mreturn\u001b[0m \u001b[0mf\u001b[0m\u001b[0;34m(\u001b[0m\u001b[0mself\u001b[0m\u001b[0;34m,\u001b[0m \u001b[0;34m*\u001b[0m\u001b[0margs\u001b[0m\u001b[0;34m,\u001b[0m \u001b[0;34m**\u001b[0m\u001b[0mkwargs\u001b[0m\u001b[0;34m)\u001b[0m\u001b[0;34m\u001b[0m\u001b[0;34m\u001b[0m\u001b[0m\n\u001b[0m\u001b[1;32m    116\u001b[0m \u001b[0;34m\u001b[0m\u001b[0m\n\u001b[1;32m    117\u001b[0m     \u001b[0;32mreturn\u001b[0m \u001b[0mwrapped\u001b[0m\u001b[0;34m\u001b[0m\u001b[0;34m\u001b[0m\u001b[0m\n",
            "\u001b[0;32m/usr/local/lib/python3.7/dist-packages/pint/quantity.py\u001b[0m in \u001b[0;36m_add_sub\u001b[0;34m(self, other, op)\u001b[0m\n\u001b[1;32m    987\u001b[0m         \u001b[0;32mif\u001b[0m \u001b[0;32mnot\u001b[0m \u001b[0mself\u001b[0m\u001b[0;34m.\u001b[0m\u001b[0mdimensionality\u001b[0m \u001b[0;34m==\u001b[0m \u001b[0mother\u001b[0m\u001b[0;34m.\u001b[0m\u001b[0mdimensionality\u001b[0m\u001b[0;34m:\u001b[0m\u001b[0;34m\u001b[0m\u001b[0;34m\u001b[0m\u001b[0m\n\u001b[1;32m    988\u001b[0m             raise DimensionalityError(\n\u001b[0;32m--> 989\u001b[0;31m                 \u001b[0mself\u001b[0m\u001b[0;34m.\u001b[0m\u001b[0m_units\u001b[0m\u001b[0;34m,\u001b[0m \u001b[0mother\u001b[0m\u001b[0;34m.\u001b[0m\u001b[0m_units\u001b[0m\u001b[0;34m,\u001b[0m \u001b[0mself\u001b[0m\u001b[0;34m.\u001b[0m\u001b[0mdimensionality\u001b[0m\u001b[0;34m,\u001b[0m \u001b[0mother\u001b[0m\u001b[0;34m.\u001b[0m\u001b[0mdimensionality\u001b[0m\u001b[0;34m\u001b[0m\u001b[0;34m\u001b[0m\u001b[0m\n\u001b[0m\u001b[1;32m    990\u001b[0m             )\n\u001b[1;32m    991\u001b[0m \u001b[0;34m\u001b[0m\u001b[0m\n",
            "\u001b[0;31mDimensionalityError\u001b[0m: Cannot convert from 'meter / second ** 2' ([length] / [time] ** 2) to 'second' ([time])"
          ]
        }
      ]
    },
    {
      "cell_type": "markdown",
      "metadata": {
        "id": "bgAKPzqNzGZj"
      },
      "source": [
        "The error messages you get from Python are big and scary, but if you read them carefully, they contain a lot of useful information.\n",
        "\n",
        "1.  Start from the bottom and read up.\n",
        "2.  The last line usually tells you what type of error happened, and sometimes additional information.\n",
        "3.  The previous lines are a \"traceback\" of what was happening when the error occurred.  The first section of the traceback shows the code you wrote.  The following sections are often from Python libraries.\n",
        "\n",
        "In this example, you should get a `DimensionalityError`, which is defined by Pint to indicate that you have violated a rules of dimensional analysis: you cannot add quantities with different dimensions.\n",
        "\n",
        "Before you go on, you might want to delete the erroneous code so the notebook can run without errors."
      ]
    },
    {
      "cell_type": "markdown",
      "metadata": {
        "id": "RfcbOpj3zGZm"
      },
      "source": [
        "## Falling pennies\n",
        "\n",
        "Now let's solve the falling penny problem.\n",
        "\n",
        "Set `h` to the height of the Empire State Building:"
      ]
    },
    {
      "cell_type": "code",
      "metadata": {
        "id": "1u9Tsg6-zGZn",
        "colab": {
          "base_uri": "https://localhost:8080/",
          "height": 34
        },
        "outputId": "3a675de6-65a2-4dcb-8ce7-3f94faefd520"
      },
      "source": [
        "h = 381 * meter\n",
        "h"
      ],
      "execution_count": 14,
      "outputs": [
        {
          "output_type": "execute_result",
          "data": {
            "text/latex": "$381\\ \\mathrm{meter}$",
            "text/html": [
              "381 meter"
            ],
            "text/plain": [
              "381 meter"
            ]
          },
          "metadata": {
            "tags": []
          },
          "execution_count": 14
        }
      ]
    },
    {
      "cell_type": "markdown",
      "metadata": {
        "id": "GFbjON0OzGZo"
      },
      "source": [
        "Compute the time it would take a penny to fall, assuming constant acceleration.\n",
        "\n",
        "$ a t^2 / 2 = h $\n",
        "\n",
        "$ t = \\sqrt{2 h / a}$"
      ]
    },
    {
      "cell_type": "code",
      "metadata": {
        "id": "Ff5WHsDtzGZp",
        "colab": {
          "base_uri": "https://localhost:8080/",
          "height": 34
        },
        "outputId": "2a633a7e-a447-4cc7-cb73-a9d3da214ea4"
      },
      "source": [
        "t = sqrt(2 * h / a)\n",
        "t"
      ],
      "execution_count": 15,
      "outputs": [
        {
          "output_type": "execute_result",
          "data": {
            "text/latex": "$8.817885349720552\\ \\mathrm{second}$",
            "text/html": [
              "8.817885349720552 second"
            ],
            "text/plain": [
              "8.817885349720552 second"
            ]
          },
          "metadata": {
            "tags": []
          },
          "execution_count": 15
        }
      ]
    },
    {
      "cell_type": "markdown",
      "metadata": {
        "id": "An25KHdUzGZq"
      },
      "source": [
        "Given `t`, we can compute the velocity of the penny when it lands.\n",
        "\n",
        "$v = a t$"
      ]
    },
    {
      "cell_type": "code",
      "metadata": {
        "id": "8Sm2xiSTzGZr",
        "colab": {
          "base_uri": "https://localhost:8080/",
          "height": 34
        },
        "outputId": "a8636f36-d926-4a41-8e0d-5d641360f271"
      },
      "source": [
        "v = a * t\n",
        "v"
      ],
      "execution_count": 16,
      "outputs": [
        {
          "output_type": "execute_result",
          "data": {
            "text/latex": "$86.41527642726142\\ \\frac{\\mathrm{meter}}{\\mathrm{second}}$",
            "text/html": [
              "86.41527642726142 meter/second"
            ],
            "text/plain": [
              "86.41527642726142 meter/second"
            ]
          },
          "metadata": {
            "tags": []
          },
          "execution_count": 16
        }
      ]
    },
    {
      "cell_type": "markdown",
      "metadata": {
        "id": "NFgvifQBzGZs"
      },
      "source": [
        "We can convert from one set of units to another like this:"
      ]
    },
    {
      "cell_type": "code",
      "metadata": {
        "id": "nPfQjWulzGZt"
      },
      "source": [
        "mile = UNITS.mile\n",
        "hour = UNITS.hour"
      ],
      "execution_count": 17,
      "outputs": []
    },
    {
      "cell_type": "code",
      "metadata": {
        "id": "mXvl3O1JzGZu",
        "colab": {
          "base_uri": "https://localhost:8080/",
          "height": 34
        },
        "outputId": "3844aa63-c9b5-4f8a-d860-03ccd6df1fe9"
      },
      "source": [
        "v.to(mile/hour)"
      ],
      "execution_count": 18,
      "outputs": [
        {
          "output_type": "execute_result",
          "data": {
            "text/latex": "$193.30546802805432\\ \\frac{\\mathrm{mile}}{\\mathrm{hour}}$",
            "text/html": [
              "193.30546802805432 mile/hour"
            ],
            "text/plain": [
              "193.30546802805432 mile/hour"
            ]
          },
          "metadata": {
            "tags": []
          },
          "execution_count": 18
        }
      ]
    },
    {
      "cell_type": "markdown",
      "metadata": {
        "id": "BuSkZhcpzGZv"
      },
      "source": [
        "**Exercise:** Suppose you bring a 10 foot pole to the top of the Empire State Building and use it to drop the penny from `h` plus 10 feet.\n",
        "\n",
        "Define a variable named `foot` that contains the unit `foot` provided by `UNITS`.  Define a variable named `pole_height` and give it the value 10 feet.\n",
        "\n",
        "What happens if you add `h`, which is in units of meters, to `pole_height`, which is in units of feet?  What happens if you write the addition the other way around?"
      ]
    },
    {
      "cell_type": "code",
      "metadata": {
        "id": "jDGKgPBQzGZw",
        "colab": {
          "base_uri": "https://localhost:8080/",
          "height": 34
        },
        "outputId": "e81b748a-846d-44c3-b402-7061c7a1103b"
      },
      "source": [
        "# Solution goes here\n",
        "foot = UNITS.foot\n",
        "pole_height = 10*foot\n",
        "pole_height"
      ],
      "execution_count": 19,
      "outputs": [
        {
          "output_type": "execute_result",
          "data": {
            "text/latex": "$10\\ \\mathrm{foot}$",
            "text/html": [
              "10 foot"
            ],
            "text/plain": [
              "10 foot"
            ]
          },
          "metadata": {
            "tags": []
          },
          "execution_count": 19
        }
      ]
    },
    {
      "cell_type": "code",
      "metadata": {
        "id": "kei8_7FdzGZx",
        "colab": {
          "base_uri": "https://localhost:8080/",
          "height": 34
        },
        "outputId": "e9ca4db0-e924-44b9-dfb4-51621e621cca"
      },
      "source": [
        "# Solution goes here\n",
        "#Units are taken from the first variable\n",
        "pole_height+h #output is in feet, unit of pole_height\n",
        "h+pole_height #output is in meters, unit of h"
      ],
      "execution_count": 20,
      "outputs": [
        {
          "output_type": "execute_result",
          "data": {
            "text/latex": "$384.048\\ \\mathrm{meter}$",
            "text/html": [
              "384.048 meter"
            ],
            "text/plain": [
              "384.048 meter"
            ]
          },
          "metadata": {
            "tags": []
          },
          "execution_count": 20
        }
      ]
    },
    {
      "cell_type": "markdown",
      "metadata": {
        "id": "5gjD5wvizGZz"
      },
      "source": [
        "**Exercise:** In reality, air resistance limits the velocity of the penny.  At about 18 m/s, the force of air resistance equals the force of gravity and the penny stops accelerating.\n",
        "\n",
        "As a simplification, let's assume that the acceleration of the penny is `a` until the penny reaches 18 m/s, and then 0 afterwards.  What is the total time for the penny to fall 381 m?\n",
        "\n",
        "You can break this question into three parts:\n",
        "\n",
        "1. How long until the penny reaches 18 m/s with constant acceleration `a`.\n",
        "2. How far would the penny fall during that time?\n",
        "3. How long to fall the remaining distance with constant velocity 18 m/s?\n",
        "\n",
        "Suggestion: Assign each intermediate result to a variable with a meaningful name.  And assign units to all quantities!"
      ]
    },
    {
      "cell_type": "code",
      "metadata": {
        "id": "Wo9V7SCazGZ1",
        "colab": {
          "base_uri": "https://localhost:8080/",
          "height": 34
        },
        "outputId": "da472aaf-3b2f-40e0-f1a3-e6e10d93e166"
      },
      "source": [
        "# Solution 1 goes here\n",
        "\n",
        "velocity = 18 * meter/second\n",
        "time_elapsed = velocity/a\n",
        "time_elapsed"
      ],
      "execution_count": 21,
      "outputs": [
        {
          "output_type": "execute_result",
          "data": {
            "text/latex": "$1.8367346938775508\\ \\mathrm{second}$",
            "text/html": [
              "1.8367346938775508 second"
            ],
            "text/plain": [
              "1.8367346938775508 second"
            ]
          },
          "metadata": {
            "tags": []
          },
          "execution_count": 21
        }
      ]
    },
    {
      "cell_type": "code",
      "metadata": {
        "id": "SXYkHqlCzGZ4",
        "colab": {
          "base_uri": "https://localhost:8080/",
          "height": 34
        },
        "outputId": "a7f565c3-340a-46f5-8ccf-c687c567f687"
      },
      "source": [
        "# Solution 2 goes here\n",
        "y_displacement = time_elapsed * (0+velocity)/2\n",
        "y_displacement"
      ],
      "execution_count": 22,
      "outputs": [
        {
          "output_type": "execute_result",
          "data": {
            "text/latex": "$16.53061224489796\\ \\mathrm{meter}$",
            "text/html": [
              "16.53061224489796 meter"
            ],
            "text/plain": [
              "16.53061224489796 meter"
            ]
          },
          "metadata": {
            "tags": []
          },
          "execution_count": 22
        }
      ]
    },
    {
      "cell_type": "code",
      "metadata": {
        "id": "dvutKhvbzGZ8",
        "colab": {
          "base_uri": "https://localhost:8080/",
          "height": 34
        },
        "outputId": "fd116609-8bfb-415e-9725-7f8883866e6e"
      },
      "source": [
        "# Solution 3 goes here\n",
        "height = 381 * meter\n",
        "time_elapsed2 = (height-y_displacement)/velocity\n",
        "time_elapsed2"
      ],
      "execution_count": 23,
      "outputs": [
        {
          "output_type": "execute_result",
          "data": {
            "text/latex": "$20.24829931972789\\ \\mathrm{second}$",
            "text/html": [
              "20.24829931972789 second"
            ],
            "text/plain": [
              "20.24829931972789 second"
            ]
          },
          "metadata": {
            "tags": []
          },
          "execution_count": 23
        }
      ]
    },
    {
      "cell_type": "markdown",
      "metadata": {
        "id": "HSgy_vMRzGZ9"
      },
      "source": [
        "### Restart and run all\n",
        "\n",
        "When you change the contents of a cell, you have to run it again for those changes to have an effect.  If you forget to do that, the results can be confusing, because the code you are looking at is not the code you ran.\n",
        "\n",
        "If you ever lose track of which cells have run, and in what order, you should go to the Kernel menu and select \"Restart & Run All\".  Restarting the kernel means that all of your variables get deleted, and running all the cells means all of your code will run again, in the right order.\n",
        "\n",
        "**Exercise:**  Select \"Restart & Run All\" now and confirm that it does what you want."
      ]
    },
    {
      "cell_type": "markdown",
      "metadata": {
        "id": "Oxm2C4-TAbcz"
      },
      "source": [
        "Everything ran as expected.\n",
        "Reference:\n",
        "https://www.physicsclassroom.com/class/1DKin/Lesson-6/Kinematic-Equations\n"
      ]
    }
  ]
}