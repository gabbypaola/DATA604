{
  "nbformat": 4,
  "nbformat_minor": 0,
  "metadata": {
    "kernelspec": {
      "display_name": "Python 3",
      "language": "python",
      "name": "python3"
    },
    "language_info": {
      "codemirror_mode": {
        "name": "ipython",
        "version": 3
      },
      "file_extension": ".py",
      "mimetype": "text/x-python",
      "name": "python",
      "nbconvert_exporter": "python",
      "pygments_lexer": "ipython3",
      "version": "3.7.9"
    },
    "colab": {
      "name": "G_Martinez_chap07.ipynb",
      "provenance": [],
      "include_colab_link": true
    }
  },
  "cells": [
    {
      "cell_type": "markdown",
      "metadata": {
        "id": "view-in-github",
        "colab_type": "text"
      },
      "source": [
        "<a href=\"https://colab.research.google.com/github/gabbypaola/DATA604/blob/main/G_Martinez_chap07.ipynb\" target=\"_parent\"><img src=\"https://colab.research.google.com/assets/colab-badge.svg\" alt=\"Open In Colab\"/></a>"
      ]
    },
    {
      "cell_type": "markdown",
      "metadata": {
        "id": "o7XZSqwlPOQK"
      },
      "source": [
        "# Chapter 7"
      ]
    },
    {
      "cell_type": "markdown",
      "metadata": {
        "tags": [],
        "id": "7fQaRwfwPOQW"
      },
      "source": [
        "*Modeling and Simulation in Python*\n",
        "\n",
        "Copyright 2021 Allen Downey\n",
        "\n",
        "License: [Creative Commons Attribution-NonCommercial-ShareAlike 4.0 International](https://creativecommons.org/licenses/by-nc-sa/4.0/)"
      ]
    },
    {
      "cell_type": "code",
      "metadata": {
        "tags": [],
        "id": "mb1PDfczPOQa"
      },
      "source": [
        "# check if the libraries we need are installed\n",
        "\n",
        "try:\n",
        "    import pint\n",
        "except ImportError:\n",
        "    !pip install pint\n",
        "    import pint\n",
        "    \n",
        "try:\n",
        "    from modsim import *\n",
        "except ImportError:\n",
        "    !pip install modsimpy\n",
        "    from modsim import *"
      ],
      "execution_count": 1,
      "outputs": []
    },
    {
      "cell_type": "markdown",
      "metadata": {
        "id": "Q2xmTKGaPOQc"
      },
      "source": [
        "### Code from the previous chapter"
      ]
    },
    {
      "cell_type": "code",
      "metadata": {
        "id": "vRrEZwB3POQe"
      },
      "source": [
        "import os\n",
        "\n",
        "filename = 'World_population_estimates.html'\n",
        "\n",
        "if not os.path.exists(filename):\n",
        "    !wget https://raw.githubusercontent.com/AllenDowney/ModSimPy/master/data/World_population_estimates.html"
      ],
      "execution_count": 2,
      "outputs": []
    },
    {
      "cell_type": "code",
      "metadata": {
        "id": "h7wqWdPBPOQf"
      },
      "source": [
        "from pandas import read_html\n",
        "\n",
        "tables = read_html(filename, header=0, index_col=0, decimal='M')\n",
        "table2 = tables[2]\n",
        "table2.columns = ['census', 'prb', 'un', 'maddison', \n",
        "                  'hyde', 'tanton', 'biraben', 'mj', \n",
        "                  'thomlinson', 'durand', 'clark']"
      ],
      "execution_count": 3,
      "outputs": []
    },
    {
      "cell_type": "code",
      "metadata": {
        "id": "tRAlmI2aPOQh",
        "colab": {
          "base_uri": "https://localhost:8080/"
        },
        "outputId": "21e36c0e-8d4c-4e40-abb6-02174252370b"
      },
      "source": [
        "un = table2.un / 1e9\n",
        "un.head()"
      ],
      "execution_count": 4,
      "outputs": [
        {
          "output_type": "execute_result",
          "data": {
            "text/plain": [
              "Year\n",
              "1950    2.525149\n",
              "1951    2.572851\n",
              "1952    2.619292\n",
              "1953    2.665865\n",
              "1954    2.713172\n",
              "Name: un, dtype: float64"
            ]
          },
          "metadata": {
            "tags": []
          },
          "execution_count": 4
        }
      ]
    },
    {
      "cell_type": "code",
      "metadata": {
        "id": "pNF8gTSXPOQj",
        "colab": {
          "base_uri": "https://localhost:8080/"
        },
        "outputId": "ccfb5e6f-4d2a-4953-f062-748fa82cd4ed"
      },
      "source": [
        "census = table2.census / 1e9\n",
        "census.head()"
      ],
      "execution_count": 5,
      "outputs": [
        {
          "output_type": "execute_result",
          "data": {
            "text/plain": [
              "Year\n",
              "1950    2.557629\n",
              "1951    2.594940\n",
              "1952    2.636772\n",
              "1953    2.682053\n",
              "1954    2.730228\n",
              "Name: census, dtype: float64"
            ]
          },
          "metadata": {
            "tags": []
          },
          "execution_count": 5
        }
      ]
    },
    {
      "cell_type": "code",
      "metadata": {
        "id": "L-SAk0bKPOQl"
      },
      "source": [
        "def plot_results(census, un, timeseries, title):\n",
        "    \"\"\"Plot the estimates and the model.\n",
        "    \n",
        "    census: TimeSeries of population estimates\n",
        "    un: TimeSeries of population estimates\n",
        "    timeseries: TimeSeries of simulation results\n",
        "    title: string\n",
        "    \"\"\"\n",
        "    plot(census, ':', label='US Census')\n",
        "    plot(un, '--', label='UN DESA')\n",
        "    plot(timeseries, color='gray', label='model')\n",
        "    \n",
        "    decorate(xlabel='Year', \n",
        "             ylabel='World population (billion)',\n",
        "             title=title)"
      ],
      "execution_count": 6,
      "outputs": []
    },
    {
      "cell_type": "code",
      "metadata": {
        "id": "otJ8ZvwBPOQn"
      },
      "source": [
        "def run_simulation(system, update_func):\n",
        "    \"\"\"Simulate the system using any update function.\n",
        "    \n",
        "    system: System object\n",
        "    update_func: function that computes the population next year\n",
        "    \n",
        "    returns: TimeSeries\n",
        "    \"\"\"\n",
        "    results = TimeSeries()\n",
        "    results[system.t_0] = system.p_0\n",
        "    \n",
        "    for t in linrange(system.t_0, system.t_end):\n",
        "        results[t+1] = update_func(results[t], t, system)\n",
        "        \n",
        "    return results"
      ],
      "execution_count": 7,
      "outputs": []
    },
    {
      "cell_type": "markdown",
      "metadata": {
        "id": "3iGF5gDAPOQo"
      },
      "source": [
        "### Quadratic growth"
      ]
    },
    {
      "cell_type": "markdown",
      "metadata": {
        "id": "y3UhTA9NPOQp"
      },
      "source": [
        "Here's the implementation of the quadratic growth model."
      ]
    },
    {
      "cell_type": "code",
      "metadata": {
        "id": "vw9jaL8-POQq"
      },
      "source": [
        "def update_func_quad(pop, t, system):\n",
        "    \"\"\"Compute the population next year with a quadratic model.\n",
        "    \n",
        "    pop: current population\n",
        "    t: current year\n",
        "    system: system object containing parameters of the model\n",
        "    \n",
        "    returns: population next year\n",
        "    \"\"\"\n",
        "    net_growth = system.alpha * pop + system.beta * pop**2\n",
        "    return pop + net_growth"
      ],
      "execution_count": 8,
      "outputs": []
    },
    {
      "cell_type": "markdown",
      "metadata": {
        "id": "elU1d-20POQs"
      },
      "source": [
        "Here's a `System` object with the parameters `alpha` and `beta`:"
      ]
    },
    {
      "cell_type": "code",
      "metadata": {
        "id": "hBcV6a2gPOQt"
      },
      "source": [
        "t_0 = get_first_label(census)\n",
        "t_end = get_last_label(census)\n",
        "p_0 = census[t_0]\n",
        "\n",
        "system = System(t_0=t_0, \n",
        "                t_end=t_end,\n",
        "                p_0=p_0,\n",
        "                alpha=0.025,\n",
        "                beta=-0.0018)"
      ],
      "execution_count": 9,
      "outputs": []
    },
    {
      "cell_type": "markdown",
      "metadata": {
        "id": "GM15G58sPOQu"
      },
      "source": [
        "And here are the results."
      ]
    },
    {
      "cell_type": "code",
      "metadata": {
        "id": "l-EuuQRGPOQv",
        "colab": {
          "base_uri": "https://localhost:8080/",
          "height": 297
        },
        "outputId": "e55e7feb-e268-4fc6-cdb0-e73daa80c08f"
      },
      "source": [
        "results = run_simulation(system, update_func_quad)\n",
        "plot_results(census, un, results, 'Quadratic model')"
      ],
      "execution_count": 10,
      "outputs": [
        {
          "output_type": "display_data",
          "data": {
            "image/png": "[encoded data removed]",
            "text/plain": [
              "<Figure size 432x288 with 1 Axes>"
            ]
          },
          "metadata": {
            "tags": [],
            "needs_background": "light"
          }
        }
      ]
    },
    {
      "cell_type": "markdown",
      "metadata": {
        "id": "_aZdNVStPOQw"
      },
      "source": [
        "**Exercise:**  Can you find values for the parameters that make the model fit better?"
      ]
    },
    {
      "cell_type": "code",
      "metadata": {
        "id": "Tgv6cIqhSz0i"
      },
      "source": [
        "t_0 = get_first_label(census)\n",
        "t_end = get_last_label(census)\n",
        "p_0 = census[t_0]\n",
        "\n",
        "system = System(t_0=t_0, \n",
        "                t_end=t_end,\n",
        "                p_0=p_0,\n",
        "                alpha=0.0250011,\n",
        "                beta=-0.00180111)"
      ],
      "execution_count": 11,
      "outputs": []
    },
    {
      "cell_type": "code",
      "metadata": {
        "colab": {
          "base_uri": "https://localhost:8080/",
          "height": 297
        },
        "id": "D5jGIha1S8Kr",
        "outputId": "38f2bf0d-9a75-4935-af93-7910e489e6a1"
      },
      "source": [
        "results = run_simulation(system, update_func_quad)\n",
        "plot_results(census, un, results, 'Quadratic model')"
      ],
      "execution_count": 12,
      "outputs": [
        {
          "output_type": "display_data",
          "data": {
            "image/png": "[encoded data removed]",
            "text/plain": [
              "<Figure size 432x288 with 1 Axes>"
            ]
          },
          "metadata": {
            "tags": [],
            "needs_background": "light"
          }
        }
      ]
    },
    {
      "cell_type": "markdown",
      "metadata": {
        "id": "98iNP1gBPOQx"
      },
      "source": [
        "### Equilibrium\n",
        "\n",
        "To understand the quadratic model better, let's plot net growth as a function of population."
      ]
    },
    {
      "cell_type": "code",
      "metadata": {
        "id": "_j2KT5IqPOQy"
      },
      "source": [
        "pop_array = linspace(0, 15, 100)\n",
        "net_growth_array = system.alpha * pop_array + system.beta * pop_array**2\n",
        "None"
      ],
      "execution_count": 13,
      "outputs": []
    },
    {
      "cell_type": "markdown",
      "metadata": {
        "id": "MaWBJHkEPOQz"
      },
      "source": [
        "Here's what it looks like."
      ]
    },
    {
      "cell_type": "code",
      "metadata": {
        "id": "CragLBM2POQ0",
        "colab": {
          "base_uri": "https://localhost:8080/",
          "height": 297
        },
        "outputId": "59326caa-1f10-4496-f8ea-73adc393a77d"
      },
      "source": [
        "sns.set_style('whitegrid')\n",
        "\n",
        "plot(pop_array, net_growth_array)\n",
        "decorate(xlabel='Population (billions)',\n",
        "         ylabel='Net growth (billions)')\n",
        "\n",
        "sns.set_style('white')"
      ],
      "execution_count": 14,
      "outputs": [
        {
          "output_type": "display_data",
          "data": {
            "image/png": "[encoded data removed]",
            "text/plain": [
              "<Figure size 432x288 with 1 Axes>"
            ]
          },
          "metadata": {
            "tags": []
          }
        }
      ]
    },
    {
      "cell_type": "markdown",
      "metadata": {
        "id": "DY9oyePdPOQ1"
      },
      "source": [
        "Here's what it looks like.  Remember that the x axis is population now, not time."
      ]
    },
    {
      "cell_type": "markdown",
      "metadata": {
        "id": "1uMiemeKPOQ2"
      },
      "source": [
        "It looks like the growth rate passes through 0 when the population is a little less than 14 billion.\n",
        "\n",
        "In the book we found that the net growth is 0 when the population is $-\\alpha/\\beta$:"
      ]
    },
    {
      "cell_type": "code",
      "metadata": {
        "id": "9718epwTPOQ3",
        "colab": {
          "base_uri": "https://localhost:8080/"
        },
        "outputId": "a60ab0f6-8278-4fd3-f1c6-4a75cceab0b2"
      },
      "source": [
        "-system.alpha / system.beta"
      ],
      "execution_count": 15,
      "outputs": [
        {
          "output_type": "execute_result",
          "data": {
            "text/plain": [
              "13.880940086946381"
            ]
          },
          "metadata": {
            "tags": []
          },
          "execution_count": 15
        }
      ]
    },
    {
      "cell_type": "markdown",
      "metadata": {
        "id": "1akmw-26POQ4"
      },
      "source": [
        "This is the equilibrium the population tends toward."
      ]
    },
    {
      "cell_type": "markdown",
      "metadata": {
        "id": "VHMquQBePOQ5"
      },
      "source": [
        "`sns` is a library called Seaborn which provides functions that control the appearance of plots.  In this case I want a grid to make it easier to estimate the population where the growth rate crosses through 0."
      ]
    },
    {
      "cell_type": "markdown",
      "metadata": {
        "id": "dBWgfqSgPOQ6"
      },
      "source": [
        "### Dysfunctions"
      ]
    },
    {
      "cell_type": "markdown",
      "metadata": {
        "id": "GHcLKwUaPOQ6"
      },
      "source": [
        "When people first learn about functions, there are a few things they often find confusing.  In this section I present and explain some common problems with functions.\n",
        "\n",
        "As an example, suppose you want a function that takes a `System` object, with variables `alpha` and `beta`, as a parameter and computes the carrying capacity, `-alpha/beta`.  Here's a good solution:"
      ]
    },
    {
      "cell_type": "code",
      "metadata": {
        "id": "2En0vpGOPOQ7",
        "colab": {
          "base_uri": "https://localhost:8080/"
        },
        "outputId": "922925f9-e192-4516-9ff4-9d0bb1abf278"
      },
      "source": [
        "def carrying_capacity(system):\n",
        "    K = -system.alpha / system.beta\n",
        "    return K\n",
        "    \n",
        "sys1 = System(alpha=0.025, beta=-0.0018)\n",
        "pop = carrying_capacity(sys1)\n",
        "print(pop)"
      ],
      "execution_count": 16,
      "outputs": [
        {
          "output_type": "stream",
          "text": [
            "13.88888888888889\n"
          ],
          "name": "stdout"
        }
      ]
    },
    {
      "cell_type": "markdown",
      "metadata": {
        "id": "8YYGrZAvPOQ-"
      },
      "source": [
        "Now let's see all the ways that can go wrong.\n",
        "\n",
        "**Dysfunction #1:** Not using parameters.  In the following version, the function doesn't take any parameters; when `sys1` appears inside the function, it refers to the object we created outside the function.\n"
      ]
    },
    {
      "cell_type": "code",
      "metadata": {
        "id": "0ZI9r4vePORB",
        "colab": {
          "base_uri": "https://localhost:8080/"
        },
        "outputId": "f18483e8-8264-42eb-ec2e-7fa6206ef39a"
      },
      "source": [
        "def carrying_capacity():\n",
        "    K = -sys1.alpha / sys1.beta\n",
        "    return K\n",
        "    \n",
        "sys1 = System(alpha=0.025, beta=-0.0018)\n",
        "pop = carrying_capacity()\n",
        "print(pop)"
      ],
      "execution_count": 17,
      "outputs": [
        {
          "output_type": "stream",
          "text": [
            "13.88888888888889\n"
          ],
          "name": "stdout"
        }
      ]
    },
    {
      "cell_type": "markdown",
      "metadata": {
        "id": "SCnjLGzcPORC"
      },
      "source": [
        "This version actually works, but it is not as versatile as it could be.  If there are several `System` objects, this function can only work with one of them, and only if it is named `system`.\n",
        "\n",
        "**Dysfunction #2:** Clobbering the parameters.  When people first learn about parameters, they often write functions like this:"
      ]
    },
    {
      "cell_type": "code",
      "metadata": {
        "id": "xnPT6SPAPORE",
        "colab": {
          "base_uri": "https://localhost:8080/"
        },
        "outputId": "a46baddc-0a3a-41f5-d601-f3ea50e6071b"
      },
      "source": [
        "def carrying_capacity(system):\n",
        "    system = System(alpha=0.025, beta=-0.0018)\n",
        "    K = -system.alpha / system.beta\n",
        "    return K\n",
        "    \n",
        "sys1 = System(alpha=0.025, beta=-0.0018)\n",
        "pop = carrying_capacity(sys1)\n",
        "print(pop)"
      ],
      "execution_count": 18,
      "outputs": [
        {
          "output_type": "stream",
          "text": [
            "13.88888888888889\n"
          ],
          "name": "stdout"
        }
      ]
    },
    {
      "cell_type": "markdown",
      "metadata": {
        "id": "5Ekh-_PJPORF"
      },
      "source": [
        "In this example, we have a `System` object named `sys1` that gets passed as an argument to `carrying_capacity`.  But when the function runs, it ignores the argument and immediately replaces it with a new `System` object.  As a result, this function always returns the same value, no matter what argument is passed.\n",
        "\n",
        "When you write a function, you generally don't know what the values of the parameters will be.  Your job is to write a function that works for any valid values.  If you assign your own values to the parameters, you defeat the whole purpose of functions.\n",
        "\n",
        "\n",
        "**Dysfunction #3:** No return value.  Here's a version that computes the value of `K` but doesn't return it."
      ]
    },
    {
      "cell_type": "code",
      "metadata": {
        "id": "8vjmMfp8PORG",
        "colab": {
          "base_uri": "https://localhost:8080/"
        },
        "outputId": "42e16e18-6eb5-43f7-df6c-3d0427dbb4d9"
      },
      "source": [
        "def carrying_capacity(system):\n",
        "    K = -system.alpha / system.beta\n",
        "    \n",
        "sys1 = System(alpha=0.025, beta=-0.0018)\n",
        "pop = carrying_capacity(sys1)\n",
        "print(pop)"
      ],
      "execution_count": 19,
      "outputs": [
        {
          "output_type": "stream",
          "text": [
            "None\n"
          ],
          "name": "stdout"
        }
      ]
    },
    {
      "cell_type": "markdown",
      "metadata": {
        "id": "nunU2GBvPORH"
      },
      "source": [
        "A function that doesn't have a return statement always returns a special value called `None`, so in this example the value of `pop` is `None`.  If you are debugging a program and find that the value of a variable is `None` when it shouldn't be, a function without a return statement is a likely cause.\n",
        "\n",
        "**Dysfunction #4:** Ignoring the return value.  Finally, here's a version where the function is correct, but the way it's used is not."
      ]
    },
    {
      "cell_type": "code",
      "metadata": {
        "id": "tqDsq8NsPORI",
        "colab": {
          "base_uri": "https://localhost:8080/"
        },
        "outputId": "f9637507-b27e-4379-c17b-4b7b873e69f1"
      },
      "source": [
        "def carrying_capacity(system):\n",
        "    K = -system.alpha / system.beta\n",
        "    return K\n",
        "    \n",
        "sys2 = System(alpha=0.025, beta=-0.0018)\n",
        "carrying_capacity(sys2)\n",
        "\n",
        "# print(K)     This line won't work because K only exists inside the function."
      ],
      "execution_count": 20,
      "outputs": [
        {
          "output_type": "execute_result",
          "data": {
            "text/plain": [
              "13.88888888888889"
            ]
          },
          "metadata": {
            "tags": []
          },
          "execution_count": 20
        }
      ]
    },
    {
      "cell_type": "markdown",
      "metadata": {
        "id": "fjwnFPGePORJ"
      },
      "source": [
        "In this example, `carrying_capacity` runs and returns `K`, but the return value is dropped.\n",
        "\n",
        "When you call a function that returns a value, you should do something with the result.  Often you assign it to a variable, as in the previous examples, but you can also use it as part of an expression.\n",
        "\n",
        "For example, you could eliminate the temporary variable `pop` like this:"
      ]
    },
    {
      "cell_type": "code",
      "metadata": {
        "id": "Vw1JtVgOPORJ",
        "colab": {
          "base_uri": "https://localhost:8080/"
        },
        "outputId": "6df4faa4-6ace-4628-c6cb-2a4d797a7e34"
      },
      "source": [
        "print(carrying_capacity(sys1))"
      ],
      "execution_count": 21,
      "outputs": [
        {
          "output_type": "stream",
          "text": [
            "13.88888888888889\n"
          ],
          "name": "stdout"
        }
      ]
    },
    {
      "cell_type": "markdown",
      "metadata": {
        "id": "Rr7T0_7yPORK"
      },
      "source": [
        "Or if you had more than one system, you could compute the total carrying capacity like this:\n"
      ]
    },
    {
      "cell_type": "code",
      "metadata": {
        "id": "OTYdPue2PORL",
        "colab": {
          "base_uri": "https://localhost:8080/"
        },
        "outputId": "a73a4db5-a6d3-4692-cc7c-cb916eefd8cd"
      },
      "source": [
        "total = carrying_capacity(sys1) + carrying_capacity(sys2)\n",
        "total"
      ],
      "execution_count": 22,
      "outputs": [
        {
          "output_type": "execute_result",
          "data": {
            "text/plain": [
              "27.77777777777778"
            ]
          },
          "metadata": {
            "tags": []
          },
          "execution_count": 22
        }
      ]
    },
    {
      "cell_type": "markdown",
      "metadata": {
        "id": "8czZFYvYPORM"
      },
      "source": [
        "## Exercises\n",
        "\n",
        "**Exercise:** In the book, I present a different way to parameterize the quadratic model:\n",
        "\n",
        "$ \\Delta p = r p (1 - p / K) $\n",
        "\n",
        "where $r=\\alpha$ and $K=-\\alpha/\\beta$.  Write a version of `update_func` that implements this version of the model.  Test it by computing the values of `r` and `K` that correspond to `alpha=0.025, beta=-0.0018`, and confirm that you get the same results. "
      ]
    },
    {
      "cell_type": "code",
      "metadata": {
        "id": "VHDWziykPORN"
      },
      "source": [
        "# Solution goes here\n",
        "def update_func_quad2(pop, t, system):\n",
        "    \"\"\"Compute the population next year with a quadratic model.\n",
        "    \n",
        "    pop: current population\n",
        "    t: current year\n",
        "    system: system object containing parameters of the model\n",
        "    r: alpha\n",
        "    K: -alpha/beta\n",
        "    \n",
        "    returns: population next year\n",
        "    \"\"\"\n",
        "    net_growth = system.r*pop*(1-pop/system.K) #parameterized model\n",
        "    return pop + net_growth"
      ],
      "execution_count": 23,
      "outputs": []
    },
    {
      "cell_type": "code",
      "metadata": {
        "id": "CfrvanZ6PORN"
      },
      "source": [
        "# Solution goes here\n",
        "#same parameters as earlier in the chapter\n",
        "t_0 = get_first_label(census)\n",
        "t_end = get_last_label(census)\n",
        "p_0 = census[t_0]\n",
        "\n",
        "system = System(t_0=t_0, \n",
        "                t_end=t_end,\n",
        "                p_0=p_0,\n",
        "                alpha=0.025,\n",
        "                beta=-0.0018)"
      ],
      "execution_count": 24,
      "outputs": []
    },
    {
      "cell_type": "code",
      "metadata": {
        "id": "pkq8Q8ubPORO",
        "colab": {
          "base_uri": "https://localhost:8080/",
          "height": 297
        },
        "outputId": "062ca6c9-bb60-4000-bc56-1120922be7a7"
      },
      "source": [
        "# Solution goes here\n",
        "system.r = system.alpha \n",
        "system.K = -system.alpha/system.beta\n",
        "\n",
        "results = run_simulation(system, update_func_quad2)\n",
        "plot_results(census, un, results, 'Parameterized Quadratic Model')"
      ],
      "execution_count": 25,
      "outputs": [
        {
          "output_type": "display_data",
          "data": {
            "image/png": "[encoded data removed]",
            "text/plain": [
              "<Figure size 432x288 with 1 Axes>"
            ]
          },
          "metadata": {
            "tags": []
          }
        }
      ]
    }
  ]
}