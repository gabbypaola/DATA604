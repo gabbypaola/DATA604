{
  "nbformat": 4,
  "nbformat_minor": 0,
  "metadata": {
    "kernelspec": {
      "display_name": "Python 3",
      "language": "python",
      "name": "python3"
    },
    "language_info": {
      "codemirror_mode": {
        "name": "ipython",
        "version": 3
      },
      "file_extension": ".py",
      "mimetype": "text/x-python",
      "name": "python",
      "nbconvert_exporter": "python",
      "pygments_lexer": "ipython3",
      "version": "3.7.9"
    },
    "colab": {
      "name": "G_Martinez_chap16.ipynb",
      "provenance": [],
      "include_colab_link": true
    }
  },
  "cells": [
    {
      "cell_type": "markdown",
      "metadata": {
        "id": "view-in-github",
        "colab_type": "text"
      },
      "source": [
        "<a href=\"https://colab.research.google.com/github/gabbypaola/DATA604/blob/main/G_Martinez_chap16.ipynb\" target=\"_parent\"><img src=\"https://colab.research.google.com/assets/colab-badge.svg\" alt=\"Open In Colab\"/></a>"
      ]
    },
    {
      "cell_type": "markdown",
      "metadata": {
        "id": "OYHWhZdTy0h3"
      },
      "source": [
        "# Chapter 16"
      ]
    },
    {
      "cell_type": "markdown",
      "metadata": {
        "tags": [],
        "id": "w706GduLy0iA"
      },
      "source": [
        "*Modeling and Simulation in Python*\n",
        "\n",
        "Copyright 2021 Allen Downey\n",
        "\n",
        "License: [Creative Commons Attribution-NonCommercial-ShareAlike 4.0 International](https://creativecommons.org/licenses/by-nc-sa/4.0/)"
      ]
    },
    {
      "cell_type": "code",
      "metadata": {
        "tags": [],
        "id": "eT18GHVWy0iD"
      },
      "source": [
        "# check if the libraries we need are installed\n",
        "\n",
        "try:\n",
        "    import pint\n",
        "except ImportError:\n",
        "    !pip install pint\n",
        "    import pint\n",
        "    \n",
        "try:\n",
        "    from modsim import *\n",
        "except ImportError:\n",
        "    !pip install modsimpy\n",
        "    from modsim import *"
      ],
      "execution_count": 1,
      "outputs": []
    },
    {
      "cell_type": "markdown",
      "metadata": {
        "id": "n_HIbGTWy0iH"
      },
      "source": [
        "## Code from previous notebooks"
      ]
    },
    {
      "cell_type": "code",
      "metadata": {
        "id": "EhcRIeQky0iJ"
      },
      "source": [
        "def update_func(state, t, system):\n",
        "    \"\"\"Update the thermal transfer model.\n",
        "    \n",
        "    state: State (temp)\n",
        "    t: time\n",
        "    system: System object\n",
        "    \n",
        "    returns: State (temp)\n",
        "    \"\"\"\n",
        "    r, T_env, dt = system.r, system.T_env, system.dt\n",
        "    \n",
        "    T = state.T\n",
        "    T += -r * (T - T_env) * dt\n",
        "    \n",
        "    return State(T=T)"
      ],
      "execution_count": 2,
      "outputs": []
    },
    {
      "cell_type": "code",
      "metadata": {
        "id": "bn4kgZqOy0iL"
      },
      "source": [
        "def run_simulation(system, update_func):\n",
        "    \"\"\"Runs a simulation of the system.\n",
        "    \n",
        "    Add a TimeFrame to the System: results\n",
        "    \n",
        "    system: System object\n",
        "    update_func: function that updates state\n",
        "    \"\"\"\n",
        "    init = system.init\n",
        "    t_0, t_end, dt = system.t_0, system.t_end, system.dt\n",
        "    \n",
        "    frame = TimeFrame(columns=init.index)\n",
        "    frame.row[t_0] = init\n",
        "    ts = linrange(t_0, t_end, dt)\n",
        "    \n",
        "    for t in ts:\n",
        "        frame.row[t+dt] = update_func(frame.row[t], t, system)\n",
        "    \n",
        "    return frame"
      ],
      "execution_count": 3,
      "outputs": []
    },
    {
      "cell_type": "code",
      "metadata": {
        "id": "eJ2u6fL6y0iM"
      },
      "source": [
        "def make_system(T_init, r, volume, t_end):\n",
        "    \"\"\"Makes a System object with the given parameters.\n",
        "\n",
        "    T_init: initial temperature in degC\n",
        "    r: heat transfer rate, in 1/min\n",
        "    volume: volume of liquid in mL\n",
        "    t_end: end time of simulation\n",
        "    \n",
        "    returns: System object\n",
        "    \"\"\"\n",
        "    init = State(T=T_init)\n",
        "                   \n",
        "    return System(init=init,\n",
        "                  r=r, \n",
        "                  volume=volume,\n",
        "                  temp=T_init,\n",
        "                  t_0=0, \n",
        "                  t_end=t_end, \n",
        "                  dt=1,\n",
        "                  T_env=22)"
      ],
      "execution_count": 4,
      "outputs": []
    },
    {
      "cell_type": "markdown",
      "metadata": {
        "id": "FDsgdC8dy0iP"
      },
      "source": [
        "### Using `root_bisect`\n",
        "\n",
        "As a simple example, let's find the roots of this function; that is, the values of `x` that make the result 0."
      ]
    },
    {
      "cell_type": "code",
      "metadata": {
        "id": "vleMXOKxy0iR"
      },
      "source": [
        "def func(x):\n",
        "    return (x-1) * (x-2) * (x-3)"
      ],
      "execution_count": 5,
      "outputs": []
    },
    {
      "cell_type": "markdown",
      "metadata": {
        "id": "mg5B6ggAy0iS"
      },
      "source": [
        "`modsim.py` provides `root_bisect`, which searches for a root by bisection.  The first argument is the function whose roots we want.  The second argument is an interval that contains a root."
      ]
    },
    {
      "cell_type": "code",
      "metadata": {
        "id": "4gRPwiV3y0iT"
      },
      "source": [
        "res = root_bisect(func, [0.5, 1.5])"
      ],
      "execution_count": 6,
      "outputs": []
    },
    {
      "cell_type": "markdown",
      "metadata": {
        "id": "EFd8_1_yy0iV"
      },
      "source": [
        "The result is an object that contains the root that was found and other information."
      ]
    },
    {
      "cell_type": "code",
      "metadata": {
        "id": "E_9LBmAyy0iW",
        "colab": {
          "base_uri": "https://localhost:8080/"
        },
        "outputId": "3e1139cb-81b5-4fbb-9a01-c3b3bd16797d"
      },
      "source": [
        "res.root"
      ],
      "execution_count": 7,
      "outputs": [
        {
          "output_type": "execute_result",
          "data": {
            "text/plain": [
              "1.0"
            ]
          },
          "metadata": {
            "tags": []
          },
          "execution_count": 7
        }
      ]
    },
    {
      "cell_type": "markdown",
      "metadata": {
        "id": "-ClgOC2Dy0iX"
      },
      "source": [
        "If we provide a different interval, we find a different root."
      ]
    },
    {
      "cell_type": "code",
      "metadata": {
        "id": "4aq5kqGwy0iY"
      },
      "source": [
        "res = root_bisect(func, [1.5, 2.5])"
      ],
      "execution_count": 8,
      "outputs": []
    },
    {
      "cell_type": "code",
      "metadata": {
        "id": "ncyFQe_Uy0iZ",
        "colab": {
          "base_uri": "https://localhost:8080/"
        },
        "outputId": "6a59f804-fc0f-4d8f-f2d3-309557b331b4"
      },
      "source": [
        "res.root"
      ],
      "execution_count": 9,
      "outputs": [
        {
          "output_type": "execute_result",
          "data": {
            "text/plain": [
              "2.0"
            ]
          },
          "metadata": {
            "tags": []
          },
          "execution_count": 9
        }
      ]
    },
    {
      "cell_type": "markdown",
      "metadata": {
        "id": "YJMtmvwLy0ia"
      },
      "source": [
        "If the interval doesn't contain a root, the results explain the error."
      ]
    },
    {
      "cell_type": "code",
      "metadata": {
        "id": "IlsULhnoy0ib"
      },
      "source": [
        "res = root_bisect(func, [4, 5])"
      ],
      "execution_count": 10,
      "outputs": []
    },
    {
      "cell_type": "code",
      "metadata": {
        "colab": {
          "base_uri": "https://localhost:8080/",
          "height": 282
        },
        "id": "zB9lNIbKzyzi",
        "outputId": "8d3ce89e-b028-495a-b28a-5ef7d3adff96"
      },
      "source": [
        "res.root"
      ],
      "execution_count": 11,
      "outputs": [
        {
          "output_type": "error",
          "ename": "AttributeError",
          "evalue": "ignored",
          "traceback": [
            "\u001b[0;31m---------------------------------------------------------------------------\u001b[0m",
            "\u001b[0;31mAttributeError\u001b[0m                            Traceback (most recent call last)",
            "\u001b[0;32m<ipython-input-11-b96c5fb71731>\u001b[0m in \u001b[0;36m<module>\u001b[0;34m()\u001b[0m\n\u001b[0;32m----> 1\u001b[0;31m \u001b[0mres\u001b[0m\u001b[0;34m.\u001b[0m\u001b[0mroot\u001b[0m\u001b[0;34m\u001b[0m\u001b[0;34m\u001b[0m\u001b[0m\n\u001b[0m",
            "\u001b[0;32m/usr/local/lib/python3.7/dist-packages/pandas/core/generic.py\u001b[0m in \u001b[0;36m__getattr__\u001b[0;34m(self, name)\u001b[0m\n\u001b[1;32m   5139\u001b[0m             \u001b[0;32mif\u001b[0m \u001b[0mself\u001b[0m\u001b[0;34m.\u001b[0m\u001b[0m_info_axis\u001b[0m\u001b[0;34m.\u001b[0m\u001b[0m_can_hold_identifiers_and_holds_name\u001b[0m\u001b[0;34m(\u001b[0m\u001b[0mname\u001b[0m\u001b[0;34m)\u001b[0m\u001b[0;34m:\u001b[0m\u001b[0;34m\u001b[0m\u001b[0;34m\u001b[0m\u001b[0m\n\u001b[1;32m   5140\u001b[0m                 \u001b[0;32mreturn\u001b[0m \u001b[0mself\u001b[0m\u001b[0;34m[\u001b[0m\u001b[0mname\u001b[0m\u001b[0;34m]\u001b[0m\u001b[0;34m\u001b[0m\u001b[0;34m\u001b[0m\u001b[0m\n\u001b[0;32m-> 5141\u001b[0;31m             \u001b[0;32mreturn\u001b[0m \u001b[0mobject\u001b[0m\u001b[0;34m.\u001b[0m\u001b[0m__getattribute__\u001b[0m\u001b[0;34m(\u001b[0m\u001b[0mself\u001b[0m\u001b[0;34m,\u001b[0m \u001b[0mname\u001b[0m\u001b[0;34m)\u001b[0m\u001b[0;34m\u001b[0m\u001b[0;34m\u001b[0m\u001b[0m\n\u001b[0m\u001b[1;32m   5142\u001b[0m \u001b[0;34m\u001b[0m\u001b[0m\n\u001b[1;32m   5143\u001b[0m     \u001b[0;32mdef\u001b[0m \u001b[0m__setattr__\u001b[0m\u001b[0;34m(\u001b[0m\u001b[0mself\u001b[0m\u001b[0;34m,\u001b[0m \u001b[0mname\u001b[0m\u001b[0;34m:\u001b[0m \u001b[0mstr\u001b[0m\u001b[0;34m,\u001b[0m \u001b[0mvalue\u001b[0m\u001b[0;34m)\u001b[0m \u001b[0;34m->\u001b[0m \u001b[0;32mNone\u001b[0m\u001b[0;34m:\u001b[0m\u001b[0;34m\u001b[0m\u001b[0;34m\u001b[0m\u001b[0m\n",
            "\u001b[0;31mAttributeError\u001b[0m: 'ModSimSeries' object has no attribute 'root'"
          ]
        }
      ]
    },
    {
      "cell_type": "markdown",
      "metadata": {
        "id": "9z6ibRdt1W4A"
      },
      "source": [
        "Additional testing: when providing the interval with all roots, only the last root is provided. In this case, 3 is provided as the root."
      ]
    },
    {
      "cell_type": "code",
      "metadata": {
        "id": "s-f5Zcyfz4vN"
      },
      "source": [
        "res = root_bisect(func,[0.5,5.5])"
      ],
      "execution_count": 12,
      "outputs": []
    },
    {
      "cell_type": "code",
      "metadata": {
        "colab": {
          "base_uri": "https://localhost:8080/"
        },
        "id": "CguSxcDq0waK",
        "outputId": "7128ae70-efac-4fe3-aab1-cd245a0734ed"
      },
      "source": [
        "res.root"
      ],
      "execution_count": 13,
      "outputs": [
        {
          "output_type": "execute_result",
          "data": {
            "text/plain": [
              "3.0"
            ]
          },
          "metadata": {
            "tags": []
          },
          "execution_count": 13
        }
      ]
    },
    {
      "cell_type": "markdown",
      "metadata": {
        "id": "zW9xT45Ry0ib"
      },
      "source": [
        "We want to find the value of `r` that makes the final temperature 70, so we define an \"error function\" that takes `r` as a parameter and returns the difference between the final temperature and the goal."
      ]
    },
    {
      "cell_type": "code",
      "metadata": {
        "id": "7oydZnrIy0ic"
      },
      "source": [
        "def error_func1(r):\n",
        "    \"\"\"Runs a simulation and returns the `error`.\n",
        "    \n",
        "    r: heat transfer rate, in 1/min\n",
        "    \n",
        "    returns: difference between final temp and 70 C\n",
        "    \"\"\"\n",
        "    system = make_system(T_init=90, r=r, volume=300, t_end=30)\n",
        "    results = run_simulation(system, update_func)\n",
        "    T_final = get_last_value(results.T)\n",
        "    print(T_final - 70) #Exercise addition\n",
        "    return T_final - 70"
      ],
      "execution_count": 14,
      "outputs": []
    },
    {
      "cell_type": "markdown",
      "metadata": {
        "id": "0ihB4F7Uy0id"
      },
      "source": [
        "With `r=0.01`, we end up a little too warm."
      ]
    },
    {
      "cell_type": "code",
      "metadata": {
        "id": "cNdxfOp7y0ie",
        "colab": {
          "base_uri": "https://localhost:8080/"
        },
        "outputId": "87a7df00-8129-41c4-976d-cdcb08c6705a"
      },
      "source": [
        "error_func1(r=0.01)"
      ],
      "execution_count": 15,
      "outputs": [
        {
          "output_type": "stream",
          "text": [
            "2.2996253904030937\n"
          ],
          "name": "stdout"
        },
        {
          "output_type": "execute_result",
          "data": {
            "text/plain": [
              "2.2996253904030937"
            ]
          },
          "metadata": {
            "tags": []
          },
          "execution_count": 15
        }
      ]
    },
    {
      "cell_type": "markdown",
      "metadata": {
        "id": "2Y903EKay0if"
      },
      "source": [
        "With `r=0.02`, we end up too cold."
      ]
    },
    {
      "cell_type": "code",
      "metadata": {
        "id": "jg5CK5cuy0ig",
        "colab": {
          "base_uri": "https://localhost:8080/"
        },
        "outputId": "e301ef07-a508-4f25-c165-97f5e73af526"
      },
      "source": [
        "error_func1(r=0.02)"
      ],
      "execution_count": 17,
      "outputs": [
        {
          "output_type": "stream",
          "text": [
            "-10.907066281994297\n"
          ],
          "name": "stdout"
        },
        {
          "output_type": "execute_result",
          "data": {
            "text/plain": [
              "-10.907066281994297"
            ]
          },
          "metadata": {
            "tags": []
          },
          "execution_count": 17
        }
      ]
    },
    {
      "cell_type": "markdown",
      "metadata": {
        "id": "2Ycjkcgyy0ih"
      },
      "source": [
        "The return value from `root_bisect` is an array with a single element, the estimated value of `r`."
      ]
    },
    {
      "cell_type": "code",
      "metadata": {
        "id": "QCln3rK8y0ii",
        "colab": {
          "base_uri": "https://localhost:8080/"
        },
        "outputId": "e406ff9c-1618-461f-be1c-2f31839bbd99"
      },
      "source": [
        "res = root_bisect(error_func1, [0.01, 0.02])"
      ],
      "execution_count": 18,
      "outputs": [
        {
          "output_type": "stream",
          "text": [
            "2.2996253904030937\n",
            "-10.907066281994297\n",
            "-4.788849694268251\n",
            "-1.3746567918169745\n",
            "0.4288111429787449\n",
            "-0.48119275747843915\n",
            "-0.028276637341065225\n",
            "0.19974348477403225\n",
            "0.08560277129113558\n",
            "0.02863043999934689\n",
            "0.00016874909731257048\n",
            "-0.01405598161608168\n",
            "-0.006944125703356008\n",
            "-0.0033878156728093245\n",
            "-0.0016095651312610926\n",
            "-0.0007204159779803376\n",
            "-0.00027583543057119186\n",
            "-5.3543664193966833e-05\n",
            "5.7602592164585076e-05\n",
            "2.0294329203807138e-06\n",
            "-2.57571234385523e-05\n",
            "-1.1863847177551179e-05\n",
            "-4.917207675703139e-06\n",
            "-1.443887484242623e-06\n",
            "2.9277265412019915e-07\n",
            "-5.75557436377494e-07\n"
          ],
          "name": "stdout"
        }
      ]
    },
    {
      "cell_type": "code",
      "metadata": {
        "id": "qPg_TVfqy0ii"
      },
      "source": [
        "r_coffee = res.root"
      ],
      "execution_count": 19,
      "outputs": []
    },
    {
      "cell_type": "code",
      "metadata": {
        "colab": {
          "base_uri": "https://localhost:8080/"
        },
        "id": "FcDGo8de17Ug",
        "outputId": "bf55e4a9-ea14-48d1-e31e-08777a9afb24"
      },
      "source": [
        "r_coffee"
      ],
      "execution_count": 20,
      "outputs": [
        {
          "output_type": "execute_result",
          "data": {
            "text/plain": [
              "0.011543084681034089"
            ]
          },
          "metadata": {
            "tags": []
          },
          "execution_count": 20
        }
      ]
    },
    {
      "cell_type": "markdown",
      "metadata": {
        "id": "PA3S8tyry0ij"
      },
      "source": [
        "If we run the simulation with the estimated value of `r`, the final temperature is 70 C, as expected."
      ]
    },
    {
      "cell_type": "code",
      "metadata": {
        "id": "Eop1HVaVy0ik"
      },
      "source": [
        "coffee = make_system(T_init=90, r=r_coffee, volume=300, t_end=30)\n",
        "results = run_simulation(coffee, update_func)\n",
        "T_final = get_last_value(results.T)"
      ],
      "execution_count": 21,
      "outputs": []
    },
    {
      "cell_type": "code",
      "metadata": {
        "colab": {
          "base_uri": "https://localhost:8080/"
        },
        "id": "hlWXxMbF1_pA",
        "outputId": "87594be9-aa24-417d-9efa-28cf953f71ea"
      },
      "source": [
        "T_final"
      ],
      "execution_count": 22,
      "outputs": [
        {
          "output_type": "execute_result",
          "data": {
            "text/plain": [
              "69.99999985860761"
            ]
          },
          "metadata": {
            "tags": []
          },
          "execution_count": 22
        }
      ]
    },
    {
      "cell_type": "markdown",
      "metadata": {
        "id": "jnu3uo6Ay0il"
      },
      "source": [
        "**Exercise:**  When you call `root_bisect`, it calls `error_func1` several times.  To see how this works, add a print statement to `error_func1` and run `root_bisect` again."
      ]
    },
    {
      "cell_type": "markdown",
      "metadata": {
        "id": "ylqIIS4zy0im"
      },
      "source": [
        "**Exercise:** Repeat this process to estimate `r_milk`, given that it starts at 5 C and reaches 20 C after 15 minutes.  \n",
        "\n",
        "Before you use `root_bisect`, you might want to try a few values for `r_milk` and see how close you can get by trial and error.  Here's an initial guess to get you started:"
      ]
    },
    {
      "cell_type": "markdown",
      "metadata": {
        "id": "VuKISAIfKtS9"
      },
      "source": [
        "The `r_milk` obtained via trial and error in chapter 15 was very close to the `r_milk` value obtained using the `root_bisect()` function. The trail and error value was correct to the 5th decimal.  "
      ]
    },
    {
      "cell_type": "code",
      "metadata": {
        "id": "km1rhpmAy0in",
        "colab": {
          "base_uri": "https://localhost:8080/"
        },
        "outputId": "192f672a-9f2e-47b5-cf39-baf1f953022f"
      },
      "source": [
        "r_milk = 0.132961 # obtained from trial and error completed in chapter 15\n",
        "milk = make_system(T_init=5, r=r_milk, volume=50, t_end=15)\n",
        "results = run_simulation(milk, update_func)\n",
        "T_final = get_last_value(results.T)\n",
        "T_final"
      ],
      "execution_count": 23,
      "outputs": [
        {
          "output_type": "execute_result",
          "data": {
            "text/plain": [
              "20.00000728842391"
            ]
          },
          "metadata": {
            "tags": []
          },
          "execution_count": 23
        }
      ]
    },
    {
      "cell_type": "code",
      "metadata": {
        "id": "nsoaj_FNy0iq"
      },
      "source": [
        "# Solution goes here\n",
        "def error_func2(r):\n",
        "    \"\"\"Runs a simulation and returns the `error`.\n",
        "    \n",
        "    r: heat transfer rate, in 1/min\n",
        "    \n",
        "    returns: difference between final temp and 20 C\n",
        "    \"\"\"\n",
        "    system = make_system(T_init=5, r=r, volume=50, t_end=15)\n",
        "    results = run_simulation(system, update_func)\n",
        "    T_final = get_last_value(results.T)\n",
        "    return T_final - 20"
      ],
      "execution_count": 24,
      "outputs": []
    },
    {
      "cell_type": "code",
      "metadata": {
        "id": "WAl-ak3uy0ir"
      },
      "source": [
        "# Solution goes here\n",
        "res = root_bisect(error_func2, [0.1, 0.2])"
      ],
      "execution_count": 25,
      "outputs": []
    },
    {
      "cell_type": "code",
      "metadata": {
        "id": "B9erI9egy0is",
        "colab": {
          "base_uri": "https://localhost:8080/"
        },
        "outputId": "f1524485-83d3-468b-f57d-bd53ce632c67"
      },
      "source": [
        "# Solution goes here\n",
        "r_milk = res.root\n",
        "r_milk"
      ],
      "execution_count": 26,
      "outputs": [
        {
          "output_type": "execute_result",
          "data": {
            "text/plain": [
              "0.13296079039573666"
            ]
          },
          "metadata": {
            "tags": []
          },
          "execution_count": 26
        }
      ]
    },
    {
      "cell_type": "markdown",
      "metadata": {
        "id": "G5QkHG3Yy0it"
      },
      "source": [
        "### Mixing liquids"
      ]
    },
    {
      "cell_type": "markdown",
      "metadata": {
        "id": "FkWN2Drfy0iu"
      },
      "source": [
        "The following function takes `System` objects that represent two liquids, computes the temperature of the mixture, and returns a new `System` object that represents the mixture."
      ]
    },
    {
      "cell_type": "code",
      "metadata": {
        "id": "dnvu6Xhry0iv"
      },
      "source": [
        "def mix(system1, system2):\n",
        "    \"\"\"Simulates the mixture of two liquids.\n",
        "    \n",
        "    system1: System representing coffee\n",
        "    system2: System representing milk\n",
        "    \n",
        "    returns: System representing the mixture\n",
        "    \"\"\"\n",
        "    assert system1.t_end == system2.t_end\n",
        "    \n",
        "    V1, V2 = system1.volume, system2.volume\n",
        "    T1, T2 = system1.temp, system2.temp\n",
        "    \n",
        "    V_mix = V1 + V2\n",
        "    T_mix = (V1 * T1 + V2 * T2) / V_mix\n",
        "    \n",
        "    return make_system(T_init=T_mix,\n",
        "                       r=system1.r,\n",
        "                       volume=V_mix,\n",
        "                       t_end=30)"
      ],
      "execution_count": 27,
      "outputs": []
    },
    {
      "cell_type": "markdown",
      "metadata": {
        "id": "raL3uQSoy0iw"
      },
      "source": [
        "`mix` requires the `System` objects to have `temp` as a system variable.  `make_system` initializes this variable;\n",
        "the following function makes sure it gets updated when we run a simulation."
      ]
    },
    {
      "cell_type": "code",
      "metadata": {
        "id": "X8jJ3vOly0ix"
      },
      "source": [
        "def run_and_set(system):\n",
        "    \"\"\"Run a simulation and set the final temperature.\n",
        "    \n",
        "    system: System\n",
        "    \n",
        "    returns: TimeFrame\n",
        "    \"\"\"\n",
        "    results = run_simulation(system, update_func)\n",
        "    system.temp = get_last_value(results.T)\n",
        "    return results"
      ],
      "execution_count": 28,
      "outputs": []
    },
    {
      "cell_type": "markdown",
      "metadata": {
        "id": "YQI5I6eJy0iy"
      },
      "source": [
        "## Mixing immediately\n",
        "\n",
        "Next here's what we get if we add the milk immediately."
      ]
    },
    {
      "cell_type": "code",
      "metadata": {
        "id": "XIL9J8iJy0iz",
        "colab": {
          "base_uri": "https://localhost:8080/"
        },
        "outputId": "fdc5a80c-8aeb-413b-b201-31f8a5a577ef"
      },
      "source": [
        "coffee = make_system(T_init=90, r=r_coffee, volume=300, t_end=30)\n",
        "coffee.temp"
      ],
      "execution_count": 29,
      "outputs": [
        {
          "output_type": "execute_result",
          "data": {
            "text/plain": [
              "90"
            ]
          },
          "metadata": {
            "tags": []
          },
          "execution_count": 29
        }
      ]
    },
    {
      "cell_type": "code",
      "metadata": {
        "id": "D0lfoNygy0i0",
        "colab": {
          "base_uri": "https://localhost:8080/"
        },
        "outputId": "c5c74829-6441-4bfe-ed8e-4a9f69d07a96"
      },
      "source": [
        "milk = make_system(T_init=5, r=r_milk, volume=50, t_end=30)\n",
        "milk.temp"
      ],
      "execution_count": 30,
      "outputs": [
        {
          "output_type": "execute_result",
          "data": {
            "text/plain": [
              "5"
            ]
          },
          "metadata": {
            "tags": []
          },
          "execution_count": 30
        }
      ]
    },
    {
      "cell_type": "code",
      "metadata": {
        "id": "EHZ54_2Uy0i3",
        "colab": {
          "base_uri": "https://localhost:8080/"
        },
        "outputId": "67f97d58-4db1-4d79-b503-9598ed6eb54f"
      },
      "source": [
        "mix_first = mix(coffee, milk)\n",
        "mix_first.temp"
      ],
      "execution_count": 31,
      "outputs": [
        {
          "output_type": "execute_result",
          "data": {
            "text/plain": [
              "77.85714285714286"
            ]
          },
          "metadata": {
            "tags": []
          },
          "execution_count": 31
        }
      ]
    },
    {
      "cell_type": "code",
      "metadata": {
        "id": "qLfphtIey0i4",
        "colab": {
          "base_uri": "https://localhost:8080/"
        },
        "outputId": "56a6c67f-54b2-47a5-d8c0-f754ee8cfda0"
      },
      "source": [
        "mix_results = run_and_set(mix_first)\n",
        "mix_first.temp"
      ],
      "execution_count": 32,
      "outputs": [
        {
          "output_type": "execute_result",
          "data": {
            "text/plain": [
              "61.4285713124277"
            ]
          },
          "metadata": {
            "tags": []
          },
          "execution_count": 32
        }
      ]
    },
    {
      "cell_type": "markdown",
      "metadata": {
        "id": "ReuzrWsCy0i5"
      },
      "source": [
        "## Mixing at the end\n",
        "\n",
        "First we'll see what happens if we add the milk at the end.  We'll simulate the coffee and the milk separately."
      ]
    },
    {
      "cell_type": "code",
      "metadata": {
        "id": "lstZvkiky0i6",
        "colab": {
          "base_uri": "https://localhost:8080/"
        },
        "outputId": "254c9fa6-796a-4906-d90c-6fb933187036"
      },
      "source": [
        "coffee_results = run_and_set(coffee)\n",
        "coffee.temp"
      ],
      "execution_count": 33,
      "outputs": [
        {
          "output_type": "execute_result",
          "data": {
            "text/plain": [
              "69.99999985860761"
            ]
          },
          "metadata": {
            "tags": []
          },
          "execution_count": 33
        }
      ]
    },
    {
      "cell_type": "code",
      "metadata": {
        "id": "O5h6sdMly0i7",
        "colab": {
          "base_uri": "https://localhost:8080/"
        },
        "outputId": "b15ce079-3e15-40aa-e320-09e728d38fc9"
      },
      "source": [
        "milk_results = run_and_set(milk)\n",
        "milk.temp"
      ],
      "execution_count": 34,
      "outputs": [
        {
          "output_type": "execute_result",
          "data": {
            "text/plain": [
              "21.76470589082862"
            ]
          },
          "metadata": {
            "tags": []
          },
          "execution_count": 34
        }
      ]
    },
    {
      "cell_type": "markdown",
      "metadata": {
        "id": "28Y_ixPCy0i7"
      },
      "source": [
        "Here's what the results look like."
      ]
    },
    {
      "cell_type": "code",
      "metadata": {
        "id": "ZvZVn9fEy0i8",
        "colab": {
          "base_uri": "https://localhost:8080/",
          "height": 297
        },
        "outputId": "0afbedc3-5017-43d6-df5a-d624452fa5ec"
      },
      "source": [
        "plot(coffee_results.T, label='coffee')\n",
        "plot(milk_results.T, '--', label='milk')\n",
        "\n",
        "decorate(xlabel='Time (minutes)',\n",
        "         ylabel='Temperature (C)',\n",
        "         loc='center left')\n",
        "\n"
      ],
      "execution_count": 35,
      "outputs": [
        {
          "output_type": "display_data",
          "data": {
            "image/png": "[encoded data removed]",
            "text/plain": [
              "<Figure size 432x288 with 1 Axes>"
            ]
          },
          "metadata": {
            "tags": [],
            "needs_background": "light"
          }
        }
      ]
    },
    {
      "cell_type": "markdown",
      "metadata": {
        "id": "EbVu1ZRiy0i9"
      },
      "source": [
        "Here's what happens when we mix them."
      ]
    },
    {
      "cell_type": "code",
      "metadata": {
        "id": "sMszW-vdy0i-",
        "colab": {
          "base_uri": "https://localhost:8080/"
        },
        "outputId": "1778fa21-dec5-4393-93fb-19ef2bcfe34d"
      },
      "source": [
        "mix_last = mix(coffee, milk)\n",
        "mix_last.temp"
      ],
      "execution_count": 36,
      "outputs": [
        {
          "output_type": "execute_result",
          "data": {
            "text/plain": [
              "63.10924357749633"
            ]
          },
          "metadata": {
            "tags": []
          },
          "execution_count": 36
        }
      ]
    },
    {
      "cell_type": "code",
      "metadata": {
        "id": "pWdhM5jTy0i-",
        "colab": {
          "base_uri": "https://localhost:8080/"
        },
        "outputId": "9247199a-67eb-4b60-e2c8-ffe0de976e07"
      },
      "source": [
        "mix_last.temp - mix_first.temp"
      ],
      "execution_count": 37,
      "outputs": [
        {
          "output_type": "execute_result",
          "data": {
            "text/plain": [
              "1.6806722650686297"
            ]
          },
          "metadata": {
            "tags": []
          },
          "execution_count": 37
        }
      ]
    },
    {
      "cell_type": "markdown",
      "metadata": {
        "id": "wUv7tmx7y0i_"
      },
      "source": [
        "The following function takes `t_add`, which is the time when the milk is added, and returns the final temperature."
      ]
    },
    {
      "cell_type": "code",
      "metadata": {
        "id": "LRKerGpYy0i_"
      },
      "source": [
        "def run_and_mix(t_add, t_total):\n",
        "    \"\"\"Simulates two liquids and them mixes them at t_add.\n",
        "    \n",
        "    t_add: time in minutes\n",
        "    t_total: total time to simulate, min\n",
        "    \n",
        "    returns: final temperature\n",
        "    \"\"\"\n",
        "    coffee = make_system(T_init=90, r=r_coffee, volume=300, t_end=t_add)\n",
        "    coffee_results = run_and_set(coffee)\n",
        "    \n",
        "    milk = make_system(T_init=5, r=r_milk, volume=50, t_end=t_add)\n",
        "    milk_results = run_and_set(milk)\n",
        "    \n",
        "    mixture = mix(coffee, milk)\n",
        "    mixture.t_end = t_total - t_add\n",
        "    results = run_and_set(mixture)\n",
        "\n",
        "    return mixture.temp"
      ],
      "execution_count": 38,
      "outputs": []
    },
    {
      "cell_type": "markdown",
      "metadata": {
        "id": "ceG5WfJ4y0jA"
      },
      "source": [
        "We can try it out with a few values."
      ]
    },
    {
      "cell_type": "code",
      "metadata": {
        "id": "i8k-do48y0jB",
        "colab": {
          "base_uri": "https://localhost:8080/"
        },
        "outputId": "6f1399b6-7be1-4a7e-96f5-1dcdadf444fc"
      },
      "source": [
        "run_and_mix(t_add=0, t_total=30)"
      ],
      "execution_count": 39,
      "outputs": [
        {
          "output_type": "execute_result",
          "data": {
            "text/plain": [
              "61.4285713124277"
            ]
          },
          "metadata": {
            "tags": []
          },
          "execution_count": 39
        }
      ]
    },
    {
      "cell_type": "code",
      "metadata": {
        "id": "VamVIzwTy0jC",
        "colab": {
          "base_uri": "https://localhost:8080/"
        },
        "outputId": "d2b266d1-ab88-4f3f-8610-1690a07fab21"
      },
      "source": [
        "run_and_mix(t_add=15, t_total=30)"
      ],
      "execution_count": 40,
      "outputs": [
        {
          "output_type": "execute_result",
          "data": {
            "text/plain": [
              "62.9028090119359"
            ]
          },
          "metadata": {
            "tags": []
          },
          "execution_count": 40
        }
      ]
    },
    {
      "cell_type": "code",
      "metadata": {
        "id": "rajI7S3Fy0jC",
        "colab": {
          "base_uri": "https://localhost:8080/"
        },
        "outputId": "e01354b3-a7f4-40ee-b75f-97dbaeac5b91"
      },
      "source": [
        "run_and_mix(t_add=30, t_total=30)"
      ],
      "execution_count": 41,
      "outputs": [
        {
          "output_type": "execute_result",
          "data": {
            "text/plain": [
              "63.10924357749633"
            ]
          },
          "metadata": {
            "tags": []
          },
          "execution_count": 41
        }
      ]
    },
    {
      "cell_type": "markdown",
      "metadata": {
        "id": "Dcrrx5twy0jD"
      },
      "source": [
        "And then sweep a range of values for `t_add`"
      ]
    },
    {
      "cell_type": "code",
      "metadata": {
        "id": "4RxFD2Ffy0jE"
      },
      "source": [
        "sweep = SweepSeries()\n",
        "for t_add in linspace(0, 30, 11):\n",
        "    sweep[t_add] = run_and_mix(t_add, 30)"
      ],
      "execution_count": 42,
      "outputs": []
    },
    {
      "cell_type": "markdown",
      "metadata": {
        "id": "yHDkywkdy0jF"
      },
      "source": [
        "Here's what the result looks like."
      ]
    },
    {
      "cell_type": "code",
      "metadata": {
        "id": "oWBO2jiQy0jG",
        "colab": {
          "base_uri": "https://localhost:8080/",
          "height": 297
        },
        "outputId": "e5b17aac-2473-4f26-da9b-788f92ebbb84"
      },
      "source": [
        "plot(sweep, label='final temp', color='C2')\n",
        "decorate(xlabel='Time added (min)',\n",
        "         ylabel='Final temperature (C)')\n",
        "\n"
      ],
      "execution_count": 43,
      "outputs": [
        {
          "output_type": "display_data",
          "data": {
            "image/png": "[encoded data removed]",
            "text/plain": [
              "<Figure size 432x288 with 1 Axes>"
            ]
          },
          "metadata": {
            "tags": [],
            "needs_background": "light"
          }
        }
      ]
    },
    {
      "cell_type": "markdown",
      "metadata": {
        "id": "3VAVI32Hy0jH"
      },
      "source": [
        "### Analysis"
      ]
    },
    {
      "cell_type": "markdown",
      "metadata": {
        "id": "eEgvaXxFy0jI"
      },
      "source": [
        "Now we can use the analytic result to compute temperature as a function of time.  The following function is similar to `run_simulation`."
      ]
    },
    {
      "cell_type": "code",
      "metadata": {
        "id": "NCkn7cMgy0jJ"
      },
      "source": [
        "def run_analysis(system):\n",
        "    \"\"\"Computes temperature using the analytic solution.\n",
        "        \n",
        "    system: System object\n",
        "    \n",
        "    returns: TimeFrame\n",
        "    \"\"\"\n",
        "    T_env, r = system.T_env, system.r\n",
        "    \n",
        "    T_init = system.init.T    \n",
        "    ts = linspace(0, system.t_end)\n",
        "    \n",
        "    T_array = T_env + (T_init - T_env) * exp(-r * ts)\n",
        "    \n",
        "    # to be consistent with run_simulation,\n",
        "    # we put the array into a TimeFrame\n",
        "    return TimeFrame(T_array, index=ts, columns=['T'])"
      ],
      "execution_count": 44,
      "outputs": []
    },
    {
      "cell_type": "markdown",
      "metadata": {
        "id": "bEOUJUb8y0jK"
      },
      "source": [
        "Here's how we run it.  From the analysis (see `chap16sympy.ipynb`), we have the computed value of `r_coffee2`"
      ]
    },
    {
      "cell_type": "code",
      "metadata": {
        "id": "XhHzryYVy0jL"
      },
      "source": [
        "r_coffee2 = 0.011610223142273859\n",
        "coffee2 = make_system(T_init=90, r=r_coffee2, volume=300, t_end=30)"
      ],
      "execution_count": 45,
      "outputs": []
    },
    {
      "cell_type": "code",
      "metadata": {
        "id": "Hl_lEtEhy0jL"
      },
      "source": [
        "results = run_analysis(coffee2)\n",
        "T_final_analysis = get_last_value(results.T)"
      ],
      "execution_count": 46,
      "outputs": []
    },
    {
      "cell_type": "markdown",
      "metadata": {
        "id": "QOchAgory0jM"
      },
      "source": [
        "And we can compare to the results from simulation."
      ]
    },
    {
      "cell_type": "code",
      "metadata": {
        "id": "KD9A5hK4y0jN"
      },
      "source": [
        "coffee = make_system(T_init=90, r=r_coffee, volume=300, t_end=30)\n",
        "results = run_simulation(coffee, update_func)\n",
        "T_final_simulation = get_last_value(results.T)"
      ],
      "execution_count": 47,
      "outputs": []
    },
    {
      "cell_type": "markdown",
      "metadata": {
        "id": "2NuQcRYFy0jN"
      },
      "source": [
        "They are identical except for a small roundoff error."
      ]
    },
    {
      "cell_type": "code",
      "metadata": {
        "id": "kCmZzTlUy0jO",
        "colab": {
          "base_uri": "https://localhost:8080/"
        },
        "outputId": "5a51197f-d343-466b-dc78-35e296ef7762"
      },
      "source": [
        "T_final_analysis - T_final_simulation"
      ],
      "execution_count": 48,
      "outputs": [
        {
          "output_type": "execute_result",
          "data": {
            "text/plain": [
              "1.4139239112864743e-07"
            ]
          },
          "metadata": {
            "tags": []
          },
          "execution_count": 48
        }
      ]
    },
    {
      "cell_type": "markdown",
      "metadata": {
        "id": "DWchhBCMy0jP"
      },
      "source": [
        "## Exercises\n",
        "\n",
        "**Exercise:**  Suppose the coffee shop won't let me take milk in a separate container, but I keep a bottle of milk in the refrigerator at my office.  In that case is it better to add the milk at the coffee shop, or wait until I get to the office?\n",
        "\n",
        "Hint: Think about the simplest way to represent the behavior of a refrigerator in this model.  The change you make to test this variation of the problem should be very small!"
      ]
    },
    {
      "cell_type": "markdown",
      "metadata": {
        "id": "1V3OOVf4d8xY"
      },
      "source": [
        "1st attempt-\n",
        "My first attempt which is the easiest way to account for milk that comes right out of the fridge would be to change the temperature `T_init` of the milk. 37F which is about 2.7C would be the temperature to change in `run_and_mix` and is as the hint suggests a very small adjustment. \n",
        "\n",
        "https://www.realsimple.com/food-recipes/shopping-storing/food/milk-storage-mistake#:~:text=Keep%20milk%20stored%20at%20the,begin%20to%20grow%20and%20multiply."
      ]
    },
    {
      "cell_type": "code",
      "metadata": {
        "id": "C7XwXBGajX3U"
      },
      "source": [
        "def mix(system1, system2):\n",
        "    \"\"\"Simulates the mixture of two liquids.\n",
        "    \n",
        "    system1: System representing coffee\n",
        "    system2: System representing milk\n",
        "    \n",
        "    returns: System representing the mixture\n",
        "    \"\"\"\n",
        "    assert system1.t_end == system2.t_end\n",
        "    \n",
        "    V1, V2 = system1.volume, system2.volume\n",
        "    T1, T2 = system1.temp, system2.temp\n",
        "    \n",
        "    V_mix = V1 + V2\n",
        "    T_mix = (V1 * T1 + V2 * T2) / V_mix\n",
        "    \n",
        "    return make_system(T_init=T_mix,\n",
        "                       r=system1.r,\n",
        "                       volume=V_mix,\n",
        "                       t_end=30)"
      ],
      "execution_count": 49,
      "outputs": []
    },
    {
      "cell_type": "code",
      "metadata": {
        "id": "Q6RP3uurd52V"
      },
      "source": [
        "# Solution goes here\n",
        "def run_and_mix(t_add, t_total):\n",
        "    \"\"\"Simulates two liquids and them mixes them at t_add.\n",
        "    \n",
        "    t_add: time in minutes\n",
        "    t_total: total time to simulate, min\n",
        "    t_end: end time of simulation\n",
        "    \n",
        "    returns: final temperature\n",
        "    \"\"\"\n",
        "\n",
        "    coffee = make_system(T_init=90, r=r_coffee, volume=300, t_end= t_add)\n",
        "    coffee_results = run_and_set(coffee)\n",
        "    \n",
        "    milk = make_system(T_init= 2.7, r=r_milk, volume=50, t_end=t_add)\n",
        "    milk_results = run_and_set(milk)\n",
        "    \n",
        "    mixture = mix(coffee, milk)\n",
        "    mixture.t_end = t_total - t_add\n",
        "    results = run_and_set(mixture)\n",
        "\n",
        "    return mixture.temp"
      ],
      "execution_count": 50,
      "outputs": []
    },
    {
      "cell_type": "code",
      "metadata": {
        "colab": {
          "base_uri": "https://localhost:8080/"
        },
        "id": "lVg3lsgzjIi6",
        "outputId": "16e3e99f-c319-42b2-deda-15b4aa4c5b65"
      },
      "source": [
        "run_and_mix(t_add=15, t_total=30)"
      ],
      "execution_count": 51,
      "outputs": [
        {
          "output_type": "execute_result",
          "data": {
            "text/plain": [
              "62.87033192826685"
            ]
          },
          "metadata": {
            "tags": []
          },
          "execution_count": 51
        }
      ]
    },
    {
      "cell_type": "markdown",
      "metadata": {
        "id": "pGvadu5Ne1ZC"
      },
      "source": [
        "2nd attempt- My second attempt is as a result of me thinking more about the problem and probably goes beyond the hint's suggestion. The second attempt includes a manipulation of the `t_end` variables for milk and coffee in `run_and_mix` which also requires an edit to the `mix` function. \n",
        "This could potentially be a better way of accounting for adding refrigerated milk after getting to work because there is a time element to account for from getting the coffee at the shop and then adding the milk once you get to work. In the time the coffee leaves the store, it is already entering the cooling process.\n"
      ]
    },
    {
      "cell_type": "code",
      "metadata": {
        "id": "P9FF3LyQ9zzn"
      },
      "source": [
        "def mix(system1, system2):\n",
        "    \"\"\"Simulates the mixture of two liquids.\n",
        "    \n",
        "    system1: System representing coffee\n",
        "    system2: System representing milk\n",
        "    \n",
        "    returns: System representing the mixture\n",
        "    \"\"\"\n",
        "    #assert system1.t_end == system2.t_end\n",
        "    \n",
        "    V1, V2 = system1.volume, system2.volume\n",
        "    T1, T2 = system1.temp, system2.temp\n",
        "    \n",
        "    V_mix = V1 + V2\n",
        "    T_mix = (V1 * T1 + V2 * T2) / V_mix\n",
        "    \n",
        "    return make_system(T_init=T_mix,\n",
        "                       r=system1.r,\n",
        "                       volume=V_mix,\n",
        "                       t_end=30)"
      ],
      "execution_count": 52,
      "outputs": []
    },
    {
      "cell_type": "code",
      "metadata": {
        "id": "ALtdjf1Dy0jQ"
      },
      "source": [
        "# Solution goes here\n",
        "def run_and_mix(t_add, t_total):\n",
        "    \"\"\"Simulates two liquids and them mixes them at t_add.\n",
        "    \n",
        "    t_add: time in minutes\n",
        "    t_total: total time to simulate, min\n",
        "    t_end: end time of simulation\n",
        "    \n",
        "    returns: final temperature\n",
        "    \"\"\"\n",
        "\n",
        "    coffee = make_system(T_init=90, r=r_coffee, volume=300, t_end= t_total)\n",
        "    coffee_results = run_and_set(coffee)\n",
        "    \n",
        "    milk = make_system(T_init=5, r=r_milk, volume=50, t_end=t_add)\n",
        "    milk_results = run_and_set(milk)\n",
        "    \n",
        "    mixture = mix(coffee, milk)\n",
        "    mixture.t_end = t_total - t_add\n",
        "    results = run_and_set(mixture)\n",
        "\n",
        "    return mixture.temp"
      ],
      "execution_count": 53,
      "outputs": []
    },
    {
      "cell_type": "code",
      "metadata": {
        "id": "2SkQ8t7my0jR",
        "colab": {
          "base_uri": "https://localhost:8080/"
        },
        "outputId": "e2b4ca33-9005-494d-8df7-1819adeb3881"
      },
      "source": [
        "run_and_mix(t_add=15, t_total=30)"
      ],
      "execution_count": 54,
      "outputs": [
        {
          "output_type": "execute_result",
          "data": {
            "text/plain": [
              "56.32686591182933"
            ]
          },
          "metadata": {
            "tags": []
          },
          "execution_count": 54
        }
      ]
    }
  ]
}