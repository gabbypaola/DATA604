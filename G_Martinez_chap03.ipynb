{
  "nbformat": 4,
  "nbformat_minor": 0,
  "metadata": {
    "kernelspec": {
      "display_name": "Python 3",
      "language": "python",
      "name": "python3"
    },
    "language_info": {
      "codemirror_mode": {
        "name": "ipython",
        "version": 3
      },
      "file_extension": ".py",
      "mimetype": "text/x-python",
      "name": "python",
      "nbconvert_exporter": "python",
      "pygments_lexer": "ipython3",
      "version": "3.7.9"
    },
    "colab": {
      "name": "G_Martinez_chap03.ipynb",
      "provenance": [],
      "collapsed_sections": [],
      "include_colab_link": true
    }
  },
  "cells": [
    {
      "cell_type": "markdown",
      "metadata": {
        "id": "view-in-github",
        "colab_type": "text"
      },
      "source": [
        "<a href=\"https://colab.research.google.com/github/gabbypaola/DATA604/blob/main/G_Martinez_chap03.ipynb\" target=\"_parent\"><img src=\"https://colab.research.google.com/assets/colab-badge.svg\" alt=\"Open In Colab\"/></a>"
      ]
    },
    {
      "cell_type": "markdown",
      "metadata": {
        "id": "8khhmz-sRCWO"
      },
      "source": [
        "# Chapter 3"
      ]
    },
    {
      "cell_type": "markdown",
      "metadata": {
        "tags": [],
        "id": "WEo3HTnTRCWZ"
      },
      "source": [
        "*Modeling and Simulation in Python*\n",
        "\n",
        "Copyright 2021 Allen Downey\n",
        "\n",
        "License: [Creative Commons Attribution-NonCommercial-ShareAlike 4.0 International](https://creativecommons.org/licenses/by-nc-sa/4.0/)"
      ]
    },
    {
      "cell_type": "code",
      "metadata": {
        "tags": [],
        "id": "VafPmFuFRCWb"
      },
      "source": [
        "# check if the libraries we need are installed\n",
        "\n",
        "try:\n",
        "    import pint\n",
        "except ImportError:\n",
        "    !pip install pint\n",
        "    import pint\n",
        "    \n",
        "try:\n",
        "    from modsim import *\n",
        "except ImportError:\n",
        "    !pip install modsimpy\n",
        "    from modsim import *"
      ],
      "execution_count": 1,
      "outputs": []
    },
    {
      "cell_type": "markdown",
      "metadata": {
        "id": "ZLrLL8amRCWe"
      },
      "source": [
        "## More than one State object\n",
        "\n",
        "Here's the code from the previous chapter, with two changes:\n",
        "\n",
        "1. I've added DocStrings that explain what each function does, and what parameters it takes.\n",
        "\n",
        "2. I've added a parameter named `state` to the functions so they work with whatever `State` object we give them, instead of always using `bikeshare`.  That makes it possible to work with more than one `State` object."
      ]
    },
    {
      "cell_type": "code",
      "metadata": {
        "id": "Knt4nQjCRCWg"
      },
      "source": [
        "def step(state, p1, p2):\n",
        "    \"\"\"Simulate one minute of time.\n",
        "    \n",
        "    state: bikeshare State object\n",
        "    p1: probability of an Olin->Wellesley customer arrival\n",
        "    p2: probability of a Wellesley->Olin customer arrival\n",
        "    \"\"\"\n",
        "    if flip(p1):\n",
        "        bike_to_wellesley(state)\n",
        "    \n",
        "    if flip(p2):\n",
        "        bike_to_olin(state)\n",
        "        \n",
        "def bike_to_wellesley(state):\n",
        "    \"\"\"Move one bike from Olin to Wellesley.\n",
        "    \n",
        "    state: bikeshare State object\n",
        "    \"\"\"\n",
        "    state.olin -= 1\n",
        "    state.wellesley += 1\n",
        "    \n",
        "def bike_to_olin(state):\n",
        "    \"\"\"Move one bike from Wellesley to Olin.\n",
        "    \n",
        "    state: bikeshare State object\n",
        "    \"\"\"\n",
        "    state.wellesley -= 1\n",
        "    state.olin += 1\n",
        "    \n",
        "def decorate_bikeshare():\n",
        "    \"\"\"Add a title and label the axes.\"\"\"\n",
        "    decorate(title='Olin-Wellesley Bikeshare',\n",
        "             xlabel='Time step (min)', \n",
        "             ylabel='Number of bikes')"
      ],
      "execution_count": 2,
      "outputs": []
    },
    {
      "cell_type": "markdown",
      "metadata": {
        "id": "juzKOO0xRCWj"
      },
      "source": [
        "And here's `run_simulation`, which is a solution to the exercise at the end of the previous notebook."
      ]
    },
    {
      "cell_type": "code",
      "metadata": {
        "id": "vikg7PG8RCWn"
      },
      "source": [
        "def run_simulation(state, p1, p2, num_steps):\n",
        "    \"\"\"Simulate the given number of time steps.\n",
        "    \n",
        "    state: State object\n",
        "    p1: probability of an Olin->Wellesley customer arrival\n",
        "    p2: probability of a Wellesley->Olin customer arrival\n",
        "    num_steps: number of time steps\n",
        "    \"\"\"\n",
        "    results = TimeSeries()    \n",
        "    for i in range(num_steps):\n",
        "        step(state, p1, p2)\n",
        "        results[i] = state.olin\n",
        "        \n",
        "    plot(results, label='Olin')"
      ],
      "execution_count": 3,
      "outputs": []
    },
    {
      "cell_type": "code",
      "metadata": {
        "id": "Vw8YaQhfr41q"
      },
      "source": [
        "#bikeshare = State(olin=10, wellesley=2)\n",
        "#run_simulation(bikeshare, .4, .3, 10)"
      ],
      "execution_count": 4,
      "outputs": []
    },
    {
      "cell_type": "markdown",
      "metadata": {
        "id": "sY86pABJRCWp"
      },
      "source": [
        "Now we can create more than one `State` object:"
      ]
    },
    {
      "cell_type": "code",
      "metadata": {
        "id": "sSTWjbtQRCWr",
        "colab": {
          "base_uri": "https://localhost:8080/",
          "height": 271
        },
        "outputId": "c0c4a669-6d34-415f-8375-2fe77fa8a96c"
      },
      "source": [
        "bikeshare1 = State(olin=10, wellesley=2)\n",
        "run_simulation(bikeshare1, .4, .3, 10)"
      ],
      "execution_count": 5,
      "outputs": [
        {
          "output_type": "display_data",
          "data": {
            "image/png": "[encoded data removed]",
            "text/plain": [
              "<Figure size 432x288 with 1 Axes>"
            ]
          },
          "metadata": {
            "tags": [],
            "needs_background": "light"
          }
        }
      ]
    },
    {
      "cell_type": "code",
      "metadata": {
        "id": "lCwcQ-ZIRCWs",
        "colab": {
          "base_uri": "https://localhost:8080/",
          "height": 271
        },
        "outputId": "801ede2b-b7d8-4f3e-8836-ab21325fb0ce"
      },
      "source": [
        "bikeshare2 = State(olin=2, wellesley=10)\n",
        "run_simulation(bikeshare2, .4, .3, 10)"
      ],
      "execution_count": 6,
      "outputs": [
        {
          "output_type": "display_data",
          "data": {
            "image/png": "[encoded data removed]",
            "text/plain": [
              "<Figure size 432x288 with 1 Axes>"
            ]
          },
          "metadata": {
            "tags": [],
            "needs_background": "light"
          }
        }
      ]
    },
    {
      "cell_type": "markdown",
      "metadata": {
        "id": "bt1lOqcCRCWu"
      },
      "source": [
        "Whenever we call a function, we indicate which `State` object to work with:"
      ]
    },
    {
      "cell_type": "code",
      "metadata": {
        "id": "o_TnloxVRCWv"
      },
      "source": [
        "bike_to_olin(bikeshare1)"
      ],
      "execution_count": 7,
      "outputs": []
    },
    {
      "cell_type": "code",
      "metadata": {
        "id": "_sHxOvSERCWx"
      },
      "source": [
        "bike_to_wellesley(bikeshare2)"
      ],
      "execution_count": 8,
      "outputs": []
    },
    {
      "cell_type": "markdown",
      "metadata": {
        "id": "2Js5SwjbRCWy"
      },
      "source": [
        "And you can confirm that the different objects are getting updated independently:"
      ]
    },
    {
      "cell_type": "code",
      "metadata": {
        "id": "OXMzSJlnRCW0",
        "colab": {
          "base_uri": "https://localhost:8080/",
          "height": 112
        },
        "outputId": "d5c7ca50-47b7-44ac-e734-da9bdb1e4097"
      },
      "source": [
        "bikeshare1"
      ],
      "execution_count": 9,
      "outputs": [
        {
          "output_type": "execute_result",
          "data": {
            "text/html": [
              "<div>\n",
              "<style scoped>\n",
              "    .dataframe tbody tr th:only-of-type {\n",
              "        vertical-align: middle;\n",
              "    }\n",
              "\n",
              "    .dataframe tbody tr th {\n",
              "        vertical-align: top;\n",
              "    }\n",
              "\n",
              "    .dataframe thead th {\n",
              "        text-align: right;\n",
              "    }\n",
              "</style>\n",
              "<table border=\"1\" class=\"dataframe\">\n",
              "  <thead>\n",
              "    <tr style=\"text-align: right;\">\n",
              "      <th></th>\n",
              "      <th>values</th>\n",
              "    </tr>\n",
              "  </thead>\n",
              "  <tbody>\n",
              "    <tr>\n",
              "      <th>olin</th>\n",
              "      <td>11</td>\n",
              "    </tr>\n",
              "    <tr>\n",
              "      <th>wellesley</th>\n",
              "      <td>1</td>\n",
              "    </tr>\n",
              "  </tbody>\n",
              "</table>\n",
              "</div>"
            ],
            "text/plain": [
              "olin         11\n",
              "wellesley     1\n",
              "dtype: int64"
            ]
          },
          "metadata": {
            "tags": []
          },
          "execution_count": 9
        }
      ]
    },
    {
      "cell_type": "code",
      "metadata": {
        "id": "SNSyHlKmRCW1",
        "colab": {
          "base_uri": "https://localhost:8080/",
          "height": 112
        },
        "outputId": "f8d43762-ad4a-4757-d06c-8c7aafd47e94"
      },
      "source": [
        "bikeshare2"
      ],
      "execution_count": 10,
      "outputs": [
        {
          "output_type": "execute_result",
          "data": {
            "text/html": [
              "<div>\n",
              "<style scoped>\n",
              "    .dataframe tbody tr th:only-of-type {\n",
              "        vertical-align: middle;\n",
              "    }\n",
              "\n",
              "    .dataframe tbody tr th {\n",
              "        vertical-align: top;\n",
              "    }\n",
              "\n",
              "    .dataframe thead th {\n",
              "        text-align: right;\n",
              "    }\n",
              "</style>\n",
              "<table border=\"1\" class=\"dataframe\">\n",
              "  <thead>\n",
              "    <tr style=\"text-align: right;\">\n",
              "      <th></th>\n",
              "      <th>values</th>\n",
              "    </tr>\n",
              "  </thead>\n",
              "  <tbody>\n",
              "    <tr>\n",
              "      <th>olin</th>\n",
              "      <td>-1</td>\n",
              "    </tr>\n",
              "    <tr>\n",
              "      <th>wellesley</th>\n",
              "      <td>13</td>\n",
              "    </tr>\n",
              "  </tbody>\n",
              "</table>\n",
              "</div>"
            ],
            "text/plain": [
              "olin         -1\n",
              "wellesley    13\n",
              "dtype: int64"
            ]
          },
          "metadata": {
            "tags": []
          },
          "execution_count": 10
        }
      ]
    },
    {
      "cell_type": "markdown",
      "metadata": {
        "id": "bomMso4ARCW2"
      },
      "source": [
        "## Negative bikes"
      ]
    },
    {
      "cell_type": "markdown",
      "metadata": {
        "id": "Ysue_GDsRCW3"
      },
      "source": [
        "In the code we have so far, the number of bikes at one of the locations can go negative, and the number of bikes at the other location can exceed the actual number of bikes in the system.\n",
        "\n",
        "If you run this simulation a few times, it happens often."
      ]
    },
    {
      "cell_type": "code",
      "metadata": {
        "id": "NlXjQDlMRCW4",
        "colab": {
          "base_uri": "https://localhost:8080/",
          "height": 297
        },
        "outputId": "7ac7a9af-2655-479a-a917-1c20688f7af4"
      },
      "source": [
        "bikeshare = State(olin=10, wellesley=2) #defines state variable\n",
        "run_simulation(bikeshare, 0.4, 0.2, 60) #state= bikeshare, p1=.4, p1=.2, step=60\n",
        "decorate_bikeshare() #adds lables to plot output from run_simulation"
      ],
      "execution_count": 11,
      "outputs": [
        {
          "output_type": "display_data",
          "data": {
            "image/png": "[encoded data removed]",
            "text/plain": [
              "<Figure size 432x288 with 1 Axes>"
            ]
          },
          "metadata": {
            "tags": [],
            "needs_background": "light"
          }
        }
      ]
    },
    {
      "cell_type": "markdown",
      "metadata": {
        "id": "7K9I2MW7RCW6"
      },
      "source": [
        "We can fix this problem using the `return` statement to exit the function early if an update would cause negative bikes."
      ]
    },
    {
      "cell_type": "code",
      "metadata": {
        "id": "9TLD1puBRCW7"
      },
      "source": [
        "def bike_to_wellesley(state):\n",
        "    \"\"\"Move one bike from Olin to Wellesley.\n",
        "    \n",
        "    state: bikeshare State object\n",
        "    \"\"\"\n",
        "    if state.olin == 0:\n",
        "        return\n",
        "    state.olin -= 1\n",
        "    state.wellesley += 1\n",
        "    \n",
        "def bike_to_olin(state):\n",
        "    \"\"\"Move one bike from Wellesley to Olin.\n",
        "    \n",
        "    state: bikeshare State object\n",
        "    \"\"\"\n",
        "    if state.wellesley == 0:\n",
        "        return\n",
        "    state.wellesley -= 1\n",
        "    state.olin += 1"
      ],
      "execution_count": 12,
      "outputs": []
    },
    {
      "cell_type": "markdown",
      "metadata": {
        "id": "U5uvKHt0RCW8"
      },
      "source": [
        "Now if you run the simulation again, it should behave."
      ]
    },
    {
      "cell_type": "code",
      "metadata": {
        "id": "cLNScG1SRCW9",
        "colab": {
          "base_uri": "https://localhost:8080/",
          "height": 297
        },
        "outputId": "d99b1612-c71e-46fb-8289-b31ac5d0f5b7"
      },
      "source": [
        "bikeshare = State(olin=10, wellesley=2)\n",
        "run_simulation(bikeshare, 0.4, 0.2, 60)\n",
        "decorate_bikeshare()"
      ],
      "execution_count": 13,
      "outputs": [
        {
          "output_type": "display_data",
          "data": {
            "image/png": "[encoded data removed]",
            "text/plain": [
              "<Figure size 432x288 with 1 Axes>"
            ]
          },
          "metadata": {
            "tags": [],
            "needs_background": "light"
          }
        }
      ]
    },
    {
      "cell_type": "markdown",
      "metadata": {
        "id": "4QlKM5-jRCW-"
      },
      "source": [
        "## Comparison operators"
      ]
    },
    {
      "cell_type": "markdown",
      "metadata": {
        "id": "m4C5Fnu9RCW_"
      },
      "source": [
        "The `if` statements in the previous section used the comparison operator `==`.  The other comparison operators are listed in the book.\n",
        "\n",
        "It is easy to confuse the comparison operator `==` with the assignment operator `=`.\n",
        "\n",
        "Remember that `=` creates a variable or gives an existing variable a new value."
      ]
    },
    {
      "cell_type": "code",
      "metadata": {
        "id": "VClwnTbLRCXA"
      },
      "source": [
        "x = 5"
      ],
      "execution_count": 14,
      "outputs": []
    },
    {
      "cell_type": "markdown",
      "metadata": {
        "id": "y4swziYZRCXB"
      },
      "source": [
        "Whereas `==` compares two values and returns `True` if they are equal."
      ]
    },
    {
      "cell_type": "code",
      "metadata": {
        "id": "5_5LwD1NRCXC",
        "colab": {
          "base_uri": "https://localhost:8080/"
        },
        "outputId": "d4a99790-4a5c-4176-f754-a06479b518b0"
      },
      "source": [
        "x == 5"
      ],
      "execution_count": 15,
      "outputs": [
        {
          "output_type": "execute_result",
          "data": {
            "text/plain": [
              "True"
            ]
          },
          "metadata": {
            "tags": []
          },
          "execution_count": 15
        }
      ]
    },
    {
      "cell_type": "markdown",
      "metadata": {
        "id": "YHGOsLe2RCXD"
      },
      "source": [
        "You can use `==` in an `if` statement."
      ]
    },
    {
      "cell_type": "code",
      "metadata": {
        "id": "janmeRYkRCXE",
        "colab": {
          "base_uri": "https://localhost:8080/"
        },
        "outputId": "4fbfc517-94e0-4568-a99f-74936699f5a3"
      },
      "source": [
        "if x == 5:\n",
        "    print('yes, x is 5')"
      ],
      "execution_count": 16,
      "outputs": [
        {
          "output_type": "stream",
          "text": [
            "yes, x is 5\n"
          ],
          "name": "stdout"
        }
      ]
    },
    {
      "cell_type": "markdown",
      "metadata": {
        "id": "h0hDX-5cRCXG"
      },
      "source": [
        "But if you use `=` in an `if` statement, you get an error."
      ]
    },
    {
      "cell_type": "code",
      "metadata": {
        "id": "KOEESW13RCXH"
      },
      "source": [
        "# If you remove the # from the if statement and run it, you'll get\n",
        "# SyntaxError: invalid syntax\n",
        "\n",
        "#if x = 5:\n",
        "#    print('yes, x is 5')"
      ],
      "execution_count": 17,
      "outputs": []
    },
    {
      "cell_type": "markdown",
      "metadata": {
        "id": "OCH0boRnRCXI"
      },
      "source": [
        "**Exercise:** Add an `else` clause to the `if` statement above, and print an appropriate message.\n",
        "\n",
        "Replace the `==` operator with one or two of the other comparison operators, and confirm they do what you expect."
      ]
    },
    {
      "cell_type": "code",
      "metadata": {
        "colab": {
          "base_uri": "https://localhost:8080/"
        },
        "id": "BKu_bh_dkaQf",
        "outputId": "1a2cf948-4c62-46d1-9f48-e979f2665d17"
      },
      "source": [
        "x = int(input('Please provide an integer: '))\n",
        "if x > 5:\n",
        "    print('yes, x is greater than 5')\n",
        "else:\n",
        "    print('no, x is not greater than five')"
      ],
      "execution_count": 18,
      "outputs": [
        {
          "output_type": "stream",
          "text": [
            "Please provide an integer: 4\n",
            "no, x is not greater than five\n"
          ],
          "name": "stdout"
        }
      ]
    },
    {
      "cell_type": "markdown",
      "metadata": {
        "id": "WEcZJxsDRCXJ"
      },
      "source": [
        "## Metrics"
      ]
    },
    {
      "cell_type": "markdown",
      "metadata": {
        "id": "3g2ECaDMRCXK"
      },
      "source": [
        "Now that we have a working simulation, we'll use it to evaluate alternative designs and see how good or bad they are.  The metric we'll use is the number of customers who arrive and find no bikes available, which might indicate a design problem."
      ]
    },
    {
      "cell_type": "markdown",
      "metadata": {
        "id": "Y960J16KRCXL"
      },
      "source": [
        "First we'll make a new `State` object that creates and initializes additional state variables to keep track of the metrics."
      ]
    },
    {
      "cell_type": "code",
      "metadata": {
        "id": "FvDIU-P5RCXM"
      },
      "source": [
        "bikeshare = State(olin=10, wellesley=2, \n",
        "                  olin_empty=0, wellesley_empty=0)"
      ],
      "execution_count": 19,
      "outputs": []
    },
    {
      "cell_type": "markdown",
      "metadata": {
        "id": "BdB3dzRmRCXN"
      },
      "source": [
        "Next we need versions of `bike_to_wellesley` and `bike_to_olin` that update the metrics."
      ]
    },
    {
      "cell_type": "code",
      "metadata": {
        "id": "z4BmDOaMRCXO"
      },
      "source": [
        " def bike_to_wellesley(state):\n",
        "    \"\"\"Move one bike from Olin to Wellesley.\n",
        "    \n",
        "    state: bikeshare State object\n",
        "    \"\"\"\n",
        "    if state.olin == 0: #if olin has no bikes then add to \n",
        "        state.olin_empty += 1 #counter for how many times olin has had no bikes -> negative customer experience\n",
        "        return #don't execute below because it will cause a - bike count \n",
        "    state.olin -= 1 #otherwise, if olin != to 0, then move the bike from olin\n",
        "    state.wellesley += 1 #move it to wellesley\n",
        "    \n",
        "def bike_to_olin(state):\n",
        "    \"\"\"Move one bike from Wellesley to Olin.\n",
        "    \n",
        "    state: bikeshare State object\n",
        "    \"\"\"\n",
        "    if state.wellesley == 0: #if wellesley has no bikes then add to\n",
        "        state.wellesley_empty += 1 #counter for how many times wellesley has had no bikes -> negative customer experience\n",
        "        return\n",
        "    state.wellesley -= 1 #otherwise, if wellesley != 0 then make the move from wellesley\n",
        "    state.olin += 1 #to olin"
      ],
      "execution_count": 20,
      "outputs": []
    },
    {
      "cell_type": "markdown",
      "metadata": {
        "id": "DCQkK5hGRCXP"
      },
      "source": [
        "Now when we run a simulation, it keeps track of unhappy customers."
      ]
    },
    {
      "cell_type": "code",
      "metadata": {
        "id": "4ul6UUioRCXQ",
        "colab": {
          "base_uri": "https://localhost:8080/",
          "height": 297
        },
        "outputId": "67c933f6-a72b-4e83-be89-ebe66f45fe7a"
      },
      "source": [
        "run_simulation(bikeshare, 0.4, 0.2, 60)\n",
        "decorate_bikeshare()"
      ],
      "execution_count": 21,
      "outputs": [
        {
          "output_type": "display_data",
          "data": {
            "image/png": "[encoded data removed]",
            "text/plain": [
              "<Figure size 432x288 with 1 Axes>"
            ]
          },
          "metadata": {
            "tags": [],
            "needs_background": "light"
          }
        }
      ]
    },
    {
      "cell_type": "markdown",
      "metadata": {
        "id": "8-eBP_0YRCXR"
      },
      "source": [
        "After the simulation, we can print the number of unhappy customers at each location."
      ]
    },
    {
      "cell_type": "code",
      "metadata": {
        "id": "FrWPW5MyRCXT",
        "colab": {
          "base_uri": "https://localhost:8080/"
        },
        "outputId": "e9b28c73-31b4-4b73-a547-df9b761d7ff8"
      },
      "source": [
        "bikeshare.olin_empty"
      ],
      "execution_count": 22,
      "outputs": [
        {
          "output_type": "execute_result",
          "data": {
            "text/plain": [
              "5"
            ]
          },
          "metadata": {
            "tags": []
          },
          "execution_count": 22
        }
      ]
    },
    {
      "cell_type": "code",
      "metadata": {
        "id": "gPrHI5GmRCXU",
        "colab": {
          "base_uri": "https://localhost:8080/"
        },
        "outputId": "cd098ccf-35cc-4dc2-e71c-5bd6f4ddabda"
      },
      "source": [
        "bikeshare.wellesley_empty"
      ],
      "execution_count": 23,
      "outputs": [
        {
          "output_type": "execute_result",
          "data": {
            "text/plain": [
              "0"
            ]
          },
          "metadata": {
            "tags": []
          },
          "execution_count": 23
        }
      ]
    },
    {
      "cell_type": "markdown",
      "metadata": {
        "id": "JszhBBwtRCXV"
      },
      "source": [
        "## Exercises\n",
        "\n",
        "**Exercise:** As another metric, we might be interested in the time until the first customer arrives and doesn't find a bike.  To make that work, we have to add a \"clock\" to keep track of how many time steps have elapsed:\n",
        "\n",
        "1. Create a new `State` object with an additional state variable, `clock`, initialized to 0. \n",
        "\n",
        "2. Write a modified version of `step` that adds one to the clock each time it is invoked.\n",
        "\n",
        "Test your code by running the simulation and check the value of `clock` at the end."
      ]
    },
    {
      "cell_type": "code",
      "metadata": {
        "id": "KSfYSVphRCXX"
      },
      "source": [
        "bikeshare = State(olin=10, wellesley=2, \n",
        "                  olin_empty=0, wellesley_empty=0,\n",
        "                  clock=0)"
      ],
      "execution_count": 24,
      "outputs": []
    },
    {
      "cell_type": "code",
      "metadata": {
        "colab": {
          "base_uri": "https://localhost:8080/"
        },
        "id": "YJIUkrwixvTt",
        "outputId": "448131f3-4a15-476c-8e26-49c679e1f9c8"
      },
      "source": [
        "bikeshare.clock"
      ],
      "execution_count": 25,
      "outputs": [
        {
          "output_type": "execute_result",
          "data": {
            "text/plain": [
              "0"
            ]
          },
          "metadata": {
            "tags": []
          },
          "execution_count": 25
        }
      ]
    },
    {
      "cell_type": "code",
      "metadata": {
        "id": "9A6beDzyRCXY"
      },
      "source": [
        "# Solution goes here\n",
        "def step(state, p1, p2):\n",
        "    \"\"\"Simulate one minute of time.\n",
        "    \n",
        "    state: bikeshare State object\n",
        "    p1: probability of an Olin->Wellesley customer arrival\n",
        "    p2: probability of a Wellesley->Olin customer arrival\n",
        "    \"\"\"\n",
        "    if flip(p1):\n",
        "        bike_to_wellesley(state)\n",
        "    \n",
        "    if flip(p2):\n",
        "        bike_to_olin(state)\n",
        "\n",
        "    state.clock += 1"
      ],
      "execution_count": 26,
      "outputs": []
    },
    {
      "cell_type": "code",
      "metadata": {
        "id": "KgC6N2bNRCXZ",
        "colab": {
          "base_uri": "https://localhost:8080/",
          "height": 297
        },
        "outputId": "61c69cb6-28cd-4744-c171-43e2d0e73f32"
      },
      "source": [
        "run_simulation(bikeshare, 0.4, 0.2, 30)\n",
        "decorate_bikeshare()"
      ],
      "execution_count": 27,
      "outputs": [
        {
          "output_type": "display_data",
          "data": {
            "image/png": "[encoded data removed]",
            "text/plain": [
              "<Figure size 432x288 with 1 Axes>"
            ]
          },
          "metadata": {
            "tags": [],
            "needs_background": "light"
          }
        }
      ]
    },
    {
      "cell_type": "code",
      "metadata": {
        "id": "xS452ZEORCXa",
        "colab": {
          "base_uri": "https://localhost:8080/"
        },
        "outputId": "430f192f-446e-4506-8f94-2441cd1eb6c1"
      },
      "source": [
        "# Solution goes here\n",
        "bikeshare.clock\n",
        "#not sure if correctly implemented, clock == step"
      ],
      "execution_count": 28,
      "outputs": [
        {
          "output_type": "execute_result",
          "data": {
            "text/plain": [
              "30"
            ]
          },
          "metadata": {
            "tags": []
          },
          "execution_count": 28
        }
      ]
    },
    {
      "cell_type": "markdown",
      "metadata": {
        "id": "eFg4iC7cRCXb"
      },
      "source": [
        "**Exercise:** Continuing the previous exercise, let's record the time when the first customer arrives and doesn't find a bike.\n",
        "\n",
        "1. Create a new `State` object with an additional state variable, `t_first_empty`, initialized to -1 as a special value to indicate that it has not been set. \n",
        "\n",
        "2. Write a modified version of `step` that checks whether`olin_empty` and `wellesley_empty` are 0.  If not, it should set `t_first_empty` to `clock` (but only if `t_first_empty` has not already been set).\n",
        "\n",
        "Test your code by running the simulation and printing the values of `olin_empty`, `wellesley_empty`, and `t_first_empty` at the end."
      ]
    },
    {
      "cell_type": "code",
      "metadata": {
        "id": "Uk4SbJcMM2M-"
      },
      "source": [
        "bikeshare = State(olin=10, wellesley=2, \n",
        "                  olin_empty=0, wellesley_empty=0,\n",
        "                  clock=0, t_first_empty=-1)"
      ],
      "execution_count": 66,
      "outputs": []
    },
    {
      "cell_type": "code",
      "metadata": {
        "id": "xLW8tvXVRCXd"
      },
      "source": [
        "#Solution goes here: \n",
        "#Write a modified version of step that checks whether\n",
        "#olin_empty and wellesley_empty are 0. If not, it should set t_first_empty \n",
        "#to clock (but only if t_first_empty has not already been set).\n",
        "\n",
        "def step(state, p1, p2):\n",
        "    \"\"\"Simulate one minute of time.\n",
        "    \n",
        "    state: bikeshare State object\n",
        "    p1: probability of an Olin->Wellesley customer arrival\n",
        "    p2: probability of a Wellesley->Olin customer arrival\n",
        "    \"\"\"\n",
        "    state.clock += 1\n",
        "\n",
        "    if flip(p1):\n",
        "        bike_to_wellesley(state)\n",
        "    \n",
        "    if flip(p2):\n",
        "        bike_to_olin(state)\n",
        "\n",
        "    if state.t_first_empty != -1:\n",
        "      return\n",
        "\n",
        "    if (state.wellesley_empty + state.olin_empty) > 0:\n",
        "      state.t_first_empty = state.clock\n",
        "\n",
        "    "
      ],
      "execution_count": 67,
      "outputs": []
    },
    {
      "cell_type": "code",
      "metadata": {
        "id": "pCzXl1iXRCXe",
        "colab": {
          "base_uri": "https://localhost:8080/",
          "height": 297
        },
        "outputId": "6dc180c4-864c-45ab-d4eb-92a83bd8cd9b"
      },
      "source": [
        "# Solution goes here\n",
        "run_simulation(bikeshare, 0.4, 0.2, 70)\n",
        "decorate_bikeshare()"
      ],
      "execution_count": 68,
      "outputs": [
        {
          "output_type": "display_data",
          "data": {
            "image/png": "[encoded data removed]",
            "text/plain": [
              "<Figure size 432x288 with 1 Axes>"
            ]
          },
          "metadata": {
            "tags": [],
            "needs_background": "light"
          }
        }
      ]
    },
    {
      "cell_type": "code",
      "metadata": {
        "colab": {
          "base_uri": "https://localhost:8080/"
        },
        "id": "bsIFmAOCQq4A",
        "outputId": "6e949876-b0a5-47a4-e25c-8030eb7b0489"
      },
      "source": [
        "bikeshare.olin_empty"
      ],
      "execution_count": 69,
      "outputs": [
        {
          "output_type": "execute_result",
          "data": {
            "text/plain": [
              "5"
            ]
          },
          "metadata": {
            "tags": []
          },
          "execution_count": 69
        }
      ]
    },
    {
      "cell_type": "code",
      "metadata": {
        "colab": {
          "base_uri": "https://localhost:8080/"
        },
        "id": "O4qKczCLQqla",
        "outputId": "30566dc3-d526-4ec6-aa34-2ee96d6a909a"
      },
      "source": [
        "bikeshare.wellesley_empty"
      ],
      "execution_count": 70,
      "outputs": [
        {
          "output_type": "execute_result",
          "data": {
            "text/plain": [
              "0"
            ]
          },
          "metadata": {
            "tags": []
          },
          "execution_count": 70
        }
      ]
    },
    {
      "cell_type": "code",
      "metadata": {
        "colab": {
          "base_uri": "https://localhost:8080/"
        },
        "id": "tAtgVs4NQqVm",
        "outputId": "55fd5fcb-3f67-4979-ad1c-00178899d1fd"
      },
      "source": [
        "bikeshare.t_first_empty"
      ],
      "execution_count": 71,
      "outputs": [
        {
          "output_type": "execute_result",
          "data": {
            "text/plain": [
              "31"
            ]
          },
          "metadata": {
            "tags": []
          },
          "execution_count": 71
        }
      ]
    },
    {
      "cell_type": "code",
      "metadata": {
        "colab": {
          "base_uri": "https://localhost:8080/",
          "height": 236
        },
        "id": "oSdw-VZ0IxYM",
        "outputId": "ef72f5dd-a01f-42aa-a978-72742ed10665"
      },
      "source": [
        "bikeshare"
      ],
      "execution_count": 72,
      "outputs": [
        {
          "output_type": "execute_result",
          "data": {
            "text/html": [
              "<div>\n",
              "<style scoped>\n",
              "    .dataframe tbody tr th:only-of-type {\n",
              "        vertical-align: middle;\n",
              "    }\n",
              "\n",
              "    .dataframe tbody tr th {\n",
              "        vertical-align: top;\n",
              "    }\n",
              "\n",
              "    .dataframe thead th {\n",
              "        text-align: right;\n",
              "    }\n",
              "</style>\n",
              "<table border=\"1\" class=\"dataframe\">\n",
              "  <thead>\n",
              "    <tr style=\"text-align: right;\">\n",
              "      <th></th>\n",
              "      <th>values</th>\n",
              "    </tr>\n",
              "  </thead>\n",
              "  <tbody>\n",
              "    <tr>\n",
              "      <th>olin</th>\n",
              "      <td>0</td>\n",
              "    </tr>\n",
              "    <tr>\n",
              "      <th>wellesley</th>\n",
              "      <td>12</td>\n",
              "    </tr>\n",
              "    <tr>\n",
              "      <th>olin_empty</th>\n",
              "      <td>5</td>\n",
              "    </tr>\n",
              "    <tr>\n",
              "      <th>wellesley_empty</th>\n",
              "      <td>0</td>\n",
              "    </tr>\n",
              "    <tr>\n",
              "      <th>clock</th>\n",
              "      <td>70</td>\n",
              "    </tr>\n",
              "    <tr>\n",
              "      <th>t_first_empty</th>\n",
              "      <td>31</td>\n",
              "    </tr>\n",
              "  </tbody>\n",
              "</table>\n",
              "</div>"
            ],
            "text/plain": [
              "olin                0\n",
              "wellesley          12\n",
              "olin_empty          5\n",
              "wellesley_empty     0\n",
              "clock              70\n",
              "t_first_empty      31\n",
              "dtype: int64"
            ]
          },
          "metadata": {
            "tags": []
          },
          "execution_count": 72
        }
      ]
    }
  ]
}