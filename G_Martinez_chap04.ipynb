{
  "nbformat": 4,
  "nbformat_minor": 0,
  "metadata": {
    "kernelspec": {
      "display_name": "Python 3",
      "language": "python",
      "name": "python3"
    },
    "language_info": {
      "codemirror_mode": {
        "name": "ipython",
        "version": 3
      },
      "file_extension": ".py",
      "mimetype": "text/x-python",
      "name": "python",
      "nbconvert_exporter": "python",
      "pygments_lexer": "ipython3",
      "version": "3.7.9"
    },
    "colab": {
      "name": "G_Martinez_chap04.ipynb",
      "provenance": [],
      "include_colab_link": true
    }
  },
  "cells": [
    {
      "cell_type": "markdown",
      "metadata": {
        "id": "view-in-github",
        "colab_type": "text"
      },
      "source": [
        "<a href=\"https://colab.research.google.com/github/gabbypaola/DATA604/blob/main/G_Martinez_chap04.ipynb\" target=\"_parent\"><img src=\"https://colab.research.google.com/assets/colab-badge.svg\" alt=\"Open In Colab\"/></a>"
      ]
    },
    {
      "cell_type": "markdown",
      "metadata": {
        "id": "v1D1dtC154oA"
      },
      "source": [
        "# Chapter 4"
      ]
    },
    {
      "cell_type": "markdown",
      "metadata": {
        "tags": [],
        "id": "1SadTs_d54oK"
      },
      "source": [
        "*Modeling and Simulation in Python*\n",
        "\n",
        "Copyright 2021 Allen Downey\n",
        "\n",
        "License: [Creative Commons Attribution-NonCommercial-ShareAlike 4.0 International](https://creativecommons.org/licenses/by-nc-sa/4.0/)"
      ]
    },
    {
      "cell_type": "code",
      "metadata": {
        "tags": [],
        "id": "YcJurSGo54oO"
      },
      "source": [
        "# check if the libraries we need are installed\n",
        "try:\n",
        "    import pint\n",
        "except ImportError:\n",
        "    !pip install pint\n",
        "    import pint\n",
        "    \n",
        "try:\n",
        "    from modsim import *\n",
        "except ImportError:\n",
        "    !pip install modsimpy\n",
        "    from modsim import *\n",
        "\n",
        "import random\n",
        "import numpy as np"
      ],
      "execution_count": 1,
      "outputs": []
    },
    {
      "cell_type": "markdown",
      "metadata": {
        "id": "mk5jf0x754oQ"
      },
      "source": [
        "## Returning values"
      ]
    },
    {
      "cell_type": "markdown",
      "metadata": {
        "id": "ji2y_Vlu54oS"
      },
      "source": [
        "Here's a simple function that returns a value:"
      ]
    },
    {
      "cell_type": "code",
      "metadata": {
        "id": "7dKB8YPL54oT"
      },
      "source": [
        "def add_five(x):\n",
        "    return x + 5"
      ],
      "execution_count": 2,
      "outputs": []
    },
    {
      "cell_type": "markdown",
      "metadata": {
        "id": "vAobjMr754oU"
      },
      "source": [
        "And here's how we call it."
      ]
    },
    {
      "cell_type": "code",
      "metadata": {
        "id": "QUHK6VKd54oV"
      },
      "source": [
        "y = add_five(3)"
      ],
      "execution_count": 3,
      "outputs": []
    },
    {
      "cell_type": "markdown",
      "metadata": {
        "id": "xET1J3fi54oX"
      },
      "source": [
        "If you run a function on the last line of a cell, Jupyter displays the result:"
      ]
    },
    {
      "cell_type": "code",
      "metadata": {
        "id": "1cxkdMF954oY",
        "colab": {
          "base_uri": "https://localhost:8080/"
        },
        "outputId": "4d93a0e7-bdc1-4453-c977-ff3feca07826"
      },
      "source": [
        "add_five(5)"
      ],
      "execution_count": 4,
      "outputs": [
        {
          "output_type": "execute_result",
          "data": {
            "text/plain": [
              "10"
            ]
          },
          "metadata": {
            "tags": []
          },
          "execution_count": 4
        }
      ]
    },
    {
      "cell_type": "markdown",
      "metadata": {
        "id": "7vOJx5Tp54oa"
      },
      "source": [
        "But that can be a bad habit, because usually if you call a function and don't assign the result in a variable, the result gets discarded.\n",
        "\n",
        "In the following example, Jupyter shows the second result, but the first result just disappears."
      ]
    },
    {
      "cell_type": "code",
      "metadata": {
        "id": "a6awL2Qe54ob",
        "colab": {
          "base_uri": "https://localhost:8080/"
        },
        "outputId": "7418470b-fe46-4ec7-f28a-718d0653a622"
      },
      "source": [
        "add_five(3)\n",
        "add_five(5)"
      ],
      "execution_count": 5,
      "outputs": [
        {
          "output_type": "execute_result",
          "data": {
            "text/plain": [
              "10"
            ]
          },
          "metadata": {
            "tags": []
          },
          "execution_count": 5
        }
      ]
    },
    {
      "cell_type": "markdown",
      "metadata": {
        "id": "QQMU6oxR54od"
      },
      "source": [
        "When you call a function that returns a variable, it is generally a good idea to assign the result to a variable."
      ]
    },
    {
      "cell_type": "code",
      "metadata": {
        "id": "OVhVcFtn54oe",
        "colab": {
          "base_uri": "https://localhost:8080/"
        },
        "outputId": "fbec7977-f4f1-44cd-a6af-d8cd0d4f5e4e"
      },
      "source": [
        "y1 = add_five(3)\n",
        "y2 = add_five(5)\n",
        "\n",
        "print(y1, y2)"
      ],
      "execution_count": 6,
      "outputs": [
        {
          "output_type": "stream",
          "text": [
            "8 10\n"
          ],
          "name": "stdout"
        }
      ]
    },
    {
      "cell_type": "markdown",
      "metadata": {
        "id": "Fn6h45AL54of"
      },
      "source": [
        "**Exercise:** Write a function called `make_state` that creates a `State` object with the state variables `olin=10` and `wellesley=2`, and then returns the new `State` object.\n",
        "\n",
        "Write a line of code that calls `make_state` and assigns the result to a variable named `init`."
      ]
    },
    {
      "cell_type": "code",
      "metadata": {
        "id": "K59UBIbd54og"
      },
      "source": [
        "# Solution goes here\n",
        "def make_state():\n",
        "  return State(olin=10, wellesley=2)"
      ],
      "execution_count": 7,
      "outputs": []
    },
    {
      "cell_type": "code",
      "metadata": {
        "id": "GJYkVZjA54oh",
        "colab": {
          "base_uri": "https://localhost:8080/",
          "height": 110
        },
        "outputId": "f77ed7e1-09ae-4ced-ac65-fed7ce761fb2"
      },
      "source": [
        "# Solution goes here\n",
        "init = make_state()\n",
        "init"
      ],
      "execution_count": 8,
      "outputs": [
        {
          "output_type": "execute_result",
          "data": {
            "text/html": [
              "<div>\n",
              "<style scoped>\n",
              "    .dataframe tbody tr th:only-of-type {\n",
              "        vertical-align: middle;\n",
              "    }\n",
              "\n",
              "    .dataframe tbody tr th {\n",
              "        vertical-align: top;\n",
              "    }\n",
              "\n",
              "    .dataframe thead th {\n",
              "        text-align: right;\n",
              "    }\n",
              "</style>\n",
              "<table border=\"1\" class=\"dataframe\">\n",
              "  <thead>\n",
              "    <tr style=\"text-align: right;\">\n",
              "      <th></th>\n",
              "      <th>values</th>\n",
              "    </tr>\n",
              "  </thead>\n",
              "  <tbody>\n",
              "    <tr>\n",
              "      <th>olin</th>\n",
              "      <td>10</td>\n",
              "    </tr>\n",
              "    <tr>\n",
              "      <th>wellesley</th>\n",
              "      <td>2</td>\n",
              "    </tr>\n",
              "  </tbody>\n",
              "</table>\n",
              "</div>"
            ],
            "text/plain": [
              "olin         10\n",
              "wellesley     2\n",
              "dtype: int64"
            ]
          },
          "metadata": {
            "tags": []
          },
          "execution_count": 8
        }
      ]
    },
    {
      "cell_type": "markdown",
      "metadata": {
        "id": "6PqyOPXu54oh"
      },
      "source": [
        "## Running simulations"
      ]
    },
    {
      "cell_type": "markdown",
      "metadata": {
        "id": "lmUn43bv54oi"
      },
      "source": [
        "Here's the code from the previous notebook."
      ]
    },
    {
      "cell_type": "code",
      "metadata": {
        "id": "5XlHuwRT54oj"
      },
      "source": [
        "def step(state, p1, p2):\n",
        "    \"\"\"Simulate one minute of time.\n",
        "    \n",
        "    state: bikeshare State object\n",
        "    p1: probability of an Olin->Wellesley customer arrival\n",
        "    p2: probability of a Wellesley->Olin customer arrival\n",
        "    \"\"\"\n",
        "    if flip(p1):\n",
        "        bike_to_wellesley(state)\n",
        "    \n",
        "    if flip(p2):\n",
        "        bike_to_olin(state)\n",
        "        \n",
        "def bike_to_wellesley(state):\n",
        "    \"\"\"Move one bike from Olin to Wellesley.\n",
        "    \n",
        "    state: bikeshare State object\n",
        "    \"\"\"\n",
        "    if state.olin == 0:\n",
        "        state.olin_empty += 1\n",
        "        return\n",
        "    state.olin -= 1\n",
        "    state.wellesley += 1\n",
        "    \n",
        "def bike_to_olin(state):\n",
        "    \"\"\"Move one bike from Wellesley to Olin.\n",
        "    \n",
        "    state: bikeshare State object\n",
        "    \"\"\"\n",
        "    if state.wellesley == 0:\n",
        "        state.wellesley_empty += 1\n",
        "        return\n",
        "    state.wellesley -= 1\n",
        "    state.olin += 1\n",
        "    \n",
        "def decorate_bikeshare():\n",
        "    \"\"\"Add a title and label the axes.\"\"\"\n",
        "    decorate(title='Olin-Wellesley Bikeshare',\n",
        "             xlabel='Time step (min)', \n",
        "             ylabel='Number of bikes')"
      ],
      "execution_count": 9,
      "outputs": []
    },
    {
      "cell_type": "markdown",
      "metadata": {
        "id": "NdkumABX54ol"
      },
      "source": [
        "Here's a modified version of `run_simulation` that creates a `State` object, runs the simulation, and returns the `State` object."
      ]
    },
    {
      "cell_type": "code",
      "metadata": {
        "id": "_c7WxHRp54om"
      },
      "source": [
        "def run_simulation(p1, p2, num_steps):\n",
        "    \"\"\"Simulate the given number of time steps.\n",
        "    \n",
        "    p1: probability of an Olin->Wellesley customer arrival\n",
        "    p2: probability of a Wellesley->Olin customer arrival\n",
        "    num_steps: number of time steps\n",
        "    \"\"\"\n",
        "    state = State(olin=10, wellesley=2, \n",
        "                  olin_empty=0, wellesley_empty=0)\n",
        "                    \n",
        "    for i in range(num_steps):\n",
        "        step(state, p1, p2)\n",
        "        \n",
        "    return state"
      ],
      "execution_count": 10,
      "outputs": []
    },
    {
      "cell_type": "markdown",
      "metadata": {
        "id": "07lnmxug54oo"
      },
      "source": [
        "Now `run_simulation` doesn't plot anything:"
      ]
    },
    {
      "cell_type": "code",
      "metadata": {
        "id": "Liuz9iWI54oo"
      },
      "source": [
        "state = run_simulation(0.4, 0.2, 60)"
      ],
      "execution_count": 11,
      "outputs": []
    },
    {
      "cell_type": "markdown",
      "metadata": {
        "id": "15sJer0454op"
      },
      "source": [
        "But after the simulation, we can read the metrics from the `State` object."
      ]
    },
    {
      "cell_type": "code",
      "metadata": {
        "id": "I1kJqeru54oq",
        "colab": {
          "base_uri": "https://localhost:8080/"
        },
        "outputId": "a8961906-02ed-4353-f409-47970da55e06"
      },
      "source": [
        "state.olin_empty"
      ],
      "execution_count": 12,
      "outputs": [
        {
          "output_type": "execute_result",
          "data": {
            "text/plain": [
              "8"
            ]
          },
          "metadata": {
            "tags": []
          },
          "execution_count": 12
        }
      ]
    },
    {
      "cell_type": "markdown",
      "metadata": {
        "id": "HPI1bk8w54oq"
      },
      "source": [
        "Now we can run simulations with different values for the parameters.  When `p1` is small, we probably don't run out of bikes at Olin."
      ]
    },
    {
      "cell_type": "code",
      "metadata": {
        "id": "UtcxM3Wc54os",
        "colab": {
          "base_uri": "https://localhost:8080/"
        },
        "outputId": "f7eb9bdd-89fd-4699-ae84-2b79f5dde62b"
      },
      "source": [
        "state = run_simulation(0.2, 0.2, 60)\n",
        "state.olin_empty"
      ],
      "execution_count": 13,
      "outputs": [
        {
          "output_type": "execute_result",
          "data": {
            "text/plain": [
              "0"
            ]
          },
          "metadata": {
            "tags": []
          },
          "execution_count": 13
        }
      ]
    },
    {
      "cell_type": "markdown",
      "metadata": {
        "id": "p1ue_fg954ot"
      },
      "source": [
        "When `p1` is large, we probably do."
      ]
    },
    {
      "cell_type": "code",
      "metadata": {
        "id": "jvIGGqpX54ou",
        "colab": {
          "base_uri": "https://localhost:8080/"
        },
        "outputId": "38320264-adff-4c60-c330-9e58f4a65c96"
      },
      "source": [
        "state = run_simulation(0.6, 0.2, 60)\n",
        "state.olin_empty"
      ],
      "execution_count": 14,
      "outputs": [
        {
          "output_type": "execute_result",
          "data": {
            "text/plain": [
              "11"
            ]
          },
          "metadata": {
            "tags": []
          },
          "execution_count": 14
        }
      ]
    },
    {
      "cell_type": "markdown",
      "metadata": {
        "id": "-wVb60Ru54ov"
      },
      "source": [
        "## More for loops"
      ]
    },
    {
      "cell_type": "markdown",
      "metadata": {
        "id": "VIgY92Ja54ov"
      },
      "source": [
        "`linspace` creates a NumPy array of equally spaced numbers."
      ]
    },
    {
      "cell_type": "code",
      "metadata": {
        "id": "xMLj9OhT54ow",
        "colab": {
          "base_uri": "https://localhost:8080/"
        },
        "outputId": "a2c86f16-02b5-4765-f450-9cb79d18e9c4"
      },
      "source": [
        "p1_array = linspace(0, 1, 5)\n",
        "p1_array"
      ],
      "execution_count": 15,
      "outputs": [
        {
          "output_type": "execute_result",
          "data": {
            "text/plain": [
              "array([0.  , 0.25, 0.5 , 0.75, 1.  ])"
            ]
          },
          "metadata": {
            "tags": []
          },
          "execution_count": 15
        }
      ]
    },
    {
      "cell_type": "markdown",
      "metadata": {
        "id": "Iz50jV7C54ox"
      },
      "source": [
        "We can use an array in a `for` loop, like this:"
      ]
    },
    {
      "cell_type": "code",
      "metadata": {
        "id": "V_0VOLsR54ox",
        "colab": {
          "base_uri": "https://localhost:8080/"
        },
        "outputId": "78a8a341-fb8d-490b-caaf-d0a93276171c"
      },
      "source": [
        "for p1 in p1_array:\n",
        "    print(p1)"
      ],
      "execution_count": 16,
      "outputs": [
        {
          "output_type": "stream",
          "text": [
            "0.0\n",
            "0.25\n",
            "0.5\n",
            "0.75\n",
            "1.0\n"
          ],
          "name": "stdout"
        }
      ]
    },
    {
      "cell_type": "markdown",
      "metadata": {
        "id": "W_sO_kWb54oy"
      },
      "source": [
        "This will come in handy in the next section.\n",
        "\n",
        "`linspace` is defined in `modsim.py`.  You can get the documentation using `help`."
      ]
    },
    {
      "cell_type": "code",
      "metadata": {
        "id": "SaF0Et9W54oz",
        "colab": {
          "base_uri": "https://localhost:8080/"
        },
        "outputId": "fb85ee09-bf37-4ec5-9e05-90c6a571512b"
      },
      "source": [
        "help(linspace)"
      ],
      "execution_count": 17,
      "outputs": [
        {
          "output_type": "stream",
          "text": [
            "Help on function linspace in module modsim.modsim:\n",
            "\n",
            "linspace(start, stop, num=50, **options)\n",
            "    Returns an array of evenly-spaced values in the interval [start, stop].\n",
            "    \n",
            "    start: first value\n",
            "    stop: last value\n",
            "    num: number of values\n",
            "    \n",
            "    Also accepts the same keyword arguments as np.linspace.  See\n",
            "    https://docs.scipy.org/doc/numpy/reference/generated/numpy.linspace.html\n",
            "    \n",
            "    returns: array or Quantity\n",
            "\n"
          ],
          "name": "stdout"
        }
      ]
    },
    {
      "cell_type": "markdown",
      "metadata": {
        "id": "mr3xwxf454o0"
      },
      "source": [
        "`linspace` is based on a NumPy function with the same name.  [Click here](https://docs.scipy.org/doc/numpy/reference/generated/numpy.linspace.html) to read more about how to use it."
      ]
    },
    {
      "cell_type": "markdown",
      "metadata": {
        "id": "oU7Mr2es54o0"
      },
      "source": [
        "**Exercise:** \n",
        "Use `linspace` to make an array of 10 equally spaced numbers from 1 to 10 (including both)."
      ]
    },
    {
      "cell_type": "code",
      "metadata": {
        "id": "aJp59A1i54o1"
      },
      "source": [
        "# Solution goes here\n",
        "my_array = linspace(1,10,10)"
      ],
      "execution_count": 18,
      "outputs": []
    },
    {
      "cell_type": "code",
      "metadata": {
        "colab": {
          "base_uri": "https://localhost:8080/"
        },
        "id": "k2SfwqoAYT6o",
        "outputId": "bf73eeae-1dc8-404b-b63c-167642afa882"
      },
      "source": [
        "for n in my_array:\n",
        "    print(n)"
      ],
      "execution_count": 19,
      "outputs": [
        {
          "output_type": "stream",
          "text": [
            "1.0\n",
            "2.0\n",
            "3.0\n",
            "4.0\n",
            "5.0\n",
            "6.0\n",
            "7.0\n",
            "8.0\n",
            "9.0\n",
            "10.0\n"
          ],
          "name": "stdout"
        }
      ]
    },
    {
      "cell_type": "markdown",
      "metadata": {
        "id": "G1c2eNrb54o2"
      },
      "source": [
        "**Exercise:** The `modsim` library provides a related function called `linrange`.  You can view the documentation by running the following cell:"
      ]
    },
    {
      "cell_type": "code",
      "metadata": {
        "id": "XkxJQ2UR54o3",
        "colab": {
          "base_uri": "https://localhost:8080/"
        },
        "outputId": "78784410-5bed-43a9-9fd3-c9ffef3942a2"
      },
      "source": [
        "help(linrange)"
      ],
      "execution_count": 20,
      "outputs": [
        {
          "output_type": "stream",
          "text": [
            "Help on function linrange in module modsim.modsim:\n",
            "\n",
            "linrange(start=0, stop=None, step=1, endpoint=False, **options)\n",
            "    Returns an array of evenly-spaced values in an interval.\n",
            "    \n",
            "    By default, the last value in the array is `stop-step`\n",
            "    (at least approximately).\n",
            "    If you provide the keyword argument `endpoint=True`,\n",
            "    the last value in the array is `stop`.\n",
            "    \n",
            "    This function works best if the space between start and stop\n",
            "    is divisible by step; otherwise the results might be surprising.\n",
            "    \n",
            "    start: first value\n",
            "    stop: last value\n",
            "    step: space between values\n",
            "    \n",
            "    returns: NumPy array\n",
            "\n"
          ],
          "name": "stdout"
        }
      ]
    },
    {
      "cell_type": "markdown",
      "metadata": {
        "id": "T8RbrHRO54o4"
      },
      "source": [
        "Use `linrange` to make an array of numbers from 1 to 11 with a step size of 2."
      ]
    },
    {
      "cell_type": "code",
      "metadata": {
        "id": "5TeTnJ-j54o5"
      },
      "source": [
        "# Solution goes here\n",
        "my_array_2 = linrange(start=0, stop = 11, step = 2) "
      ],
      "execution_count": 21,
      "outputs": []
    },
    {
      "cell_type": "code",
      "metadata": {
        "colab": {
          "base_uri": "https://localhost:8080/"
        },
        "id": "KWD5cN_tZXkN",
        "outputId": "840949e9-d3a4-4a00-d1f9-1d5d33e0b559"
      },
      "source": [
        "for n in my_array_2:\n",
        "    print(n)"
      ],
      "execution_count": 22,
      "outputs": [
        {
          "output_type": "stream",
          "text": [
            "0\n",
            "2\n",
            "4\n",
            "6\n",
            "8\n",
            "10\n"
          ],
          "name": "stdout"
        }
      ]
    },
    {
      "cell_type": "markdown",
      "metadata": {
        "id": "LqdMMd6b54o6"
      },
      "source": [
        "## Sweeping parameters"
      ]
    },
    {
      "cell_type": "markdown",
      "metadata": {
        "id": "MJ7cI1Yp54o7"
      },
      "source": [
        "`p1_array` contains a range of values for `p1`."
      ]
    },
    {
      "cell_type": "code",
      "metadata": {
        "id": "3Q1EBLGv54o-"
      },
      "source": [
        "p2 = 0.2\n",
        "num_steps = 60\n",
        "p1_array = linspace(0, 1, 11)"
      ],
      "execution_count": 23,
      "outputs": []
    },
    {
      "cell_type": "markdown",
      "metadata": {
        "id": "o-gRasdZ54o_"
      },
      "source": [
        "The following loop runs a simulation for each value of `p1` in `p1_array`; after each simulation, it prints the number of unhappy customers at the Olin station:"
      ]
    },
    {
      "cell_type": "code",
      "metadata": {
        "id": "I79bPJkK54pA",
        "colab": {
          "base_uri": "https://localhost:8080/"
        },
        "outputId": "0f757673-bbeb-430c-ac08-d2a928aaaca2"
      },
      "source": [
        "for p1 in p1_array:\n",
        "    state = run_simulation(p1, p2, num_steps)\n",
        "    print(p1, state.olin_empty)"
      ],
      "execution_count": 24,
      "outputs": [
        {
          "output_type": "stream",
          "text": [
            "0.0 0\n",
            "0.1 0\n",
            "0.2 0\n",
            "0.30000000000000004 3\n",
            "0.4 4\n",
            "0.5 6\n",
            "0.6000000000000001 24\n",
            "0.7000000000000001 14\n",
            "0.8 24\n",
            "0.9 34\n",
            "1.0 34\n"
          ],
          "name": "stdout"
        }
      ]
    },
    {
      "cell_type": "markdown",
      "metadata": {
        "id": "unUMq-0n54pB"
      },
      "source": [
        "Now we can do the same thing, but storing the results in a `SweepSeries` instead of printing them.\n",
        "\n"
      ]
    },
    {
      "cell_type": "code",
      "metadata": {
        "id": "NC8o68TZ54pC"
      },
      "source": [
        "sweep = SweepSeries()\n",
        "\n",
        "for p1 in p1_array:\n",
        "    state = run_simulation(p1, p2, num_steps)\n",
        "    sweep[p1] = state.olin_empty"
      ],
      "execution_count": 25,
      "outputs": []
    },
    {
      "cell_type": "code",
      "metadata": {
        "colab": {
          "base_uri": "https://localhost:8080/",
          "height": 385
        },
        "id": "eOHnT1Vsty67",
        "outputId": "4837544d-5ac0-410f-d244-5b0d5e16cf5a"
      },
      "source": [
        "sweep"
      ],
      "execution_count": 26,
      "outputs": [
        {
          "output_type": "execute_result",
          "data": {
            "text/html": [
              "<div>\n",
              "<style scoped>\n",
              "    .dataframe tbody tr th:only-of-type {\n",
              "        vertical-align: middle;\n",
              "    }\n",
              "\n",
              "    .dataframe tbody tr th {\n",
              "        vertical-align: top;\n",
              "    }\n",
              "\n",
              "    .dataframe thead th {\n",
              "        text-align: right;\n",
              "    }\n",
              "</style>\n",
              "<table border=\"1\" class=\"dataframe\">\n",
              "  <thead>\n",
              "    <tr style=\"text-align: right;\">\n",
              "      <th></th>\n",
              "      <th>values</th>\n",
              "    </tr>\n",
              "  </thead>\n",
              "  <tbody>\n",
              "    <tr>\n",
              "      <th>0.0</th>\n",
              "      <td>0</td>\n",
              "    </tr>\n",
              "    <tr>\n",
              "      <th>0.1</th>\n",
              "      <td>0</td>\n",
              "    </tr>\n",
              "    <tr>\n",
              "      <th>0.2</th>\n",
              "      <td>0</td>\n",
              "    </tr>\n",
              "    <tr>\n",
              "      <th>0.3</th>\n",
              "      <td>0</td>\n",
              "    </tr>\n",
              "    <tr>\n",
              "      <th>0.4</th>\n",
              "      <td>0</td>\n",
              "    </tr>\n",
              "    <tr>\n",
              "      <th>0.5</th>\n",
              "      <td>8</td>\n",
              "    </tr>\n",
              "    <tr>\n",
              "      <th>0.6</th>\n",
              "      <td>11</td>\n",
              "    </tr>\n",
              "    <tr>\n",
              "      <th>0.7</th>\n",
              "      <td>26</td>\n",
              "    </tr>\n",
              "    <tr>\n",
              "      <th>0.8</th>\n",
              "      <td>27</td>\n",
              "    </tr>\n",
              "    <tr>\n",
              "      <th>0.9</th>\n",
              "      <td>33</td>\n",
              "    </tr>\n",
              "    <tr>\n",
              "      <th>1.0</th>\n",
              "      <td>36</td>\n",
              "    </tr>\n",
              "  </tbody>\n",
              "</table>\n",
              "</div>"
            ],
            "text/plain": [
              "0.0     0\n",
              "0.1     0\n",
              "0.2     0\n",
              "0.3     0\n",
              "0.4     0\n",
              "0.5     8\n",
              "0.6    11\n",
              "0.7    26\n",
              "0.8    27\n",
              "0.9    33\n",
              "1.0    36\n",
              "dtype: int64"
            ]
          },
          "metadata": {
            "tags": []
          },
          "execution_count": 26
        }
      ]
    },
    {
      "cell_type": "markdown",
      "metadata": {
        "id": "54AwVC5v54pC"
      },
      "source": [
        "And then we can plot the results."
      ]
    },
    {
      "cell_type": "code",
      "metadata": {
        "id": "shHZD_cD54pD",
        "colab": {
          "base_uri": "https://localhost:8080/",
          "height": 296
        },
        "outputId": "c831d5f6-a0cf-4ead-a003-ae0b0df0ca19"
      },
      "source": [
        "plot(sweep, label='Olin')\n",
        "\n",
        "decorate(title='Olin-Wellesley Bikeshare',\n",
        "         xlabel='Arrival rate at Olin (p1 in customers/min)', \n",
        "         ylabel='Number of unhappy customers')"
      ],
      "execution_count": 27,
      "outputs": [
        {
          "output_type": "display_data",
          "data": {
            "image/png": "[encoded data removed]",
            "text/plain": [
              "<Figure size 432x288 with 1 Axes>"
            ]
          },
          "metadata": {
            "tags": [],
            "needs_background": "light"
          }
        }
      ]
    },
    {
      "cell_type": "markdown",
      "metadata": {
        "id": "2xbnuVI654pE"
      },
      "source": [
        "## Exercises\n",
        "\n",
        "**Exercise:** Wrap this code in a function named `sweep_p1` that takes an array called `p1_array` as a parameter.  It should create a new `SweepSeries`, run a simulation for each value of `p1` in `p1_array`, store the results in the `SweepSeries`, and return the `SweepSeries`.\n",
        "\n",
        "Use your function to plot the number of unhappy customers at Olin as a function of `p1`.  Label the axes."
      ]
    },
    {
      "cell_type": "code",
      "metadata": {
        "id": "N3HTZ85l54pF"
      },
      "source": [
        "# Solution goes here\n",
        "def sweep_p1(p1_array): #parameter: p1_array\n",
        "  p2 = 0.2 #run_siumulation parameter: probability for wellesley\n",
        "  num_steps = 60 #run_simulation parameter: steps\n",
        "  sweep = SweepSeries()\n",
        "\n",
        "  for p1 in p1_array:\n",
        "    state = run_simulation(p1, p2, num_steps)\n",
        "    sweep[p1] = state.olin_empty\n",
        "\n",
        "  return sweep\n"
      ],
      "execution_count": 28,
      "outputs": []
    },
    {
      "cell_type": "code",
      "metadata": {
        "id": "K3fvNNIa54pG",
        "colab": {
          "base_uri": "https://localhost:8080/",
          "height": 296
        },
        "outputId": "5bbe3d9b-488a-4683-effa-434a596ff93d"
      },
      "source": [
        "# Solution goes here\n",
        "p1_array = linspace(0, 1, 11)\n",
        "\n",
        "np.random.seed(110)\n",
        "sweep_data = sweep_p1(p1_array)\n",
        "\n",
        "plot(sweep_data, label='Olin')\n",
        "\n",
        "decorate(title='Olin-Wellesley Bikeshare',\n",
        "         xlabel='Arrival rate at Olin (p1 in customers/min)', \n",
        "         ylabel='Number of unhappy customers')"
      ],
      "execution_count": 29,
      "outputs": [
        {
          "output_type": "display_data",
          "data": {
            "image/png": "[encoded data removed]",
            "text/plain": [
              "<Figure size 432x288 with 1 Axes>"
            ]
          },
          "metadata": {
            "tags": [],
            "needs_background": "light"
          }
        }
      ]
    },
    {
      "cell_type": "markdown",
      "metadata": {
        "id": "iJ1U8gd054pH"
      },
      "source": [
        "**Exercise:** Write a function called `sweep_p2` that runs simulations with `p1=0.5` and a range of values for `p2`.  It should store the results in a `SweepSeries` and return the `SweepSeries`.\n"
      ]
    },
    {
      "cell_type": "code",
      "metadata": {
        "id": "PfmDOkzN54pH"
      },
      "source": [
        "# Solution goes here\n",
        "def sweep_p2(p2_array): #parameter: p2_array\n",
        "  p1 = 0.5 #run_siumulation parameter: probability for wellesley\n",
        "  num_steps = 60 #run_simulation parameter: steps\n",
        "  sweep = SweepSeries()\n",
        "\n",
        "  for p2 in p2_array:\n",
        "    state = run_simulation(p1, p2, num_steps)\n",
        "    sweep[p2] = state.olin_empty\n",
        "\n",
        "  return sweep"
      ],
      "execution_count": 30,
      "outputs": []
    },
    {
      "cell_type": "code",
      "metadata": {
        "id": "RRJ4ISz554pI",
        "colab": {
          "base_uri": "https://localhost:8080/",
          "height": 296
        },
        "outputId": "a00ec39e-4e4a-4cd4-c872-f6fdde72253b"
      },
      "source": [
        "# Solution goes here\n",
        "p2_array = linspace(0, 1, 11)\n",
        "sweep_data = sweep_p2(p2_array)\n",
        "\n",
        "plot(sweep_data, label='Olin')\n",
        "\n",
        "decorate(title='Olin-Wellesley Bikeshare',\n",
        "         xlabel='Arrival rate at Olin (p1 in customers/min)', \n",
        "         ylabel='Number of unhappy customers')"
      ],
      "execution_count": 31,
      "outputs": [
        {
          "output_type": "display_data",
          "data": {
            "image/png": "[encoded data removed]",
            "text/plain": [
              "<Figure size 432x288 with 1 Axes>"
            ]
          },
          "metadata": {
            "tags": [],
            "needs_background": "light"
          }
        }
      ]
    },
    {
      "cell_type": "markdown",
      "metadata": {
        "id": "tACAUMWC54pJ"
      },
      "source": [
        "## Optional Exercises\n",
        "\n",
        "The following two exercises are a little more challenging.  If you are comfortable with what you have learned so far, you should give them a try.  If you feel like you have your hands full, you might want to skip them for now.\n",
        "\n",
        "**Exercise:** Because our simulations are random, the results vary from one run to another, and the results of a parameter sweep tend to be noisy.  We can get a clearer picture of the relationship between a parameter and a metric by running multiple simulations with the same parameter and taking the average of the results.\n",
        "\n",
        "Write a function called `run_multiple_simulations` that takes as parameters `p1`, `p2`, `num_steps`, and `num_runs`.\n",
        "\n",
        "`num_runs` specifies how many times it should call `run_simulation`.\n",
        "\n",
        "After each run, it should store the total number of unhappy customers (at Olin or Wellesley) in a `TimeSeries`.  At the end, it should return the `TimeSeries`.\n",
        "\n",
        "Test your function with parameters\n",
        "\n",
        "```\n",
        "p1 = 0.3\n",
        "p2 = 0.3\n",
        "num_steps = 60\n",
        "num_runs = 10\n",
        "```\n",
        "\n",
        "Display the resulting `TimeSeries` and use the `mean` function provided by the `TimeSeries` object to compute the average number of unhappy customers (see Section 2.7)."
      ]
    },
    {
      "cell_type": "code",
      "metadata": {
        "id": "kaUbj2i654pK"
      },
      "source": [
        "# Solution goes here\n",
        "def run_multiple_simulations(p1, p2, num_steps, num_runs):\n",
        "  results = TimeSeries()\n",
        "  \n",
        "  for i in range(num_runs):\n",
        "    state = run_simulation(p1, p2, num_steps)\n",
        "    results[i] = state.olin_empty + state.wellesley_empty \n",
        "\n",
        "  return results"
      ],
      "execution_count": 32,
      "outputs": []
    },
    {
      "cell_type": "code",
      "metadata": {
        "id": "0Tux1WyM54pL"
      },
      "source": [
        "# Solution goes here\n",
        "results = run_multiple_simulations(0.3, 0.3, 60, 10)"
      ],
      "execution_count": 33,
      "outputs": []
    },
    {
      "cell_type": "code",
      "metadata": {
        "colab": {
          "base_uri": "https://localhost:8080/",
          "height": 296
        },
        "id": "5bALOzxutnbS",
        "outputId": "ec0d1953-33b6-464a-a6fb-5329780fce45"
      },
      "source": [
        "plot(results)\n",
        "decorate(title='Olin-Wellesley Bikeshare- TimeSeries',\n",
        "         xlabel='Arrival rate at Olin (p1 in customers/min)', \n",
        "         ylabel='Number of unhappy customers')"
      ],
      "execution_count": 34,
      "outputs": [
        {
          "output_type": "display_data",
          "data": {
            "image/png": "[encoded data removed]",
            "text/plain": [
              "<Figure size 432x288 with 1 Axes>"
            ]
          },
          "metadata": {
            "tags": [],
            "needs_background": "light"
          }
        }
      ]
    },
    {
      "cell_type": "code",
      "metadata": {
        "colab": {
          "base_uri": "https://localhost:8080/"
        },
        "id": "RlcPqey6xeSJ",
        "outputId": "d2ef05c9-7dda-4c21-ed18-2d5895e86da9"
      },
      "source": [
        "print(\"Average number of unhappy customers\", results.mean())"
      ],
      "execution_count": 35,
      "outputs": [
        {
          "output_type": "stream",
          "text": [
            "Average number of unhappy customers 1.8\n"
          ],
          "name": "stdout"
        }
      ]
    },
    {
      "cell_type": "markdown",
      "metadata": {
        "id": "0ailUT_E54pL"
      },
      "source": [
        "**Exercise:**  Continuting the previous exercise, use `run_multiple_simulations` to run simulations with a range of values for `p1` and\n",
        "\n",
        "```\n",
        "p2 = 0.3\n",
        "num_steps = 60\n",
        "num_runs = 20\n",
        "```\n",
        "\n",
        "Store the results in a `SweepSeries`, then plot the average number of unhappy customers as a function of `p1`.  Label the axes.\n",
        "\n",
        "What value of `p1` minimizes the average number of unhappy customers?"
      ]
    },
    {
      "cell_type": "code",
      "metadata": {
        "id": "bWTOkMFI54pO"
      },
      "source": [
        "# Solution goes here\n",
        "p1_array = linspace(0, 1, 11)\n",
        "p2 = 0.3\n",
        "num_steps = 60\n",
        "num_runs = 20\n",
        "\n",
        "sweep = SweepSeries()\n",
        "for p1 in p1_array:\n",
        "    results = run_multiple_simulations(p1, p2, num_steps, num_runs)\n",
        "    sweep[p1] = results.mean()"
      ],
      "execution_count": 36,
      "outputs": []
    },
    {
      "cell_type": "code",
      "metadata": {
        "colab": {
          "base_uri": "https://localhost:8080/",
          "height": 296
        },
        "id": "wFJoX0RpfIio",
        "outputId": "ecb315e6-aed0-437f-fcf4-e1ede13a698a"
      },
      "source": [
        "plot(sweep, label='Olin')\n",
        "decorate(title='Olin-Wellesley Bikeshare',\n",
        "         xlabel='Arrival rate at Olin (p1 in customers/min)', \n",
        "         ylabel='Number of unhappy customers')"
      ],
      "execution_count": 37,
      "outputs": [
        {
          "output_type": "display_data",
          "data": {
            "image/png": "[encoded data removed]",
            "text/plain": [
              "<Figure size 432x288 with 1 Axes>"
            ]
          },
          "metadata": {
            "tags": [],
            "needs_background": "light"
          }
        }
      ]
    },
    {
      "cell_type": "code",
      "metadata": {
        "colab": {
          "base_uri": "https://localhost:8080/"
        },
        "id": "VBAWzKLiVHwz",
        "outputId": "196e95c2-152d-4439-a3b6-8b81f5dc15c1"
      },
      "source": [
        "print(\"The p1 value of 0.4 minimizes the number of unhappy customers with\", round(sweep.min()), \"number of customers.\")"
      ],
      "execution_count": 38,
      "outputs": [
        {
          "output_type": "stream",
          "text": [
            "The p1 value of 0.4 minimizes the number of unhappy customers with 2.0 number of customers.\n"
          ],
          "name": "stdout"
        }
      ]
    },
    {
      "cell_type": "code",
      "metadata": {
        "colab": {
          "base_uri": "https://localhost:8080/",
          "height": 385
        },
        "id": "UhG_FSr1ioP1",
        "outputId": "36294c9a-4cf7-4b35-fa3f-1856455c6024"
      },
      "source": [
        "sweep"
      ],
      "execution_count": 39,
      "outputs": [
        {
          "output_type": "execute_result",
          "data": {
            "text/html": [
              "<div>\n",
              "<style scoped>\n",
              "    .dataframe tbody tr th:only-of-type {\n",
              "        vertical-align: middle;\n",
              "    }\n",
              "\n",
              "    .dataframe tbody tr th {\n",
              "        vertical-align: top;\n",
              "    }\n",
              "\n",
              "    .dataframe thead th {\n",
              "        text-align: right;\n",
              "    }\n",
              "</style>\n",
              "<table border=\"1\" class=\"dataframe\">\n",
              "  <thead>\n",
              "    <tr style=\"text-align: right;\">\n",
              "      <th></th>\n",
              "      <th>values</th>\n",
              "    </tr>\n",
              "  </thead>\n",
              "  <tbody>\n",
              "    <tr>\n",
              "      <th>0.0</th>\n",
              "      <td>15.50</td>\n",
              "    </tr>\n",
              "    <tr>\n",
              "      <th>0.1</th>\n",
              "      <td>10.25</td>\n",
              "    </tr>\n",
              "    <tr>\n",
              "      <th>0.2</th>\n",
              "      <td>5.85</td>\n",
              "    </tr>\n",
              "    <tr>\n",
              "      <th>0.3</th>\n",
              "      <td>2.90</td>\n",
              "    </tr>\n",
              "    <tr>\n",
              "      <th>0.4</th>\n",
              "      <td>1.55</td>\n",
              "    </tr>\n",
              "    <tr>\n",
              "      <th>0.5</th>\n",
              "      <td>5.35</td>\n",
              "    </tr>\n",
              "    <tr>\n",
              "      <th>0.6</th>\n",
              "      <td>7.80</td>\n",
              "    </tr>\n",
              "    <tr>\n",
              "      <th>0.7</th>\n",
              "      <td>14.65</td>\n",
              "    </tr>\n",
              "    <tr>\n",
              "      <th>0.8</th>\n",
              "      <td>20.90</td>\n",
              "    </tr>\n",
              "    <tr>\n",
              "      <th>0.9</th>\n",
              "      <td>27.15</td>\n",
              "    </tr>\n",
              "    <tr>\n",
              "      <th>1.0</th>\n",
              "      <td>32.95</td>\n",
              "    </tr>\n",
              "  </tbody>\n",
              "</table>\n",
              "</div>"
            ],
            "text/plain": [
              "0.0    15.50\n",
              "0.1    10.25\n",
              "0.2     5.85\n",
              "0.3     2.90\n",
              "0.4     1.55\n",
              "0.5     5.35\n",
              "0.6     7.80\n",
              "0.7    14.65\n",
              "0.8    20.90\n",
              "0.9    27.15\n",
              "1.0    32.95\n",
              "dtype: float64"
            ]
          },
          "metadata": {
            "tags": []
          },
          "execution_count": 39
        }
      ]
    }
  ]
}