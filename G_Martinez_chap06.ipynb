{
  "nbformat": 4,
  "nbformat_minor": 0,
  "metadata": {
    "kernelspec": {
      "display_name": "Python 3",
      "language": "python",
      "name": "python3"
    },
    "language_info": {
      "codemirror_mode": {
        "name": "ipython",
        "version": 3
      },
      "file_extension": ".py",
      "mimetype": "text/x-python",
      "name": "python",
      "nbconvert_exporter": "python",
      "pygments_lexer": "ipython3",
      "version": "3.7.9"
    },
    "colab": {
      "name": "G_Martinez_chap06.ipynb",
      "provenance": [],
      "include_colab_link": true
    }
  },
  "cells": [
    {
      "cell_type": "markdown",
      "metadata": {
        "id": "view-in-github",
        "colab_type": "text"
      },
      "source": [
        "<a href=\"https://colab.research.google.com/github/gabbypaola/DATA604/blob/main/G_Martinez_chap06.ipynb\" target=\"_parent\"><img src=\"https://colab.research.google.com/assets/colab-badge.svg\" alt=\"Open In Colab\"/></a>"
      ]
    },
    {
      "cell_type": "markdown",
      "metadata": {
        "id": "-9szZFfavlGL"
      },
      "source": [
        "# Chapter 6"
      ]
    },
    {
      "cell_type": "markdown",
      "metadata": {
        "tags": [],
        "id": "Ag4yz0r8vlGV"
      },
      "source": [
        "*Modeling and Simulation in Python*\n",
        "\n",
        "Copyright 2021 Allen Downey\n",
        "\n",
        "License: [Creative Commons Attribution-NonCommercial-ShareAlike 4.0 International](https://creativecommons.org/licenses/by-nc-sa/4.0/)"
      ]
    },
    {
      "cell_type": "code",
      "metadata": {
        "tags": [],
        "id": "3UDVbvtzvlGY"
      },
      "source": [
        "# check if the libraries we need are installed\n",
        "\n",
        "try:\n",
        "    import pint\n",
        "except ImportError:\n",
        "    !pip install pint\n",
        "    import pint\n",
        "    \n",
        "try:\n",
        "    from modsim import *\n",
        "except ImportError:\n",
        "    !pip install modsimpy\n",
        "    from modsim import *"
      ],
      "execution_count": 1,
      "outputs": []
    },
    {
      "cell_type": "markdown",
      "metadata": {
        "id": "nwley3BNvlGa"
      },
      "source": [
        "### Code from the previous chapter\n",
        "\n"
      ]
    },
    {
      "cell_type": "code",
      "metadata": {
        "id": "TOIcoEMKvlGc"
      },
      "source": [
        "import os\n",
        "\n",
        "filename = 'World_population_estimates.html'\n",
        "\n",
        "if not os.path.exists(filename):\n",
        "    !wget https://raw.githubusercontent.com/AllenDowney/ModSimPy/master/data/World_population_estimates.html"
      ],
      "execution_count": 2,
      "outputs": []
    },
    {
      "cell_type": "code",
      "metadata": {
        "id": "QwKPQYxnvlGd"
      },
      "source": [
        "from pandas import read_html\n",
        "\n",
        "tables = read_html(filename, header=0, index_col=0, decimal='M')\n",
        "table2 = tables[2]\n",
        "table2.columns = ['census', 'prb', 'un', 'maddison', \n",
        "                  'hyde', 'tanton', 'biraben', 'mj', \n",
        "                  'thomlinson', 'durand', 'clark']"
      ],
      "execution_count": 3,
      "outputs": []
    },
    {
      "cell_type": "code",
      "metadata": {
        "id": "zJz8ejvRvlGf",
        "colab": {
          "base_uri": "https://localhost:8080/"
        },
        "outputId": "3b9673b0-b0b1-464e-e91b-479936f79ff5"
      },
      "source": [
        "un = table2.un / 1e9\n",
        "un.head()"
      ],
      "execution_count": 4,
      "outputs": [
        {
          "output_type": "execute_result",
          "data": {
            "text/plain": [
              "Year\n",
              "1950    2.525149\n",
              "1951    2.572851\n",
              "1952    2.619292\n",
              "1953    2.665865\n",
              "1954    2.713172\n",
              "Name: un, dtype: float64"
            ]
          },
          "metadata": {
            "tags": []
          },
          "execution_count": 4
        }
      ]
    },
    {
      "cell_type": "code",
      "metadata": {
        "id": "hcRDXrvZvlGh",
        "colab": {
          "base_uri": "https://localhost:8080/"
        },
        "outputId": "d43970d7-c252-4bb9-8904-c92aa1cb247a"
      },
      "source": [
        "census = table2.census / 1e9\n",
        "census.head()"
      ],
      "execution_count": 5,
      "outputs": [
        {
          "output_type": "execute_result",
          "data": {
            "text/plain": [
              "Year\n",
              "1950    2.557629\n",
              "1951    2.594940\n",
              "1952    2.636772\n",
              "1953    2.682053\n",
              "1954    2.730228\n",
              "Name: census, dtype: float64"
            ]
          },
          "metadata": {
            "tags": []
          },
          "execution_count": 5
        }
      ]
    },
    {
      "cell_type": "code",
      "metadata": {
        "id": "h03uedcLvlGj"
      },
      "source": [
        "t_0 = get_first_label(census)\n",
        "t_end = get_last_label(census)\n",
        "elapsed_time = t_end - t_0\n",
        "\n",
        "p_0 = get_first_value(census)\n",
        "p_end = get_last_value(census)\n",
        "total_growth = p_end - p_0\n",
        "\n",
        "annual_growth = total_growth / elapsed_time"
      ],
      "execution_count": 6,
      "outputs": []
    },
    {
      "cell_type": "markdown",
      "metadata": {
        "id": "eJc83RXsvlGk"
      },
      "source": [
        "### System objects"
      ]
    },
    {
      "cell_type": "markdown",
      "metadata": {
        "id": "l6V0jwvEvlGl"
      },
      "source": [
        "We can rewrite the code from the previous chapter using system objects."
      ]
    },
    {
      "cell_type": "code",
      "metadata": {
        "id": "lsxixUY2vlGm"
      },
      "source": [
        "system = System(t_0=t_0, \n",
        "                t_end=t_end,\n",
        "                p_0=p_0,\n",
        "                annual_growth=annual_growth)"
      ],
      "execution_count": 7,
      "outputs": []
    },
    {
      "cell_type": "markdown",
      "metadata": {
        "id": "XiWbwHxnvlGn"
      },
      "source": [
        "And we can encapsulate the code that runs the model in a function."
      ]
    },
    {
      "cell_type": "code",
      "metadata": {
        "id": "h1rMgaZEvlGo"
      },
      "source": [
        "def run_simulation1(system):\n",
        "    \"\"\"Runs the constant growth model.\n",
        "    \n",
        "    system: System object\n",
        "    \n",
        "    returns: TimeSeries\n",
        "    \"\"\"\n",
        "    results = TimeSeries()\n",
        "    results[system.t_0] = system.p_0\n",
        "    \n",
        "    for t in linrange(system.t_0, system.t_end):\n",
        "        results[t+1] = results[t] + system.annual_growth\n",
        "    \n",
        "    return results"
      ],
      "execution_count": 8,
      "outputs": []
    },
    {
      "cell_type": "markdown",
      "metadata": {
        "id": "W4MDPvumvlGq"
      },
      "source": [
        "We can also encapsulate the code that plots the results."
      ]
    },
    {
      "cell_type": "code",
      "metadata": {
        "id": "0H0C4PDbvlGq"
      },
      "source": [
        "def plot_results(census, un, timeseries, title):\n",
        "    \"\"\"Plot the estimates and the model.\n",
        "    \n",
        "    census: TimeSeries of population estimates\n",
        "    un: TimeSeries of population estimates\n",
        "    timeseries: TimeSeries of simulation results\n",
        "    title: string\n",
        "    \"\"\"\n",
        "    plot(census, ':', label='US Census')\n",
        "    plot(un, '--', label='UN DESA')\n",
        "    plot(timeseries, color='gray', label='model')\n",
        "    \n",
        "    decorate(xlabel='Year', \n",
        "             ylabel='World population (billion)',\n",
        "             title=title)"
      ],
      "execution_count": 9,
      "outputs": []
    },
    {
      "cell_type": "markdown",
      "metadata": {
        "id": "cILcX2h6vlGs"
      },
      "source": [
        "Here's how we run it."
      ]
    },
    {
      "cell_type": "code",
      "metadata": {
        "id": "YWnBejMavlGt",
        "colab": {
          "base_uri": "https://localhost:8080/",
          "height": 297
        },
        "outputId": "3fead31d-9b9a-431f-9811-73d18bcc6a62"
      },
      "source": [
        "results = run_simulation1(system)\n",
        "plot_results(census, un, results, 'Constant growth model')"
      ],
      "execution_count": 10,
      "outputs": [
        {
          "output_type": "display_data",
          "data": {
            "image/png": "[encoded data removed]",
            "text/plain": [
              "<Figure size 432x288 with 1 Axes>"
            ]
          },
          "metadata": {
            "tags": [],
            "needs_background": "light"
          }
        }
      ]
    },
    {
      "cell_type": "markdown",
      "metadata": {
        "id": "ja6m69AEvlGu"
      },
      "source": [
        "## Proportional growth"
      ]
    },
    {
      "cell_type": "markdown",
      "metadata": {
        "id": "5eQhOOPGvlGv"
      },
      "source": [
        "Here's a more realistic model where the number of births and deaths is proportional to the current population."
      ]
    },
    {
      "cell_type": "code",
      "metadata": {
        "id": "trfRsgKWvlGv"
      },
      "source": [
        "def run_simulation2(system):\n",
        "    \"\"\"Run a model with proportional birth and death.\n",
        "    \n",
        "    system: System object\n",
        "    \n",
        "    returns: TimeSeries\n",
        "    \"\"\"\n",
        "    results = TimeSeries()\n",
        "    results[system.t_0] = system.p_0\n",
        "    \n",
        "    for t in linrange(system.t_0, system.t_end):\n",
        "        births = system.birth_rate * results[t]\n",
        "        deaths = system.death_rate * results[t]\n",
        "        results[t+1] = results[t] + births - deaths\n",
        "        \n",
        "    return results"
      ],
      "execution_count": 11,
      "outputs": []
    },
    {
      "cell_type": "markdown",
      "metadata": {
        "id": "TxYk0pPfvlGx"
      },
      "source": [
        "I picked a death rate that seemed reasonable and then adjusted the birth rate to fit the data."
      ]
    },
    {
      "cell_type": "code",
      "metadata": {
        "id": "4BQuXjdFvlGx"
      },
      "source": [
        "system.death_rate = 0.01\n",
        "system.birth_rate = 0.027"
      ],
      "execution_count": 12,
      "outputs": []
    },
    {
      "cell_type": "markdown",
      "metadata": {
        "id": "tMCbyrwyvlGy"
      },
      "source": [
        "Here's what it looks like."
      ]
    },
    {
      "cell_type": "code",
      "metadata": {
        "id": "p5nA_IDcvlGz",
        "colab": {
          "base_uri": "https://localhost:8080/",
          "height": 297
        },
        "outputId": "9dc9079d-c5a6-4f26-8485-165e90032d9c"
      },
      "source": [
        "results = run_simulation2(system)\n",
        "plot_results(census, un, results, 'Proportional model')"
      ],
      "execution_count": 13,
      "outputs": [
        {
          "output_type": "display_data",
          "data": {
            "image/png": "[encoded data removed]",
            "text/plain": [
              "<Figure size 432x288 with 1 Axes>"
            ]
          },
          "metadata": {
            "tags": [],
            "needs_background": "light"
          }
        }
      ]
    },
    {
      "cell_type": "markdown",
      "metadata": {
        "id": "Wzd0xnNVvlG0"
      },
      "source": [
        "The model fits the data pretty well for the first 20 years, but not so well after that."
      ]
    },
    {
      "cell_type": "markdown",
      "metadata": {
        "id": "rbuAjpOgvlG0"
      },
      "source": [
        "### Factoring out the update function"
      ]
    },
    {
      "cell_type": "markdown",
      "metadata": {
        "id": "FP_yAbU2vlG1"
      },
      "source": [
        "`run_simulation1` and `run_simulation2` are nearly identical except the body of the loop.  So we can factor that part out into a function."
      ]
    },
    {
      "cell_type": "code",
      "metadata": {
        "id": "JObsD9OxvlG2"
      },
      "source": [
        "def update_func1(pop, t, system):\n",
        "    \"\"\"Compute the population next year.\n",
        "    \n",
        "    pop: current population\n",
        "    t: current year\n",
        "    system: system object containing parameters of the model\n",
        "    \n",
        "    returns: population next year\n",
        "    \"\"\"\n",
        "    births = system.birth_rate * pop\n",
        "    deaths = system.death_rate * pop\n",
        "    return pop + births - deaths"
      ],
      "execution_count": 14,
      "outputs": []
    },
    {
      "cell_type": "markdown",
      "metadata": {
        "id": "AqWEvRO3vlG3"
      },
      "source": [
        "The name `update_func` refers to a function object."
      ]
    },
    {
      "cell_type": "code",
      "metadata": {
        "id": "o96bC_U-vlG4",
        "colab": {
          "base_uri": "https://localhost:8080/"
        },
        "outputId": "4dd01056-fd39-44ab-c13d-1a8c42079ce0"
      },
      "source": [
        "update_func1"
      ],
      "execution_count": 15,
      "outputs": [
        {
          "output_type": "execute_result",
          "data": {
            "text/plain": [
              "<function __main__.update_func1>"
            ]
          },
          "metadata": {
            "tags": []
          },
          "execution_count": 15
        }
      ]
    },
    {
      "cell_type": "markdown",
      "metadata": {
        "id": "uKmGnFKlvlG4"
      },
      "source": [
        "Which we can confirm by checking its type."
      ]
    },
    {
      "cell_type": "code",
      "metadata": {
        "id": "lahc_rpUvlG5",
        "colab": {
          "base_uri": "https://localhost:8080/"
        },
        "outputId": "484ae2a5-3625-49b5-ed3c-265252101f7c"
      },
      "source": [
        "type(update_func1)"
      ],
      "execution_count": 16,
      "outputs": [
        {
          "output_type": "execute_result",
          "data": {
            "text/plain": [
              "function"
            ]
          },
          "metadata": {
            "tags": []
          },
          "execution_count": 16
        }
      ]
    },
    {
      "cell_type": "markdown",
      "metadata": {
        "id": "HpDRbOvHvlG6"
      },
      "source": [
        "`run_simulation` takes the update function as a parameter and calls it just like any other function."
      ]
    },
    {
      "cell_type": "code",
      "metadata": {
        "id": "uD8w9Fm3vlG6"
      },
      "source": [
        "def run_simulation(system, update_func):\n",
        "    \"\"\"Simulate the system using any update function.\n",
        "    \n",
        "    system: System object\n",
        "    update_func: function that computes the population next year\n",
        "    \n",
        "    returns: TimeSeries\n",
        "    \"\"\"\n",
        "    results = TimeSeries()\n",
        "    results[system.t_0] = system.p_0\n",
        "    \n",
        "    for t in linrange(system.t_0, system.t_end):\n",
        "        results[t+1] = update_func(results[t], t, system)\n",
        "        \n",
        "    return results"
      ],
      "execution_count": 17,
      "outputs": []
    },
    {
      "cell_type": "markdown",
      "metadata": {
        "id": "262PHn2OvlG9"
      },
      "source": [
        "Here's how we use it."
      ]
    },
    {
      "cell_type": "code",
      "metadata": {
        "id": "8887zyNQvlG9"
      },
      "source": [
        "t_0 = get_first_label(census)\n",
        "t_end = get_last_label(census)\n",
        "p_0 = census[t_0]\n",
        "\n",
        "system = System(t_0=t_0, \n",
        "                t_end=t_end,\n",
        "                p_0=p_0,\n",
        "                birth_rate=0.027,\n",
        "                death_rate=0.01)"
      ],
      "execution_count": 18,
      "outputs": []
    },
    {
      "cell_type": "code",
      "metadata": {
        "id": "TOIlROHevlG_",
        "colab": {
          "base_uri": "https://localhost:8080/",
          "height": 297
        },
        "outputId": "d34f7c3e-32ed-4764-90a4-a60c05f95123"
      },
      "source": [
        "results = run_simulation(system, update_func1)\n",
        "plot_results(census, un, results, 'Proportional model, factored')"
      ],
      "execution_count": 19,
      "outputs": [
        {
          "output_type": "display_data",
          "data": {
            "image/png": "[encoded data removed]",
            "text/plain": [
              "<Figure size 432x288 with 1 Axes>"
            ]
          },
          "metadata": {
            "tags": [],
            "needs_background": "light"
          }
        }
      ]
    },
    {
      "cell_type": "markdown",
      "metadata": {
        "id": "gM0kNBXSvlHB"
      },
      "source": [
        "Remember not to put parentheses after `update_func1`.  What happens if you try?"
      ]
    },
    {
      "cell_type": "code",
      "metadata": {
        "colab": {
          "base_uri": "https://localhost:8080/",
          "height": 163
        },
        "id": "O9Wo6cfw1aks",
        "outputId": "8aeb3441-5731-4504-f0e3-a0b4ceb4ddce"
      },
      "source": [
        "results = run_simulation(system, update_func1())"
      ],
      "execution_count": 20,
      "outputs": [
        {
          "output_type": "error",
          "ename": "TypeError",
          "evalue": "ignored",
          "traceback": [
            "\u001b[0;31m---------------------------------------------------------------------------\u001b[0m",
            "\u001b[0;31mTypeError\u001b[0m                                 Traceback (most recent call last)",
            "\u001b[0;32m<ipython-input-20-65f6b15e1cc3>\u001b[0m in \u001b[0;36m<module>\u001b[0;34m()\u001b[0m\n\u001b[0;32m----> 1\u001b[0;31m \u001b[0mresults\u001b[0m \u001b[0;34m=\u001b[0m \u001b[0mrun_simulation\u001b[0m\u001b[0;34m(\u001b[0m\u001b[0msystem\u001b[0m\u001b[0;34m,\u001b[0m \u001b[0mupdate_func1\u001b[0m\u001b[0;34m(\u001b[0m\u001b[0;34m)\u001b[0m\u001b[0;34m)\u001b[0m\u001b[0;34m\u001b[0m\u001b[0;34m\u001b[0m\u001b[0m\n\u001b[0m",
            "\u001b[0;31mTypeError\u001b[0m: update_func1() missing 3 required positional arguments: 'pop', 't', and 'system'"
          ]
        }
      ]
    },
    {
      "cell_type": "markdown",
      "metadata": {
        "id": "Luea_tdlvlHC"
      },
      "source": [
        "**Exercise:** When you run `run_simulation`, it runs `update_func1` once for each year between `t_0` and `t_end`.  To see that for yourself, add a print statement at the beginning of `update_func1` that prints the values of `t` and `pop`, then run `run_simulation` again."
      ]
    },
    {
      "cell_type": "code",
      "metadata": {
        "id": "yAsX-aQo1q04"
      },
      "source": [
        "def update_func1(pop, t, system):\n",
        "    \"\"\"Compute the population next year.\n",
        "    \n",
        "    pop: current population\n",
        "    t: current year\n",
        "    system: system object containing parameters of the model\n",
        "    \n",
        "    returns: population next year\n",
        "    \"\"\"\n",
        "    print(\"t:\", t) #displays years\n",
        "    print(\"pop:\", pop) #displays population\n",
        "    \n",
        "    \n",
        "    births = system.birth_rate * pop\n",
        "    deaths = system.death_rate * pop\n",
        "    return pop + births - deaths"
      ],
      "execution_count": 21,
      "outputs": []
    },
    {
      "cell_type": "code",
      "metadata": {
        "colab": {
          "base_uri": "https://localhost:8080/",
          "height": 1000
        },
        "id": "fjWslIOS3kNf",
        "outputId": "4016afcb-27c2-48f9-ea3a-4084b5748a9d"
      },
      "source": [
        "run_simulation(system, update_func1)"
      ],
      "execution_count": 22,
      "outputs": [
        {
          "output_type": "stream",
          "text": [
            "t: 1950\n",
            "pop: 2.557628654\n",
            "t: 1951\n",
            "pop: 2.601108341118\n",
            "t: 1952\n",
            "pop: 2.645327182917006\n",
            "t: 1953\n",
            "pop: 2.6902977450265952\n",
            "t: 1954\n",
            "pop: 2.7360328066920476\n",
            "t: 1955\n",
            "pop: 2.7825453644058125\n",
            "t: 1956\n",
            "pop: 2.829848635600711\n",
            "t: 1957\n",
            "pop: 2.8779560624059233\n",
            "t: 1958\n",
            "pop: 2.926881315466824\n",
            "t: 1959\n",
            "pop: 2.9766382978297603\n",
            "t: 1960\n",
            "pop: 3.0272411488928666\n",
            "t: 1961\n",
            "pop: 3.078704248424045\n",
            "t: 1962\n",
            "pop: 3.131042220647254\n",
            "t: 1963\n",
            "pop: 3.184269938398258\n",
            "t: 1964\n",
            "pop: 3.2384025273510284\n",
            "t: 1965\n",
            "pop: 3.293455370315996\n",
            "t: 1966\n",
            "pop: 3.349444111611368\n",
            "t: 1967\n",
            "pop: 3.406384661508761\n",
            "t: 1968\n",
            "pop: 3.46429320075441\n",
            "t: 1969\n",
            "pop: 3.523186185167235\n",
            "t: 1970\n",
            "pop: 3.583080350315078\n",
            "t: 1971\n",
            "pop: 3.6439927162704344\n",
            "t: 1972\n",
            "pop: 3.7059405924470314\n",
            "t: 1973\n",
            "pop: 3.768941582518631\n",
            "t: 1974\n",
            "pop: 3.833013589421448\n",
            "t: 1975\n",
            "pop: 3.8981748204416125\n",
            "t: 1976\n",
            "pop: 3.9644437923891203\n",
            "t: 1977\n",
            "pop: 4.031839336859735\n",
            "t: 1978\n",
            "pop: 4.100380605586351\n",
            "t: 1979\n",
            "pop: 4.170087075881319\n",
            "t: 1980\n",
            "pop: 4.240978556171301\n",
            "t: 1981\n",
            "pop: 4.313075191626214\n",
            "t: 1982\n",
            "pop: 4.3863974698838595\n",
            "t: 1983\n",
            "pop: 4.460966226871885\n",
            "t: 1984\n",
            "pop: 4.536802652728707\n",
            "t: 1985\n",
            "pop: 4.613928297825096\n",
            "t: 1986\n",
            "pop: 4.692365078888122\n",
            "t: 1987\n",
            "pop: 4.77213528522922\n",
            "t: 1988\n",
            "pop: 4.8532615850781164\n",
            "t: 1989\n",
            "pop: 4.935767032024445\n",
            "t: 1990\n",
            "pop: 5.0196750715688605\n",
            "t: 1991\n",
            "pop: 5.1050095477855315\n",
            "t: 1992\n",
            "pop: 5.191794710097886\n",
            "t: 1993\n",
            "pop: 5.28005522016955\n",
            "t: 1994\n",
            "pop: 5.369816158912433\n",
            "t: 1995\n",
            "pop: 5.461103033613944\n",
            "t: 1996\n",
            "pop: 5.553941785185382\n",
            "t: 1997\n",
            "pop: 5.648358795533533\n",
            "t: 1998\n",
            "pop: 5.744380895057604\n",
            "t: 1999\n",
            "pop: 5.8420353702735826\n",
            "t: 2000\n",
            "pop: 5.941349971568234\n",
            "t: 2001\n",
            "pop: 6.042352921084894\n",
            "t: 2002\n",
            "pop: 6.145072920743337\n",
            "t: 2003\n",
            "pop: 6.249539160395973\n",
            "t: 2004\n",
            "pop: 6.355781326122704\n",
            "t: 2005\n",
            "pop: 6.46382960866679\n",
            "t: 2006\n",
            "pop: 6.573714712014126\n",
            "t: 2007\n",
            "pop: 6.685467862118366\n",
            "t: 2008\n",
            "pop: 6.799120815774378\n",
            "t: 2009\n",
            "pop: 6.9147058696425425\n",
            "t: 2010\n",
            "pop: 7.032255869426465\n",
            "t: 2011\n",
            "pop: 7.151804219206714\n",
            "t: 2012\n",
            "pop: 7.273384890933229\n",
            "t: 2013\n",
            "pop: 7.397032434079093\n",
            "t: 2014\n",
            "pop: 7.522781985458438\n",
            "t: 2015\n",
            "pop: 7.650669279211232\n"
          ],
          "name": "stdout"
        },
        {
          "output_type": "execute_result",
          "data": {
            "text/html": [
              "<div>\n",
              "<style scoped>\n",
              "    .dataframe tbody tr th:only-of-type {\n",
              "        vertical-align: middle;\n",
              "    }\n",
              "\n",
              "    .dataframe tbody tr th {\n",
              "        vertical-align: top;\n",
              "    }\n",
              "\n",
              "    .dataframe thead th {\n",
              "        text-align: right;\n",
              "    }\n",
              "</style>\n",
              "<table border=\"1\" class=\"dataframe\">\n",
              "  <thead>\n",
              "    <tr style=\"text-align: right;\">\n",
              "      <th></th>\n",
              "      <th>values</th>\n",
              "    </tr>\n",
              "  </thead>\n",
              "  <tbody>\n",
              "    <tr>\n",
              "      <th>1950</th>\n",
              "      <td>2.557629</td>\n",
              "    </tr>\n",
              "    <tr>\n",
              "      <th>1951</th>\n",
              "      <td>2.601108</td>\n",
              "    </tr>\n",
              "    <tr>\n",
              "      <th>1952</th>\n",
              "      <td>2.645327</td>\n",
              "    </tr>\n",
              "    <tr>\n",
              "      <th>1953</th>\n",
              "      <td>2.690298</td>\n",
              "    </tr>\n",
              "    <tr>\n",
              "      <th>1954</th>\n",
              "      <td>2.736033</td>\n",
              "    </tr>\n",
              "    <tr>\n",
              "      <th>...</th>\n",
              "      <td>...</td>\n",
              "    </tr>\n",
              "    <tr>\n",
              "      <th>2012</th>\n",
              "      <td>7.273385</td>\n",
              "    </tr>\n",
              "    <tr>\n",
              "      <th>2013</th>\n",
              "      <td>7.397032</td>\n",
              "    </tr>\n",
              "    <tr>\n",
              "      <th>2014</th>\n",
              "      <td>7.522782</td>\n",
              "    </tr>\n",
              "    <tr>\n",
              "      <th>2015</th>\n",
              "      <td>7.650669</td>\n",
              "    </tr>\n",
              "    <tr>\n",
              "      <th>2016</th>\n",
              "      <td>7.780731</td>\n",
              "    </tr>\n",
              "  </tbody>\n",
              "</table>\n",
              "<p>67 rows × 1 columns</p>\n",
              "</div>"
            ],
            "text/plain": [
              "1950    2.557629\n",
              "1951    2.601108\n",
              "1952    2.645327\n",
              "1953    2.690298\n",
              "1954    2.736033\n",
              "          ...   \n",
              "2012    7.273385\n",
              "2013    7.397032\n",
              "2014    7.522782\n",
              "2015    7.650669\n",
              "2016    7.780731\n",
              "Length: 67, dtype: float64"
            ]
          },
          "metadata": {
            "tags": []
          },
          "execution_count": 22
        }
      ]
    },
    {
      "cell_type": "markdown",
      "metadata": {
        "id": "zkd_NRSdvlHC"
      },
      "source": [
        "### Combining birth and death"
      ]
    },
    {
      "cell_type": "markdown",
      "metadata": {
        "id": "9IEi2qGivlHD"
      },
      "source": [
        "Since births and deaths get added up, we don't have to compute them separately.  We can combine the birth and death rates into a single net growth rate."
      ]
    },
    {
      "cell_type": "code",
      "metadata": {
        "id": "72oDWE3qvlHE"
      },
      "source": [
        "def update_func2(pop, t, system):\n",
        "    \"\"\"Compute the population next year.\n",
        "    \n",
        "    pop: current population\n",
        "    t: current year\n",
        "    system: system object containing parameters of the model\n",
        "    \n",
        "    returns: population next year\n",
        "    \"\"\"\n",
        "    net_growth = system.alpha  * pop\n",
        "    return pop + net_growth"
      ],
      "execution_count": 23,
      "outputs": []
    },
    {
      "cell_type": "markdown",
      "metadata": {
        "id": "o445szOXvlHF"
      },
      "source": [
        "Here's how it works:"
      ]
    },
    {
      "cell_type": "code",
      "metadata": {
        "id": "F-JRSqr4vlHF",
        "colab": {
          "base_uri": "https://localhost:8080/",
          "height": 297
        },
        "outputId": "fdbc624f-2ab9-4fe2-e446-0aa1647e88fe"
      },
      "source": [
        "system.alpha = system.birth_rate - system.death_rate\n",
        "\n",
        "results = run_simulation(system, update_func2)\n",
        "plot_results(census, un, results, 'Proportional model, combined birth and death')"
      ],
      "execution_count": 24,
      "outputs": [
        {
          "output_type": "display_data",
          "data": {
            "image/png": "[encoded data removed]",
            "text/plain": [
              "<Figure size 432x288 with 1 Axes>"
            ]
          },
          "metadata": {
            "tags": [],
            "needs_background": "light"
          }
        }
      ]
    },
    {
      "cell_type": "markdown",
      "metadata": {
        "id": "rDzjftRIvlHH"
      },
      "source": [
        "### Exercises\n",
        "\n",
        "**Exercise:** Maybe the reason the proportional model doesn't work very well is that the growth rate, `alpha`, is changing over time.  So let's try a model with different growth rates before and after 1980 (as an arbitrary choice).\n",
        "\n",
        "Write an update function that takes `pop`, `t`, and `system` as parameters.  The system object, `system`, should contain two parameters: the growth rate before 1980, `alpha1`, and the growth rate after 1980, `alpha2`.  It should use `t` to determine which growth rate to use.  Note: Don't forget the `return` statement.\n",
        "\n",
        "Test your function by calling it directly, then pass it to `run_simulation`.  Plot the results.  Adjust the parameters `alpha1` and `alpha2` to fit the data as well as you can.\n",
        "\n"
      ]
    },
    {
      "cell_type": "code",
      "metadata": {
        "scrolled": false,
        "id": "umdaJVMhvlHI"
      },
      "source": [
        "# Solution goes here\n",
        "def update_func3(pop, t, system):\n",
        "    \"\"\"Compute the population next year.\n",
        "    \n",
        "    pop: current population\n",
        "    t: current year\n",
        "    system: system object containing parameters of the model\n",
        "    system.alpha1 & system.alpha2: factors of manipulation on pop\n",
        "\n",
        "    returns: population next year\n",
        "    \"\"\"\n",
        "\n",
        "    if t < 1980:\n",
        "      net_growth = system.alpha1  * pop\n",
        "    else:\n",
        "      net_growth = system.alpha2  * pop\n",
        "\n",
        "    return pop + net_growth"
      ],
      "execution_count": 25,
      "outputs": []
    },
    {
      "cell_type": "code",
      "metadata": {
        "id": "nHW9pdyTvlHJ",
        "colab": {
          "base_uri": "https://localhost:8080/",
          "height": 297
        },
        "outputId": "40a5682f-96a3-47b7-acd3-0d108d79b010"
      },
      "source": [
        "#system.alpha = system.birth_rate - system.death_rate\n",
        "#system.alpha1 & system.alpha2 were determined using trial and error\n",
        "system.alpha1 = 0.019110\n",
        "system.alpha2 = 0.014919\n",
        "\n",
        "results = run_simulation(system, update_func3)\n",
        "plot_results(census, un, results, 'Growth rate model')"
      ],
      "execution_count": 26,
      "outputs": [
        {
          "output_type": "display_data",
          "data": {
            "image/png": "[encoded data removed]",
            "text/plain": [
              "<Figure size 432x288 with 1 Axes>"
            ]
          },
          "metadata": {
            "tags": [],
            "needs_background": "light"
          }
        }
      ]
    },
    {
      "cell_type": "code",
      "metadata": {
        "id": "9ZuA1mRSvlHJ"
      },
      "source": [
        "# Solution goes here\n",
        "#system.alpha1 = growth rate before 1980\n",
        "#system.alpha2 = growth rate after 1980\n",
        "#if t < 1980 use system.alpha1\n",
        "#if t > 1980 use system.alpha2\n",
        "\n",
        "\n",
        "#net_growth = system.alpha  * pop\n",
        "#    return pop + net_growth\n",
        "\n",
        "#if t < 1980:\n",
        "#system.alpha1 = system.birth_rate - system.death_rate\n",
        "#net_growth = system.alpha1  * pop\n",
        "#else:\n",
        "#system.alpha2 = system.birth_rate - system.death_rate\n",
        "#net_growth = system.alpha2  * pop\n"
      ],
      "execution_count": null,
      "outputs": []
    }
  ]
}