{
  "nbformat": 4,
  "nbformat_minor": 0,
  "metadata": {
    "kernelspec": {
      "display_name": "Python 3",
      "language": "python",
      "name": "python3"
    },
    "language_info": {
      "codemirror_mode": {
        "name": "ipython",
        "version": 3
      },
      "file_extension": ".py",
      "mimetype": "text/x-python",
      "name": "python",
      "nbconvert_exporter": "python",
      "pygments_lexer": "ipython3",
      "version": "3.7.9"
    },
    "colab": {
      "name": "G_Martinez_chap12.ipynb",
      "provenance": [],
      "include_colab_link": true
    }
  },
  "cells": [
    {
      "cell_type": "markdown",
      "metadata": {
        "id": "view-in-github",
        "colab_type": "text"
      },
      "source": [
        "<a href=\"https://colab.research.google.com/github/gabbypaola/DATA604/blob/main/G_Martinez_chap12.ipynb\" target=\"_parent\"><img src=\"https://colab.research.google.com/assets/colab-badge.svg\" alt=\"Open In Colab\"/></a>"
      ]
    },
    {
      "cell_type": "markdown",
      "metadata": {
        "id": "dJ4eDM4tte0j"
      },
      "source": [
        "# Chapter 12"
      ]
    },
    {
      "cell_type": "markdown",
      "metadata": {
        "tags": [],
        "id": "1JCicNKWte0r"
      },
      "source": [
        "*Modeling and Simulation in Python*\n",
        "\n",
        "Copyright 2021 Allen Downey\n",
        "\n",
        "License: [Creative Commons Attribution-NonCommercial-ShareAlike 4.0 International](https://creativecommons.org/licenses/by-nc-sa/4.0/)"
      ]
    },
    {
      "cell_type": "code",
      "metadata": {
        "tags": [],
        "id": "pC53G55Vte0u"
      },
      "source": [
        "# check if the libraries we need are installed\n",
        "\n",
        "try:\n",
        "    import pint\n",
        "except ImportError:\n",
        "    !pip install pint\n",
        "    import pint\n",
        "    \n",
        "try:\n",
        "    from modsim import *\n",
        "except ImportError:\n",
        "    !pip install modsimpy\n",
        "    from modsim import *"
      ],
      "execution_count": 1,
      "outputs": []
    },
    {
      "cell_type": "markdown",
      "metadata": {
        "id": "ntFG68Kwte0y"
      },
      "source": [
        "### Code\n",
        "\n",
        "Here's the code from the previous notebook that we'll need."
      ]
    },
    {
      "cell_type": "code",
      "metadata": {
        "id": "lCxdaKv_te00"
      },
      "source": [
        "def make_system(beta, gamma):\n",
        "    \"\"\"Make a system object for the SIR model.\n",
        "    \n",
        "    beta: contact rate in days\n",
        "    gamma: recovery rate in days\n",
        "    \n",
        "    returns: System object\n",
        "    \"\"\"\n",
        "    init = State(S=89, I=1, R=0)\n",
        "    init /= sum(init)\n",
        "\n",
        "    t0 = 0\n",
        "    t_end = 7 * 14\n",
        "\n",
        "    return System(init=init, t0=t0, t_end=t_end,\n",
        "                  beta=beta, gamma=gamma)"
      ],
      "execution_count": 2,
      "outputs": []
    },
    {
      "cell_type": "code",
      "metadata": {
        "id": "6FAvYdfJte01"
      },
      "source": [
        "def update_func(state, t, system):\n",
        "    \"\"\"Update the SIR model.\n",
        "    \n",
        "    state: State with variables S, I, R\n",
        "    t: time step\n",
        "    system: System with beta and gamma\n",
        "    \n",
        "    returns: State object\n",
        "    \"\"\"\n",
        "    s, i, r = state\n",
        "\n",
        "    infected = system.beta * i * s    \n",
        "    recovered = system.gamma * i\n",
        "    \n",
        "    s -= infected\n",
        "    i += infected - recovered\n",
        "    r += recovered\n",
        "    \n",
        "    return State(S=s, I=i, R=r)"
      ],
      "execution_count": 3,
      "outputs": []
    },
    {
      "cell_type": "code",
      "metadata": {
        "id": "6Q7hTnCnte03"
      },
      "source": [
        "def run_simulation(system, update_func):\n",
        "    \"\"\"Runs a simulation of the system.\n",
        "        \n",
        "    system: System object\n",
        "    update_func: function that updates state\n",
        "    \n",
        "    returns: TimeFrame\n",
        "    \"\"\"\n",
        "    frame = TimeFrame(columns=system.init.index)\n",
        "    frame.row[system.t0] = system.init\n",
        "    \n",
        "    for t in linrange(system.t0, system.t_end):\n",
        "        frame.row[t+1] = update_func(frame.row[t], t, system)\n",
        "    \n",
        "    return frame"
      ],
      "execution_count": 4,
      "outputs": []
    },
    {
      "cell_type": "markdown",
      "metadata": {
        "id": "grhdcefnte05"
      },
      "source": [
        "### Metrics"
      ]
    },
    {
      "cell_type": "markdown",
      "metadata": {
        "id": "fgYWixUFte07"
      },
      "source": [
        "Given the results, we can compute metrics that quantify whatever we are interested in, like the total number of sick students, for example."
      ]
    },
    {
      "cell_type": "code",
      "metadata": {
        "id": "ggmtMhz6te09"
      },
      "source": [
        "def calc_total_infected(results):\n",
        "    \"\"\"Fraction of population infected during the simulation.\n",
        "    \n",
        "    results: DataFrame with columns S, I, R\n",
        "    \n",
        "    returns: fraction of population\n",
        "    \"\"\"\n",
        "    return get_first_value(results.S) - get_last_value(results.S)"
      ],
      "execution_count": 5,
      "outputs": []
    },
    {
      "cell_type": "markdown",
      "metadata": {
        "id": "5yyswJUcte0-"
      },
      "source": [
        "Here's an example.|"
      ]
    },
    {
      "cell_type": "code",
      "metadata": {
        "id": "l7MKHWl1te0_",
        "colab": {
          "base_uri": "https://localhost:8080/"
        },
        "outputId": "cad4f37a-ed46-415e-b734-0e6eb38d2af5"
      },
      "source": [
        "beta = 0.333\n",
        "gamma = 0.25\n",
        "system = make_system(beta, gamma)\n",
        "\n",
        "results = run_simulation(system, update_func)\n",
        "print(beta, gamma, calc_total_infected(results))"
      ],
      "execution_count": 6,
      "outputs": [
        {
          "output_type": "stream",
          "text": [
            "0.333 0.25 0.46716293183605073\n"
          ],
          "name": "stdout"
        }
      ]
    },
    {
      "cell_type": "code",
      "metadata": {
        "colab": {
          "base_uri": "https://localhost:8080/"
        },
        "id": "wL3hSlWLPqT8",
        "outputId": "0fb39a33-35ee-40bd-92e6-18d26fb13c00"
      },
      "source": [
        "get_first_value(results.S)"
      ],
      "execution_count": 7,
      "outputs": [
        {
          "output_type": "execute_result",
          "data": {
            "text/plain": [
              "0.9888888888888889"
            ]
          },
          "metadata": {
            "tags": []
          },
          "execution_count": 7
        }
      ]
    },
    {
      "cell_type": "code",
      "metadata": {
        "colab": {
          "base_uri": "https://localhost:8080/"
        },
        "id": "EJyaYA94UKhg",
        "outputId": "cdb0d8c9-ca9c-41b6-8076-939cc82af13c"
      },
      "source": [
        "results.I[30]"
      ],
      "execution_count": 8,
      "outputs": [
        {
          "output_type": "execute_result",
          "data": {
            "text/plain": [
              "0.043536202687592354"
            ]
          },
          "metadata": {
            "tags": []
          },
          "execution_count": 8
        }
      ]
    },
    {
      "cell_type": "code",
      "metadata": {
        "colab": {
          "base_uri": "https://localhost:8080/"
        },
        "id": "shQGd4VnUNSr",
        "outputId": "5e0b4574-c420-4980-e1f6-6f022704d53a"
      },
      "source": [
        "results.S.idxmin()"
      ],
      "execution_count": 9,
      "outputs": [
        {
          "output_type": "execute_result",
          "data": {
            "text/plain": [
              "98"
            ]
          },
          "metadata": {
            "tags": []
          },
          "execution_count": 9
        }
      ]
    },
    {
      "cell_type": "code",
      "metadata": {
        "colab": {
          "base_uri": "https://localhost:8080/",
          "height": 142
        },
        "id": "cM7dP3MrYCg7",
        "outputId": "b7d796fc-b6a5-4730-e977-ece8e2939033"
      },
      "source": [
        "system.init"
      ],
      "execution_count": 10,
      "outputs": [
        {
          "output_type": "execute_result",
          "data": {
            "text/html": [
              "<div>\n",
              "<style scoped>\n",
              "    .dataframe tbody tr th:only-of-type {\n",
              "        vertical-align: middle;\n",
              "    }\n",
              "\n",
              "    .dataframe tbody tr th {\n",
              "        vertical-align: top;\n",
              "    }\n",
              "\n",
              "    .dataframe thead th {\n",
              "        text-align: right;\n",
              "    }\n",
              "</style>\n",
              "<table border=\"1\" class=\"dataframe\">\n",
              "  <thead>\n",
              "    <tr style=\"text-align: right;\">\n",
              "      <th></th>\n",
              "      <th>values</th>\n",
              "    </tr>\n",
              "  </thead>\n",
              "  <tbody>\n",
              "    <tr>\n",
              "      <th>S</th>\n",
              "      <td>0.988889</td>\n",
              "    </tr>\n",
              "    <tr>\n",
              "      <th>I</th>\n",
              "      <td>0.011111</td>\n",
              "    </tr>\n",
              "    <tr>\n",
              "      <th>R</th>\n",
              "      <td>0.000000</td>\n",
              "    </tr>\n",
              "  </tbody>\n",
              "</table>\n",
              "</div>"
            ],
            "text/plain": [
              "S    0.988889\n",
              "I    0.011111\n",
              "R    0.000000\n",
              "dtype: float64"
            ]
          },
          "metadata": {
            "tags": []
          },
          "execution_count": 10
        }
      ]
    },
    {
      "cell_type": "markdown",
      "metadata": {
        "id": "GlE5HdF3te1A"
      },
      "source": [
        "**Exercise:** Write functions that take a `TimeFrame` object as a parameter and compute the other metrics mentioned in the book:\n",
        "\n",
        "1.  The fraction of students who are sick at the peak of the outbreak.\n",
        "\n",
        "2.  The day the outbreak peaks.\n",
        "\n",
        "3.  The fraction of students who are sick at the end of the semester.\n",
        "\n",
        "Note: Not all of these functions require the `System` object, but when you write a set of related functons, it is often convenient if they all take the same parameters.\n",
        "\n",
        "Hint:  If you have a `TimeSeries` called `I`, you can compute the largest value of the series like this:\n",
        "\n",
        "    I.max()\n",
        "\n",
        "And the index of the largest value like this:\n",
        "\n",
        "    I.idxmax()\n",
        "\n",
        "You can read about these functions in the `Series` [documentation](https://pandas.pydata.org/pandas-docs/stable/generated/pandas.Series.html)."
      ]
    },
    {
      "cell_type": "code",
      "metadata": {
        "id": "jHJr6A-Bte1D"
      },
      "source": [
        "# Solution goes here: \n",
        "# The fraction of students who are sick at the peak of the outbreak.\n",
        "\n",
        "def peak_infected(results):\n",
        "    \"\"\"Fraction of population infected during the peak of simulation.\n",
        "    \n",
        "    results: DataFrame with columns S, I, R\n",
        "    \n",
        "    returns: fraction of population\n",
        "    \"\"\"\n",
        "    return results.I.max()"
      ],
      "execution_count": 11,
      "outputs": []
    },
    {
      "cell_type": "code",
      "metadata": {
        "id": "CrRjsrxHte1E",
        "colab": {
          "base_uri": "https://localhost:8080/"
        },
        "outputId": "980eebe8-11b4-49b4-95dd-53418be64df7"
      },
      "source": [
        "print(peak_infected(results))"
      ],
      "execution_count": 12,
      "outputs": [
        {
          "output_type": "stream",
          "text": [
            "0.043536202687592354\n"
          ],
          "name": "stdout"
        }
      ]
    },
    {
      "cell_type": "code",
      "metadata": {
        "id": "O8xFOn4Ute1F"
      },
      "source": [
        "# Solution goes here\n",
        "# The day the outbreak peaks.\n",
        "def peak_infection_date(results):\n",
        "    \"\"\"Date of the peak infections in the simulation.\n",
        "    \n",
        "    results: DataFrame with columns S, I, R\n",
        "    \n",
        "    returns: date of peak infection\n",
        "    \"\"\"\n",
        "    return results.I.idxmax()"
      ],
      "execution_count": 13,
      "outputs": []
    },
    {
      "cell_type": "code",
      "metadata": {
        "colab": {
          "base_uri": "https://localhost:8080/"
        },
        "id": "6eI-GaptukMU",
        "outputId": "51df2f80-7cbc-4992-a265-e9887034dcb9"
      },
      "source": [
        "print(peak_infection_date(results))"
      ],
      "execution_count": 14,
      "outputs": [
        {
          "output_type": "stream",
          "text": [
            "30\n"
          ],
          "name": "stdout"
        }
      ]
    },
    {
      "cell_type": "code",
      "metadata": {
        "id": "JKz60hoZutRp"
      },
      "source": [
        "# Solution goes here\n",
        "# The fraction of students who are sick at the end of the semester.\n",
        "def final_infected(results):\n",
        "    \"\"\"Fraction of population infected during the end of simulation.\n",
        "    \n",
        "    results: DataFrame with columns S, I, R\n",
        "    \n",
        "    returns: fraction of population\n",
        "    \"\"\"\n",
        "    return get_last_value(results.I)"
      ],
      "execution_count": 15,
      "outputs": []
    },
    {
      "cell_type": "code",
      "metadata": {
        "colab": {
          "base_uri": "https://localhost:8080/"
        },
        "id": "rCkPsV5gxgoT",
        "outputId": "389ad9be-c529-462e-9af1-b5caf02051de"
      },
      "source": [
        "print(final_infected(results))"
      ],
      "execution_count": 16,
      "outputs": [
        {
          "output_type": "stream",
          "text": [
            "0.0006741943156034474\n"
          ],
          "name": "stdout"
        }
      ]
    },
    {
      "cell_type": "markdown",
      "metadata": {
        "id": "vt4v9XcMte1F"
      },
      "source": [
        "### What if?"
      ]
    },
    {
      "cell_type": "markdown",
      "metadata": {
        "id": "e7i3A6vste1G"
      },
      "source": [
        "We can use this model to evaluate \"what if\" scenarios.  For example, this function models the effect of immunization by moving some fraction of the population from S to R before the simulation starts."
      ]
    },
    {
      "cell_type": "code",
      "metadata": {
        "id": "YK2ZocZ9te1H"
      },
      "source": [
        "def add_immunization(system, fraction):\n",
        "    \"\"\"Immunize a fraction of the population.\n",
        "    \n",
        "    Moves the given fraction from S to R.\n",
        "    \n",
        "    system: System object\n",
        "    fraction: number from 0 to 1\n",
        "    \"\"\"\n",
        "    system.init.S -= fraction\n",
        "    system.init.R += fraction"
      ],
      "execution_count": 17,
      "outputs": []
    },
    {
      "cell_type": "markdown",
      "metadata": {
        "id": "P4ZfhHM8te1I"
      },
      "source": [
        "Let's start again with the system we used in the previous sections."
      ]
    },
    {
      "cell_type": "code",
      "metadata": {
        "id": "NeSNJgYTte1J"
      },
      "source": [
        "tc = 3      # time between contacts in days \n",
        "tr = 4      # recovery time in days\n",
        "\n",
        "beta = 1 / tc      # contact rate in per day\n",
        "gamma = 1 / tr     # recovery rate in per day\n",
        "\n",
        "system = make_system(beta, gamma)"
      ],
      "execution_count": 18,
      "outputs": []
    },
    {
      "cell_type": "markdown",
      "metadata": {
        "id": "e6hZ2wKcte1K"
      },
      "source": [
        "And run the model without immunization."
      ]
    },
    {
      "cell_type": "code",
      "metadata": {
        "id": "jL1t1_1Ute1L",
        "colab": {
          "base_uri": "https://localhost:8080/"
        },
        "outputId": "75effcdc-1a9d-47c1-bc5a-669e842db141"
      },
      "source": [
        "results = run_simulation(system, update_func)\n",
        "calc_total_infected(results)"
      ],
      "execution_count": 19,
      "outputs": [
        {
          "output_type": "execute_result",
          "data": {
            "text/plain": [
              "0.468320811028781"
            ]
          },
          "metadata": {
            "tags": []
          },
          "execution_count": 19
        }
      ]
    },
    {
      "cell_type": "markdown",
      "metadata": {
        "id": "dznre5mYte1L"
      },
      "source": [
        "Now with 10% immunization."
      ]
    },
    {
      "cell_type": "code",
      "metadata": {
        "id": "a4wgkxtRte1M",
        "colab": {
          "base_uri": "https://localhost:8080/"
        },
        "outputId": "00230d63-365e-40fc-988a-5da3ff7d71d3"
      },
      "source": [
        "system2 = make_system(beta, gamma)\n",
        "add_immunization(system2, 0.1)\n",
        "results2 = run_simulation(system2, update_func)\n",
        "calc_total_infected(results2)"
      ],
      "execution_count": 20,
      "outputs": [
        {
          "output_type": "execute_result",
          "data": {
            "text/plain": [
              "0.30650802853979753"
            ]
          },
          "metadata": {
            "tags": []
          },
          "execution_count": 20
        }
      ]
    },
    {
      "cell_type": "markdown",
      "metadata": {
        "id": "ta6kxhWRte1N"
      },
      "source": [
        "10% immunization leads to a drop in infections of 16 percentage points.\n",
        "\n",
        "Here's what the time series looks like for S, with and without immunization."
      ]
    },
    {
      "cell_type": "code",
      "metadata": {
        "id": "2zGMhtCite1O",
        "colab": {
          "base_uri": "https://localhost:8080/",
          "height": 297
        },
        "outputId": "6aa1b84c-6dfe-4cf2-c6c6-8edbafe51146"
      },
      "source": [
        "plot(results.S, '-', label='No immunization')\n",
        "plot(results2.S, '--', label='10% immunization')\n",
        "\n",
        "decorate(xlabel='Time (days)',\n",
        "         ylabel='Fraction susceptible')\n",
        "\n"
      ],
      "execution_count": 21,
      "outputs": [
        {
          "output_type": "display_data",
          "data": {
            "image/png": "[encoded data removed]",
            "text/plain": [
              "<Figure size 432x288 with 1 Axes>"
            ]
          },
          "metadata": {
            "tags": [],
            "needs_background": "light"
          }
        }
      ]
    },
    {
      "cell_type": "markdown",
      "metadata": {
        "id": "P3ToygACte1Q"
      },
      "source": [
        "Now we can sweep through a range of values for the fraction of the population who are immunized."
      ]
    },
    {
      "cell_type": "code",
      "metadata": {
        "id": "N--0niePte1R",
        "colab": {
          "base_uri": "https://localhost:8080/"
        },
        "outputId": "e692c37c-5968-42fd-f312-6341f4f28fc9"
      },
      "source": [
        "immunize_array = linspace(0, 1, 11)\n",
        "for fraction in immunize_array:\n",
        "    system = make_system(beta, gamma)\n",
        "    add_immunization(system, fraction)\n",
        "    results = run_simulation(system, update_func)\n",
        "    print(fraction, calc_total_infected(results))"
      ],
      "execution_count": 22,
      "outputs": [
        {
          "output_type": "stream",
          "text": [
            "0.0 0.468320811028781\n",
            "0.1 0.30650802853979753\n",
            "0.2 0.16136545700638427\n",
            "0.30000000000000004 0.0728155898425179\n",
            "0.4 0.03552021675299155\n",
            "0.5 0.019688715782459176\n",
            "0.6000000000000001 0.011622057998337987\n",
            "0.7000000000000001 0.006838737800619332\n",
            "0.8 0.003696496253713877\n",
            "0.9 0.0014815326722661948\n",
            "1.0 -0.00016121210941239666\n"
          ],
          "name": "stdout"
        }
      ]
    },
    {
      "cell_type": "markdown",
      "metadata": {
        "id": "1cFRbs6jte1S"
      },
      "source": [
        "This function does the same thing and stores the results in a `Sweep` object."
      ]
    },
    {
      "cell_type": "code",
      "metadata": {
        "id": "MQsukWy9te1T"
      },
      "source": [
        "def sweep_immunity(immunize_array):\n",
        "    \"\"\"Sweeps a range of values for immunity.\n",
        "    \n",
        "    immunize_array: array of fraction immunized\n",
        "    \n",
        "    returns: Sweep object\n",
        "    \"\"\"\n",
        "    sweep = SweepSeries()\n",
        "    \n",
        "    for fraction in immunize_array:\n",
        "        system = make_system(beta, gamma)\n",
        "        add_immunization(system, fraction)\n",
        "        results = run_simulation(system, update_func)\n",
        "        sweep[fraction] = calc_total_infected(results)\n",
        "        \n",
        "    return sweep"
      ],
      "execution_count": 23,
      "outputs": []
    },
    {
      "cell_type": "markdown",
      "metadata": {
        "id": "_Gd3ZwXbte1U"
      },
      "source": [
        "Here's how we run it."
      ]
    },
    {
      "cell_type": "code",
      "metadata": {
        "scrolled": true,
        "id": "Eq9QeQUWte1V"
      },
      "source": [
        "immunize_array = linspace(0, 1, 21)\n",
        "infected_sweep = sweep_immunity(immunize_array)"
      ],
      "execution_count": 24,
      "outputs": []
    },
    {
      "cell_type": "markdown",
      "metadata": {
        "id": "0eWSxBXtte1W"
      },
      "source": [
        "And here's what the results look like."
      ]
    },
    {
      "cell_type": "code",
      "metadata": {
        "id": "37seCTsPte1X",
        "colab": {
          "base_uri": "https://localhost:8080/",
          "height": 297
        },
        "outputId": "603d6f3e-bd76-4ca8-c15f-1ff77936ab5c"
      },
      "source": [
        "plot(infected_sweep)\n",
        "\n",
        "decorate(xlabel='Fraction immunized',\n",
        "         ylabel='Total fraction infected',\n",
        "         title='Fraction infected vs. immunization rate',\n",
        "         legend=False)\n",
        "\n"
      ],
      "execution_count": 25,
      "outputs": [
        {
          "output_type": "display_data",
          "data": {
            "image/png": "[encoded data removed]",
            "text/plain": [
              "<Figure size 432x288 with 1 Axes>"
            ]
          },
          "metadata": {
            "tags": [],
            "needs_background": "light"
          }
        }
      ]
    },
    {
      "cell_type": "markdown",
      "metadata": {
        "id": "9xN6X9ukte1Y"
      },
      "source": [
        "If 40% of the population is immunized, less than 4% of the population gets sick."
      ]
    },
    {
      "cell_type": "markdown",
      "metadata": {
        "id": "gnByjE_kte1Y"
      },
      "source": [
        "### Logistic function"
      ]
    },
    {
      "cell_type": "markdown",
      "metadata": {
        "id": "iRXz_yjNte1Z"
      },
      "source": [
        "To model the effect of a hand-washing campaign, I'll use a [generalized logistic function](https://en.wikipedia.org/wiki/Generalised_logistic_function) (GLF), which is a convenient function for modeling curves that have a generally sigmoid shape.  The parameters of the GLF correspond to various features of the curve in a way that makes it easy to find a function that has the shape you want, based on data or background information about the scenario."
      ]
    },
    {
      "cell_type": "code",
      "metadata": {
        "id": "lbPng1D7te1a"
      },
      "source": [
        "def logistic(x, A=0, B=1, C=1, M=0, K=1, Q=1, nu=1):\n",
        "    \"\"\"Computes the generalize logistic function.\n",
        "    \n",
        "    A: controls the lower bound\n",
        "    B: controls the steepness of the transition \n",
        "    C: not all that useful, AFAIK\n",
        "    M: controls the location of the transition\n",
        "    K: controls the upper bound\n",
        "    Q: shift the transition left or right\n",
        "    nu: affects the symmetry of the transition\n",
        "    \n",
        "    returns: float or array\n",
        "    \"\"\"\n",
        "    exponent = -B * (x - M)\n",
        "    denom = C + Q * exp(exponent)\n",
        "    return A + (K-A) / denom ** (1/nu)"
      ],
      "execution_count": 26,
      "outputs": []
    },
    {
      "cell_type": "markdown",
      "metadata": {
        "id": "vdMWJToNte1b"
      },
      "source": [
        "The following array represents the range of possible spending."
      ]
    },
    {
      "cell_type": "code",
      "metadata": {
        "id": "g3-zdU7wte1b"
      },
      "source": [
        "spending = linspace(0, 1200, 21)"
      ],
      "execution_count": 27,
      "outputs": []
    },
    {
      "cell_type": "markdown",
      "metadata": {
        "id": "-BKmZVF-te1c"
      },
      "source": [
        "`compute_factor` computes the reduction in `beta` for a given level of campaign spending.\n",
        "\n",
        "`M` is chosen so the transition happens around \\$500.\n",
        "\n",
        "`K` is the maximum reduction in `beta`, 20%.\n",
        "\n",
        "`B` is chosen by trial and error to yield a curve that seems feasible."
      ]
    },
    {
      "cell_type": "code",
      "metadata": {
        "id": "ErL9iG-7te1d"
      },
      "source": [
        "def compute_factor(spending):\n",
        "    \"\"\"Reduction factor as a function of spending.\n",
        "    \n",
        "    spending: dollars from 0 to 1200\n",
        "    \n",
        "    returns: fractional reduction in beta\n",
        "    \"\"\"\n",
        "    return logistic(spending, M=500, K=0.2, B=0.01)"
      ],
      "execution_count": 28,
      "outputs": []
    },
    {
      "cell_type": "markdown",
      "metadata": {
        "id": "2AGYd1bLte1e"
      },
      "source": [
        "Here's what it looks like."
      ]
    },
    {
      "cell_type": "code",
      "metadata": {
        "id": "8QsackKCte1f",
        "colab": {
          "base_uri": "https://localhost:8080/",
          "height": 299
        },
        "outputId": "e0037c61-9472-490d-a31b-cfe9b3427f47"
      },
      "source": [
        "percent_reduction = compute_factor(spending) * 100\n",
        "\n",
        "plot(spending, percent_reduction)\n",
        "\n",
        "decorate(xlabel='Hand-washing campaign spending (USD)',\n",
        "         ylabel='Percent reduction in infection rate',\n",
        "         title='Effect of hand washing on infection rate',\n",
        "         legend=False)"
      ],
      "execution_count": 29,
      "outputs": [
        {
          "output_type": "display_data",
          "data": {
            "image/png": "[encoded data removed]",
            "text/plain": [
              "<Figure size 432x288 with 1 Axes>"
            ]
          },
          "metadata": {
            "tags": [],
            "needs_background": "light"
          }
        }
      ]
    },
    {
      "cell_type": "markdown",
      "metadata": {
        "id": "MzDEB4bhte1g"
      },
      "source": [
        "**Exercise:** Modify the parameters `M`, `K`, and `B`, and see what effect they have on the shape of the curve.  Read about the [generalized logistic function on Wikipedia](https://en.wikipedia.org/wiki/Generalised_logistic_function).  Modify the other parameters and see what effect they have."
      ]
    },
    {
      "cell_type": "code",
      "metadata": {
        "id": "RZxycWqh9nNy"
      },
      "source": [
        "# M: controls the location of the transition\n",
        "# B: controls the steepness of the transition\n",
        "# K: controls the upper bound\n",
        "\n",
        "def compute_factor(spending):\n",
        "    \"\"\"Reduction factor as a function of spending.\n",
        "    \n",
        "    spending: dollars from 0 to 1200\n",
        "    \n",
        "    returns: fractional reduction in beta\n",
        "    \"\"\"\n",
        "    return logistic(spending, M=1000, K=0.4, B=0.02)"
      ],
      "execution_count": 30,
      "outputs": []
    },
    {
      "cell_type": "code",
      "metadata": {
        "colab": {
          "base_uri": "https://localhost:8080/",
          "height": 299
        },
        "id": "R7jX0aNi9m38",
        "outputId": "24e25e64-62f5-4106-d874-c4e7ef685287"
      },
      "source": [
        "percent_reduction = compute_factor(spending) * 100\n",
        "\n",
        "plot(spending, percent_reduction)\n",
        "\n",
        "decorate(xlabel='Hand-washing campaign spending (USD)',\n",
        "         ylabel='Percent reduction in infection rate',\n",
        "         title='Effect of hand washing on infection rate',\n",
        "         legend=False)"
      ],
      "execution_count": 31,
      "outputs": [
        {
          "output_type": "display_data",
          "data": {
            "image/png": "[encoded data removed]",
            "text/plain": [
              "<Figure size 432x288 with 1 Axes>"
            ]
          },
          "metadata": {
            "tags": [],
            "needs_background": "light"
          }
        }
      ]
    },
    {
      "cell_type": "markdown",
      "metadata": {
        "id": "zO3TEmXyte1h"
      },
      "source": [
        "### Hand washing"
      ]
    },
    {
      "cell_type": "markdown",
      "metadata": {
        "id": "XBYNp4PJte1h"
      },
      "source": [
        "Now we can model the effect of a hand-washing campaign by modifying `beta`"
      ]
    },
    {
      "cell_type": "code",
      "metadata": {
        "id": "TLGvMat-te1i"
      },
      "source": [
        "def add_hand_washing(system, spending):\n",
        "    \"\"\"Modifies system to model the effect of hand washing.\n",
        "    \n",
        "    system: System object\n",
        "    spending: campaign spending in USD\n",
        "    \"\"\"\n",
        "    factor = compute_factor(spending)\n",
        "    system.beta *= (1 - factor)"
      ],
      "execution_count": 32,
      "outputs": []
    },
    {
      "cell_type": "markdown",
      "metadata": {
        "id": "iG0134y_te1j"
      },
      "source": [
        "Let's start with the same values of `beta` and `gamma` we've been using."
      ]
    },
    {
      "cell_type": "code",
      "metadata": {
        "id": "5yeBGydtte1j",
        "colab": {
          "base_uri": "https://localhost:8080/"
        },
        "outputId": "80a3d769-c332-4306-9a28-f616d129f080"
      },
      "source": [
        "tc = 3      # time between contacts in days \n",
        "tr = 4      # recovery time in days\n",
        "\n",
        "beta = 1 / tc      # contact rate in per day\n",
        "gamma = 1 / tr     # recovery rate in per day\n",
        "\n",
        "beta, gamma"
      ],
      "execution_count": 33,
      "outputs": [
        {
          "output_type": "execute_result",
          "data": {
            "text/plain": [
              "(0.3333333333333333, 0.25)"
            ]
          },
          "metadata": {
            "tags": []
          },
          "execution_count": 33
        }
      ]
    },
    {
      "cell_type": "markdown",
      "metadata": {
        "id": "mzWZOr9qte1k"
      },
      "source": [
        "Now we can sweep different levels of campaign spending."
      ]
    },
    {
      "cell_type": "code",
      "metadata": {
        "id": "IKEQxoxlte1l",
        "colab": {
          "base_uri": "https://localhost:8080/"
        },
        "outputId": "f720ac45-ea7e-4fd4-aac9-79328ef4e1c0"
      },
      "source": [
        "spending_array = linspace(0, 1200, 13)\n",
        "\n",
        "for spending in spending_array:\n",
        "    system = make_system(beta, gamma)\n",
        "    add_hand_washing(system, spending)\n",
        "    results = run_simulation(system, update_func)\n",
        "    print(spending, system.beta, calc_total_infected(results))"
      ],
      "execution_count": 34,
      "outputs": [
        {
          "output_type": "stream",
          "text": [
            "0.0 0.3333333330585128 0.4683208100753852\n",
            "100.0 0.3333333313026694 0.46832080398408305\n",
            "200.0 0.33333331832864505 0.4683207589751148\n",
            "300.0 0.3333332224629296 0.46832042640145755\n",
            "400.0 0.33333251411005305 0.4683179690032223\n",
            "500.0 0.333327280284173 0.46829981154162215\n",
            "600.0 0.33328861998260445 0.4681656664296294\n",
            "700.0 0.33300365024578205 0.46717562764673615\n",
            "800.0 0.33093517200505446 0.45992353170391076\n",
            "900.0 0.317439610397051 0.409666625667106\n",
            "1000.0 0.26666666666666666 0.18734121837761575\n",
            "1100.0 0.21589372293628234 0.054059416406319616\n",
            "1200.0 0.20239816132827887 0.04034266735908176\n"
          ],
          "name": "stdout"
        }
      ]
    },
    {
      "cell_type": "markdown",
      "metadata": {
        "id": "EvSvzexute1m"
      },
      "source": [
        "Here's a function that sweeps a range of spending and stores the results in a `SweepSeries`."
      ]
    },
    {
      "cell_type": "code",
      "metadata": {
        "id": "bF1gNpObte1n"
      },
      "source": [
        "def sweep_hand_washing(spending_array):\n",
        "    \"\"\"Run simulations with a range of spending.\n",
        "    \n",
        "    spending_array: array of dollars from 0 to 1200\n",
        "    \n",
        "    returns: Sweep object\n",
        "    \"\"\"\n",
        "    sweep = SweepSeries()\n",
        "    \n",
        "    for spending in spending_array:\n",
        "        system = make_system(beta, gamma)\n",
        "        add_hand_washing(system, spending)\n",
        "        results = run_simulation(system, update_func)\n",
        "        sweep[spending] = calc_total_infected(results)\n",
        "        \n",
        "    return sweep"
      ],
      "execution_count": 35,
      "outputs": []
    },
    {
      "cell_type": "markdown",
      "metadata": {
        "id": "VnJPIagate1o"
      },
      "source": [
        "Here's how we run it."
      ]
    },
    {
      "cell_type": "code",
      "metadata": {
        "id": "m37k_Euate1p"
      },
      "source": [
        "spending_array = linspace(0, 1200, 20)\n",
        "infected_sweep = sweep_hand_washing(spending_array)"
      ],
      "execution_count": 36,
      "outputs": []
    },
    {
      "cell_type": "markdown",
      "metadata": {
        "id": "Y0in_17ute1q"
      },
      "source": [
        "And here's what it looks like."
      ]
    },
    {
      "cell_type": "code",
      "metadata": {
        "id": "Y-WUdAfvte1q",
        "colab": {
          "base_uri": "https://localhost:8080/",
          "height": 297
        },
        "outputId": "faaa7d36-b5a6-44f0-c916-3bb6c3c82f69"
      },
      "source": [
        "plot(infected_sweep)\n",
        "\n",
        "decorate(xlabel='Hand-washing campaign spending (USD)',\n",
        "         ylabel='Total fraction infected',\n",
        "         title='Effect of hand washing on total infections',\n",
        "         legend=False)\n",
        "\n"
      ],
      "execution_count": 37,
      "outputs": [
        {
          "output_type": "display_data",
          "data": {
            "image/png": "[encoded data removed]",
            "text/plain": [
              "<Figure size 432x288 with 1 Axes>"
            ]
          },
          "metadata": {
            "tags": [],
            "needs_background": "light"
          }
        }
      ]
    },
    {
      "cell_type": "markdown",
      "metadata": {
        "id": "vu8UY45hte1r"
      },
      "source": [
        "Now let's put it all together to make some public health spending decisions."
      ]
    },
    {
      "cell_type": "markdown",
      "metadata": {
        "id": "zJ6pOVx9te1s"
      },
      "source": [
        "### Optimization"
      ]
    },
    {
      "cell_type": "markdown",
      "metadata": {
        "id": "WfayMolvte1t"
      },
      "source": [
        "Suppose we have \\$1200 to spend on any combination of vaccines and a hand-washing campaign."
      ]
    },
    {
      "cell_type": "code",
      "metadata": {
        "id": "4D-kBwDCte1u",
        "colab": {
          "base_uri": "https://localhost:8080/"
        },
        "outputId": "17ad5026-0a9f-4a09-84bd-b1ba1db012d6"
      },
      "source": [
        "num_students = 90\n",
        "budget = 1200\n",
        "price_per_dose = 100\n",
        "max_doses = int(budget / price_per_dose)\n",
        "dose_array = linrange(max_doses, endpoint=True)\n",
        "max_doses"
      ],
      "execution_count": 38,
      "outputs": [
        {
          "output_type": "execute_result",
          "data": {
            "text/plain": [
              "12"
            ]
          },
          "metadata": {
            "tags": []
          },
          "execution_count": 38
        }
      ]
    },
    {
      "cell_type": "markdown",
      "metadata": {
        "id": "0iSOokBKte1v"
      },
      "source": [
        "We can sweep through a range of doses from, 0 to `max_doses`, model the effects of immunization and the hand-washing campaign, and run simulations.\n",
        "\n",
        "For each scenario, we compute the fraction of students who get sick."
      ]
    },
    {
      "cell_type": "code",
      "metadata": {
        "id": "Be_8_6PDte1w",
        "colab": {
          "base_uri": "https://localhost:8080/"
        },
        "outputId": "9eff759d-644b-4b3d-e409-cc179299e72a"
      },
      "source": [
        "for doses in dose_array:\n",
        "    fraction = doses / num_students\n",
        "    spending = budget - doses * price_per_dose\n",
        "    \n",
        "    system = make_system(beta, gamma)\n",
        "    add_immunization(system, fraction)\n",
        "    add_hand_washing(system, spending)\n",
        "    \n",
        "    results = run_simulation(system, update_func)\n",
        "    print(doses, system.init.S, system.beta, calc_total_infected(results))"
      ],
      "execution_count": 39,
      "outputs": [
        {
          "output_type": "stream",
          "text": [
            "0 0.9888888888888889 0.20239816132827887 0.04034266735908176\n",
            "1 0.9777777777777779 0.21589372293628234 0.05110889810098551\n",
            "2 0.9666666666666667 0.26666666666666666 0.1612546225821201\n",
            "3 0.9555555555555556 0.317439610397051 0.3552720391135348\n",
            "4 0.9444444444444445 0.33093517200505446 0.3877932291535252\n",
            "5 0.9333333333333333 0.33300365024578205 0.3770988102724273\n",
            "6 0.9222222222222223 0.33328861998260445 0.360070227997931\n",
            "7 0.9111111111111112 0.333327280284173 0.3422128497207897\n",
            "8 0.9 0.33333251411005305 0.3243114470480609\n",
            "9 0.888888888888889 0.3333332224629296 0.30650764261688\n",
            "10 0.8777777777777778 0.33333331832864505 0.2888624936845584\n",
            "11 0.8666666666666667 0.3333333313026694 0.27143307649187187\n",
            "12 0.8555555555555556 0.3333333330585128 0.2542825839877081\n"
          ],
          "name": "stdout"
        }
      ]
    },
    {
      "cell_type": "markdown",
      "metadata": {
        "id": "9UzTNKf-te1x"
      },
      "source": [
        "The following function wraps that loop and stores the results in a `Sweep` object."
      ]
    },
    {
      "cell_type": "code",
      "metadata": {
        "id": "zq1aBU4fte1x"
      },
      "source": [
        "def sweep_doses(dose_array):\n",
        "    \"\"\"Runs simulations with different doses and campaign spending.\n",
        "    \n",
        "    dose_array: range of values for number of vaccinations\n",
        "    \n",
        "    return: Sweep object with total number of infections \n",
        "    \"\"\"\n",
        "    sweep = SweepSeries()\n",
        "    \n",
        "    for doses in dose_array:\n",
        "        fraction = doses / num_students\n",
        "        spending = budget - doses * price_per_dose\n",
        "        \n",
        "        system = make_system(beta, gamma)\n",
        "        add_immunization(system, fraction)\n",
        "        add_hand_washing(system, spending)\n",
        "        \n",
        "        results = run_simulation(system, update_func)\n",
        "        sweep[doses] = calc_total_infected(results)\n",
        "\n",
        "    return sweep"
      ],
      "execution_count": 40,
      "outputs": []
    },
    {
      "cell_type": "markdown",
      "metadata": {
        "id": "ffMfHKylte1y"
      },
      "source": [
        "Now we can compute the number of infected students for each possible allocation of the budget."
      ]
    },
    {
      "cell_type": "code",
      "metadata": {
        "id": "g_IhfeI3te1z"
      },
      "source": [
        "infected_sweep = sweep_doses(dose_array)"
      ],
      "execution_count": 41,
      "outputs": []
    },
    {
      "cell_type": "markdown",
      "metadata": {
        "id": "oFLVV5jyte10"
      },
      "source": [
        "And plot the results."
      ]
    },
    {
      "cell_type": "code",
      "metadata": {
        "id": "l9pSs_Adte11",
        "colab": {
          "base_uri": "https://localhost:8080/",
          "height": 297
        },
        "outputId": "9f739ec2-9076-4035-92de-23878211f707"
      },
      "source": [
        "plot(infected_sweep)\n",
        "\n",
        "decorate(xlabel='Doses of vaccine',\n",
        "         ylabel='Total fraction infected',\n",
        "         title='Total infections vs. doses',\n",
        "         legend=False)\n",
        "\n"
      ],
      "execution_count": 42,
      "outputs": [
        {
          "output_type": "display_data",
          "data": {
            "image/png": "[encoded data removed]",
            "text/plain": [
              "<Figure size 432x288 with 1 Axes>"
            ]
          },
          "metadata": {
            "tags": [],
            "needs_background": "light"
          }
        }
      ]
    },
    {
      "cell_type": "markdown",
      "metadata": {
        "id": "iChSajkate12"
      },
      "source": [
        "### Exercises\n",
        "\n",
        "**Exercise:** Suppose the price of the vaccine drops to $50 per dose.  How does that affect the optimal allocation of the spending?"
      ]
    },
    {
      "cell_type": "markdown",
      "metadata": {
        "id": "KNOJ0XxSGQp6"
      },
      "source": [
        "By changing the `price_per_dose` to  $50 and keeping the `budget` at the optimal price, this increases the amount of `max_doses` and reduces the fraction of infected as more vaccines are administered."
      ]
    },
    {
      "cell_type": "code",
      "metadata": {
        "colab": {
          "base_uri": "https://localhost:8080/"
        },
        "id": "DGy7DSlMC77y",
        "outputId": "86f78ab5-6f58-49e7-eadb-783173bb029b"
      },
      "source": [
        "num_students = 90\n",
        "budget = 1200\n",
        "price_per_dose = 50\n",
        "max_doses = int(budget / price_per_dose)\n",
        "dose_array = linrange(max_doses, endpoint=True)\n",
        "max_doses"
      ],
      "execution_count": 43,
      "outputs": [
        {
          "output_type": "execute_result",
          "data": {
            "text/plain": [
              "24"
            ]
          },
          "metadata": {
            "tags": []
          },
          "execution_count": 43
        }
      ]
    },
    {
      "cell_type": "code",
      "metadata": {
        "id": "P55WLRZJDDAE"
      },
      "source": [
        "infected_sweep = sweep_doses(dose_array)"
      ],
      "execution_count": 44,
      "outputs": []
    },
    {
      "cell_type": "code",
      "metadata": {
        "colab": {
          "base_uri": "https://localhost:8080/",
          "height": 297
        },
        "id": "DeeG-OK7DuT7",
        "outputId": "bdd7b078-7892-4855-bc9b-9d509e6c6ff5"
      },
      "source": [
        "plot(infected_sweep)\n",
        "\n",
        "decorate(xlabel='Doses of vaccine',\n",
        "         ylabel='Total fraction infected',\n",
        "         title='Total infections vs. Doses at $50 per dose',\n",
        "         legend=False)"
      ],
      "execution_count": 45,
      "outputs": [
        {
          "output_type": "display_data",
          "data": {
            "image/png": "[encoded data removed]",
            "text/plain": [
              "<Figure size 432x288 with 1 Axes>"
            ]
          },
          "metadata": {
            "tags": [],
            "needs_background": "light"
          }
        }
      ]
    },
    {
      "cell_type": "markdown",
      "metadata": {
        "id": "-6ebx3nHte13"
      },
      "source": [
        "**Exercise:** Suppose we have the option to quarantine infected students.  For example, a student who feels ill might be moved to an infirmary, or a private dorm room, until they are no longer infectious.\n",
        "\n",
        "How might you incorporate the effect of quarantine in the SIR model?"
      ]
    },
    {
      "cell_type": "markdown",
      "metadata": {
        "id": "nvZHS3x8RWkT"
      },
      "source": [
        "Similar to the `add_immunization()` function, we can create an `add_quarantine()` function to account for the fraction of quarantined individuals then move people out of the infection population (I) and into the susceptible (S) population.  "
      ]
    },
    {
      "cell_type": "code",
      "metadata": {
        "id": "WnMor00vvQbs"
      },
      "source": [
        "def add_quarantine(system, fraction):\n",
        "    \"\"\"Quarantine a fraction of the population.\n",
        "    \n",
        "    Moves the given fraction from I to S.\n",
        "    \n",
        "    system: System object\n",
        "    fraction: number from 0 to 1\n",
        "    \"\"\"\n",
        "    system.init.I -= fraction\n",
        "    system.init.S += fraction"
      ],
      "execution_count": 46,
      "outputs": []
    },
    {
      "cell_type": "markdown",
      "metadata": {
        "id": "TRyygSYrNJAh"
      },
      "source": [
        "What does quarantine do?\n",
        "\n",
        "> It minimizes (-) the rate of contagion that infected (I) people have on susceptible (S) people; thus reducing the amount of additional infected (I) people.\n",
        "\n",
        "`beta = 1/tc` -> contact rate per day\n",
        "\n",
        "`gamma = 1/tr` -> recovery rate per day\n",
        "\n",
        "Where `tc` = time of contact in days and `tr` = time of recovery in days.\n",
        "\n",
        "As an alternative, the `beta` factor used to calculate the fraction of infected people can take into account number of days in quarantine by subtracting the number of days spent in quarantine from time of contact `tc`. This reduces the number of days an infected person is in contact with others which would minimize the amount of people an infected person can spread the infection to. This is assuming a person quarantines after realizing they have the virus meaning they have already potentially spread the virus, `tc` > `tq`. If `tc` = `tq` then no days have spent in contact with others and no spreading has happened.\n"
      ]
    },
    {
      "cell_type": "code",
      "metadata": {
        "id": "g6rN607Ate13"
      },
      "source": [
        "# Solution goes here\n",
        "def update_func(state, t, system):\n",
        "    \"\"\"Update the SIR model.\n",
        "    \n",
        "    state: State with variables S, I, R\n",
        "    t: time step\n",
        "    system: System with beta and gamma\n",
        "    \n",
        "    returns: State object\n",
        "    \"\"\"\n",
        "    s, i, r = state\n",
        "\n",
        "    infected = system.beta * i * s    \n",
        "    recovered = system.gamma * i\n",
        "    \n",
        "    s -= infected\n",
        "    i += infected - recovered\n",
        "    r += recovered\n",
        "    \n",
        "    return State(S=s, I=i, R=r)"
      ],
      "execution_count": 47,
      "outputs": []
    },
    {
      "cell_type": "code",
      "metadata": {
        "id": "x9hCUuQj1kQS"
      },
      "source": [
        "def plot_results(S, I, R):\n",
        "    \"\"\"Plot the results of a SIR model.\n",
        "    \n",
        "    S: TimeSeries\n",
        "    I: TimeSeries\n",
        "    R: TimeSeries\n",
        "    \"\"\"\n",
        "    plot(S, '--', label='Susceptible')\n",
        "    plot(I, '-', label='Infected')\n",
        "    plot(R, ':', label='Recovered')\n",
        "    decorate(xlabel='Time (days)',\n",
        "             ylabel='Fraction of population')"
      ],
      "execution_count": 48,
      "outputs": []
    },
    {
      "cell_type": "code",
      "metadata": {
        "colab": {
          "base_uri": "https://localhost:8080/",
          "height": 297
        },
        "id": "kM-jCyV31bKa",
        "outputId": "b7a34568-5329-4b19-8778-c34dec77f65b"
      },
      "source": [
        "# Solution goes here\n",
        "tq = 1      # time in quarantine\n",
        "tc = 4      # time between contact in days \n",
        "tr = 5      # recovery time in days\n",
        "\n",
        "beta = 1 / (tc-tq)      # total contact rate in per day\n",
        "gamma = 1 / tr     # recovery rate in per day\n",
        "\n",
        "system = make_system(beta, gamma)\n",
        "results = run_simulation(system, update_func)\n",
        "\n",
        "plot_results(results.S, results.I, results.R)"
      ],
      "execution_count": 49,
      "outputs": [
        {
          "output_type": "display_data",
          "data": {
            "image/png": "[encoded data removed]",
            "text/plain": [
              "<Figure size 432x288 with 1 Axes>"
            ]
          },
          "metadata": {
            "tags": [],
            "needs_background": "light"
          }
        }
      ]
    }
  ]
}