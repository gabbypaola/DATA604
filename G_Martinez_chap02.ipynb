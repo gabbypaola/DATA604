{
  "nbformat": 4,
  "nbformat_minor": 0,
  "metadata": {
    "celltoolbar": "Tags",
    "kernelspec": {
      "display_name": "Python 3",
      "language": "python",
      "name": "python3"
    },
    "language_info": {
      "codemirror_mode": {
        "name": "ipython",
        "version": 3
      },
      "file_extension": ".py",
      "mimetype": "text/x-python",
      "name": "python",
      "nbconvert_exporter": "python",
      "pygments_lexer": "ipython3",
      "version": "3.7.9"
    },
    "colab": {
      "name": "G_Martinez_chap02.ipynb",
      "provenance": [],
      "include_colab_link": true
    }
  },
  "cells": [
    {
      "cell_type": "markdown",
      "metadata": {
        "id": "view-in-github",
        "colab_type": "text"
      },
      "source": [
        "<a href=\"https://colab.research.google.com/github/gabbypaola/DATA604/blob/main/G_Martinez_chap02.ipynb\" target=\"_parent\"><img src=\"https://colab.research.google.com/assets/colab-badge.svg\" alt=\"Open In Colab\"/></a>"
      ]
    },
    {
      "cell_type": "markdown",
      "metadata": {
        "id": "JWNARNT512uy"
      },
      "source": [
        "# Chapter 2"
      ]
    },
    {
      "cell_type": "markdown",
      "metadata": {
        "tags": [],
        "id": "qj9RPV0K12u-"
      },
      "source": [
        "*Modeling and Simulation in Python*\n",
        "\n",
        "Copyright 2021 Allen Downey\n",
        "\n",
        "License: [Creative Commons Attribution-NonCommercial-ShareAlike 4.0 International](https://creativecommons.org/licenses/by-nc-sa/4.0/)"
      ]
    },
    {
      "cell_type": "code",
      "metadata": {
        "tags": [],
        "id": "B1cIQyjN12vC"
      },
      "source": [
        "# check if the libraries we need are installed\n",
        "\n",
        "try:\n",
        "    import pint\n",
        "except ImportError:\n",
        "    !pip install pint\n",
        "    import pint\n",
        "    \n",
        "try:\n",
        "    from modsim import *\n",
        "except ImportError:\n",
        "    !pip install modsimpy\n",
        "    from modsim import *"
      ],
      "execution_count": 1,
      "outputs": []
    },
    {
      "cell_type": "markdown",
      "metadata": {
        "id": "4fnfbDSy12vG"
      },
      "source": [
        "## Modeling a bikeshare system"
      ]
    },
    {
      "cell_type": "markdown",
      "metadata": {
        "id": "feKEDNOg12vH"
      },
      "source": [
        "We'll start with a `State` object that represents the number of bikes at each station.\n",
        "\n",
        "When you display a `State` object, it lists the state variables and their values:"
      ]
    },
    {
      "cell_type": "code",
      "metadata": {
        "id": "aKVj0mvr12vJ"
      },
      "source": [
        "bikeshare = State(olin=10, wellesley=2)"
      ],
      "execution_count": 2,
      "outputs": []
    },
    {
      "cell_type": "markdown",
      "metadata": {
        "id": "pYPpb0GV12vK"
      },
      "source": [
        "We can access the state variables using dot notation."
      ]
    },
    {
      "cell_type": "code",
      "metadata": {
        "id": "iIlYeKhZ12vM",
        "colab": {
          "base_uri": "https://localhost:8080/"
        },
        "outputId": "205df2a1-d9be-4839-ba29-4c1b15a7c7e2"
      },
      "source": [
        "bikeshare.olin"
      ],
      "execution_count": 3,
      "outputs": [
        {
          "output_type": "execute_result",
          "data": {
            "text/plain": [
              "10"
            ]
          },
          "metadata": {
            "tags": []
          },
          "execution_count": 3
        }
      ]
    },
    {
      "cell_type": "code",
      "metadata": {
        "scrolled": true,
        "id": "hIr8P7VG12vO",
        "colab": {
          "base_uri": "https://localhost:8080/"
        },
        "outputId": "2d00ffc2-cd13-4f19-9ec4-4194f741ebb6"
      },
      "source": [
        "bikeshare.wellesley"
      ],
      "execution_count": 4,
      "outputs": [
        {
          "output_type": "execute_result",
          "data": {
            "text/plain": [
              "2"
            ]
          },
          "metadata": {
            "tags": []
          },
          "execution_count": 4
        }
      ]
    },
    {
      "cell_type": "markdown",
      "metadata": {
        "id": "0Xc-3RW512vQ"
      },
      "source": [
        "**Exercise:** What happens if you spell the name of a state variable wrong?  Edit the previous cell, change the spelling of `wellesley`, and run the cell again.\n",
        "\n",
        "The error message uses the word \"attribute\", which is another name for what we are calling a state variable. "
      ]
    },
    {
      "cell_type": "code",
      "metadata": {
        "id": "k6jRc9Dj2iM4"
      },
      "source": [
        "#bikeshare.wellesle\n",
        "#error message: AttributeError: 'State' object has no attribute 'wellesle'"
      ],
      "execution_count": 5,
      "outputs": []
    },
    {
      "cell_type": "markdown",
      "metadata": {
        "id": "M8mjrUAx12vS"
      },
      "source": [
        "**Exercise:** Add a third attribute called `babson` with initial value 0, and display the state of `bikeshare` again."
      ]
    },
    {
      "cell_type": "code",
      "metadata": {
        "id": "BDjC7tXE3CQ7"
      },
      "source": [
        "bikeshare = State(olin=10, wellesley=2, babson = 0)"
      ],
      "execution_count": 6,
      "outputs": []
    },
    {
      "cell_type": "code",
      "metadata": {
        "id": "vIDidI_r2wjA",
        "colab": {
          "base_uri": "https://localhost:8080/",
          "height": 142
        },
        "outputId": "208dd8bb-6bfa-4c7c-c507-fd8ad002dd9c"
      },
      "source": [
        "bikeshare"
      ],
      "execution_count": 7,
      "outputs": [
        {
          "output_type": "execute_result",
          "data": {
            "text/html": [
              "<div>\n",
              "<style scoped>\n",
              "    .dataframe tbody tr th:only-of-type {\n",
              "        vertical-align: middle;\n",
              "    }\n",
              "\n",
              "    .dataframe tbody tr th {\n",
              "        vertical-align: top;\n",
              "    }\n",
              "\n",
              "    .dataframe thead th {\n",
              "        text-align: right;\n",
              "    }\n",
              "</style>\n",
              "<table border=\"1\" class=\"dataframe\">\n",
              "  <thead>\n",
              "    <tr style=\"text-align: right;\">\n",
              "      <th></th>\n",
              "      <th>values</th>\n",
              "    </tr>\n",
              "  </thead>\n",
              "  <tbody>\n",
              "    <tr>\n",
              "      <th>olin</th>\n",
              "      <td>10</td>\n",
              "    </tr>\n",
              "    <tr>\n",
              "      <th>wellesley</th>\n",
              "      <td>2</td>\n",
              "    </tr>\n",
              "    <tr>\n",
              "      <th>babson</th>\n",
              "      <td>0</td>\n",
              "    </tr>\n",
              "  </tbody>\n",
              "</table>\n",
              "</div>"
            ],
            "text/plain": [
              "olin         10\n",
              "wellesley     2\n",
              "babson        0\n",
              "dtype: int64"
            ]
          },
          "metadata": {
            "tags": []
          },
          "execution_count": 7
        }
      ]
    },
    {
      "cell_type": "markdown",
      "metadata": {
        "id": "VlacT7jB12vU"
      },
      "source": [
        "## Updating\n",
        "\n",
        "We can use the update operators `+=` and `-=` to change state variables."
      ]
    },
    {
      "cell_type": "code",
      "metadata": {
        "id": "loOjg7lk12vV"
      },
      "source": [
        "bikeshare.olin -= 1"
      ],
      "execution_count": 8,
      "outputs": []
    },
    {
      "cell_type": "markdown",
      "metadata": {
        "id": "VQJXcB6v12vX"
      },
      "source": [
        "If we display `bikeshare`, we should see the change."
      ]
    },
    {
      "cell_type": "code",
      "metadata": {
        "id": "OwCmo1l412vY",
        "colab": {
          "base_uri": "https://localhost:8080/",
          "height": 142
        },
        "outputId": "f85170ec-3f63-489c-a1bf-9af2e8728202"
      },
      "source": [
        "bikeshare"
      ],
      "execution_count": 9,
      "outputs": [
        {
          "output_type": "execute_result",
          "data": {
            "text/html": [
              "<div>\n",
              "<style scoped>\n",
              "    .dataframe tbody tr th:only-of-type {\n",
              "        vertical-align: middle;\n",
              "    }\n",
              "\n",
              "    .dataframe tbody tr th {\n",
              "        vertical-align: top;\n",
              "    }\n",
              "\n",
              "    .dataframe thead th {\n",
              "        text-align: right;\n",
              "    }\n",
              "</style>\n",
              "<table border=\"1\" class=\"dataframe\">\n",
              "  <thead>\n",
              "    <tr style=\"text-align: right;\">\n",
              "      <th></th>\n",
              "      <th>values</th>\n",
              "    </tr>\n",
              "  </thead>\n",
              "  <tbody>\n",
              "    <tr>\n",
              "      <th>olin</th>\n",
              "      <td>9</td>\n",
              "    </tr>\n",
              "    <tr>\n",
              "      <th>wellesley</th>\n",
              "      <td>2</td>\n",
              "    </tr>\n",
              "    <tr>\n",
              "      <th>babson</th>\n",
              "      <td>0</td>\n",
              "    </tr>\n",
              "  </tbody>\n",
              "</table>\n",
              "</div>"
            ],
            "text/plain": [
              "olin         9\n",
              "wellesley    2\n",
              "babson       0\n",
              "dtype: int64"
            ]
          },
          "metadata": {
            "tags": []
          },
          "execution_count": 9
        }
      ]
    },
    {
      "cell_type": "markdown",
      "metadata": {
        "id": "DaCuzT6y12vZ"
      },
      "source": [
        "Of course, if we subtract a bike from `olin`, we should add it to `wellesley`."
      ]
    },
    {
      "cell_type": "code",
      "metadata": {
        "id": "uRdCotDC12va",
        "colab": {
          "base_uri": "https://localhost:8080/",
          "height": 142
        },
        "outputId": "71103887-7ca9-4e40-9a17-30bca9a75672"
      },
      "source": [
        "bikeshare.wellesley += 1\n",
        "bikeshare"
      ],
      "execution_count": 10,
      "outputs": [
        {
          "output_type": "execute_result",
          "data": {
            "text/html": [
              "<div>\n",
              "<style scoped>\n",
              "    .dataframe tbody tr th:only-of-type {\n",
              "        vertical-align: middle;\n",
              "    }\n",
              "\n",
              "    .dataframe tbody tr th {\n",
              "        vertical-align: top;\n",
              "    }\n",
              "\n",
              "    .dataframe thead th {\n",
              "        text-align: right;\n",
              "    }\n",
              "</style>\n",
              "<table border=\"1\" class=\"dataframe\">\n",
              "  <thead>\n",
              "    <tr style=\"text-align: right;\">\n",
              "      <th></th>\n",
              "      <th>values</th>\n",
              "    </tr>\n",
              "  </thead>\n",
              "  <tbody>\n",
              "    <tr>\n",
              "      <th>olin</th>\n",
              "      <td>9</td>\n",
              "    </tr>\n",
              "    <tr>\n",
              "      <th>wellesley</th>\n",
              "      <td>3</td>\n",
              "    </tr>\n",
              "    <tr>\n",
              "      <th>babson</th>\n",
              "      <td>0</td>\n",
              "    </tr>\n",
              "  </tbody>\n",
              "</table>\n",
              "</div>"
            ],
            "text/plain": [
              "olin         9\n",
              "wellesley    3\n",
              "babson       0\n",
              "dtype: int64"
            ]
          },
          "metadata": {
            "tags": []
          },
          "execution_count": 10
        }
      ]
    },
    {
      "cell_type": "markdown",
      "metadata": {
        "id": "p_JZSTJB12vc"
      },
      "source": [
        "## Functions\n",
        "\n",
        "We can take the code we've written so far and encapsulate it in a function."
      ]
    },
    {
      "cell_type": "code",
      "metadata": {
        "id": "VZS74hmq12vd"
      },
      "source": [
        "def bike_to_wellesley():\n",
        "    bikeshare.olin -= 1\n",
        "    bikeshare.wellesley += 1"
      ],
      "execution_count": 11,
      "outputs": []
    },
    {
      "cell_type": "markdown",
      "metadata": {
        "id": "rCEEJ8w512ve"
      },
      "source": [
        "When you define a function, it doesn't run the statements inside the function, yet.  When you call the function, it runs the statements inside."
      ]
    },
    {
      "cell_type": "code",
      "metadata": {
        "id": "E7fKmRw112vf",
        "colab": {
          "base_uri": "https://localhost:8080/",
          "height": 142
        },
        "outputId": "66221c4e-b940-4595-c876-f69baa1ed614"
      },
      "source": [
        "bike_to_wellesley()\n",
        "bikeshare"
      ],
      "execution_count": 12,
      "outputs": [
        {
          "output_type": "execute_result",
          "data": {
            "text/html": [
              "<div>\n",
              "<style scoped>\n",
              "    .dataframe tbody tr th:only-of-type {\n",
              "        vertical-align: middle;\n",
              "    }\n",
              "\n",
              "    .dataframe tbody tr th {\n",
              "        vertical-align: top;\n",
              "    }\n",
              "\n",
              "    .dataframe thead th {\n",
              "        text-align: right;\n",
              "    }\n",
              "</style>\n",
              "<table border=\"1\" class=\"dataframe\">\n",
              "  <thead>\n",
              "    <tr style=\"text-align: right;\">\n",
              "      <th></th>\n",
              "      <th>values</th>\n",
              "    </tr>\n",
              "  </thead>\n",
              "  <tbody>\n",
              "    <tr>\n",
              "      <th>olin</th>\n",
              "      <td>8</td>\n",
              "    </tr>\n",
              "    <tr>\n",
              "      <th>wellesley</th>\n",
              "      <td>4</td>\n",
              "    </tr>\n",
              "    <tr>\n",
              "      <th>babson</th>\n",
              "      <td>0</td>\n",
              "    </tr>\n",
              "  </tbody>\n",
              "</table>\n",
              "</div>"
            ],
            "text/plain": [
              "olin         8\n",
              "wellesley    4\n",
              "babson       0\n",
              "dtype: int64"
            ]
          },
          "metadata": {
            "tags": []
          },
          "execution_count": 12
        }
      ]
    },
    {
      "cell_type": "markdown",
      "metadata": {
        "id": "Kqi0RNtE12vg"
      },
      "source": [
        "\n",
        "One common error is to omit the parentheses, which has the effect of looking up the function, but not calling it."
      ]
    },
    {
      "cell_type": "code",
      "metadata": {
        "id": "183_MmAe12vh",
        "colab": {
          "base_uri": "https://localhost:8080/"
        },
        "outputId": "92174c31-ed89-4d9f-f6ad-4386d261b7b5"
      },
      "source": [
        "bike_to_wellesley"
      ],
      "execution_count": 13,
      "outputs": [
        {
          "output_type": "execute_result",
          "data": {
            "text/plain": [
              "<function __main__.bike_to_wellesley>"
            ]
          },
          "metadata": {
            "tags": []
          },
          "execution_count": 13
        }
      ]
    },
    {
      "cell_type": "markdown",
      "metadata": {
        "id": "e2odyHaA12vi"
      },
      "source": [
        "The output indicates that `bike_to_wellesley` is a function defined in a \"namespace\" called `__main__`, but you don't have to understand what that means."
      ]
    },
    {
      "cell_type": "markdown",
      "metadata": {
        "id": "TqjVpQPf12vj"
      },
      "source": [
        "**Exercise:** Define a function called `bike_to_olin` that moves a bike from Wellesley to Olin.  Call the new function and display `bikeshare`  to confirm that it works."
      ]
    },
    {
      "cell_type": "code",
      "metadata": {
        "id": "vU0IyzG912vk"
      },
      "source": [
        "# Solution goes here\n",
        "def bike_to_olin():\n",
        "    bikeshare.wellesley -= 1\n",
        "    bikeshare.olin += 1"
      ],
      "execution_count": 14,
      "outputs": []
    },
    {
      "cell_type": "code",
      "metadata": {
        "id": "AFG15DqR6OB-",
        "colab": {
          "base_uri": "https://localhost:8080/",
          "height": 142
        },
        "outputId": "40271ae8-2658-45d9-b517-96a00606458b"
      },
      "source": [
        "# Solution goes here\n",
        "bike_to_olin()\n",
        "bikeshare"
      ],
      "execution_count": 15,
      "outputs": [
        {
          "output_type": "execute_result",
          "data": {
            "text/html": [
              "<div>\n",
              "<style scoped>\n",
              "    .dataframe tbody tr th:only-of-type {\n",
              "        vertical-align: middle;\n",
              "    }\n",
              "\n",
              "    .dataframe tbody tr th {\n",
              "        vertical-align: top;\n",
              "    }\n",
              "\n",
              "    .dataframe thead th {\n",
              "        text-align: right;\n",
              "    }\n",
              "</style>\n",
              "<table border=\"1\" class=\"dataframe\">\n",
              "  <thead>\n",
              "    <tr style=\"text-align: right;\">\n",
              "      <th></th>\n",
              "      <th>values</th>\n",
              "    </tr>\n",
              "  </thead>\n",
              "  <tbody>\n",
              "    <tr>\n",
              "      <th>olin</th>\n",
              "      <td>9</td>\n",
              "    </tr>\n",
              "    <tr>\n",
              "      <th>wellesley</th>\n",
              "      <td>3</td>\n",
              "    </tr>\n",
              "    <tr>\n",
              "      <th>babson</th>\n",
              "      <td>0</td>\n",
              "    </tr>\n",
              "  </tbody>\n",
              "</table>\n",
              "</div>"
            ],
            "text/plain": [
              "olin         9\n",
              "wellesley    3\n",
              "babson       0\n",
              "dtype: int64"
            ]
          },
          "metadata": {
            "tags": []
          },
          "execution_count": 15
        }
      ]
    },
    {
      "cell_type": "markdown",
      "metadata": {
        "id": "HXHYHOEb12vm"
      },
      "source": [
        "## Conditionals"
      ]
    },
    {
      "cell_type": "markdown",
      "metadata": {
        "id": "MicZHdEp12vn"
      },
      "source": [
        "`modsim.py` provides `flip`, which takes a probability and returns either `True` or `False`, which are special values defined by Python.\n",
        "\n",
        "The Python function `help` looks up a function and displays its documentation."
      ]
    },
    {
      "cell_type": "code",
      "metadata": {
        "id": "JE1y6W9X12vp",
        "colab": {
          "base_uri": "https://localhost:8080/"
        },
        "outputId": "0203f91d-c07d-4325-d45e-d9dc255251c1"
      },
      "source": [
        "help(flip)"
      ],
      "execution_count": 16,
      "outputs": [
        {
          "output_type": "stream",
          "text": [
            "Help on function flip in module modsim.modsim:\n",
            "\n",
            "flip(p=0.5)\n",
            "    Flips a coin with the given probability.\n",
            "    \n",
            "    p: float 0-1\n",
            "    \n",
            "    returns: boolean (True or False)\n",
            "\n"
          ],
          "name": "stdout"
        }
      ]
    },
    {
      "cell_type": "code",
      "metadata": {
        "id": "RTc8-ktRgSzZ",
        "colab": {
          "base_uri": "https://localhost:8080/"
        },
        "outputId": "795c15d6-db63-495c-b2b8-9d6cee81d8d6"
      },
      "source": [
        "flip()"
      ],
      "execution_count": 17,
      "outputs": [
        {
          "output_type": "execute_result",
          "data": {
            "text/plain": [
              "True"
            ]
          },
          "metadata": {
            "tags": []
          },
          "execution_count": 17
        }
      ]
    },
    {
      "cell_type": "markdown",
      "metadata": {
        "id": "VOfiofd712vq"
      },
      "source": [
        "In the following example, the probability is 0.7 or 70%.  If you run this cell several times, you should get `True` about 70% of the time and `False` about 30%."
      ]
    },
    {
      "cell_type": "code",
      "metadata": {
        "id": "f4R5M1C612vr",
        "colab": {
          "base_uri": "https://localhost:8080/"
        },
        "outputId": "0d5d1578-7643-4ea0-b792-24069395ad88"
      },
      "source": [
        "flip(0.7) #assigining a decimal to flip manipulates the probability from the default 50/50. assigning # here applies to the True boolean"
      ],
      "execution_count": 18,
      "outputs": [
        {
          "output_type": "execute_result",
          "data": {
            "text/plain": [
              "False"
            ]
          },
          "metadata": {
            "tags": []
          },
          "execution_count": 18
        }
      ]
    },
    {
      "cell_type": "markdown",
      "metadata": {
        "id": "WUAhIEka12vr"
      },
      "source": [
        "In the following example, we use `flip` as part of an if statement.  If the result from `flip` is `True`, we print `heads`; otherwise we do nothing."
      ]
    },
    {
      "cell_type": "code",
      "metadata": {
        "id": "Qtspx6oI12vs"
      },
      "source": [
        "if flip(0.7):\n",
        "    print('heads')"
      ],
      "execution_count": 19,
      "outputs": []
    },
    {
      "cell_type": "markdown",
      "metadata": {
        "id": "NZrRHuT512vu"
      },
      "source": [
        "With an else clause, we can print heads or tails depending on whether `flip` returns `True` or `False`."
      ]
    },
    {
      "cell_type": "code",
      "metadata": {
        "id": "TjOa591i12vv",
        "colab": {
          "base_uri": "https://localhost:8080/"
        },
        "outputId": "82e3ff26-539c-4706-8e83-8caeb755c216"
      },
      "source": [
        "if flip(0.7):\n",
        "    print('heads')\n",
        "else:\n",
        "    print('tails')"
      ],
      "execution_count": 20,
      "outputs": [
        {
          "output_type": "stream",
          "text": [
            "heads\n"
          ],
          "name": "stdout"
        }
      ]
    },
    {
      "cell_type": "markdown",
      "metadata": {
        "id": "lQbD5-Iw12vw"
      },
      "source": [
        "## Step\n",
        "\n",
        "Now let's get back to the bikeshare state.  Again let's start with a new `State` object."
      ]
    },
    {
      "cell_type": "code",
      "metadata": {
        "id": "LK--B4Qx12vx"
      },
      "source": [
        "bikeshare = State(olin=10, wellesley=2)"
      ],
      "execution_count": 21,
      "outputs": []
    },
    {
      "cell_type": "markdown",
      "metadata": {
        "id": "iIPC7tHW12vy"
      },
      "source": [
        "Suppose that in any given minute, there is a 50% chance that a student picks up a bike at Olin and rides to Wellesley.  We can simulate that like this."
      ]
    },
    {
      "cell_type": "code",
      "metadata": {
        "id": "Popi2q-r12vz",
        "colab": {
          "base_uri": "https://localhost:8080/",
          "height": 111
        },
        "outputId": "ab75aa59-77f5-4043-9a68-211ca5db9b17"
      },
      "source": [
        "if flip(0.5):\n",
        "    bike_to_wellesley()\n",
        "    print('Moving a bike to Wellesley')\n",
        "\n",
        "bikeshare"
      ],
      "execution_count": 22,
      "outputs": [
        {
          "output_type": "execute_result",
          "data": {
            "text/html": [
              "<div>\n",
              "<style scoped>\n",
              "    .dataframe tbody tr th:only-of-type {\n",
              "        vertical-align: middle;\n",
              "    }\n",
              "\n",
              "    .dataframe tbody tr th {\n",
              "        vertical-align: top;\n",
              "    }\n",
              "\n",
              "    .dataframe thead th {\n",
              "        text-align: right;\n",
              "    }\n",
              "</style>\n",
              "<table border=\"1\" class=\"dataframe\">\n",
              "  <thead>\n",
              "    <tr style=\"text-align: right;\">\n",
              "      <th></th>\n",
              "      <th>values</th>\n",
              "    </tr>\n",
              "  </thead>\n",
              "  <tbody>\n",
              "    <tr>\n",
              "      <th>olin</th>\n",
              "      <td>10</td>\n",
              "    </tr>\n",
              "    <tr>\n",
              "      <th>wellesley</th>\n",
              "      <td>2</td>\n",
              "    </tr>\n",
              "  </tbody>\n",
              "</table>\n",
              "</div>"
            ],
            "text/plain": [
              "olin         10\n",
              "wellesley     2\n",
              "dtype: int64"
            ]
          },
          "metadata": {
            "tags": []
          },
          "execution_count": 22
        }
      ]
    },
    {
      "cell_type": "markdown",
      "metadata": {
        "id": "lg67XcPd12v0"
      },
      "source": [
        "And maybe at the same time, there is also a 40% chance that a student at Wellesley rides to Olin."
      ]
    },
    {
      "cell_type": "code",
      "metadata": {
        "id": "rNcWPFRa12v1",
        "colab": {
          "base_uri": "https://localhost:8080/",
          "height": 128
        },
        "outputId": "8495e527-2415-4fad-a50a-200c0949f1f8"
      },
      "source": [
        "if flip(0.4):\n",
        "    bike_to_olin()\n",
        "    print('Moving a bike to Olin')\n",
        "\n",
        "bikeshare"
      ],
      "execution_count": 23,
      "outputs": [
        {
          "output_type": "stream",
          "text": [
            "Moving a bike to Olin\n"
          ],
          "name": "stdout"
        },
        {
          "output_type": "execute_result",
          "data": {
            "text/html": [
              "<div>\n",
              "<style scoped>\n",
              "    .dataframe tbody tr th:only-of-type {\n",
              "        vertical-align: middle;\n",
              "    }\n",
              "\n",
              "    .dataframe tbody tr th {\n",
              "        vertical-align: top;\n",
              "    }\n",
              "\n",
              "    .dataframe thead th {\n",
              "        text-align: right;\n",
              "    }\n",
              "</style>\n",
              "<table border=\"1\" class=\"dataframe\">\n",
              "  <thead>\n",
              "    <tr style=\"text-align: right;\">\n",
              "      <th></th>\n",
              "      <th>values</th>\n",
              "    </tr>\n",
              "  </thead>\n",
              "  <tbody>\n",
              "    <tr>\n",
              "      <th>olin</th>\n",
              "      <td>11</td>\n",
              "    </tr>\n",
              "    <tr>\n",
              "      <th>wellesley</th>\n",
              "      <td>1</td>\n",
              "    </tr>\n",
              "  </tbody>\n",
              "</table>\n",
              "</div>"
            ],
            "text/plain": [
              "olin         11\n",
              "wellesley     1\n",
              "dtype: int64"
            ]
          },
          "metadata": {
            "tags": []
          },
          "execution_count": 23
        }
      ]
    },
    {
      "cell_type": "markdown",
      "metadata": {
        "id": "8YfsLD4V12v3"
      },
      "source": [
        "We can wrap that code in a function called `step` that simulates one time step.  In any given minute, a student might ride from Olin to Wellesley, from Wellesley to Olin, or both, or neither, depending on the results of `flip`."
      ]
    },
    {
      "cell_type": "code",
      "metadata": {
        "id": "wCosO9ju12v4"
      },
      "source": [
        "def step():\n",
        "    if flip(0.5):\n",
        "        bike_to_wellesley()\n",
        "        print('Moving a bike to Wellesley')\n",
        "        \n",
        "    if flip(0.4):\n",
        "        bike_to_olin()\n",
        "        print('Moving a bike to Olin')"
      ],
      "execution_count": 24,
      "outputs": []
    },
    {
      "cell_type": "markdown",
      "metadata": {
        "id": "jRl_R-Ry12v5"
      },
      "source": [
        "Since this function takes no parameters, we call it like this:"
      ]
    },
    {
      "cell_type": "code",
      "metadata": {
        "id": "xDL22oHZ12v6",
        "colab": {
          "base_uri": "https://localhost:8080/",
          "height": 128
        },
        "outputId": "ab8d50d8-c8c4-42b1-ef25-a03d854cfec6"
      },
      "source": [
        "step()\n",
        "bikeshare"
      ],
      "execution_count": 25,
      "outputs": [
        {
          "output_type": "stream",
          "text": [
            "Moving a bike to Olin\n"
          ],
          "name": "stdout"
        },
        {
          "output_type": "execute_result",
          "data": {
            "text/html": [
              "<div>\n",
              "<style scoped>\n",
              "    .dataframe tbody tr th:only-of-type {\n",
              "        vertical-align: middle;\n",
              "    }\n",
              "\n",
              "    .dataframe tbody tr th {\n",
              "        vertical-align: top;\n",
              "    }\n",
              "\n",
              "    .dataframe thead th {\n",
              "        text-align: right;\n",
              "    }\n",
              "</style>\n",
              "<table border=\"1\" class=\"dataframe\">\n",
              "  <thead>\n",
              "    <tr style=\"text-align: right;\">\n",
              "      <th></th>\n",
              "      <th>values</th>\n",
              "    </tr>\n",
              "  </thead>\n",
              "  <tbody>\n",
              "    <tr>\n",
              "      <th>olin</th>\n",
              "      <td>12</td>\n",
              "    </tr>\n",
              "    <tr>\n",
              "      <th>wellesley</th>\n",
              "      <td>0</td>\n",
              "    </tr>\n",
              "  </tbody>\n",
              "</table>\n",
              "</div>"
            ],
            "text/plain": [
              "olin         12\n",
              "wellesley     0\n",
              "dtype: int64"
            ]
          },
          "metadata": {
            "tags": []
          },
          "execution_count": 25
        }
      ]
    },
    {
      "cell_type": "markdown",
      "metadata": {
        "id": "v_SQloWc12v7"
      },
      "source": [
        "## Parameters\n",
        "\n",
        "As defined in the previous section, `step` is not as useful as it could be, because the probabilities `0.5` and `0.4` are \"hard coded\".\n",
        "\n",
        "It would be better to generalize this function so it takes the probabilities `p1` and `p2` as parameters:"
      ]
    },
    {
      "cell_type": "code",
      "metadata": {
        "id": "K39AFgiY12v9"
      },
      "source": [
        "def step(p1, p2):\n",
        "    if flip(p1):\n",
        "        bike_to_wellesley()\n",
        "        print('Moving a bike to Wellesley')\n",
        "        \n",
        "    if flip(p2):\n",
        "        bike_to_olin()\n",
        "        print('Moving a bike to Olin')"
      ],
      "execution_count": 26,
      "outputs": []
    },
    {
      "cell_type": "markdown",
      "metadata": {
        "id": "A0qxKUYI12v_"
      },
      "source": [
        "Now we can call it like this:"
      ]
    },
    {
      "cell_type": "code",
      "metadata": {
        "id": "IvT9lZZ712wA",
        "colab": {
          "base_uri": "https://localhost:8080/",
          "height": 145
        },
        "outputId": "a6273c54-0534-4923-d5a0-0329c5b93f62"
      },
      "source": [
        "step(0.5, 0.4)\n",
        "bikeshare"
      ],
      "execution_count": 27,
      "outputs": [
        {
          "output_type": "stream",
          "text": [
            "Moving a bike to Wellesley\n",
            "Moving a bike to Olin\n"
          ],
          "name": "stdout"
        },
        {
          "output_type": "execute_result",
          "data": {
            "text/html": [
              "<div>\n",
              "<style scoped>\n",
              "    .dataframe tbody tr th:only-of-type {\n",
              "        vertical-align: middle;\n",
              "    }\n",
              "\n",
              "    .dataframe tbody tr th {\n",
              "        vertical-align: top;\n",
              "    }\n",
              "\n",
              "    .dataframe thead th {\n",
              "        text-align: right;\n",
              "    }\n",
              "</style>\n",
              "<table border=\"1\" class=\"dataframe\">\n",
              "  <thead>\n",
              "    <tr style=\"text-align: right;\">\n",
              "      <th></th>\n",
              "      <th>values</th>\n",
              "    </tr>\n",
              "  </thead>\n",
              "  <tbody>\n",
              "    <tr>\n",
              "      <th>olin</th>\n",
              "      <td>12</td>\n",
              "    </tr>\n",
              "    <tr>\n",
              "      <th>wellesley</th>\n",
              "      <td>0</td>\n",
              "    </tr>\n",
              "  </tbody>\n",
              "</table>\n",
              "</div>"
            ],
            "text/plain": [
              "olin         12\n",
              "wellesley     0\n",
              "dtype: int64"
            ]
          },
          "metadata": {
            "tags": []
          },
          "execution_count": 27
        }
      ]
    },
    {
      "cell_type": "markdown",
      "metadata": {
        "id": "URn8VA2O12wC"
      },
      "source": [
        "**Exercise:** At the beginning of `step`, add a print statement that displays the values of `p1` and `p2`.  Call it again with values `0.3`, and `0.2`, and confirm that the values of the parameters are what you expect. "
      ]
    },
    {
      "cell_type": "code",
      "metadata": {
        "id": "d4HQJWR412wE",
        "colab": {
          "base_uri": "https://localhost:8080/",
          "height": 162
        },
        "outputId": "996bf22e-71f9-4021-9b2e-33904bd9cb6b"
      },
      "source": [
        "# Solution goes here\n",
        "def step(p1, p2):\n",
        "  print(\"Probability for moving a bike to Wellesly:\", p1,  \"\\nProbability for moving a bike to Olin:\", p2)\n",
        "\n",
        "  if flip(p1):\n",
        "      bike_to_wellesley()\n",
        "      print('Moving a bike to Wellesley')\n",
        "        \n",
        "  if flip(p2):\n",
        "      bike_to_olin()\n",
        "      print('Moving a bike to Olin')\n",
        "\n",
        "step(0.3,0.2)\n",
        "bikeshare"
      ],
      "execution_count": 28,
      "outputs": [
        {
          "output_type": "stream",
          "text": [
            "Probability for moving a bike to Wellesly: 0.3 \n",
            "Probability for moving a bike to Olin: 0.2\n",
            "Moving a bike to Olin\n"
          ],
          "name": "stdout"
        },
        {
          "output_type": "execute_result",
          "data": {
            "text/html": [
              "<div>\n",
              "<style scoped>\n",
              "    .dataframe tbody tr th:only-of-type {\n",
              "        vertical-align: middle;\n",
              "    }\n",
              "\n",
              "    .dataframe tbody tr th {\n",
              "        vertical-align: top;\n",
              "    }\n",
              "\n",
              "    .dataframe thead th {\n",
              "        text-align: right;\n",
              "    }\n",
              "</style>\n",
              "<table border=\"1\" class=\"dataframe\">\n",
              "  <thead>\n",
              "    <tr style=\"text-align: right;\">\n",
              "      <th></th>\n",
              "      <th>values</th>\n",
              "    </tr>\n",
              "  </thead>\n",
              "  <tbody>\n",
              "    <tr>\n",
              "      <th>olin</th>\n",
              "      <td>13</td>\n",
              "    </tr>\n",
              "    <tr>\n",
              "      <th>wellesley</th>\n",
              "      <td>-1</td>\n",
              "    </tr>\n",
              "  </tbody>\n",
              "</table>\n",
              "</div>"
            ],
            "text/plain": [
              "olin         13\n",
              "wellesley    -1\n",
              "dtype: int64"
            ]
          },
          "metadata": {
            "tags": []
          },
          "execution_count": 28
        }
      ]
    },
    {
      "cell_type": "markdown",
      "metadata": {
        "id": "oftPMgt612wF"
      },
      "source": [
        "## For loop"
      ]
    },
    {
      "cell_type": "markdown",
      "metadata": {
        "id": "ISGKvovl12wG"
      },
      "source": [
        "Before we go on, I'll redefine `step` without the print statements."
      ]
    },
    {
      "cell_type": "code",
      "metadata": {
        "id": "OMjuV1SU12wH"
      },
      "source": [
        "def step(p1, p2):\n",
        "    if flip(p1):\n",
        "        bike_to_wellesley()\n",
        "    \n",
        "    if flip(p2):\n",
        "        bike_to_olin()"
      ],
      "execution_count": 29,
      "outputs": []
    },
    {
      "cell_type": "markdown",
      "metadata": {
        "id": "YpGaRQhJ12wJ"
      },
      "source": [
        "And let's start again with a new `State` object:"
      ]
    },
    {
      "cell_type": "code",
      "metadata": {
        "id": "OWBny4gy12wK"
      },
      "source": [
        "bikeshare = State(olin=10, wellesley=2)"
      ],
      "execution_count": 30,
      "outputs": []
    },
    {
      "cell_type": "markdown",
      "metadata": {
        "id": "Ln11jmDr12wL"
      },
      "source": [
        "We can use a `for` loop to move 4 bikes from Olin to Wellesley."
      ]
    },
    {
      "cell_type": "code",
      "metadata": {
        "id": "0p7RbOCC12wL",
        "colab": {
          "base_uri": "https://localhost:8080/",
          "height": 111
        },
        "outputId": "5a740670-727a-4370-88e3-0746ba5f4d8a"
      },
      "source": [
        "for i in range(4):\n",
        "    bike_to_wellesley()\n",
        "    \n",
        "bikeshare"
      ],
      "execution_count": 31,
      "outputs": [
        {
          "output_type": "execute_result",
          "data": {
            "text/html": [
              "<div>\n",
              "<style scoped>\n",
              "    .dataframe tbody tr th:only-of-type {\n",
              "        vertical-align: middle;\n",
              "    }\n",
              "\n",
              "    .dataframe tbody tr th {\n",
              "        vertical-align: top;\n",
              "    }\n",
              "\n",
              "    .dataframe thead th {\n",
              "        text-align: right;\n",
              "    }\n",
              "</style>\n",
              "<table border=\"1\" class=\"dataframe\">\n",
              "  <thead>\n",
              "    <tr style=\"text-align: right;\">\n",
              "      <th></th>\n",
              "      <th>values</th>\n",
              "    </tr>\n",
              "  </thead>\n",
              "  <tbody>\n",
              "    <tr>\n",
              "      <th>olin</th>\n",
              "      <td>6</td>\n",
              "    </tr>\n",
              "    <tr>\n",
              "      <th>wellesley</th>\n",
              "      <td>6</td>\n",
              "    </tr>\n",
              "  </tbody>\n",
              "</table>\n",
              "</div>"
            ],
            "text/plain": [
              "olin         6\n",
              "wellesley    6\n",
              "dtype: int64"
            ]
          },
          "metadata": {
            "tags": []
          },
          "execution_count": 31
        }
      ]
    },
    {
      "cell_type": "markdown",
      "metadata": {
        "id": "z_Xjisso12wN"
      },
      "source": [
        "Or we can **simulate 4 random time steps**.\n",
        "\n"
      ]
    },
    {
      "cell_type": "code",
      "metadata": {
        "id": "GVIV4t_912wO",
        "colab": {
          "base_uri": "https://localhost:8080/",
          "height": 111
        },
        "outputId": "93837bc5-0f15-4538-9e1c-c81c00989696"
      },
      "source": [
        "for i in range(4):\n",
        "    step(0.3, 0.2)\n",
        "    \n",
        "bikeshare"
      ],
      "execution_count": 32,
      "outputs": [
        {
          "output_type": "execute_result",
          "data": {
            "text/html": [
              "<div>\n",
              "<style scoped>\n",
              "    .dataframe tbody tr th:only-of-type {\n",
              "        vertical-align: middle;\n",
              "    }\n",
              "\n",
              "    .dataframe tbody tr th {\n",
              "        vertical-align: top;\n",
              "    }\n",
              "\n",
              "    .dataframe thead th {\n",
              "        text-align: right;\n",
              "    }\n",
              "</style>\n",
              "<table border=\"1\" class=\"dataframe\">\n",
              "  <thead>\n",
              "    <tr style=\"text-align: right;\">\n",
              "      <th></th>\n",
              "      <th>values</th>\n",
              "    </tr>\n",
              "  </thead>\n",
              "  <tbody>\n",
              "    <tr>\n",
              "      <th>olin</th>\n",
              "      <td>5</td>\n",
              "    </tr>\n",
              "    <tr>\n",
              "      <th>wellesley</th>\n",
              "      <td>7</td>\n",
              "    </tr>\n",
              "  </tbody>\n",
              "</table>\n",
              "</div>"
            ],
            "text/plain": [
              "olin         5\n",
              "wellesley    7\n",
              "dtype: int64"
            ]
          },
          "metadata": {
            "tags": []
          },
          "execution_count": 32
        }
      ]
    },
    {
      "cell_type": "markdown",
      "metadata": {
        "id": "-mGcNkjU12wP"
      },
      "source": [
        "**If each step corresponds to a minute, we can simulate an entire hour like this.**"
      ]
    },
    {
      "cell_type": "code",
      "metadata": {
        "id": "iAUHo2Lj12wQ",
        "colab": {
          "base_uri": "https://localhost:8080/",
          "height": 111
        },
        "outputId": "9797e613-37ca-4cf3-bff4-f1c46fbd8cfe"
      },
      "source": [
        "for i in range(60):\n",
        "    step(0.3, 0.2)\n",
        "\n",
        "bikeshare"
      ],
      "execution_count": 33,
      "outputs": [
        {
          "output_type": "execute_result",
          "data": {
            "text/html": [
              "<div>\n",
              "<style scoped>\n",
              "    .dataframe tbody tr th:only-of-type {\n",
              "        vertical-align: middle;\n",
              "    }\n",
              "\n",
              "    .dataframe tbody tr th {\n",
              "        vertical-align: top;\n",
              "    }\n",
              "\n",
              "    .dataframe thead th {\n",
              "        text-align: right;\n",
              "    }\n",
              "</style>\n",
              "<table border=\"1\" class=\"dataframe\">\n",
              "  <thead>\n",
              "    <tr style=\"text-align: right;\">\n",
              "      <th></th>\n",
              "      <th>values</th>\n",
              "    </tr>\n",
              "  </thead>\n",
              "  <tbody>\n",
              "    <tr>\n",
              "      <th>olin</th>\n",
              "      <td>-3</td>\n",
              "    </tr>\n",
              "    <tr>\n",
              "      <th>wellesley</th>\n",
              "      <td>15</td>\n",
              "    </tr>\n",
              "  </tbody>\n",
              "</table>\n",
              "</div>"
            ],
            "text/plain": [
              "olin         -3\n",
              "wellesley    15\n",
              "dtype: int64"
            ]
          },
          "metadata": {
            "tags": []
          },
          "execution_count": 33
        }
      ]
    },
    {
      "cell_type": "markdown",
      "metadata": {
        "id": "CJx1NARy12wR"
      },
      "source": [
        "After 60 minutes, you might see that the number of bike at Olin is negative.  We'll fix that problem in the next notebook.\n",
        "\n",
        "But first, we want to plot the results."
      ]
    },
    {
      "cell_type": "markdown",
      "metadata": {
        "id": "ZV2UR3F412wS"
      },
      "source": [
        "## TimeSeries\n",
        "\n",
        "`modsim.py` provides an object called a `TimeSeries` that can contain a sequence of values changing over time.\n",
        "\n",
        "We can create a new, empty `TimeSeries` like this:"
      ]
    },
    {
      "cell_type": "code",
      "metadata": {
        "id": "GlMbpgD_12wT"
      },
      "source": [
        "results = TimeSeries()"
      ],
      "execution_count": 34,
      "outputs": []
    },
    {
      "cell_type": "markdown",
      "metadata": {
        "id": "rQkuOyMx12wU"
      },
      "source": [
        "And we can add a value to the `TimeSeries` like this:"
      ]
    },
    {
      "cell_type": "code",
      "metadata": {
        "id": "rInphg_E12wV",
        "colab": {
          "base_uri": "https://localhost:8080/",
          "height": 80
        },
        "outputId": "d9cb1665-d7f0-4472-94f7-25e84926ee3c"
      },
      "source": [
        "results[0] = bikeshare.olin\n",
        "results"
      ],
      "execution_count": 35,
      "outputs": [
        {
          "output_type": "execute_result",
          "data": {
            "text/html": [
              "<div>\n",
              "<style scoped>\n",
              "    .dataframe tbody tr th:only-of-type {\n",
              "        vertical-align: middle;\n",
              "    }\n",
              "\n",
              "    .dataframe tbody tr th {\n",
              "        vertical-align: top;\n",
              "    }\n",
              "\n",
              "    .dataframe thead th {\n",
              "        text-align: right;\n",
              "    }\n",
              "</style>\n",
              "<table border=\"1\" class=\"dataframe\">\n",
              "  <thead>\n",
              "    <tr style=\"text-align: right;\">\n",
              "      <th></th>\n",
              "      <th>values</th>\n",
              "    </tr>\n",
              "  </thead>\n",
              "  <tbody>\n",
              "    <tr>\n",
              "      <th>0</th>\n",
              "      <td>-3</td>\n",
              "    </tr>\n",
              "  </tbody>\n",
              "</table>\n",
              "</div>"
            ],
            "text/plain": [
              "0   -3\n",
              "dtype: int64"
            ]
          },
          "metadata": {
            "tags": []
          },
          "execution_count": 35
        }
      ]
    },
    {
      "cell_type": "markdown",
      "metadata": {
        "id": "CrerMcFg12wW"
      },
      "source": [
        "The `0` in brackets is an `index` that indicates that this value is associated with time step 0.\n",
        "\n",
        "Now we'll use a for loop to save the results of the simulation.  I'll start one more time with a new `State` object."
      ]
    },
    {
      "cell_type": "code",
      "metadata": {
        "id": "UQr5yiUp12wX"
      },
      "source": [
        "bikeshare = State(olin=10, wellesley=2)"
      ],
      "execution_count": 36,
      "outputs": []
    },
    {
      "cell_type": "markdown",
      "metadata": {
        "id": "mA_R1vlu12wZ"
      },
      "source": [
        "Here's a for loop that runs 10 steps and stores the results."
      ]
    },
    {
      "cell_type": "code",
      "metadata": {
        "id": "4c7qODNb12wa"
      },
      "source": [
        "for i in range(10):\n",
        "    step(0.3, 0.2)\n",
        "    results[i] = bikeshare.olin"
      ],
      "execution_count": 37,
      "outputs": []
    },
    {
      "cell_type": "markdown",
      "metadata": {
        "id": "LxCQOXQe12wb"
      },
      "source": [
        "Now we can display the results."
      ]
    },
    {
      "cell_type": "code",
      "metadata": {
        "id": "8JQrOY9G12wc",
        "colab": {
          "base_uri": "https://localhost:8080/",
          "height": 359
        },
        "outputId": "7c2f75ea-c082-49c3-d863-612b373da8a3"
      },
      "source": [
        "results"
      ],
      "execution_count": 38,
      "outputs": [
        {
          "output_type": "execute_result",
          "data": {
            "text/html": [
              "<div>\n",
              "<style scoped>\n",
              "    .dataframe tbody tr th:only-of-type {\n",
              "        vertical-align: middle;\n",
              "    }\n",
              "\n",
              "    .dataframe tbody tr th {\n",
              "        vertical-align: top;\n",
              "    }\n",
              "\n",
              "    .dataframe thead th {\n",
              "        text-align: right;\n",
              "    }\n",
              "</style>\n",
              "<table border=\"1\" class=\"dataframe\">\n",
              "  <thead>\n",
              "    <tr style=\"text-align: right;\">\n",
              "      <th></th>\n",
              "      <th>values</th>\n",
              "    </tr>\n",
              "  </thead>\n",
              "  <tbody>\n",
              "    <tr>\n",
              "      <th>0</th>\n",
              "      <td>9</td>\n",
              "    </tr>\n",
              "    <tr>\n",
              "      <th>1</th>\n",
              "      <td>9</td>\n",
              "    </tr>\n",
              "    <tr>\n",
              "      <th>2</th>\n",
              "      <td>9</td>\n",
              "    </tr>\n",
              "    <tr>\n",
              "      <th>3</th>\n",
              "      <td>10</td>\n",
              "    </tr>\n",
              "    <tr>\n",
              "      <th>4</th>\n",
              "      <td>9</td>\n",
              "    </tr>\n",
              "    <tr>\n",
              "      <th>5</th>\n",
              "      <td>9</td>\n",
              "    </tr>\n",
              "    <tr>\n",
              "      <th>6</th>\n",
              "      <td>9</td>\n",
              "    </tr>\n",
              "    <tr>\n",
              "      <th>7</th>\n",
              "      <td>10</td>\n",
              "    </tr>\n",
              "    <tr>\n",
              "      <th>8</th>\n",
              "      <td>11</td>\n",
              "    </tr>\n",
              "    <tr>\n",
              "      <th>9</th>\n",
              "      <td>10</td>\n",
              "    </tr>\n",
              "  </tbody>\n",
              "</table>\n",
              "</div>"
            ],
            "text/plain": [
              "0     9\n",
              "1     9\n",
              "2     9\n",
              "3    10\n",
              "4     9\n",
              "5     9\n",
              "6     9\n",
              "7    10\n",
              "8    11\n",
              "9    10\n",
              "dtype: int64"
            ]
          },
          "metadata": {
            "tags": []
          },
          "execution_count": 38
        }
      ]
    },
    {
      "cell_type": "markdown",
      "metadata": {
        "id": "se9KrUUp12wd"
      },
      "source": [
        "A `TimeSeries` is a specialized version of a Pandas `Series`, so we can use any of the functions provided by `Series`, including several that compute summary statistics:"
      ]
    },
    {
      "cell_type": "code",
      "metadata": {
        "id": "hOZk1l0l12we",
        "colab": {
          "base_uri": "https://localhost:8080/"
        },
        "outputId": "05395e1b-1971-4fc5-d60b-efc7f28001fe"
      },
      "source": [
        "results.mean()"
      ],
      "execution_count": 39,
      "outputs": [
        {
          "output_type": "execute_result",
          "data": {
            "text/plain": [
              "9.5"
            ]
          },
          "metadata": {
            "tags": []
          },
          "execution_count": 39
        }
      ]
    },
    {
      "cell_type": "code",
      "metadata": {
        "id": "eudSohh012wf",
        "colab": {
          "base_uri": "https://localhost:8080/"
        },
        "outputId": "06acb09f-0d55-4590-ded9-190852bfa31e"
      },
      "source": [
        "results.describe()"
      ],
      "execution_count": 40,
      "outputs": [
        {
          "output_type": "execute_result",
          "data": {
            "text/plain": [
              "count    10.000000\n",
              "mean      9.500000\n",
              "std       0.707107\n",
              "min       9.000000\n",
              "25%       9.000000\n",
              "50%       9.000000\n",
              "75%      10.000000\n",
              "max      11.000000\n",
              "dtype: float64"
            ]
          },
          "metadata": {
            "tags": []
          },
          "execution_count": 40
        }
      ]
    },
    {
      "cell_type": "markdown",
      "metadata": {
        "id": "XrIM1OAo12wf"
      },
      "source": [
        "You can read the documentation of `Series` [here](https://pandas.pydata.org/pandas-docs/stable/generated/pandas.Series.html)."
      ]
    },
    {
      "cell_type": "markdown",
      "metadata": {
        "id": "pDem6Uil12wg"
      },
      "source": [
        "## Plotting\n",
        "\n",
        "We can also plot the results like this."
      ]
    },
    {
      "cell_type": "code",
      "metadata": {
        "id": "AwCaYMdq12wi",
        "colab": {
          "base_uri": "https://localhost:8080/",
          "height": 297
        },
        "outputId": "ece9e4f8-8e6f-4c76-dbbc-1fac8578dbde"
      },
      "source": [
        "plot(results, label='Olin')\n",
        "\n",
        "decorate(title='Olin-Wellesley Bikeshare',\n",
        "         xlabel='Time step (min)', \n",
        "         ylabel='Number of bikes')"
      ],
      "execution_count": 41,
      "outputs": [
        {
          "output_type": "display_data",
          "data": {
            "image/png": "[encoded data removed]",
            "text/plain": [
              "<Figure size 432x288 with 1 Axes>"
            ]
          },
          "metadata": {
            "tags": [],
            "needs_background": "light"
          }
        }
      ]
    },
    {
      "cell_type": "markdown",
      "metadata": {
        "id": "SljNg3uC12wj"
      },
      "source": [
        "`decorate`, which is defined in the `modsim` library, adds a title and labels the axes."
      ]
    },
    {
      "cell_type": "markdown",
      "metadata": {
        "id": "U20Rdxvl12wk"
      },
      "source": [
        "**Exercise:** Wrap the code from this section in a function named `run_simulation` that takes three parameters, named `p1`, `p2`, and `num_steps`.\n",
        "\n",
        "It should:\n",
        "\n",
        "1. Create a `TimeSeries` object to hold the results.\n",
        "2. Use a for loop to run `step` the number of times specified by `num_steps`, passing along the specified values of `p1` and `p2`.\n",
        "3. After each step, it should save the number of bikes at Olin in the `TimeSeries`.\n",
        "4. After the for loop, it should plot the results and\n",
        "5. Decorate the axes.\n",
        "\n",
        "To test your function:\n",
        "\n",
        "1. Create a `State` object with the initial state of the system.\n",
        "2. Call `run_simulation` with appropriate parameters.\n",
        "3. Save the resulting figure.\n",
        "\n",
        "Optional:\n",
        "\n",
        "1. Extend your solution so it creates two `TimeSeries` objects, keeps track of the number of bikes at Olin *and* at Wellesley, and plots both series at the end."
      ]
    },
    {
      "cell_type": "code",
      "metadata": {
        "id": "Ip8zU1wD12wl"
      },
      "source": [
        "# Solution goes here\n",
        "def run_simulation(num_steps, p1, p2):\n",
        "  for i in range(num_steps):\n",
        "    step(p1, p2)\n",
        "    results[i] = bikeshare.olin\n",
        "  plot(results, label='Olin')\n",
        "  decorate(title='Olin-Wellesley Bikeshare',\n",
        "         xlabel='Time step (min)', \n",
        "         ylabel='Number of bikes')"
      ],
      "execution_count": 42,
      "outputs": []
    },
    {
      "cell_type": "code",
      "metadata": {
        "id": "w2EgQybR12wm",
        "colab": {
          "base_uri": "https://localhost:8080/",
          "height": 297
        },
        "outputId": "c32989fd-b5dc-4bad-ac89-8d97f16fbc3d"
      },
      "source": [
        "# Test of Solution goes here\n",
        "#create the state onj\n",
        "bikeshare = State(olin=10, wellesley=2)\n",
        "run_simulation(15, .3, .4)"
      ],
      "execution_count": 43,
      "outputs": [
        {
          "output_type": "display_data",
          "data": {
            "image/png": "[encoded data removed]",
            "text/plain": [
              "<Figure size 432x288 with 1 Axes>"
            ]
          },
          "metadata": {
            "tags": [],
            "needs_background": "light"
          }
        }
      ]
    },
    {
      "cell_type": "code",
      "metadata": {
        "id": "i21CiA-TxUI1"
      },
      "source": [
        "results_a = TimeSeries()\n",
        "results_b = TimeSeries()\n",
        "def run_simulation(num_steps, p1, p2):\n",
        "  for i in range(num_steps):\n",
        "    step(p1, p2)\n",
        "    results_a[i] = bikeshare.olin\n",
        "    results_b[i] = bikeshare.wellesley\n",
        "  \n",
        "  plot(results_a, label='Olin')\n",
        "  plot(results_b, label='Wellesley')\n",
        "  decorate(title='Olin-Wellesley Bikeshare',\n",
        "         xlabel='Time step (min)', \n",
        "         ylabel='Number of bikes')\n"
      ],
      "execution_count": 44,
      "outputs": []
    },
    {
      "cell_type": "code",
      "metadata": {
        "colab": {
          "base_uri": "https://localhost:8080/",
          "height": 297
        },
        "id": "ezcN1zHFxYt2",
        "outputId": "b193ee55-76d7-4c69-f7a7-deb47afe0467"
      },
      "source": [
        "bikeshare = State(olin=10, wellesley=2)\n",
        "bikeshare\n",
        "run_simulation(16, .3, .4)"
      ],
      "execution_count": 45,
      "outputs": [
        {
          "output_type": "display_data",
          "data": {
            "image/png": "[encoded data removed]",
            "text/plain": [
              "<Figure size 432x288 with 1 Axes>"
            ]
          },
          "metadata": {
            "tags": [],
            "needs_background": "light"
          }
        }
      ]
    },
    {
      "cell_type": "markdown",
      "metadata": {
        "id": "ZwM-wAD1xTFY"
      },
      "source": [
        ""
      ]
    },
    {
      "cell_type": "markdown",
      "metadata": {
        "id": "qkudnP4W12wn"
      },
      "source": [
        "## Opening the hood\n",
        "\n",
        "The functions in `modsim.py` are built on top of several widely-used Python libraries, especially NumPy, SciPy, and Pandas.  These libraries are powerful but can be hard to use.  The intent of `modsim.py` is to give you the power of these libraries while making it easy to get started.\n",
        "\n",
        "In the future, you might want to use these libraries directly, rather than using `modsim.py`.  So we will pause occasionally to open the hood and let you see how `modsim.py` works.\n",
        "\n",
        "You don't need to know anything in these sections, so if you are already feeling overwhelmed, you might want to skip them.  But if you are curious, read on."
      ]
    },
    {
      "cell_type": "markdown",
      "metadata": {
        "id": "PldNpetm12wo"
      },
      "source": [
        "### Pandas\n",
        "\n",
        "This chapter introduces two objects, `State` and `TimeSeries`.  Both are based on the `Series` object defined by Pandas, which is a library primarily used for data science.\n",
        "\n",
        "You can read the documentation of the `Series` object [here](https://pandas.pydata.org/pandas-docs/stable/generated/pandas.Series.html)\n",
        "\n",
        "The primary differences between `TimeSeries` and `Series` are:\n",
        "\n",
        "1. I made it easier to create a new, empty `Series` while avoiding a [confusing inconsistency](https://pandas.pydata.org/pandas-docs/stable/generated/pandas.Series.html).\n",
        "\n",
        "2. I provide a function so the `Series` looks good when displayed in Jupyter.\n",
        "\n",
        "3. I provide a function called `set` that we'll use later.\n",
        "\n",
        "`State` has all of those capabilities; in addition, it provides an easier way to initialize state variables, and it provides functions called `T` and `dt`, which will help us avoid a confusing error later."
      ]
    },
    {
      "cell_type": "markdown",
      "metadata": {
        "id": "AbTS-IFE12wq"
      },
      "source": [
        "### Pyplot\n",
        "\n",
        "The `plot` function in `modsim.py` is based on the `plot` function in Pyplot, which is part of Matplotlib.  You can read the documentation of `plot` [here](https://matplotlib.org/api/_as_gen/matplotlib.pyplot.plot.html).\n",
        "\n",
        "`decorate` provides a convenient way to call the `pyplot` functions `title`, `xlabel`, and `ylabel`, and `legend`.  It also avoids an annoying warning message if you try to make a legend when you don't have any labelled lines."
      ]
    },
    {
      "cell_type": "code",
      "metadata": {
        "id": "mL8ns9f412wr",
        "colab": {
          "base_uri": "https://localhost:8080/"
        },
        "outputId": "37e85f2f-2a56-4e3e-ee5b-51ae40e49219"
      },
      "source": [
        "help(decorate)"
      ],
      "execution_count": 46,
      "outputs": [
        {
          "output_type": "stream",
          "text": [
            "Help on function decorate in module modsim.modsim:\n",
            "\n",
            "decorate(**options)\n",
            "    Decorate the current axes.\n",
            "    \n",
            "    Call decorate with keyword arguments like\n",
            "    \n",
            "    decorate(title='Title',\n",
            "             xlabel='x',\n",
            "             ylabel='y')\n",
            "    \n",
            "    The keyword arguments can be any of the axis properties\n",
            "    \n",
            "    https://matplotlib.org/api/axes_api.html\n",
            "    \n",
            "    In addition, you can use `legend=False` to suppress the legend.\n",
            "    \n",
            "    And you can use `loc` to indicate the location of the legend\n",
            "    (the default value is 'best')\n",
            "\n"
          ],
          "name": "stdout"
        }
      ]
    },
    {
      "cell_type": "markdown",
      "metadata": {
        "id": "hY2LP6ML12ws"
      },
      "source": [
        "### NumPy\n",
        "\n",
        "The `flip` function in `modsim.py` uses NumPy's `random` function to generate a random number between 0 and 1.\n",
        "\n",
        "You can get the source code for `flip` by running the following cell."
      ]
    },
    {
      "cell_type": "code",
      "metadata": {
        "id": "xJUB3-1L12wt",
        "colab": {
          "base_uri": "https://localhost:8080/"
        },
        "outputId": "043616a6-001f-49a5-eaa2-2f4c96973a46"
      },
      "source": [
        "source_code(flip)"
      ],
      "execution_count": 47,
      "outputs": [
        {
          "output_type": "stream",
          "text": [
            "def flip(p=0.5):\n",
            "    \"\"\"Flips a coin with the given probability.\n",
            "\n",
            "    p: float 0-1\n",
            "\n",
            "    returns: boolean (True or False)\n",
            "    \"\"\"\n",
            "    return np.random.random() < p\n",
            "\n"
          ],
          "name": "stdout"
        }
      ]
    }
  ]
}