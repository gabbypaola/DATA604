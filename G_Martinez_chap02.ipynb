{
  "nbformat": 4,
  "nbformat_minor": 0,
  "metadata": {
    "celltoolbar": "Tags",
    "kernelspec": {
      "display_name": "Python 3",
      "language": "python",
      "name": "python3"
    },
    "language_info": {
      "codemirror_mode": {
        "name": "ipython",
        "version": 3
      },
      "file_extension": ".py",
      "mimetype": "text/x-python",
      "name": "python",
      "nbconvert_exporter": "python",
      "pygments_lexer": "ipython3",
      "version": "3.7.9"
    },
    "colab": {
      "name": "G_Martinez_chap02.ipynb",
      "provenance": [],
      "include_colab_link": true
    }
  },
  "cells": [
    {
      "cell_type": "markdown",
      "metadata": {
        "id": "view-in-github",
        "colab_type": "text"
      },
      "source": [
        "<a href=\"https://colab.research.google.com/github/gabbypaola/DATA604/blob/main/G_Martinez_chap02.ipynb\" target=\"_parent\"><img src=\"https://colab.research.google.com/assets/colab-badge.svg\" alt=\"Open In Colab\"/></a>"
      ]
    },
    {
      "cell_type": "markdown",
      "metadata": {
        "id": "JWNARNT512uy"
      },
      "source": [
        "# Chapter 2"
      ]
    },
    {
      "cell_type": "markdown",
      "metadata": {
        "tags": [],
        "id": "qj9RPV0K12u-"
      },
      "source": [
        "*Modeling and Simulation in Python*\n",
        "\n",
        "Copyright 2021 Allen Downey\n",
        "\n",
        "License: [Creative Commons Attribution-NonCommercial-ShareAlike 4.0 International](https://creativecommons.org/licenses/by-nc-sa/4.0/)"
      ]
    },
    {
      "cell_type": "code",
      "metadata": {
        "tags": [],
        "id": "B1cIQyjN12vC",
        "colab": {
          "base_uri": "https://localhost:8080/"
        },
        "outputId": "65c3889b-1f52-4aff-acba-b42deabb49fe"
      },
      "source": [
        "# check if the libraries we need are installed\n",
        "\n",
        "try:\n",
        "    import pint\n",
        "except ImportError:\n",
        "    !pip install pint\n",
        "    import pint\n",
        "    \n",
        "try:\n",
        "    from modsim import *\n",
        "except ImportError:\n",
        "    !pip install modsimpy\n",
        "    from modsim import *"
      ],
      "execution_count": null,
      "outputs": [
        {
          "output_type": "stream",
          "text": [
            "Collecting pint\n",
            "\u001b[?25l  Downloading https://files.pythonhosted.org/packages/33/de/53a77b82553579affab7438d299f850acbc1c4dd741c5ce52594513cb0ef/Pint-0.17-py2.py3-none-any.whl (204kB)\n",
            "\r\u001b[K     |█▋                              | 10kB 20.3MB/s eta 0:00:01\r\u001b[K     |███▏                            | 20kB 28.7MB/s eta 0:00:01\r\u001b[K     |████▉                           | 30kB 21.5MB/s eta 0:00:01\r\u001b[K     |██████▍                         | 40kB 16.2MB/s eta 0:00:01\r\u001b[K     |████████                        | 51kB 15.5MB/s eta 0:00:01\r\u001b[K     |█████████▋                      | 61kB 13.6MB/s eta 0:00:01\r\u001b[K     |███████████▏                    | 71kB 13.1MB/s eta 0:00:01\r\u001b[K     |████████████▉                   | 81kB 14.5MB/s eta 0:00:01\r\u001b[K     |██████████████▍                 | 92kB 13.6MB/s eta 0:00:01\r\u001b[K     |████████████████                | 102kB 13.9MB/s eta 0:00:01\r\u001b[K     |█████████████████▋              | 112kB 13.9MB/s eta 0:00:01\r\u001b[K     |███████████████████▏            | 122kB 13.9MB/s eta 0:00:01\r\u001b[K     |████████████████████▉           | 133kB 13.9MB/s eta 0:00:01\r\u001b[K     |██████████████████████▍         | 143kB 13.9MB/s eta 0:00:01\r\u001b[K     |████████████████████████        | 153kB 13.9MB/s eta 0:00:01\r\u001b[K     |█████████████████████████▋      | 163kB 13.9MB/s eta 0:00:01\r\u001b[K     |███████████████████████████▏    | 174kB 13.9MB/s eta 0:00:01\r\u001b[K     |████████████████████████████▊   | 184kB 13.9MB/s eta 0:00:01\r\u001b[K     |██████████████████████████████▍ | 194kB 13.9MB/s eta 0:00:01\r\u001b[K     |████████████████████████████████| 204kB 13.9MB/s eta 0:00:01\r\u001b[K     |████████████████████████████████| 215kB 13.9MB/s \n",
            "\u001b[?25hRequirement already satisfied: packaging in /usr/local/lib/python3.7/dist-packages (from pint) (20.9)\n",
            "Requirement already satisfied: importlib-metadata; python_version < \"3.8\" in /usr/local/lib/python3.7/dist-packages (from pint) (4.0.1)\n",
            "Requirement already satisfied: pyparsing>=2.0.2 in /usr/local/lib/python3.7/dist-packages (from packaging->pint) (2.4.7)\n",
            "Requirement already satisfied: typing-extensions>=3.6.4; python_version < \"3.8\" in /usr/local/lib/python3.7/dist-packages (from importlib-metadata; python_version < \"3.8\"->pint) (3.7.4.3)\n",
            "Requirement already satisfied: zipp>=0.5 in /usr/local/lib/python3.7/dist-packages (from importlib-metadata; python_version < \"3.8\"->pint) (3.4.1)\n",
            "Installing collected packages: pint\n",
            "Successfully installed pint-0.17\n",
            "Collecting modsimpy\n",
            "  Downloading https://files.pythonhosted.org/packages/ee/ef/c170df0ee5311cda90a10fc71d1610b9a1cb2241fadbf04bf0f57ff161e9/modsimpy-1.1.3.tar.gz\n",
            "Building wheels for collected packages: modsimpy\n",
            "  Building wheel for modsimpy (setup.py) ... \u001b[?25l\u001b[?25hdone\n",
            "  Created wheel for modsimpy: filename=modsimpy-1.1.3-cp37-none-any.whl size=20356 sha256=ddf6880786245fa39065ee52f0c41d357809aa516b41c9474421448b315da2e0\n",
            "  Stored in directory: /root/.cache/pip/wheels/59/34/ac/e82f103fbfb5d961b1a4d2b8e89bb6629a4c0b242e5373cbfa\n",
            "Successfully built modsimpy\n",
            "Installing collected packages: modsimpy\n",
            "Successfully installed modsimpy-1.1.3\n"
          ],
          "name": "stdout"
        }
      ]
    },
    {
      "cell_type": "markdown",
      "metadata": {
        "id": "4fnfbDSy12vG"
      },
      "source": [
        "## Modeling a bikeshare system"
      ]
    },
    {
      "cell_type": "markdown",
      "metadata": {
        "id": "feKEDNOg12vH"
      },
      "source": [
        "We'll start with a `State` object that represents the number of bikes at each station.\n",
        "\n",
        "When you display a `State` object, it lists the state variables and their values:"
      ]
    },
    {
      "cell_type": "code",
      "metadata": {
        "id": "aKVj0mvr12vJ"
      },
      "source": [
        "bikeshare = State(olin=10, wellesley=2)"
      ],
      "execution_count": null,
      "outputs": []
    },
    {
      "cell_type": "markdown",
      "metadata": {
        "id": "pYPpb0GV12vK"
      },
      "source": [
        "We can access the state variables using dot notation."
      ]
    },
    {
      "cell_type": "code",
      "metadata": {
        "id": "iIlYeKhZ12vM",
        "colab": {
          "base_uri": "https://localhost:8080/"
        },
        "outputId": "04ef9400-3f8d-41cf-a691-62d2e539ee12"
      },
      "source": [
        "bikeshare.olin"
      ],
      "execution_count": null,
      "outputs": [
        {
          "output_type": "execute_result",
          "data": {
            "text/plain": [
              "10"
            ]
          },
          "metadata": {
            "tags": []
          },
          "execution_count": 3
        }
      ]
    },
    {
      "cell_type": "code",
      "metadata": {
        "scrolled": true,
        "id": "hIr8P7VG12vO",
        "colab": {
          "base_uri": "https://localhost:8080/"
        },
        "outputId": "e637d056-127f-49d2-f533-ee530cd6459d"
      },
      "source": [
        "bikeshare.wellesley"
      ],
      "execution_count": null,
      "outputs": [
        {
          "output_type": "execute_result",
          "data": {
            "text/plain": [
              "2"
            ]
          },
          "metadata": {
            "tags": []
          },
          "execution_count": 4
        }
      ]
    },
    {
      "cell_type": "markdown",
      "metadata": {
        "id": "0Xc-3RW512vQ"
      },
      "source": [
        "**Exercise:** What happens if you spell the name of a state variable wrong?  Edit the previous cell, change the spelling of `wellesley`, and run the cell again.\n",
        "\n",
        "The error message uses the word \"attribute\", which is another name for what we are calling a state variable. "
      ]
    },
    {
      "cell_type": "code",
      "metadata": {
        "id": "k6jRc9Dj2iM4"
      },
      "source": [
        "#bikeshare.wellesle\n",
        "#error message: AttributeError: 'State' object has no attribute 'wellesle'"
      ],
      "execution_count": null,
      "outputs": []
    },
    {
      "cell_type": "markdown",
      "metadata": {
        "id": "M8mjrUAx12vS"
      },
      "source": [
        "**Exercise:** Add a third attribute called `babson` with initial value 0, and display the state of `bikeshare` again."
      ]
    },
    {
      "cell_type": "code",
      "metadata": {
        "id": "BDjC7tXE3CQ7"
      },
      "source": [
        "bikeshare = State(olin=10, wellesley=2, babson = 0)"
      ],
      "execution_count": null,
      "outputs": []
    },
    {
      "cell_type": "code",
      "metadata": {
        "id": "vIDidI_r2wjA",
        "colab": {
          "base_uri": "https://localhost:8080/",
          "height": 142
        },
        "outputId": "6f2ceaf7-dc69-4af9-86d0-80666467335e"
      },
      "source": [
        "bikeshare"
      ],
      "execution_count": null,
      "outputs": [
        {
          "output_type": "execute_result",
          "data": {
            "text/html": [
              "<div>\n",
              "<style scoped>\n",
              "    .dataframe tbody tr th:only-of-type {\n",
              "        vertical-align: middle;\n",
              "    }\n",
              "\n",
              "    .dataframe tbody tr th {\n",
              "        vertical-align: top;\n",
              "    }\n",
              "\n",
              "    .dataframe thead th {\n",
              "        text-align: right;\n",
              "    }\n",
              "</style>\n",
              "<table border=\"1\" class=\"dataframe\">\n",
              "  <thead>\n",
              "    <tr style=\"text-align: right;\">\n",
              "      <th></th>\n",
              "      <th>values</th>\n",
              "    </tr>\n",
              "  </thead>\n",
              "  <tbody>\n",
              "    <tr>\n",
              "      <th>olin</th>\n",
              "      <td>10</td>\n",
              "    </tr>\n",
              "    <tr>\n",
              "      <th>wellesley</th>\n",
              "      <td>2</td>\n",
              "    </tr>\n",
              "    <tr>\n",
              "      <th>babson</th>\n",
              "      <td>0</td>\n",
              "    </tr>\n",
              "  </tbody>\n",
              "</table>\n",
              "</div>"
            ],
            "text/plain": [
              "olin         10\n",
              "wellesley     2\n",
              "babson        0\n",
              "dtype: int64"
            ]
          },
          "metadata": {
            "tags": []
          },
          "execution_count": 6
        }
      ]
    },
    {
      "cell_type": "markdown",
      "metadata": {
        "id": "VlacT7jB12vU"
      },
      "source": [
        "## Updating\n",
        "\n",
        "We can use the update operators `+=` and `-=` to change state variables."
      ]
    },
    {
      "cell_type": "code",
      "metadata": {
        "id": "loOjg7lk12vV"
      },
      "source": [
        "bikeshare.olin -= 1"
      ],
      "execution_count": null,
      "outputs": []
    },
    {
      "cell_type": "markdown",
      "metadata": {
        "id": "VQJXcB6v12vX"
      },
      "source": [
        "If we display `bikeshare`, we should see the change."
      ]
    },
    {
      "cell_type": "code",
      "metadata": {
        "id": "OwCmo1l412vY",
        "colab": {
          "base_uri": "https://localhost:8080/",
          "height": 142
        },
        "outputId": "9b60ea3e-6a12-44df-cd49-a204fdfc9c0a"
      },
      "source": [
        "bikeshare"
      ],
      "execution_count": null,
      "outputs": [
        {
          "output_type": "execute_result",
          "data": {
            "text/html": [
              "<div>\n",
              "<style scoped>\n",
              "    .dataframe tbody tr th:only-of-type {\n",
              "        vertical-align: middle;\n",
              "    }\n",
              "\n",
              "    .dataframe tbody tr th {\n",
              "        vertical-align: top;\n",
              "    }\n",
              "\n",
              "    .dataframe thead th {\n",
              "        text-align: right;\n",
              "    }\n",
              "</style>\n",
              "<table border=\"1\" class=\"dataframe\">\n",
              "  <thead>\n",
              "    <tr style=\"text-align: right;\">\n",
              "      <th></th>\n",
              "      <th>values</th>\n",
              "    </tr>\n",
              "  </thead>\n",
              "  <tbody>\n",
              "    <tr>\n",
              "      <th>olin</th>\n",
              "      <td>9</td>\n",
              "    </tr>\n",
              "    <tr>\n",
              "      <th>wellesley</th>\n",
              "      <td>2</td>\n",
              "    </tr>\n",
              "    <tr>\n",
              "      <th>babson</th>\n",
              "      <td>0</td>\n",
              "    </tr>\n",
              "  </tbody>\n",
              "</table>\n",
              "</div>"
            ],
            "text/plain": [
              "olin         9\n",
              "wellesley    2\n",
              "babson       0\n",
              "dtype: int64"
            ]
          },
          "metadata": {
            "tags": []
          },
          "execution_count": 8
        }
      ]
    },
    {
      "cell_type": "markdown",
      "metadata": {
        "id": "DaCuzT6y12vZ"
      },
      "source": [
        "Of course, if we subtract a bike from `olin`, we should add it to `wellesley`."
      ]
    },
    {
      "cell_type": "code",
      "metadata": {
        "id": "uRdCotDC12va",
        "colab": {
          "base_uri": "https://localhost:8080/",
          "height": 142
        },
        "outputId": "1839f4fa-ee11-4f92-e5cc-ca9eba8af782"
      },
      "source": [
        "bikeshare.wellesley += 1\n",
        "bikeshare"
      ],
      "execution_count": null,
      "outputs": [
        {
          "output_type": "execute_result",
          "data": {
            "text/html": [
              "<div>\n",
              "<style scoped>\n",
              "    .dataframe tbody tr th:only-of-type {\n",
              "        vertical-align: middle;\n",
              "    }\n",
              "\n",
              "    .dataframe tbody tr th {\n",
              "        vertical-align: top;\n",
              "    }\n",
              "\n",
              "    .dataframe thead th {\n",
              "        text-align: right;\n",
              "    }\n",
              "</style>\n",
              "<table border=\"1\" class=\"dataframe\">\n",
              "  <thead>\n",
              "    <tr style=\"text-align: right;\">\n",
              "      <th></th>\n",
              "      <th>values</th>\n",
              "    </tr>\n",
              "  </thead>\n",
              "  <tbody>\n",
              "    <tr>\n",
              "      <th>olin</th>\n",
              "      <td>9</td>\n",
              "    </tr>\n",
              "    <tr>\n",
              "      <th>wellesley</th>\n",
              "      <td>3</td>\n",
              "    </tr>\n",
              "    <tr>\n",
              "      <th>babson</th>\n",
              "      <td>0</td>\n",
              "    </tr>\n",
              "  </tbody>\n",
              "</table>\n",
              "</div>"
            ],
            "text/plain": [
              "olin         9\n",
              "wellesley    3\n",
              "babson       0\n",
              "dtype: int64"
            ]
          },
          "metadata": {
            "tags": []
          },
          "execution_count": 9
        }
      ]
    },
    {
      "cell_type": "markdown",
      "metadata": {
        "id": "p_JZSTJB12vc"
      },
      "source": [
        "## Functions\n",
        "\n",
        "We can take the code we've written so far and encapsulate it in a function."
      ]
    },
    {
      "cell_type": "code",
      "metadata": {
        "id": "VZS74hmq12vd"
      },
      "source": [
        "def bike_to_wellesley():\n",
        "    bikeshare.olin -= 1\n",
        "    bikeshare.wellesley += 1"
      ],
      "execution_count": null,
      "outputs": []
    },
    {
      "cell_type": "markdown",
      "metadata": {
        "id": "rCEEJ8w512ve"
      },
      "source": [
        "When you define a function, it doesn't run the statements inside the function, yet.  When you call the function, it runs the statements inside."
      ]
    },
    {
      "cell_type": "code",
      "metadata": {
        "id": "E7fKmRw112vf",
        "colab": {
          "base_uri": "https://localhost:8080/",
          "height": 142
        },
        "outputId": "93848f3d-00f4-49f4-c3eb-fca951bd823d"
      },
      "source": [
        "bike_to_wellesley()\n",
        "bikeshare"
      ],
      "execution_count": null,
      "outputs": [
        {
          "output_type": "execute_result",
          "data": {
            "text/html": [
              "<div>\n",
              "<style scoped>\n",
              "    .dataframe tbody tr th:only-of-type {\n",
              "        vertical-align: middle;\n",
              "    }\n",
              "\n",
              "    .dataframe tbody tr th {\n",
              "        vertical-align: top;\n",
              "    }\n",
              "\n",
              "    .dataframe thead th {\n",
              "        text-align: right;\n",
              "    }\n",
              "</style>\n",
              "<table border=\"1\" class=\"dataframe\">\n",
              "  <thead>\n",
              "    <tr style=\"text-align: right;\">\n",
              "      <th></th>\n",
              "      <th>values</th>\n",
              "    </tr>\n",
              "  </thead>\n",
              "  <tbody>\n",
              "    <tr>\n",
              "      <th>olin</th>\n",
              "      <td>8</td>\n",
              "    </tr>\n",
              "    <tr>\n",
              "      <th>wellesley</th>\n",
              "      <td>4</td>\n",
              "    </tr>\n",
              "    <tr>\n",
              "      <th>babson</th>\n",
              "      <td>0</td>\n",
              "    </tr>\n",
              "  </tbody>\n",
              "</table>\n",
              "</div>"
            ],
            "text/plain": [
              "olin         8\n",
              "wellesley    4\n",
              "babson       0\n",
              "dtype: int64"
            ]
          },
          "metadata": {
            "tags": []
          },
          "execution_count": 11
        }
      ]
    },
    {
      "cell_type": "markdown",
      "metadata": {
        "id": "Kqi0RNtE12vg"
      },
      "source": [
        "\n",
        "One common error is to omit the parentheses, which has the effect of looking up the function, but not calling it."
      ]
    },
    {
      "cell_type": "code",
      "metadata": {
        "id": "183_MmAe12vh",
        "colab": {
          "base_uri": "https://localhost:8080/"
        },
        "outputId": "3d3eb915-7527-4b2e-b464-7b0f3953c950"
      },
      "source": [
        "bike_to_wellesley"
      ],
      "execution_count": null,
      "outputs": [
        {
          "output_type": "execute_result",
          "data": {
            "text/plain": [
              "<function __main__.bike_to_wellesley>"
            ]
          },
          "metadata": {
            "tags": []
          },
          "execution_count": 12
        }
      ]
    },
    {
      "cell_type": "markdown",
      "metadata": {
        "id": "e2odyHaA12vi"
      },
      "source": [
        "The output indicates that `bike_to_wellesley` is a function defined in a \"namespace\" called `__main__`, but you don't have to understand what that means."
      ]
    },
    {
      "cell_type": "markdown",
      "metadata": {
        "id": "TqjVpQPf12vj"
      },
      "source": [
        "**Exercise:** Define a function called `bike_to_olin` that moves a bike from Wellesley to Olin.  Call the new function and display `bikeshare`  to confirm that it works."
      ]
    },
    {
      "cell_type": "code",
      "metadata": {
        "id": "vU0IyzG912vk"
      },
      "source": [
        "# Solution goes here\n",
        "def bike_to_olin():\n",
        "    bikeshare.wellesley -= 1\n",
        "    bikeshare.olin += 1"
      ],
      "execution_count": null,
      "outputs": []
    },
    {
      "cell_type": "code",
      "metadata": {
        "id": "AFG15DqR6OB-",
        "colab": {
          "base_uri": "https://localhost:8080/",
          "height": 142
        },
        "outputId": "76e91fed-b15c-4536-9b24-bae17bd168d6"
      },
      "source": [
        "# Solution goes here\n",
        "bike_to_olin()\n",
        "bikeshare"
      ],
      "execution_count": null,
      "outputs": [
        {
          "output_type": "execute_result",
          "data": {
            "text/html": [
              "<div>\n",
              "<style scoped>\n",
              "    .dataframe tbody tr th:only-of-type {\n",
              "        vertical-align: middle;\n",
              "    }\n",
              "\n",
              "    .dataframe tbody tr th {\n",
              "        vertical-align: top;\n",
              "    }\n",
              "\n",
              "    .dataframe thead th {\n",
              "        text-align: right;\n",
              "    }\n",
              "</style>\n",
              "<table border=\"1\" class=\"dataframe\">\n",
              "  <thead>\n",
              "    <tr style=\"text-align: right;\">\n",
              "      <th></th>\n",
              "      <th>values</th>\n",
              "    </tr>\n",
              "  </thead>\n",
              "  <tbody>\n",
              "    <tr>\n",
              "      <th>olin</th>\n",
              "      <td>9</td>\n",
              "    </tr>\n",
              "    <tr>\n",
              "      <th>wellesley</th>\n",
              "      <td>3</td>\n",
              "    </tr>\n",
              "    <tr>\n",
              "      <th>babson</th>\n",
              "      <td>0</td>\n",
              "    </tr>\n",
              "  </tbody>\n",
              "</table>\n",
              "</div>"
            ],
            "text/plain": [
              "olin         9\n",
              "wellesley    3\n",
              "babson       0\n",
              "dtype: int64"
            ]
          },
          "metadata": {
            "tags": []
          },
          "execution_count": 14
        }
      ]
    },
    {
      "cell_type": "markdown",
      "metadata": {
        "id": "HXHYHOEb12vm"
      },
      "source": [
        "## Conditionals"
      ]
    },
    {
      "cell_type": "markdown",
      "metadata": {
        "id": "MicZHdEp12vn"
      },
      "source": [
        "`modsim.py` provides `flip`, which takes a probability and returns either `True` or `False`, which are special values defined by Python.\n",
        "\n",
        "The Python function `help` looks up a function and displays its documentation."
      ]
    },
    {
      "cell_type": "code",
      "metadata": {
        "id": "JE1y6W9X12vp",
        "colab": {
          "base_uri": "https://localhost:8080/"
        },
        "outputId": "b137fc20-6bb9-4a79-9e68-ef59835f9b98"
      },
      "source": [
        "help(flip)"
      ],
      "execution_count": null,
      "outputs": [
        {
          "output_type": "stream",
          "text": [
            "Help on function flip in module modsim.modsim:\n",
            "\n",
            "flip(p=0.5)\n",
            "    Flips a coin with the given probability.\n",
            "    \n",
            "    p: float 0-1\n",
            "    \n",
            "    returns: boolean (True or False)\n",
            "\n"
          ],
          "name": "stdout"
        }
      ]
    },
    {
      "cell_type": "code",
      "metadata": {
        "id": "RTc8-ktRgSzZ",
        "colab": {
          "base_uri": "https://localhost:8080/"
        },
        "outputId": "78b17ff1-b1fa-4c15-8d60-50cf48a18b8d"
      },
      "source": [
        "flip()"
      ],
      "execution_count": null,
      "outputs": [
        {
          "output_type": "execute_result",
          "data": {
            "text/plain": [
              "True"
            ]
          },
          "metadata": {
            "tags": []
          },
          "execution_count": 16
        }
      ]
    },
    {
      "cell_type": "markdown",
      "metadata": {
        "id": "VOfiofd712vq"
      },
      "source": [
        "In the following example, the probability is 0.7 or 70%.  If you run this cell several times, you should get `True` about 70% of the time and `False` about 30%."
      ]
    },
    {
      "cell_type": "code",
      "metadata": {
        "id": "f4R5M1C612vr",
        "colab": {
          "base_uri": "https://localhost:8080/"
        },
        "outputId": "44783440-d5cf-4708-e73e-a2721c1d620d"
      },
      "source": [
        "flip(0.7) #assigining a decimal to flip manipulates the probability from the default 50/50. assigning # here applies to the True boolean"
      ],
      "execution_count": null,
      "outputs": [
        {
          "output_type": "execute_result",
          "data": {
            "text/plain": [
              "True"
            ]
          },
          "metadata": {
            "tags": []
          },
          "execution_count": 17
        }
      ]
    },
    {
      "cell_type": "markdown",
      "metadata": {
        "id": "WUAhIEka12vr"
      },
      "source": [
        "In the following example, we use `flip` as part of an if statement.  If the result from `flip` is `True`, we print `heads`; otherwise we do nothing."
      ]
    },
    {
      "cell_type": "code",
      "metadata": {
        "id": "Qtspx6oI12vs"
      },
      "source": [
        "if flip(0.7):\n",
        "    print('heads')"
      ],
      "execution_count": null,
      "outputs": []
    },
    {
      "cell_type": "markdown",
      "metadata": {
        "id": "NZrRHuT512vu"
      },
      "source": [
        "With an else clause, we can print heads or tails depending on whether `flip` returns `True` or `False`."
      ]
    },
    {
      "cell_type": "code",
      "metadata": {
        "id": "TjOa591i12vv",
        "colab": {
          "base_uri": "https://localhost:8080/"
        },
        "outputId": "ae148b2a-fd75-4628-bbc0-3e15cabd3b7d"
      },
      "source": [
        "if flip(0.7):\n",
        "    print('heads')\n",
        "else:\n",
        "    print('tails')"
      ],
      "execution_count": null,
      "outputs": [
        {
          "output_type": "stream",
          "text": [
            "heads\n"
          ],
          "name": "stdout"
        }
      ]
    },
    {
      "cell_type": "markdown",
      "metadata": {
        "id": "lQbD5-Iw12vw"
      },
      "source": [
        "## Step\n",
        "\n",
        "Now let's get back to the bikeshare state.  Again let's start with a new `State` object."
      ]
    },
    {
      "cell_type": "code",
      "metadata": {
        "id": "LK--B4Qx12vx"
      },
      "source": [
        "bikeshare = State(olin=10, wellesley=2)"
      ],
      "execution_count": null,
      "outputs": []
    },
    {
      "cell_type": "markdown",
      "metadata": {
        "id": "iIPC7tHW12vy"
      },
      "source": [
        "Suppose that in any given minute, there is a 50% chance that a student picks up a bike at Olin and rides to Wellesley.  We can simulate that like this."
      ]
    },
    {
      "cell_type": "code",
      "metadata": {
        "id": "Popi2q-r12vz",
        "colab": {
          "base_uri": "https://localhost:8080/",
          "height": 128
        },
        "outputId": "449250a5-9ebb-4030-da5b-be2563f35712"
      },
      "source": [
        "if flip(0.5):\n",
        "    bike_to_wellesley()\n",
        "    print('Moving a bike to Wellesley')\n",
        "\n",
        "bikeshare"
      ],
      "execution_count": null,
      "outputs": [
        {
          "output_type": "stream",
          "text": [
            "Moving a bike to Wellesley\n"
          ],
          "name": "stdout"
        },
        {
          "output_type": "execute_result",
          "data": {
            "text/html": [
              "<div>\n",
              "<style scoped>\n",
              "    .dataframe tbody tr th:only-of-type {\n",
              "        vertical-align: middle;\n",
              "    }\n",
              "\n",
              "    .dataframe tbody tr th {\n",
              "        vertical-align: top;\n",
              "    }\n",
              "\n",
              "    .dataframe thead th {\n",
              "        text-align: right;\n",
              "    }\n",
              "</style>\n",
              "<table border=\"1\" class=\"dataframe\">\n",
              "  <thead>\n",
              "    <tr style=\"text-align: right;\">\n",
              "      <th></th>\n",
              "      <th>values</th>\n",
              "    </tr>\n",
              "  </thead>\n",
              "  <tbody>\n",
              "    <tr>\n",
              "      <th>olin</th>\n",
              "      <td>9</td>\n",
              "    </tr>\n",
              "    <tr>\n",
              "      <th>wellesley</th>\n",
              "      <td>3</td>\n",
              "    </tr>\n",
              "  </tbody>\n",
              "</table>\n",
              "</div>"
            ],
            "text/plain": [
              "olin         9\n",
              "wellesley    3\n",
              "dtype: int64"
            ]
          },
          "metadata": {
            "tags": []
          },
          "execution_count": 21
        }
      ]
    },
    {
      "cell_type": "markdown",
      "metadata": {
        "id": "lg67XcPd12v0"
      },
      "source": [
        "And maybe at the same time, there is also a 40% chance that a student at Wellesley rides to Olin."
      ]
    },
    {
      "cell_type": "code",
      "metadata": {
        "id": "rNcWPFRa12v1",
        "colab": {
          "base_uri": "https://localhost:8080/",
          "height": 111
        },
        "outputId": "28e4e388-e97f-44cc-f74b-6c4318db7f45"
      },
      "source": [
        "if flip(0.4):\n",
        "    bike_to_olin()\n",
        "    print('Moving a bike to Olin')\n",
        "\n",
        "bikeshare"
      ],
      "execution_count": null,
      "outputs": [
        {
          "output_type": "execute_result",
          "data": {
            "text/html": [
              "<div>\n",
              "<style scoped>\n",
              "    .dataframe tbody tr th:only-of-type {\n",
              "        vertical-align: middle;\n",
              "    }\n",
              "\n",
              "    .dataframe tbody tr th {\n",
              "        vertical-align: top;\n",
              "    }\n",
              "\n",
              "    .dataframe thead th {\n",
              "        text-align: right;\n",
              "    }\n",
              "</style>\n",
              "<table border=\"1\" class=\"dataframe\">\n",
              "  <thead>\n",
              "    <tr style=\"text-align: right;\">\n",
              "      <th></th>\n",
              "      <th>values</th>\n",
              "    </tr>\n",
              "  </thead>\n",
              "  <tbody>\n",
              "    <tr>\n",
              "      <th>olin</th>\n",
              "      <td>9</td>\n",
              "    </tr>\n",
              "    <tr>\n",
              "      <th>wellesley</th>\n",
              "      <td>3</td>\n",
              "    </tr>\n",
              "  </tbody>\n",
              "</table>\n",
              "</div>"
            ],
            "text/plain": [
              "olin         9\n",
              "wellesley    3\n",
              "dtype: int64"
            ]
          },
          "metadata": {
            "tags": []
          },
          "execution_count": 22
        }
      ]
    },
    {
      "cell_type": "markdown",
      "metadata": {
        "id": "8YfsLD4V12v3"
      },
      "source": [
        "We can wrap that code in a function called `step` that simulates one time step.  In any given minute, a student might ride from Olin to Wellesley, from Wellesley to Olin, or both, or neither, depending on the results of `flip`."
      ]
    },
    {
      "cell_type": "code",
      "metadata": {
        "id": "wCosO9ju12v4"
      },
      "source": [
        "def step():\n",
        "    if flip(0.5):\n",
        "        bike_to_wellesley()\n",
        "        print('Moving a bike to Wellesley')\n",
        "        \n",
        "    if flip(0.4):\n",
        "        bike_to_olin()\n",
        "        print('Moving a bike to Olin')"
      ],
      "execution_count": null,
      "outputs": []
    },
    {
      "cell_type": "markdown",
      "metadata": {
        "id": "jRl_R-Ry12v5"
      },
      "source": [
        "Since this function takes no parameters, we call it like this:"
      ]
    },
    {
      "cell_type": "code",
      "metadata": {
        "id": "xDL22oHZ12v6",
        "colab": {
          "base_uri": "https://localhost:8080/",
          "height": 145
        },
        "outputId": "02abb12b-7b2f-4042-d2b0-9d7c2f5f1757"
      },
      "source": [
        "step()\n",
        "bikeshare"
      ],
      "execution_count": null,
      "outputs": [
        {
          "output_type": "stream",
          "text": [
            "Moving a bike to Wellesley\n",
            "Moving a bike to Olin\n"
          ],
          "name": "stdout"
        },
        {
          "output_type": "execute_result",
          "data": {
            "text/html": [
              "<div>\n",
              "<style scoped>\n",
              "    .dataframe tbody tr th:only-of-type {\n",
              "        vertical-align: middle;\n",
              "    }\n",
              "\n",
              "    .dataframe tbody tr th {\n",
              "        vertical-align: top;\n",
              "    }\n",
              "\n",
              "    .dataframe thead th {\n",
              "        text-align: right;\n",
              "    }\n",
              "</style>\n",
              "<table border=\"1\" class=\"dataframe\">\n",
              "  <thead>\n",
              "    <tr style=\"text-align: right;\">\n",
              "      <th></th>\n",
              "      <th>values</th>\n",
              "    </tr>\n",
              "  </thead>\n",
              "  <tbody>\n",
              "    <tr>\n",
              "      <th>olin</th>\n",
              "      <td>9</td>\n",
              "    </tr>\n",
              "    <tr>\n",
              "      <th>wellesley</th>\n",
              "      <td>3</td>\n",
              "    </tr>\n",
              "  </tbody>\n",
              "</table>\n",
              "</div>"
            ],
            "text/plain": [
              "olin         9\n",
              "wellesley    3\n",
              "dtype: int64"
            ]
          },
          "metadata": {
            "tags": []
          },
          "execution_count": 24
        }
      ]
    },
    {
      "cell_type": "markdown",
      "metadata": {
        "id": "v_SQloWc12v7"
      },
      "source": [
        "## Parameters\n",
        "\n",
        "As defined in the previous section, `step` is not as useful as it could be, because the probabilities `0.5` and `0.4` are \"hard coded\".\n",
        "\n",
        "It would be better to generalize this function so it takes the probabilities `p1` and `p2` as parameters:"
      ]
    },
    {
      "cell_type": "code",
      "metadata": {
        "id": "K39AFgiY12v9"
      },
      "source": [
        "def step(p1, p2):\n",
        "    if flip(p1):\n",
        "        bike_to_wellesley()\n",
        "        print('Moving a bike to Wellesley')\n",
        "        \n",
        "    if flip(p2):\n",
        "        bike_to_olin()\n",
        "        print('Moving a bike to Olin')"
      ],
      "execution_count": null,
      "outputs": []
    },
    {
      "cell_type": "markdown",
      "metadata": {
        "id": "A0qxKUYI12v_"
      },
      "source": [
        "Now we can call it like this:"
      ]
    },
    {
      "cell_type": "code",
      "metadata": {
        "id": "IvT9lZZ712wA",
        "colab": {
          "base_uri": "https://localhost:8080/",
          "height": 128
        },
        "outputId": "f771a53a-c8bf-4bfd-a921-95af12f1f64b"
      },
      "source": [
        "step(0.5, 0.4)\n",
        "bikeshare"
      ],
      "execution_count": null,
      "outputs": [
        {
          "output_type": "stream",
          "text": [
            "Moving a bike to Wellesley\n"
          ],
          "name": "stdout"
        },
        {
          "output_type": "execute_result",
          "data": {
            "text/html": [
              "<div>\n",
              "<style scoped>\n",
              "    .dataframe tbody tr th:only-of-type {\n",
              "        vertical-align: middle;\n",
              "    }\n",
              "\n",
              "    .dataframe tbody tr th {\n",
              "        vertical-align: top;\n",
              "    }\n",
              "\n",
              "    .dataframe thead th {\n",
              "        text-align: right;\n",
              "    }\n",
              "</style>\n",
              "<table border=\"1\" class=\"dataframe\">\n",
              "  <thead>\n",
              "    <tr style=\"text-align: right;\">\n",
              "      <th></th>\n",
              "      <th>values</th>\n",
              "    </tr>\n",
              "  </thead>\n",
              "  <tbody>\n",
              "    <tr>\n",
              "      <th>olin</th>\n",
              "      <td>8</td>\n",
              "    </tr>\n",
              "    <tr>\n",
              "      <th>wellesley</th>\n",
              "      <td>4</td>\n",
              "    </tr>\n",
              "  </tbody>\n",
              "</table>\n",
              "</div>"
            ],
            "text/plain": [
              "olin         8\n",
              "wellesley    4\n",
              "dtype: int64"
            ]
          },
          "metadata": {
            "tags": []
          },
          "execution_count": 26
        }
      ]
    },
    {
      "cell_type": "markdown",
      "metadata": {
        "id": "URn8VA2O12wC"
      },
      "source": [
        "**Exercise:** At the beginning of `step`, add a print statement that displays the values of `p1` and `p2`.  Call it again with values `0.3`, and `0.2`, and confirm that the values of the parameters are what you expect. "
      ]
    },
    {
      "cell_type": "code",
      "metadata": {
        "id": "d4HQJWR412wE",
        "colab": {
          "base_uri": "https://localhost:8080/",
          "height": 145
        },
        "outputId": "2fb149c7-922f-4034-da97-26bc5920bb49"
      },
      "source": [
        "# Solution goes here\n",
        "def step(p1, p2):\n",
        "  print(\"Probability for moving a bike to Wellesly:\", p1,  \"\\nProbability for moving a bike to Olin:\", p2)\n",
        "\n",
        "  if flip(p1):\n",
        "      bike_to_wellesley()\n",
        "      print('Moving a bike to Wellesley')\n",
        "        \n",
        "  if flip(p2):\n",
        "      bike_to_olin()\n",
        "      print('Moving a bike to Olin')\n",
        "\n",
        "step(0.3,0.2)\n",
        "bikeshare"
      ],
      "execution_count": null,
      "outputs": [
        {
          "output_type": "stream",
          "text": [
            "Probability for moving a bike to Wellesly: 0.3 \n",
            "Probability for moving a bike to Olin: 0.2\n"
          ],
          "name": "stdout"
        },
        {
          "output_type": "execute_result",
          "data": {
            "text/html": [
              "<div>\n",
              "<style scoped>\n",
              "    .dataframe tbody tr th:only-of-type {\n",
              "        vertical-align: middle;\n",
              "    }\n",
              "\n",
              "    .dataframe tbody tr th {\n",
              "        vertical-align: top;\n",
              "    }\n",
              "\n",
              "    .dataframe thead th {\n",
              "        text-align: right;\n",
              "    }\n",
              "</style>\n",
              "<table border=\"1\" class=\"dataframe\">\n",
              "  <thead>\n",
              "    <tr style=\"text-align: right;\">\n",
              "      <th></th>\n",
              "      <th>values</th>\n",
              "    </tr>\n",
              "  </thead>\n",
              "  <tbody>\n",
              "    <tr>\n",
              "      <th>olin</th>\n",
              "      <td>8</td>\n",
              "    </tr>\n",
              "    <tr>\n",
              "      <th>wellesley</th>\n",
              "      <td>4</td>\n",
              "    </tr>\n",
              "  </tbody>\n",
              "</table>\n",
              "</div>"
            ],
            "text/plain": [
              "olin         8\n",
              "wellesley    4\n",
              "dtype: int64"
            ]
          },
          "metadata": {
            "tags": []
          },
          "execution_count": 27
        }
      ]
    },
    {
      "cell_type": "markdown",
      "metadata": {
        "id": "oftPMgt612wF"
      },
      "source": [
        "## For loop"
      ]
    },
    {
      "cell_type": "markdown",
      "metadata": {
        "id": "ISGKvovl12wG"
      },
      "source": [
        "Before we go on, I'll redefine `step` without the print statements."
      ]
    },
    {
      "cell_type": "code",
      "metadata": {
        "id": "OMjuV1SU12wH"
      },
      "source": [
        "def step(p1, p2):\n",
        "    if flip(p1):\n",
        "        bike_to_wellesley()\n",
        "    \n",
        "    if flip(p2):\n",
        "        bike_to_olin()"
      ],
      "execution_count": null,
      "outputs": []
    },
    {
      "cell_type": "markdown",
      "metadata": {
        "id": "YpGaRQhJ12wJ"
      },
      "source": [
        "And let's start again with a new `State` object:"
      ]
    },
    {
      "cell_type": "code",
      "metadata": {
        "id": "OWBny4gy12wK"
      },
      "source": [
        "bikeshare = State(olin=10, wellesley=2)"
      ],
      "execution_count": null,
      "outputs": []
    },
    {
      "cell_type": "markdown",
      "metadata": {
        "id": "Ln11jmDr12wL"
      },
      "source": [
        "We can use a `for` loop to move 4 bikes from Olin to Wellesley."
      ]
    },
    {
      "cell_type": "code",
      "metadata": {
        "id": "0p7RbOCC12wL",
        "colab": {
          "base_uri": "https://localhost:8080/",
          "height": 111
        },
        "outputId": "803b645f-1847-4b2a-f19b-e514f9d736e0"
      },
      "source": [
        "for i in range(4):\n",
        "    bike_to_wellesley()\n",
        "    \n",
        "bikeshare"
      ],
      "execution_count": null,
      "outputs": [
        {
          "output_type": "execute_result",
          "data": {
            "text/html": [
              "<div>\n",
              "<style scoped>\n",
              "    .dataframe tbody tr th:only-of-type {\n",
              "        vertical-align: middle;\n",
              "    }\n",
              "\n",
              "    .dataframe tbody tr th {\n",
              "        vertical-align: top;\n",
              "    }\n",
              "\n",
              "    .dataframe thead th {\n",
              "        text-align: right;\n",
              "    }\n",
              "</style>\n",
              "<table border=\"1\" class=\"dataframe\">\n",
              "  <thead>\n",
              "    <tr style=\"text-align: right;\">\n",
              "      <th></th>\n",
              "      <th>values</th>\n",
              "    </tr>\n",
              "  </thead>\n",
              "  <tbody>\n",
              "    <tr>\n",
              "      <th>olin</th>\n",
              "      <td>6</td>\n",
              "    </tr>\n",
              "    <tr>\n",
              "      <th>wellesley</th>\n",
              "      <td>6</td>\n",
              "    </tr>\n",
              "  </tbody>\n",
              "</table>\n",
              "</div>"
            ],
            "text/plain": [
              "olin         6\n",
              "wellesley    6\n",
              "dtype: int64"
            ]
          },
          "metadata": {
            "tags": []
          },
          "execution_count": 30
        }
      ]
    },
    {
      "cell_type": "markdown",
      "metadata": {
        "id": "z_Xjisso12wN"
      },
      "source": [
        "Or we can **simulate 4 random time steps**.\n",
        "\n"
      ]
    },
    {
      "cell_type": "code",
      "metadata": {
        "id": "GVIV4t_912wO",
        "colab": {
          "base_uri": "https://localhost:8080/",
          "height": 111
        },
        "outputId": "75306010-569b-4447-c850-2d1383116a56"
      },
      "source": [
        "for i in range(4):\n",
        "    step(0.3, 0.2)\n",
        "    \n",
        "bikeshare"
      ],
      "execution_count": null,
      "outputs": [
        {
          "output_type": "execute_result",
          "data": {
            "text/html": [
              "<div>\n",
              "<style scoped>\n",
              "    .dataframe tbody tr th:only-of-type {\n",
              "        vertical-align: middle;\n",
              "    }\n",
              "\n",
              "    .dataframe tbody tr th {\n",
              "        vertical-align: top;\n",
              "    }\n",
              "\n",
              "    .dataframe thead th {\n",
              "        text-align: right;\n",
              "    }\n",
              "</style>\n",
              "<table border=\"1\" class=\"dataframe\">\n",
              "  <thead>\n",
              "    <tr style=\"text-align: right;\">\n",
              "      <th></th>\n",
              "      <th>values</th>\n",
              "    </tr>\n",
              "  </thead>\n",
              "  <tbody>\n",
              "    <tr>\n",
              "      <th>olin</th>\n",
              "      <td>4</td>\n",
              "    </tr>\n",
              "    <tr>\n",
              "      <th>wellesley</th>\n",
              "      <td>8</td>\n",
              "    </tr>\n",
              "  </tbody>\n",
              "</table>\n",
              "</div>"
            ],
            "text/plain": [
              "olin         4\n",
              "wellesley    8\n",
              "dtype: int64"
            ]
          },
          "metadata": {
            "tags": []
          },
          "execution_count": 31
        }
      ]
    },
    {
      "cell_type": "markdown",
      "metadata": {
        "id": "-mGcNkjU12wP"
      },
      "source": [
        "**If each step corresponds to a minute, we can simulate an entire hour like this.**"
      ]
    },
    {
      "cell_type": "code",
      "metadata": {
        "id": "iAUHo2Lj12wQ",
        "colab": {
          "base_uri": "https://localhost:8080/",
          "height": 111
        },
        "outputId": "8046bcc6-f069-472f-9fff-125c7aa05820"
      },
      "source": [
        "for i in range(60):\n",
        "    step(0.3, 0.2)\n",
        "\n",
        "bikeshare"
      ],
      "execution_count": null,
      "outputs": [
        {
          "output_type": "execute_result",
          "data": {
            "text/html": [
              "<div>\n",
              "<style scoped>\n",
              "    .dataframe tbody tr th:only-of-type {\n",
              "        vertical-align: middle;\n",
              "    }\n",
              "\n",
              "    .dataframe tbody tr th {\n",
              "        vertical-align: top;\n",
              "    }\n",
              "\n",
              "    .dataframe thead th {\n",
              "        text-align: right;\n",
              "    }\n",
              "</style>\n",
              "<table border=\"1\" class=\"dataframe\">\n",
              "  <thead>\n",
              "    <tr style=\"text-align: right;\">\n",
              "      <th></th>\n",
              "      <th>values</th>\n",
              "    </tr>\n",
              "  </thead>\n",
              "  <tbody>\n",
              "    <tr>\n",
              "      <th>olin</th>\n",
              "      <td>-6</td>\n",
              "    </tr>\n",
              "    <tr>\n",
              "      <th>wellesley</th>\n",
              "      <td>18</td>\n",
              "    </tr>\n",
              "  </tbody>\n",
              "</table>\n",
              "</div>"
            ],
            "text/plain": [
              "olin         -6\n",
              "wellesley    18\n",
              "dtype: int64"
            ]
          },
          "metadata": {
            "tags": []
          },
          "execution_count": 32
        }
      ]
    },
    {
      "cell_type": "markdown",
      "metadata": {
        "id": "CJx1NARy12wR"
      },
      "source": [
        "After 60 minutes, you might see that the number of bike at Olin is negative.  We'll fix that problem in the next notebook.\n",
        "\n",
        "But first, we want to plot the results."
      ]
    },
    {
      "cell_type": "markdown",
      "metadata": {
        "id": "ZV2UR3F412wS"
      },
      "source": [
        "## TimeSeries\n",
        "\n",
        "`modsim.py` provides an object called a `TimeSeries` that can contain a sequence of values changing over time.\n",
        "\n",
        "We can create a new, empty `TimeSeries` like this:"
      ]
    },
    {
      "cell_type": "code",
      "metadata": {
        "id": "GlMbpgD_12wT"
      },
      "source": [
        "results = TimeSeries()"
      ],
      "execution_count": null,
      "outputs": []
    },
    {
      "cell_type": "markdown",
      "metadata": {
        "id": "rQkuOyMx12wU"
      },
      "source": [
        "And we can add a value to the `TimeSeries` like this:"
      ]
    },
    {
      "cell_type": "code",
      "metadata": {
        "id": "rInphg_E12wV",
        "colab": {
          "base_uri": "https://localhost:8080/",
          "height": 80
        },
        "outputId": "1265bac4-6db2-4f4a-d416-8e5949905bd8"
      },
      "source": [
        "results[0] = bikeshare.olin\n",
        "results"
      ],
      "execution_count": null,
      "outputs": [
        {
          "output_type": "execute_result",
          "data": {
            "text/html": [
              "<div>\n",
              "<style scoped>\n",
              "    .dataframe tbody tr th:only-of-type {\n",
              "        vertical-align: middle;\n",
              "    }\n",
              "\n",
              "    .dataframe tbody tr th {\n",
              "        vertical-align: top;\n",
              "    }\n",
              "\n",
              "    .dataframe thead th {\n",
              "        text-align: right;\n",
              "    }\n",
              "</style>\n",
              "<table border=\"1\" class=\"dataframe\">\n",
              "  <thead>\n",
              "    <tr style=\"text-align: right;\">\n",
              "      <th></th>\n",
              "      <th>values</th>\n",
              "    </tr>\n",
              "  </thead>\n",
              "  <tbody>\n",
              "    <tr>\n",
              "      <th>0</th>\n",
              "      <td>-6</td>\n",
              "    </tr>\n",
              "  </tbody>\n",
              "</table>\n",
              "</div>"
            ],
            "text/plain": [
              "0   -6\n",
              "dtype: int64"
            ]
          },
          "metadata": {
            "tags": []
          },
          "execution_count": 34
        }
      ]
    },
    {
      "cell_type": "markdown",
      "metadata": {
        "id": "CrerMcFg12wW"
      },
      "source": [
        "The `0` in brackets is an `index` that indicates that this value is associated with time step 0.\n",
        "\n",
        "Now we'll use a for loop to save the results of the simulation.  I'll start one more time with a new `State` object."
      ]
    },
    {
      "cell_type": "code",
      "metadata": {
        "id": "UQr5yiUp12wX"
      },
      "source": [
        "bikeshare = State(olin=10, wellesley=2)"
      ],
      "execution_count": null,
      "outputs": []
    },
    {
      "cell_type": "markdown",
      "metadata": {
        "id": "mA_R1vlu12wZ"
      },
      "source": [
        "Here's a for loop that runs 10 steps and stores the results."
      ]
    },
    {
      "cell_type": "code",
      "metadata": {
        "id": "4c7qODNb12wa"
      },
      "source": [
        "for i in range(10):\n",
        "    step(0.3, 0.2)\n",
        "    results[i] = bikeshare.olin"
      ],
      "execution_count": null,
      "outputs": []
    },
    {
      "cell_type": "markdown",
      "metadata": {
        "id": "LxCQOXQe12wb"
      },
      "source": [
        "Now we can display the results."
      ]
    },
    {
      "cell_type": "code",
      "metadata": {
        "id": "8JQrOY9G12wc",
        "colab": {
          "base_uri": "https://localhost:8080/",
          "height": 359
        },
        "outputId": "8740ad54-48de-4a87-bacf-296482cc8793"
      },
      "source": [
        "results"
      ],
      "execution_count": null,
      "outputs": [
        {
          "output_type": "execute_result",
          "data": {
            "text/html": [
              "<div>\n",
              "<style scoped>\n",
              "    .dataframe tbody tr th:only-of-type {\n",
              "        vertical-align: middle;\n",
              "    }\n",
              "\n",
              "    .dataframe tbody tr th {\n",
              "        vertical-align: top;\n",
              "    }\n",
              "\n",
              "    .dataframe thead th {\n",
              "        text-align: right;\n",
              "    }\n",
              "</style>\n",
              "<table border=\"1\" class=\"dataframe\">\n",
              "  <thead>\n",
              "    <tr style=\"text-align: right;\">\n",
              "      <th></th>\n",
              "      <th>values</th>\n",
              "    </tr>\n",
              "  </thead>\n",
              "  <tbody>\n",
              "    <tr>\n",
              "      <th>0</th>\n",
              "      <td>10</td>\n",
              "    </tr>\n",
              "    <tr>\n",
              "      <th>1</th>\n",
              "      <td>10</td>\n",
              "    </tr>\n",
              "    <tr>\n",
              "      <th>2</th>\n",
              "      <td>10</td>\n",
              "    </tr>\n",
              "    <tr>\n",
              "      <th>3</th>\n",
              "      <td>10</td>\n",
              "    </tr>\n",
              "    <tr>\n",
              "      <th>4</th>\n",
              "      <td>10</td>\n",
              "    </tr>\n",
              "    <tr>\n",
              "      <th>5</th>\n",
              "      <td>9</td>\n",
              "    </tr>\n",
              "    <tr>\n",
              "      <th>6</th>\n",
              "      <td>8</td>\n",
              "    </tr>\n",
              "    <tr>\n",
              "      <th>7</th>\n",
              "      <td>8</td>\n",
              "    </tr>\n",
              "    <tr>\n",
              "      <th>8</th>\n",
              "      <td>7</td>\n",
              "    </tr>\n",
              "    <tr>\n",
              "      <th>9</th>\n",
              "      <td>6</td>\n",
              "    </tr>\n",
              "  </tbody>\n",
              "</table>\n",
              "</div>"
            ],
            "text/plain": [
              "0    10\n",
              "1    10\n",
              "2    10\n",
              "3    10\n",
              "4    10\n",
              "5     9\n",
              "6     8\n",
              "7     8\n",
              "8     7\n",
              "9     6\n",
              "dtype: int64"
            ]
          },
          "metadata": {
            "tags": []
          },
          "execution_count": 37
        }
      ]
    },
    {
      "cell_type": "markdown",
      "metadata": {
        "id": "se9KrUUp12wd"
      },
      "source": [
        "A `TimeSeries` is a specialized version of a Pandas `Series`, so we can use any of the functions provided by `Series`, including several that compute summary statistics:"
      ]
    },
    {
      "cell_type": "code",
      "metadata": {
        "id": "hOZk1l0l12we",
        "colab": {
          "base_uri": "https://localhost:8080/"
        },
        "outputId": "da97bbbf-4ad4-494d-8238-11fbe421d549"
      },
      "source": [
        "results.mean()"
      ],
      "execution_count": null,
      "outputs": [
        {
          "output_type": "execute_result",
          "data": {
            "text/plain": [
              "8.8"
            ]
          },
          "metadata": {
            "tags": []
          },
          "execution_count": 38
        }
      ]
    },
    {
      "cell_type": "code",
      "metadata": {
        "id": "eudSohh012wf",
        "colab": {
          "base_uri": "https://localhost:8080/"
        },
        "outputId": "26fd363b-ca01-428a-aaf2-b6d7204b9900"
      },
      "source": [
        "results.describe()"
      ],
      "execution_count": null,
      "outputs": [
        {
          "output_type": "execute_result",
          "data": {
            "text/plain": [
              "count    10.00000\n",
              "mean      8.80000\n",
              "std       1.47573\n",
              "min       6.00000\n",
              "25%       8.00000\n",
              "50%       9.50000\n",
              "75%      10.00000\n",
              "max      10.00000\n",
              "dtype: float64"
            ]
          },
          "metadata": {
            "tags": []
          },
          "execution_count": 39
        }
      ]
    },
    {
      "cell_type": "markdown",
      "metadata": {
        "id": "XrIM1OAo12wf"
      },
      "source": [
        "You can read the documentation of `Series` [here](https://pandas.pydata.org/pandas-docs/stable/generated/pandas.Series.html)."
      ]
    },
    {
      "cell_type": "markdown",
      "metadata": {
        "id": "pDem6Uil12wg"
      },
      "source": [
        "## Plotting\n",
        "\n",
        "We can also plot the results like this."
      ]
    },
    {
      "cell_type": "code",
      "metadata": {
        "id": "AwCaYMdq12wi",
        "colab": {
          "base_uri": "https://localhost:8080/",
          "height": 297
        },
        "outputId": "455cccbd-b7dc-4e36-f283-5bb020c70551"
      },
      "source": [
        "plot(results, label='Olin')\n",
        "\n",
        "decorate(title='Olin-Wellesley Bikeshare',\n",
        "         xlabel='Time step (min)', \n",
        "         ylabel='Number of bikes')"
      ],
      "execution_count": null,
      "outputs": [
        {
          "output_type": "display_data",
          "data": {
            "image/png": "[encoded data removed]",
            "text/plain": [
              "<Figure size 432x288 with 1 Axes>"
            ]
          },
          "metadata": {
            "tags": [],
            "needs_background": "light"
          }
        }
      ]
    },
    {
      "cell_type": "markdown",
      "metadata": {
        "id": "SljNg3uC12wj"
      },
      "source": [
        "`decorate`, which is defined in the `modsim` library, adds a title and labels the axes."
      ]
    },
    {
      "cell_type": "markdown",
      "metadata": {
        "id": "U20Rdxvl12wk"
      },
      "source": [
        "**Exercise:** Wrap the code from this section in a function named `run_simulation` that takes three parameters, named `p1`, `p2`, and `num_steps`.\n",
        "\n",
        "It should:\n",
        "\n",
        "1. Create a `TimeSeries` object to hold the results.\n",
        "2. Use a for loop to run `step` the number of times specified by `num_steps`, passing along the specified values of `p1` and `p2`.\n",
        "3. After each step, it should save the number of bikes at Olin in the `TimeSeries`.\n",
        "4. After the for loop, it should plot the results and\n",
        "5. Decorate the axes.\n",
        "\n",
        "To test your function:\n",
        "\n",
        "1. Create a `State` object with the initial state of the system.\n",
        "2. Call `run_simulation` with appropriate parameters.\n",
        "3. Save the resulting figure.\n",
        "\n",
        "Optional:\n",
        "\n",
        "1. Extend your solution so it creates two `TimeSeries` objects, keeps track of the number of bikes at Olin *and* at Wellesley, and plots both series at the end."
      ]
    },
    {
      "cell_type": "code",
      "metadata": {
        "id": "Ip8zU1wD12wl"
      },
      "source": [
        "# Solution goes here\n",
        "def run_simulation(num_steps, p1, p2):\n",
        "  for i in range(num_steps):\n",
        "    step(p1, p2)\n",
        "    results[i] = bikeshare.olin\n",
        "  plot(results, label='Olin')\n",
        "  decorate(title='Olin-Wellesley Bikeshare',\n",
        "         xlabel='Time step (min)', \n",
        "         ylabel='Number of bikes')"
      ],
      "execution_count": null,
      "outputs": []
    },
    {
      "cell_type": "code",
      "metadata": {
        "id": "w2EgQybR12wm",
        "colab": {
          "base_uri": "https://localhost:8080/",
          "height": 297
        },
        "outputId": "fe98d170-63c9-450b-c38f-3603ab8d3d6f"
      },
      "source": [
        "# Test of Solution goes here\n",
        "#create the state onj\n",
        "bikeshare = State(olin=10, wellesley=2)\n",
        "run_simulation(15, .3, .4)"
      ],
      "execution_count": null,
      "outputs": [
        {
          "output_type": "display_data",
          "data": {
            "image/png": "[encoded data removed]",
            "text/plain": [
              "<Figure size 432x288 with 1 Axes>"
            ]
          },
          "metadata": {
            "tags": [],
            "needs_background": "light"
          }
        }
      ]
    },
    {
      "cell_type": "code",
      "metadata": {
        "id": "i21CiA-TxUI1"
      },
      "source": [
        "results_a = TimeSeries()\n",
        "results_b = TimeSeries()\n",
        "def run_simulation(num_steps, p1, p2):\n",
        "  for i in range(num_steps):\n",
        "    step(p1, p2)\n",
        "    results_a[i] = bikeshare.olin\n",
        "    results_b[i] = bikeshare.wellesley\n",
        "  \n",
        "  plot(results_a, label='Olin')\n",
        "  plot(results_b, label='Wellesley')\n",
        "  decorate(title='Olin-Wellesley Bikeshare',\n",
        "         xlabel='Time step (min)', \n",
        "         ylabel='Number of bikes')\n"
      ],
      "execution_count": null,
      "outputs": []
    },
    {
      "cell_type": "code",
      "metadata": {
        "colab": {
          "base_uri": "https://localhost:8080/",
          "height": 297
        },
        "id": "ezcN1zHFxYt2",
        "outputId": "a9380bde-6354-4d77-a735-69c6fa0ebda6"
      },
      "source": [
        "bikeshare = State(olin=10, wellesley=2)\n",
        "bikeshare\n",
        "run_simulation(16, .3, .4)"
      ],
      "execution_count": null,
      "outputs": [
        {
          "output_type": "display_data",
          "data": {
            "image/png": "[encoded data removed]",
            "text/plain": [
              "<Figure size 432x288 with 1 Axes>"
            ]
          },
          "metadata": {
            "tags": [],
            "needs_background": "light"
          }
        }
      ]
    },
    {
      "cell_type": "markdown",
      "metadata": {
        "id": "ZwM-wAD1xTFY"
      },
      "source": [
        ""
      ]
    },
    {
      "cell_type": "markdown",
      "metadata": {
        "id": "qkudnP4W12wn"
      },
      "source": [
        "## Opening the hood\n",
        "\n",
        "The functions in `modsim.py` are built on top of several widely-used Python libraries, especially NumPy, SciPy, and Pandas.  These libraries are powerful but can be hard to use.  The intent of `modsim.py` is to give you the power of these libraries while making it easy to get started.\n",
        "\n",
        "In the future, you might want to use these libraries directly, rather than using `modsim.py`.  So we will pause occasionally to open the hood and let you see how `modsim.py` works.\n",
        "\n",
        "You don't need to know anything in these sections, so if you are already feeling overwhelmed, you might want to skip them.  But if you are curious, read on."
      ]
    },
    {
      "cell_type": "markdown",
      "metadata": {
        "id": "PldNpetm12wo"
      },
      "source": [
        "### Pandas\n",
        "\n",
        "This chapter introduces two objects, `State` and `TimeSeries`.  Both are based on the `Series` object defined by Pandas, which is a library primarily used for data science.\n",
        "\n",
        "You can read the documentation of the `Series` object [here](https://pandas.pydata.org/pandas-docs/stable/generated/pandas.Series.html)\n",
        "\n",
        "The primary differences between `TimeSeries` and `Series` are:\n",
        "\n",
        "1. I made it easier to create a new, empty `Series` while avoiding a [confusing inconsistency](https://pandas.pydata.org/pandas-docs/stable/generated/pandas.Series.html).\n",
        "\n",
        "2. I provide a function so the `Series` looks good when displayed in Jupyter.\n",
        "\n",
        "3. I provide a function called `set` that we'll use later.\n",
        "\n",
        "`State` has all of those capabilities; in addition, it provides an easier way to initialize state variables, and it provides functions called `T` and `dt`, which will help us avoid a confusing error later."
      ]
    },
    {
      "cell_type": "markdown",
      "metadata": {
        "id": "AbTS-IFE12wq"
      },
      "source": [
        "### Pyplot\n",
        "\n",
        "The `plot` function in `modsim.py` is based on the `plot` function in Pyplot, which is part of Matplotlib.  You can read the documentation of `plot` [here](https://matplotlib.org/api/_as_gen/matplotlib.pyplot.plot.html).\n",
        "\n",
        "`decorate` provides a convenient way to call the `pyplot` functions `title`, `xlabel`, and `ylabel`, and `legend`.  It also avoids an annoying warning message if you try to make a legend when you don't have any labelled lines."
      ]
    },
    {
      "cell_type": "code",
      "metadata": {
        "id": "mL8ns9f412wr",
        "colab": {
          "base_uri": "https://localhost:8080/"
        },
        "outputId": "902e2502-a8c8-4941-cc5c-731b6123fe65"
      },
      "source": [
        "help(decorate)"
      ],
      "execution_count": null,
      "outputs": [
        {
          "output_type": "stream",
          "text": [
            "Help on function decorate in module modsim.modsim:\n",
            "\n",
            "decorate(**options)\n",
            "    Decorate the current axes.\n",
            "    \n",
            "    Call decorate with keyword arguments like\n",
            "    \n",
            "    decorate(title='Title',\n",
            "             xlabel='x',\n",
            "             ylabel='y')\n",
            "    \n",
            "    The keyword arguments can be any of the axis properties\n",
            "    \n",
            "    https://matplotlib.org/api/axes_api.html\n",
            "    \n",
            "    In addition, you can use `legend=False` to suppress the legend.\n",
            "    \n",
            "    And you can use `loc` to indicate the location of the legend\n",
            "    (the default value is 'best')\n",
            "\n"
          ],
          "name": "stdout"
        }
      ]
    },
    {
      "cell_type": "markdown",
      "metadata": {
        "id": "hY2LP6ML12ws"
      },
      "source": [
        "### NumPy\n",
        "\n",
        "The `flip` function in `modsim.py` uses NumPy's `random` function to generate a random number between 0 and 1.\n",
        "\n",
        "You can get the source code for `flip` by running the following cell."
      ]
    },
    {
      "cell_type": "code",
      "metadata": {
        "id": "xJUB3-1L12wt",
        "colab": {
          "base_uri": "https://localhost:8080/"
        },
        "outputId": "c9d342c1-debc-484a-f335-38e94eea8952"
      },
      "source": [
        "source_code(flip)"
      ],
      "execution_count": null,
      "outputs": [
        {
          "output_type": "stream",
          "text": [
            "def flip(p=0.5):\n",
            "    \"\"\"Flips a coin with the given probability.\n",
            "\n",
            "    p: float 0-1\n",
            "\n",
            "    returns: boolean (True or False)\n",
            "    \"\"\"\n",
            "    return np.random.random() < p\n",
            "\n"
          ],
          "name": "stdout"
        }
      ]
    }
  ]
}