{
 "cells": [
  {
   "cell_type": "markdown",
   "metadata": {},
   "source": [
    "Forum Week 1\n",
    "Write a simulation for  a simple game of chance (e.g., drawing cards, rolling one or more dice, etc.)\n",
    "Run the simulation 1000 times and interpret the outcome.\n",
    "Post your code here (on Blackboard), and discuss what might be done to improve it.  "
   ]
  },
  {
   "cell_type": "markdown",
   "metadata": {},
   "source": [
    "Toss of a die"
   ]
  },
  {
   "cell_type": "code",
   "execution_count": 24,
   "metadata": {},
   "outputs": [
    {
     "name": "stdout",
     "output_type": "stream",
     "text": [
      "The Outcome of the toss is: 5\n"
     ]
    }
   ],
   "source": [
    "import numpy as np\n",
    "import pandas as pd\n",
    "#if you don't define the seed, then the outcome 900 will always come up different every time you run \n",
    "#np.random.seed(985) \n",
    "\n",
    "die, probabilities, throws = [1,2,3,4,5,6], [1/6,1/6,1/6,1/6,1/6,1/6], 1000\n",
    "\n",
    "outcome= np.random.choice(die, size=throws, p=probabilities)\n",
    "print(\"The Outcome of the toss is: {}\".format(outcome[900]))"
   ]
  },
  {
   "cell_type": "code",
   "execution_count": 30,
   "metadata": {},
   "outputs": [
    {
     "name": "stdout",
     "output_type": "stream",
     "text": [
      "The Outcome of the toss is: 3\n",
      "[2 1 4 3 2 5 6 6 1 2 6 4 6 2 5 1 1 5 4 1 5 2 4 4 2 2 5 5 2 5 2 5 1 5 2 1 5\n",
      " 4 3 3 4 1 3 6 4 3 2 6 4 4 5 1 1 3 1 2 3 4 3 4 4 6 2 1 2 5 4 2 4 6 3 5 1 4\n",
      " 3 3 2 3 6 6 6 1 6 1 3 3 5 4 6 4 4 2 2 5 5 1 4 6 4 3 1 4 4 1 6 2 4 6 5 4 2\n",
      " 2 4 2 2 4 1 4 3 5 4 3 1 3 4 2 3 1 5 6 2 1 6 2 1 1 1 1 3 2 2 3 2 4 5 5 1 4\n",
      " 4 6 3 4 4 6 6 6 6 6 5 3 4 3 5 6 4 5 3 5 4 4 5 1 2 1 1 2 6 3 2 1 1 5 1 2 2\n",
      " 1 2 1 1 2 3 2 1 5 6 3 2 2 5 4 2 5 3 3 1 4 6 1 4 3 5 3 5 3 4 5 3 3 1 5 5 6\n",
      " 5 2 3 6 5 1 3 4 4 2 3 2 3 4 5 4 4 3 5 4 5 4 6 4 4 5 4 1 4 1 5 3 2 3 5 1 4\n",
      " 5 6 2 1 5 5 2 4 3 1 1 6 5 3 4 3 1 4 5 5 2 3 6 6 3 3 4 3 3 6 2 3 1 5 2 6 4\n",
      " 3 2 5 3 1 5 6 4 5 6 4 4 5 5 1 4 6 3 3 6 1 3 1 4 3 3 6 4 6 3 5 5 2 2 3 2 2\n",
      " 6 4 1 6 2 1 3 3 6 4 6 1 3 1 1 2 3 1 5 2 5 3 2 1 5 5 1 3 4 2 3 6 3 1 5 6 1\n",
      " 4 1 3 3 5 3 6 6 4 3 5 4 4 1 3 3 6 1 4 6 6 1 2 5 5 2 3 2 6 1 3 5 4 5 3 5 6\n",
      " 6 5 1 4 1 1 5 4 5 2 2 2 5 4 2 5 4 4 2 1 2 2 4 2 3 3 2 2 1 4 6 1 2 2 4 5 4\n",
      " 2 3 3 5 3 5 5 2 3 5 4 3 6 4 6 3 2 3 3 2 4 6 5 3 4 1 6 5 3 6 2 6 5 6 6 5 4\n",
      " 3 2 3 3 4 5 4 5 4 2 1 3 1 4 1 2 2 4 2 4 6 1 5 3 1 1 4 2 4 3 2 3 4 3 3 2 2\n",
      " 1 1 5 6 6 4 1 4 2 2 5 6 2 1 3 2 2 1 3 6 1 3 5 4 1 1 1 2 3 5 3 1 5 3 4 5 4\n",
      " 4 2 2 6 5 4 3 6 2 6 2 4 1 6 3 1 2 2 4 6 2 5 3 5 6 6 5 6 1 6 1 5 1 6 1 5 3\n",
      " 3 3 5 1 5 5 4 2 5 4 1 6 1 6 3 5 3 1 2 1 3 6 5 5 5 3 6 4 1 6 2 1 2 5 5 2 4\n",
      " 6 2 1 2 4 5 3 2 4 4 3 5 5 4 5 3 5 1 2 1 5 5 1 3 2 5 4 4 3 2 3 5 2 4 1 6 1\n",
      " 4 1 6 4 5 2 4 6 6 1 2 6 5 2 6 3 4 6 1 3 2 6 1 5 4 3 2 4 4 4 6 6 5 5 4 1 4\n",
      " 6 6 4 4 4 5 3 1 3 5 5 5 5 1 2 3 5 2 2 1 5 1 1 2 5 3 1 5 6 2 5 2 6 1 6 4 4\n",
      " 3 3 4 4 1 6 5 6 1 4 2 4 3 2 6 5 4 3 4 5 6 4 1 1 2 5 2 4 2 2 6 1 2 4 1 6 2\n",
      " 1 5 6 1 3 1 1 4 5 3 5 1 1 4 5 4 2 6 6 1 5 6 5 5 5 2 5 5 3 4 3 3 5 6 1 6 3\n",
      " 2 4 6 2 1 4 3 3 5 6 5 5 1 6 3 4 4 3 6 2 5 4 1 2 2 3 4 2 4 5 1 4 2 4 6 1 4\n",
      " 2 6 4 3 5 3 3 5 3 2 3 5 1 5 1 2 5 2 4 6 2 2 5 5 1 4 6 2 6 4 6 5 3 2 5 1 2\n",
      " 1 2 3 1 5 5 3 6 1 1 4 3 3 1 3 1 6 2 3 2 4 2 6 5 4 2 1 1 6 6 1 1 3 3 5 5 3\n",
      " 1 3 1 4 6 3 5 5 3 2 2 3 5 1 1 4 2 3 3 4 2 2 4 1 6 6 2 6 2 6 3 3 3 6 2 4 1\n",
      " 5 6 3 3 2 4 2 1 4 4 6 1 2 4 2 4 1 4 1 1 3 3 3 3 3 3 6 4 3 1 2 2 1 6 1 1 6\n",
      " 4]\n"
     ]
    },
    {
     "data": {
      "text/plain": [
       "Text(0.5, 1.0, 'Histogram of Outcomes')"
      ]
     },
     "execution_count": 30,
     "metadata": {},
     "output_type": "execute_result"
    },
    {
     "data": {
      "image/png": "[encoded data removed]",
      "text/plain": [
       "<Figure size 432x288 with 1 Axes>"
      ]
     },
     "metadata": {
      "needs_background": "light"
     },
     "output_type": "display_data"
    }
   ],
   "source": [
    "import numpy as np\n",
    "import pandas as pd\n",
    "import matplotlib.pyplot as plt\n",
    "import matplotlib\n",
    "\n",
    "#seed defined, the reuslt for outcome 900 will be the same each time the cell is rerun\n",
    "np.random.seed(985)\n",
    "\n",
    "die, probabilities, throws = [1,2,3,4,5,6], [1/6,1/6,1/6,1/6,1/6,1/6], 1000\n",
    "\n",
    "outcome= np.random.choice(die, size=throws, p=probabilities)\n",
    "print(\"The Outcome of the toss is: {}\".format(outcome[900]))\n",
    "\n",
    "#outcome results\n",
    "print(outcome)\n",
    "\n",
    "#historgram of the outcomes\n",
    "plt.hist(outcome, bins=11, facecolor=\"pink\", edgecolor=\"black\", alpha=0.7)\n",
    "plt.xlabel(\"Outcome\")\n",
    "# Display vertical axis label\n",
    "plt.ylabel(\"Frequency\")\n",
    "# Show title\n",
    "plt.title(\"Histogram of Outcomes\")"
   ]
  }
 ],
 "metadata": {
  "kernelspec": {
   "display_name": "Python 3",
   "language": "python",
   "name": "python3"
  },
  "language_info": {
   "codemirror_mode": {
    "name": "ipython",
    "version": 3
   },
   "file_extension": ".py",
   "mimetype": "text/x-python",
   "name": "python",
   "nbconvert_exporter": "python",
   "pygments_lexer": "ipython3",
   "version": "3.8.5"
  }
 },
 "nbformat": 4,
 "nbformat_minor": 4
}
