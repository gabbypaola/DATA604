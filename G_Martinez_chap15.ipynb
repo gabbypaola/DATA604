{
  "nbformat": 4,
  "nbformat_minor": 0,
  "metadata": {
    "kernelspec": {
      "display_name": "Python 3",
      "language": "python",
      "name": "python3"
    },
    "language_info": {
      "codemirror_mode": {
        "name": "ipython",
        "version": 3
      },
      "file_extension": ".py",
      "mimetype": "text/x-python",
      "name": "python",
      "nbconvert_exporter": "python",
      "pygments_lexer": "ipython3",
      "version": "3.7.9"
    },
    "colab": {
      "name": "G_Martinez_chap15.ipynb",
      "provenance": [],
      "collapsed_sections": [],
      "include_colab_link": true
    }
  },
  "cells": [
    {
      "cell_type": "markdown",
      "metadata": {
        "id": "view-in-github",
        "colab_type": "text"
      },
      "source": [
        "<a href=\"https://colab.research.google.com/github/gabbypaola/DATA604/blob/main/G_Martinez_chap15.ipynb\" target=\"_parent\"><img src=\"https://colab.research.google.com/assets/colab-badge.svg\" alt=\"Open In Colab\"/></a>"
      ]
    },
    {
      "cell_type": "markdown",
      "metadata": {
        "id": "4TyA4g9Dpiqp"
      },
      "source": [
        "# Chapter 15"
      ]
    },
    {
      "cell_type": "markdown",
      "metadata": {
        "tags": [],
        "id": "8_kg2thLpiq5"
      },
      "source": [
        "*Modeling and Simulation in Python*\n",
        "\n",
        "Copyright 2021 Allen Downey\n",
        "\n",
        "License: [Creative Commons Attribution-NonCommercial-ShareAlike 4.0 International](https://creativecommons.org/licenses/by-nc-sa/4.0/)"
      ]
    },
    {
      "cell_type": "code",
      "metadata": {
        "tags": [],
        "id": "HQgb_WcEpiq-",
        "colab": {
          "base_uri": "https://localhost:8080/"
        },
        "outputId": "f176b753-e980-4c56-9ab5-9fe4119fb481"
      },
      "source": [
        "# check if the libraries we need are installed\n",
        "\n",
        "try:\n",
        "    import pint\n",
        "except ImportError:\n",
        "    !pip install pint\n",
        "    import pint\n",
        "    \n",
        "try:\n",
        "    from modsim import *\n",
        "except ImportError:\n",
        "    !pip install modsimpy\n",
        "    from modsim import *"
      ],
      "execution_count": null,
      "outputs": [
        {
          "output_type": "stream",
          "text": [
            "Collecting pint\n",
            "\u001b[?25l  Downloading https://files.pythonhosted.org/packages/33/de/53a77b82553579affab7438d299f850acbc1c4dd741c5ce52594513cb0ef/Pint-0.17-py2.py3-none-any.whl (204kB)\n",
            "\r\u001b[K     |█▋                              | 10kB 13.8MB/s eta 0:00:01\r\u001b[K     |███▏                            | 20kB 19.5MB/s eta 0:00:01\r\u001b[K     |████▉                           | 30kB 18.9MB/s eta 0:00:01\r\u001b[K     |██████▍                         | 40kB 16.6MB/s eta 0:00:01\r\u001b[K     |████████                        | 51kB 8.3MB/s eta 0:00:01\r\u001b[K     |█████████▋                      | 61kB 9.5MB/s eta 0:00:01\r\u001b[K     |███████████▏                    | 71kB 8.9MB/s eta 0:00:01\r\u001b[K     |████████████▉                   | 81kB 9.7MB/s eta 0:00:01\r\u001b[K     |██████████████▍                 | 92kB 10.4MB/s eta 0:00:01\r\u001b[K     |████████████████                | 102kB 8.7MB/s eta 0:00:01\r\u001b[K     |█████████████████▋              | 112kB 8.7MB/s eta 0:00:01\r\u001b[K     |███████████████████▏            | 122kB 8.7MB/s eta 0:00:01\r\u001b[K     |████████████████████▉           | 133kB 8.7MB/s eta 0:00:01\r\u001b[K     |██████████████████████▍         | 143kB 8.7MB/s eta 0:00:01\r\u001b[K     |████████████████████████        | 153kB 8.7MB/s eta 0:00:01\r\u001b[K     |█████████████████████████▋      | 163kB 8.7MB/s eta 0:00:01\r\u001b[K     |███████████████████████████▏    | 174kB 8.7MB/s eta 0:00:01\r\u001b[K     |████████████████████████████▊   | 184kB 8.7MB/s eta 0:00:01\r\u001b[K     |██████████████████████████████▍ | 194kB 8.7MB/s eta 0:00:01\r\u001b[K     |████████████████████████████████| 204kB 8.7MB/s eta 0:00:01\r\u001b[K     |████████████████████████████████| 215kB 8.7MB/s \n",
            "\u001b[?25hRequirement already satisfied: importlib-metadata; python_version < \"3.8\" in /usr/local/lib/python3.7/dist-packages (from pint) (4.6.0)\n",
            "Requirement already satisfied: packaging in /usr/local/lib/python3.7/dist-packages (from pint) (20.9)\n",
            "Requirement already satisfied: zipp>=0.5 in /usr/local/lib/python3.7/dist-packages (from importlib-metadata; python_version < \"3.8\"->pint) (3.4.1)\n",
            "Requirement already satisfied: typing-extensions>=3.6.4; python_version < \"3.8\" in /usr/local/lib/python3.7/dist-packages (from importlib-metadata; python_version < \"3.8\"->pint) (3.7.4.3)\n",
            "Requirement already satisfied: pyparsing>=2.0.2 in /usr/local/lib/python3.7/dist-packages (from packaging->pint) (2.4.7)\n",
            "Installing collected packages: pint\n",
            "Successfully installed pint-0.17\n",
            "Collecting modsimpy\n",
            "  Downloading https://files.pythonhosted.org/packages/ee/ef/c170df0ee5311cda90a10fc71d1610b9a1cb2241fadbf04bf0f57ff161e9/modsimpy-1.1.3.tar.gz\n",
            "Building wheels for collected packages: modsimpy\n",
            "  Building wheel for modsimpy (setup.py) ... \u001b[?25l\u001b[?25hdone\n",
            "  Created wheel for modsimpy: filename=modsimpy-1.1.3-cp37-none-any.whl size=20356 sha256=8f4a5a29de6619626b9fdedcf1f3dff38cb49c401d68aaf38338d450e8512797\n",
            "  Stored in directory: /root/.cache/pip/wheels/59/34/ac/e82f103fbfb5d961b1a4d2b8e89bb6629a4c0b242e5373cbfa\n",
            "Successfully built modsimpy\n",
            "Installing collected packages: modsimpy\n",
            "Successfully installed modsimpy-1.1.3\n"
          ],
          "name": "stdout"
        }
      ]
    },
    {
      "cell_type": "markdown",
      "metadata": {
        "id": "tvXW5utXpirD"
      },
      "source": [
        "### The coffee cooling problem\n",
        "\n",
        "I'll use a `State` object to store the initial temperature.\n"
      ]
    },
    {
      "cell_type": "code",
      "metadata": {
        "id": "kZtARM3SpirG"
      },
      "source": [
        "init = State(T=90)"
      ],
      "execution_count": null,
      "outputs": []
    },
    {
      "cell_type": "markdown",
      "metadata": {
        "id": "XP8UoEEipirI"
      },
      "source": [
        "And a `System` object to contain the system parameters."
      ]
    },
    {
      "cell_type": "code",
      "metadata": {
        "id": "vYZINwQDpirR"
      },
      "source": [
        "coffee = System(init=init,\n",
        "                volume=300,\n",
        "                r=0.01,\n",
        "                T_env=22,\n",
        "                t_0=0,\n",
        "                t_end=30,\n",
        "                dt=1)"
      ],
      "execution_count": null,
      "outputs": []
    },
    {
      "cell_type": "markdown",
      "metadata": {
        "id": "94vVfqcepirV"
      },
      "source": [
        "The update function implements Newton's law of cooling."
      ]
    },
    {
      "cell_type": "code",
      "metadata": {
        "id": "dEwSR37npirY"
      },
      "source": [
        "def update_func(state, t, system):\n",
        "    \"\"\"Update the thermal transfer model.\n",
        "    \n",
        "    state: State (temp)\n",
        "    t: time\n",
        "    system: System object\n",
        "    \n",
        "    returns: State (temp)\n",
        "    \"\"\"\n",
        "    r, T_env, dt = system.r, system.T_env, system.dt\n",
        "    \n",
        "    T = state.T\n",
        "    T += -r * (T - T_env) * dt\n",
        "    \n",
        "    return State(T=T)"
      ],
      "execution_count": null,
      "outputs": []
    },
    {
      "cell_type": "markdown",
      "metadata": {
        "id": "V7_mt3U1pirb"
      },
      "source": [
        "Here's how it works."
      ]
    },
    {
      "cell_type": "code",
      "metadata": {
        "id": "rw4rhfEIpire",
        "colab": {
          "base_uri": "https://localhost:8080/",
          "height": 80
        },
        "outputId": "192c6893-e230-425b-da5b-84d03ded4ac4"
      },
      "source": [
        "update_func(init, 0, coffee)"
      ],
      "execution_count": null,
      "outputs": [
        {
          "output_type": "execute_result",
          "data": {
            "text/html": [
              "<div>\n",
              "<style scoped>\n",
              "    .dataframe tbody tr th:only-of-type {\n",
              "        vertical-align: middle;\n",
              "    }\n",
              "\n",
              "    .dataframe tbody tr th {\n",
              "        vertical-align: top;\n",
              "    }\n",
              "\n",
              "    .dataframe thead th {\n",
              "        text-align: right;\n",
              "    }\n",
              "</style>\n",
              "<table border=\"1\" class=\"dataframe\">\n",
              "  <thead>\n",
              "    <tr style=\"text-align: right;\">\n",
              "      <th></th>\n",
              "      <th>values</th>\n",
              "    </tr>\n",
              "  </thead>\n",
              "  <tbody>\n",
              "    <tr>\n",
              "      <th>T</th>\n",
              "      <td>89.32</td>\n",
              "    </tr>\n",
              "  </tbody>\n",
              "</table>\n",
              "</div>"
            ],
            "text/plain": [
              "T    89.32\n",
              "dtype: float64"
            ]
          },
          "metadata": {
            "tags": []
          },
          "execution_count": 5
        }
      ]
    },
    {
      "cell_type": "markdown",
      "metadata": {
        "id": "MBili4YVpiri"
      },
      "source": [
        "Here's a version of `run_simulation` that uses `linrange` to make an array of time steps."
      ]
    },
    {
      "cell_type": "code",
      "metadata": {
        "id": "ggOCY_rzpirk"
      },
      "source": [
        "def run_simulation(system, update_func):\n",
        "    \"\"\"Runs a simulation of the system.\n",
        "    \n",
        "    Add a TimeFrame to the System: results\n",
        "    \n",
        "    system: System object\n",
        "    update_func: function that updates state\n",
        "    \"\"\"\n",
        "    init = system.init\n",
        "    t_0, t_end, dt = system.t_0, system.t_end, system.dt\n",
        "    \n",
        "    frame = TimeFrame(columns=init.index)\n",
        "    frame.row[t_0] = init\n",
        "    ts = linrange(t_0, t_end, dt)\n",
        "    \n",
        "    for t in ts:\n",
        "        frame.row[t+dt] = update_func(frame.row[t], t, system)\n",
        "    \n",
        "    return frame"
      ],
      "execution_count": null,
      "outputs": []
    },
    {
      "cell_type": "markdown",
      "metadata": {
        "id": "2YJTk7eHpiro"
      },
      "source": [
        "And here's how it works."
      ]
    },
    {
      "cell_type": "code",
      "metadata": {
        "id": "xnDWkv--pirq"
      },
      "source": [
        "results = run_simulation(coffee, update_func)"
      ],
      "execution_count": null,
      "outputs": []
    },
    {
      "cell_type": "markdown",
      "metadata": {
        "id": "TLfKmVmxpirr"
      },
      "source": [
        "Here's what the results look like."
      ]
    },
    {
      "cell_type": "code",
      "metadata": {
        "id": "g7qUR4Obpirt",
        "colab": {
          "base_uri": "https://localhost:8080/",
          "height": 297
        },
        "outputId": "5b227739-8b1a-4eb1-8ad7-cfbf82f60861"
      },
      "source": [
        "plot(results.T, label='coffee')\n",
        "decorate(xlabel='Time (minutes)',\n",
        "         ylabel='Temperature (C)')"
      ],
      "execution_count": null,
      "outputs": [
        {
          "output_type": "display_data",
          "data": {
            "image/png": "[encoded data removed]",
            "text/plain": [
              "<Figure size 432x288 with 1 Axes>"
            ]
          },
          "metadata": {
            "tags": [],
            "needs_background": "light"
          }
        }
      ]
    },
    {
      "cell_type": "markdown",
      "metadata": {
        "id": "wg6kj_OWpirw"
      },
      "source": [
        "And here's the final temperature:"
      ]
    },
    {
      "cell_type": "code",
      "metadata": {
        "id": "DnM7_mwfpirz"
      },
      "source": [
        "coffee.T_final = get_last_value(results.T)\n",
        "T_final = get_last_value(results.T)"
      ],
      "execution_count": null,
      "outputs": []
    },
    {
      "cell_type": "markdown",
      "metadata": {
        "id": "L58zZSq6pir0"
      },
      "source": [
        "## Encapsulation\n",
        "\n",
        "Before we go on, let's define a function to initialize `System` objects with relevant parameters:"
      ]
    },
    {
      "cell_type": "code",
      "metadata": {
        "id": "V6Lzl28apir1"
      },
      "source": [
        "def make_system(T_init, r, volume, t_end):\n",
        "    \"\"\"Makes a System object with the given parameters.\n",
        "\n",
        "    T_init: initial temperature in degC\n",
        "    r: heat transfer rate, in 1/min\n",
        "    volume: volume of liquid in mL\n",
        "    t_end: end time of simulation\n",
        "    \n",
        "    returns: System object\n",
        "    \"\"\"\n",
        "    init = State(T=T_init)\n",
        "                   \n",
        "    return System(init=init,\n",
        "                  r=r, \n",
        "                  volume=volume,\n",
        "                  temp=T_init,\n",
        "                  t_0=0, \n",
        "                  t_end=t_end, \n",
        "                  dt=1,\n",
        "                  T_env=22)"
      ],
      "execution_count": null,
      "outputs": []
    },
    {
      "cell_type": "markdown",
      "metadata": {
        "id": "MYuuXwsipir2"
      },
      "source": [
        "Here's how we use it:"
      ]
    },
    {
      "cell_type": "code",
      "metadata": {
        "id": "PgnuY9iOpir4"
      },
      "source": [
        "coffee = make_system(T_init=90, r=0.01, volume=300, t_end=30)\n",
        "results = run_simulation(coffee, update_func)\n",
        "T_final = get_last_value(results.T)"
      ],
      "execution_count": null,
      "outputs": []
    },
    {
      "cell_type": "code",
      "metadata": {
        "colab": {
          "base_uri": "https://localhost:8080/"
        },
        "id": "jWuTcqmWuq-t",
        "outputId": "88b47172-a7d7-46d8-93b8-96388d1ccb71"
      },
      "source": [
        "print(T_final)"
      ],
      "execution_count": null,
      "outputs": [
        {
          "output_type": "stream",
          "text": [
            "72.2996253904031\n"
          ],
          "name": "stdout"
        }
      ]
    },
    {
      "cell_type": "markdown",
      "metadata": {
        "id": "-rjWGozypir6"
      },
      "source": [
        "## Exercises\n",
        "\n",
        "**Exercise:**  Simulate the temperature of 50 mL of milk with a starting temperature of 5 degC, in a vessel with the same insulation, for 15 minutes, and plot the results.\n",
        "\n",
        "By trial and error, find a value for `r` that makes the final temperature close to 20 C."
      ]
    },
    {
      "cell_type": "code",
      "metadata": {
        "id": "EXs5sgPZpir8"
      },
      "source": [
        "# Solution goes here\n",
        "\n",
        "milk =  make_system(T_init=5, r= 0.132961, volume=50, t_end=15)\n",
        "results = run_simulation(milk, update_func)"
      ],
      "execution_count": null,
      "outputs": []
    },
    {
      "cell_type": "code",
      "metadata": {
        "id": "W3DsbL1Wpir8",
        "colab": {
          "base_uri": "https://localhost:8080/",
          "height": 297
        },
        "outputId": "41834d03-51be-4213-f08a-a203354d462f"
      },
      "source": [
        "plot(results.T, label='milk')\n",
        "decorate(xlabel='Time (minutes)',\n",
        "         ylabel='Temperature (C)')"
      ],
      "execution_count": null,
      "outputs": [
        {
          "output_type": "display_data",
          "data": {
            "image/png": "[encoded data removed]",
            "text/plain": [
              "<Figure size 432x288 with 1 Axes>"
            ]
          },
          "metadata": {
            "tags": [],
            "needs_background": "light"
          }
        }
      ]
    },
    {
      "cell_type": "code",
      "metadata": {
        "id": "QcCdE4fZpir9",
        "colab": {
          "base_uri": "https://localhost:8080/"
        },
        "outputId": "5bcb22d7-7085-4eab-d8cf-cd8ed3cd4254"
      },
      "source": [
        "milk_final_T = get_last_value(results.T)\n",
        "print(milk_final_T)"
      ],
      "execution_count": null,
      "outputs": [
        {
          "output_type": "stream",
          "text": [
            "20.00000728842391\n"
          ],
          "name": "stdout"
        }
      ]
    }
  ]
}