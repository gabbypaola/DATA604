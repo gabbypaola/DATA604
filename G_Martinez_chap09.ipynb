{
  "nbformat": 4,
  "nbformat_minor": 0,
  "metadata": {
    "kernelspec": {
      "display_name": "Python 3",
      "language": "python",
      "name": "python3"
    },
    "language_info": {
      "codemirror_mode": {
        "name": "ipython",
        "version": 3
      },
      "file_extension": ".py",
      "mimetype": "text/x-python",
      "name": "python",
      "nbconvert_exporter": "python",
      "pygments_lexer": "ipython3",
      "version": "3.7.9"
    },
    "colab": {
      "name": "G_Martinez_chap09.ipynb",
      "provenance": [],
      "include_colab_link": true
    }
  },
  "cells": [
    {
      "cell_type": "markdown",
      "metadata": {
        "id": "view-in-github",
        "colab_type": "text"
      },
      "source": [
        "<a href=\"https://colab.research.google.com/github/gabbypaola/DATA604/blob/main/G_Martinez_chap09.ipynb\" target=\"_parent\"><img src=\"https://colab.research.google.com/assets/colab-badge.svg\" alt=\"Open In Colab\"/></a>"
      ]
    },
    {
      "cell_type": "markdown",
      "metadata": {
        "id": "r_UpKGd0s6Mc"
      },
      "source": [
        "# Chapter 9"
      ]
    },
    {
      "cell_type": "markdown",
      "metadata": {
        "tags": [],
        "id": "ZCzLrqhvs6Mk"
      },
      "source": [
        "*Modeling and Simulation in Python*\n",
        "\n",
        "Copyright 2021 Allen Downey\n",
        "\n",
        "License: [Creative Commons Attribution-NonCommercial-ShareAlike 4.0 International](https://creativecommons.org/licenses/by-nc-sa/4.0/)"
      ]
    },
    {
      "cell_type": "code",
      "metadata": {
        "tags": [],
        "id": "3gzCrzZis6Mo"
      },
      "source": [
        "# check if the libraries we need are installed\n",
        "\n",
        "try:\n",
        "    import pint\n",
        "except ImportError:\n",
        "    !pip install pint\n",
        "    import pint\n",
        "    \n",
        "try:\n",
        "    from modsim import *\n",
        "except ImportError:\n",
        "    !pip install modsimpy\n",
        "    from modsim import *"
      ],
      "execution_count": 1,
      "outputs": []
    },
    {
      "cell_type": "markdown",
      "metadata": {
        "id": "5BHV18TLs6Mr"
      },
      "source": [
        "The following displays SymPy expressions and provides the option of showing results in LaTeX format."
      ]
    },
    {
      "cell_type": "code",
      "metadata": {
        "id": "UNaBP8wPs6Ms"
      },
      "source": [
        "from sympy.printing import latex\n",
        "\n",
        "def show(expr, show_latex=False):\n",
        "    \"\"\"Display a SymPy expression.\n",
        "    \n",
        "    expr: SymPy expression\n",
        "    show_latex: boolean\n",
        "    \"\"\"\n",
        "    if show_latex:\n",
        "        print(latex(expr))\n",
        "    return expr"
      ],
      "execution_count": 2,
      "outputs": []
    },
    {
      "cell_type": "markdown",
      "metadata": {
        "id": "iWjoMruks6Mu"
      },
      "source": [
        "### Analysis with SymPy"
      ]
    },
    {
      "cell_type": "markdown",
      "metadata": {
        "id": "3r7CuDdKs6Mv"
      },
      "source": [
        "Create a symbol for time."
      ]
    },
    {
      "cell_type": "code",
      "metadata": {
        "id": "wHaGnWhfs6Mw",
        "colab": {
          "base_uri": "https://localhost:8080/",
          "height": 38
        },
        "outputId": "08251ee8-9a5c-44e3-83f7-154938bc5b71"
      },
      "source": [
        "import sympy as sp\n",
        "\n",
        "t = sp.symbols('t')\n",
        "t"
      ],
      "execution_count": 3,
      "outputs": [
        {
          "output_type": "execute_result",
          "data": {
            "text/latex": "$\\displaystyle t$",
            "text/plain": [
              "t"
            ]
          },
          "metadata": {
            "tags": []
          },
          "execution_count": 3
        }
      ]
    },
    {
      "cell_type": "markdown",
      "metadata": {
        "id": "e2OedNZWs6My"
      },
      "source": [
        "If you combine symbols and numbers, you get symbolic expressions."
      ]
    },
    {
      "cell_type": "code",
      "metadata": {
        "id": "q6kc-anes6M0",
        "colab": {
          "base_uri": "https://localhost:8080/",
          "height": 37
        },
        "outputId": "3d46a4ce-aa64-4f58-c71c-c7d4ca6e75a1"
      },
      "source": [
        "expr = t + 1\n",
        "expr"
      ],
      "execution_count": 4,
      "outputs": [
        {
          "output_type": "execute_result",
          "data": {
            "text/latex": "$\\displaystyle t + 1$",
            "text/plain": [
              "t + 1"
            ]
          },
          "metadata": {
            "tags": []
          },
          "execution_count": 4
        }
      ]
    },
    {
      "cell_type": "markdown",
      "metadata": {
        "id": "kvsC9XFis6M1"
      },
      "source": [
        "The result is an `Add` object, which just represents the sum without trying to compute it."
      ]
    },
    {
      "cell_type": "code",
      "metadata": {
        "id": "Wbeo9M10s6M2",
        "colab": {
          "base_uri": "https://localhost:8080/"
        },
        "outputId": "e60ad030-f40c-47ca-99e9-4cbe5aae6643"
      },
      "source": [
        "type(expr)"
      ],
      "execution_count": 5,
      "outputs": [
        {
          "output_type": "execute_result",
          "data": {
            "text/plain": [
              "sympy.core.add.Add"
            ]
          },
          "metadata": {
            "tags": []
          },
          "execution_count": 5
        }
      ]
    },
    {
      "cell_type": "markdown",
      "metadata": {
        "id": "hMs2gUSAs6M4"
      },
      "source": [
        "`subs` can be used to replace a symbol with a number, which allows the addition to proceed."
      ]
    },
    {
      "cell_type": "code",
      "metadata": {
        "id": "52u7YCsVs6M5",
        "colab": {
          "base_uri": "https://localhost:8080/",
          "height": 37
        },
        "outputId": "f788f4ff-90f1-43f9-aad2-31533c1668d8"
      },
      "source": [
        "expr.subs(t, 2)"
      ],
      "execution_count": 6,
      "outputs": [
        {
          "output_type": "execute_result",
          "data": {
            "text/latex": "$\\displaystyle 3$",
            "text/plain": [
              "3"
            ]
          },
          "metadata": {
            "tags": []
          },
          "execution_count": 6
        }
      ]
    },
    {
      "cell_type": "markdown",
      "metadata": {
        "id": "7nDNwcRSs6M6"
      },
      "source": [
        "`f` is a special class of symbol that represents a function."
      ]
    },
    {
      "cell_type": "code",
      "metadata": {
        "id": "dL0Pe0fIs6M7",
        "colab": {
          "base_uri": "https://localhost:8080/"
        },
        "outputId": "dead9de2-9800-40f9-a9dc-d0b4fc7f77e5"
      },
      "source": [
        "f = sp.Function('f')\n",
        "f"
      ],
      "execution_count": 7,
      "outputs": [
        {
          "output_type": "execute_result",
          "data": {
            "text/plain": [
              "f"
            ]
          },
          "metadata": {
            "tags": []
          },
          "execution_count": 7
        }
      ]
    },
    {
      "cell_type": "markdown",
      "metadata": {
        "id": "zbCZCbYIs6M8"
      },
      "source": [
        "The type of `f` is `UndefinedFunction`"
      ]
    },
    {
      "cell_type": "code",
      "metadata": {
        "id": "loegy9Ixs6M9",
        "colab": {
          "base_uri": "https://localhost:8080/"
        },
        "outputId": "5d4597a8-5317-4060-e87d-68e065802d54"
      },
      "source": [
        "type(f)"
      ],
      "execution_count": 8,
      "outputs": [
        {
          "output_type": "execute_result",
          "data": {
            "text/plain": [
              "sympy.core.function.UndefinedFunction"
            ]
          },
          "metadata": {
            "tags": []
          },
          "execution_count": 8
        }
      ]
    },
    {
      "cell_type": "markdown",
      "metadata": {
        "id": "z8yfzy5Ws6M9"
      },
      "source": [
        "SymPy understands that `f(t)` means `f` evaluated at `t`, but it doesn't try to evaluate it yet."
      ]
    },
    {
      "cell_type": "code",
      "metadata": {
        "id": "ydusqF70s6M-",
        "colab": {
          "base_uri": "https://localhost:8080/",
          "height": 37
        },
        "outputId": "583230da-14df-4aca-fc9a-d903f1886b46"
      },
      "source": [
        "f(t)"
      ],
      "execution_count": 9,
      "outputs": [
        {
          "output_type": "execute_result",
          "data": {
            "text/latex": "$\\displaystyle f{\\left(t \\right)}$",
            "text/plain": [
              "f(t)"
            ]
          },
          "metadata": {
            "tags": []
          },
          "execution_count": 9
        }
      ]
    },
    {
      "cell_type": "markdown",
      "metadata": {
        "id": "xrb8c7pqs6M_"
      },
      "source": [
        "`diff` returns a `Derivative` object that represents the time derivative of `f`"
      ]
    },
    {
      "cell_type": "code",
      "metadata": {
        "id": "hELVuW66s6NA",
        "colab": {
          "base_uri": "https://localhost:8080/",
          "height": 52
        },
        "outputId": "95034e89-6d26-41a4-fe55-b962faf32e89"
      },
      "source": [
        "dfdt = sp.diff(f(t), t)\n",
        "dfdt"
      ],
      "execution_count": 10,
      "outputs": [
        {
          "output_type": "execute_result",
          "data": {
            "text/latex": "$\\displaystyle \\frac{d}{d t} f{\\left(t \\right)}$",
            "text/plain": [
              "Derivative(f(t), t)"
            ]
          },
          "metadata": {
            "tags": []
          },
          "execution_count": 10
        }
      ]
    },
    {
      "cell_type": "code",
      "metadata": {
        "id": "XIXhKBFxs6NA",
        "colab": {
          "base_uri": "https://localhost:8080/"
        },
        "outputId": "ff2c2dcb-310b-49f2-c436-db908b66dd46"
      },
      "source": [
        "type(dfdt)"
      ],
      "execution_count": 11,
      "outputs": [
        {
          "output_type": "execute_result",
          "data": {
            "text/plain": [
              "sympy.core.function.Derivative"
            ]
          },
          "metadata": {
            "tags": []
          },
          "execution_count": 11
        }
      ]
    },
    {
      "cell_type": "markdown",
      "metadata": {
        "id": "tzaQjPMMs6NB"
      },
      "source": [
        "We need a symbol for `alpha`"
      ]
    },
    {
      "cell_type": "code",
      "metadata": {
        "id": "-qnxL_8Ss6NC",
        "colab": {
          "base_uri": "https://localhost:8080/",
          "height": 37
        },
        "outputId": "15782e80-f476-4fe5-b0ba-f8d49e8ac251"
      },
      "source": [
        "alpha = sp.symbols('alpha')\n",
        "alpha"
      ],
      "execution_count": 12,
      "outputs": [
        {
          "output_type": "execute_result",
          "data": {
            "text/latex": "$\\displaystyle \\alpha$",
            "text/plain": [
              "alpha"
            ]
          },
          "metadata": {
            "tags": []
          },
          "execution_count": 12
        }
      ]
    },
    {
      "cell_type": "markdown",
      "metadata": {
        "id": "sjKFs6sHs6ND"
      },
      "source": [
        "Now we can write the differential equation for proportional growth."
      ]
    },
    {
      "cell_type": "code",
      "metadata": {
        "id": "ph7x_dLQs6ND",
        "colab": {
          "base_uri": "https://localhost:8080/",
          "height": 52
        },
        "outputId": "b12489f3-e865-4747-ee36-c3aa964617a9"
      },
      "source": [
        "eq1 = sp.Eq(dfdt, alpha*f(t))\n",
        "eq1"
      ],
      "execution_count": 13,
      "outputs": [
        {
          "output_type": "execute_result",
          "data": {
            "text/latex": "$\\displaystyle \\frac{d}{d t} f{\\left(t \\right)} = \\alpha f{\\left(t \\right)}$",
            "text/plain": [
              "Eq(Derivative(f(t), t), alpha*f(t))"
            ]
          },
          "metadata": {
            "tags": []
          },
          "execution_count": 13
        }
      ]
    },
    {
      "cell_type": "markdown",
      "metadata": {
        "id": "VZoDj-vhs6NE"
      },
      "source": [
        "And use `dsolve` to solve it.  The result is the general solution."
      ]
    },
    {
      "cell_type": "code",
      "metadata": {
        "id": "nxaDHddgs6NF",
        "colab": {
          "base_uri": "https://localhost:8080/",
          "height": 38
        },
        "outputId": "f8cb1df1-5967-49b6-dad6-fd5a52a49a27"
      },
      "source": [
        "solution_eq = sp.dsolve(eq1)\n",
        "solution_eq"
      ],
      "execution_count": 14,
      "outputs": [
        {
          "output_type": "execute_result",
          "data": {
            "text/latex": "$\\displaystyle f{\\left(t \\right)} = C_{1} e^{\\alpha t}$",
            "text/plain": [
              "Eq(f(t), C1*exp(alpha*t))"
            ]
          },
          "metadata": {
            "tags": []
          },
          "execution_count": 14
        }
      ]
    },
    {
      "cell_type": "markdown",
      "metadata": {
        "id": "SkInVYMgs6NF"
      },
      "source": [
        "We can tell it's a general solution because it contains an unspecified constant, `C1`.\n",
        "\n",
        "In this example, finding the particular solution is easy: we just replace `C1` with `p_0`"
      ]
    },
    {
      "cell_type": "code",
      "metadata": {
        "id": "2q-LU5gas6NG"
      },
      "source": [
        "C1, p_0 = sp.symbols('C1 p_0')"
      ],
      "execution_count": 15,
      "outputs": []
    },
    {
      "cell_type": "code",
      "metadata": {
        "id": "FEekCUxjs6NH",
        "colab": {
          "base_uri": "https://localhost:8080/",
          "height": 38
        },
        "outputId": "92929b54-2e1c-47cf-c19b-ef075524a6e5"
      },
      "source": [
        "particular = solution_eq.subs(C1, p_0)\n",
        "particular"
      ],
      "execution_count": 16,
      "outputs": [
        {
          "output_type": "execute_result",
          "data": {
            "text/latex": "$\\displaystyle f{\\left(t \\right)} = p_{0} e^{\\alpha t}$",
            "text/plain": [
              "Eq(f(t), p_0*exp(alpha*t))"
            ]
          },
          "metadata": {
            "tags": []
          },
          "execution_count": 16
        }
      ]
    },
    {
      "cell_type": "markdown",
      "metadata": {
        "id": "n8Zb0FLvs6NI"
      },
      "source": [
        "In the next example, we have to work a little harder to find the particular solution."
      ]
    },
    {
      "cell_type": "markdown",
      "metadata": {
        "id": "AzzoVy39s6NJ"
      },
      "source": [
        "### Solving the quadratic growth equation \n",
        "\n",
        "We'll use the (r, K) parameterization, so we'll need two more symbols:"
      ]
    },
    {
      "cell_type": "code",
      "metadata": {
        "id": "QG2hHiTIs6NK"
      },
      "source": [
        "r, K = sp.symbols('r K')"
      ],
      "execution_count": 17,
      "outputs": []
    },
    {
      "cell_type": "markdown",
      "metadata": {
        "id": "CRUTvyL1s6NL"
      },
      "source": [
        "Now we can write the differential equation."
      ]
    },
    {
      "cell_type": "code",
      "metadata": {
        "id": "GFyl2QhNs6NM",
        "colab": {
          "base_uri": "https://localhost:8080/",
          "height": 58
        },
        "outputId": "784c35c0-3bfd-412d-8ab0-6aa5dc81a3fd"
      },
      "source": [
        "eq2 = sp.Eq(sp.diff(f(t), t), r * f(t) * (1 - f(t)/K))\n",
        "eq2"
      ],
      "execution_count": 18,
      "outputs": [
        {
          "output_type": "execute_result",
          "data": {
            "text/latex": "$\\displaystyle \\frac{d}{d t} f{\\left(t \\right)} = r \\left(1 - \\frac{f{\\left(t \\right)}}{K}\\right) f{\\left(t \\right)}$",
            "text/plain": [
              "Eq(Derivative(f(t), t), r*(1 - f(t)/K)*f(t))"
            ]
          },
          "metadata": {
            "tags": []
          },
          "execution_count": 18
        }
      ]
    },
    {
      "cell_type": "markdown",
      "metadata": {
        "id": "_K9unIGds6NM"
      },
      "source": [
        "And solve it."
      ]
    },
    {
      "cell_type": "code",
      "metadata": {
        "id": "YNbeCUQOs6NN",
        "colab": {
          "base_uri": "https://localhost:8080/",
          "height": 56
        },
        "outputId": "5f2e890a-8e88-4b30-854f-3af39bf981bb"
      },
      "source": [
        "solution_eq = sp.dsolve(eq2)\n",
        "solution_eq"
      ],
      "execution_count": 19,
      "outputs": [
        {
          "output_type": "execute_result",
          "data": {
            "text/latex": "$\\displaystyle f{\\left(t \\right)} = \\frac{K e^{C_{1} K + r t}}{e^{C_{1} K + r t} - 1}$",
            "text/plain": [
              "Eq(f(t), K*exp(C1*K + r*t)/(exp(C1*K + r*t) - 1))"
            ]
          },
          "metadata": {
            "tags": []
          },
          "execution_count": 19
        }
      ]
    },
    {
      "cell_type": "markdown",
      "metadata": {
        "id": "T_eICLt_s6NO"
      },
      "source": [
        "The result, `solution_eq`, contains `rhs`, which is the right-hand side of the solution."
      ]
    },
    {
      "cell_type": "code",
      "metadata": {
        "id": "_SVHbVdHs6NP",
        "colab": {
          "base_uri": "https://localhost:8080/",
          "height": 56
        },
        "outputId": "568fdd69-3889-48e5-904d-8859f45eeb33"
      },
      "source": [
        "general = solution_eq.rhs\n",
        "general"
      ],
      "execution_count": 20,
      "outputs": [
        {
          "output_type": "execute_result",
          "data": {
            "text/latex": "$\\displaystyle \\frac{K e^{C_{1} K + r t}}{e^{C_{1} K + r t} - 1}$",
            "text/plain": [
              "K*exp(C1*K + r*t)/(exp(C1*K + r*t) - 1)"
            ]
          },
          "metadata": {
            "tags": []
          },
          "execution_count": 20
        }
      ]
    },
    {
      "cell_type": "markdown",
      "metadata": {
        "id": "pqp8E6sQs6NP"
      },
      "source": [
        "We can evaluate the right-hand side at $t=0$"
      ]
    },
    {
      "cell_type": "code",
      "metadata": {
        "id": "vZpB1kT3s6NQ",
        "colab": {
          "base_uri": "https://localhost:8080/",
          "height": 56
        },
        "outputId": "f988e50e-fc6d-44f4-e66b-abc88b18aa3f"
      },
      "source": [
        "at_0 = general.subs(t, 0)\n",
        "at_0"
      ],
      "execution_count": 21,
      "outputs": [
        {
          "output_type": "execute_result",
          "data": {
            "text/latex": "$\\displaystyle \\frac{K e^{C_{1} K}}{e^{C_{1} K} - 1}$",
            "text/plain": [
              "K*exp(C1*K)/(exp(C1*K) - 1)"
            ]
          },
          "metadata": {
            "tags": []
          },
          "execution_count": 21
        }
      ]
    },
    {
      "cell_type": "markdown",
      "metadata": {
        "id": "FV1SPdXEs6NR"
      },
      "source": [
        "Now we want to find the value of `C1` that makes `f(0) = p_0`.\n",
        "\n",
        "So we'll create the equation `at_0 = p_0` and solve for `C1`.  Because this is just an algebraic identity, not a differential equation, we use `solve`, not `dsolve`.\n",
        "\n",
        "The result from `solve` is a list of solutions.  In this case, [we have reason to expect only one solution](https://en.wikipedia.org/wiki/Picard%E2%80%93Lindel%C3%B6f_theorem), but we still get a list, so we have to use the bracket operator, `[0]`, to select the first one."
      ]
    },
    {
      "cell_type": "code",
      "metadata": {
        "id": "F_GK6lCys6NS",
        "colab": {
          "base_uri": "https://localhost:8080/"
        },
        "outputId": "b9aba9c8-3132-4f91-ca89-a3b7fc49a955"
      },
      "source": [
        "solutions = sp.solve(sp.Eq(at_0, p_0), C1)\n",
        "type(solutions), len(solutions)"
      ],
      "execution_count": 24,
      "outputs": [
        {
          "output_type": "execute_result",
          "data": {
            "text/plain": [
              "(list, 1)"
            ]
          },
          "metadata": {
            "tags": []
          },
          "execution_count": 24
        }
      ]
    },
    {
      "cell_type": "code",
      "metadata": {
        "id": "v1lG-DzWs6NS",
        "colab": {
          "base_uri": "https://localhost:8080/",
          "height": 66
        },
        "outputId": "ce0af96c-a05a-4168-d59a-9a94f93c96d3"
      },
      "source": [
        "value_of_C1 = solutions[0]\n",
        "value_of_C1"
      ],
      "execution_count": 25,
      "outputs": [
        {
          "output_type": "execute_result",
          "data": {
            "text/latex": "$\\displaystyle \\frac{\\log{\\left(- \\frac{p_{0}}{K - p_{0}} \\right)}}{K}$",
            "text/plain": [
              "log(-p_0/(K - p_0))/K"
            ]
          },
          "metadata": {
            "tags": []
          },
          "execution_count": 25
        }
      ]
    },
    {
      "cell_type": "markdown",
      "metadata": {
        "id": "N9k3Mf8Gs6NT"
      },
      "source": [
        "Now in the general solution, we want to replace `C1` with the value of `C1` we just figured out."
      ]
    },
    {
      "cell_type": "code",
      "metadata": {
        "id": "N0TdYwWss6NU",
        "colab": {
          "base_uri": "https://localhost:8080/",
          "height": 71
        },
        "outputId": "5bb31ea7-cdcc-4830-97eb-cd2a1129564c"
      },
      "source": [
        "particular = general.subs(C1, value_of_C1)\n",
        "particular"
      ],
      "execution_count": 26,
      "outputs": [
        {
          "output_type": "execute_result",
          "data": {
            "text/latex": "$\\displaystyle - \\frac{K p_{0} e^{r t}}{\\left(K - p_{0}\\right) \\left(- \\frac{p_{0} e^{r t}}{K - p_{0}} - 1\\right)}$",
            "text/plain": [
              "-K*p_0*exp(r*t)/((K - p_0)*(-p_0*exp(r*t)/(K - p_0) - 1))"
            ]
          },
          "metadata": {
            "tags": []
          },
          "execution_count": 26
        }
      ]
    },
    {
      "cell_type": "markdown",
      "metadata": {
        "id": "AZ3v3418s6NV"
      },
      "source": [
        "The result is complicated, but SymPy provides a method that tries to simplify it."
      ]
    },
    {
      "cell_type": "code",
      "metadata": {
        "id": "M8ZO8NsWs6NV",
        "colab": {
          "base_uri": "https://localhost:8080/",
          "height": 57
        },
        "outputId": "cdf05cf8-a753-4d5c-cd78-2d93eb6916e1"
      },
      "source": [
        "particular = sp.simplify(particular)\n",
        "particular"
      ],
      "execution_count": 27,
      "outputs": [
        {
          "output_type": "execute_result",
          "data": {
            "text/latex": "$\\displaystyle \\frac{K p_{0} e^{r t}}{K + p_{0} e^{r t} - p_{0}}$",
            "text/plain": [
              "K*p_0*exp(r*t)/(K + p_0*exp(r*t) - p_0)"
            ]
          },
          "metadata": {
            "tags": []
          },
          "execution_count": 27
        }
      ]
    },
    {
      "cell_type": "markdown",
      "metadata": {
        "id": "pNJnIj97s6NW"
      },
      "source": [
        "Often simplicity is in the eye of the beholder, but that's about as simple as this expression gets.\n",
        "\n",
        "Just to double-check, we can evaluate it at `t=0` and confirm that we get `p_0`"
      ]
    },
    {
      "cell_type": "code",
      "metadata": {
        "id": "DPVjuVq5s6NX",
        "colab": {
          "base_uri": "https://localhost:8080/",
          "height": 38
        },
        "outputId": "48c5a6c3-88d2-4c55-f274-3f701ffda33a"
      },
      "source": [
        "particular.subs(t, 0)"
      ],
      "execution_count": 28,
      "outputs": [
        {
          "output_type": "execute_result",
          "data": {
            "text/latex": "$\\displaystyle p_{0}$",
            "text/plain": [
              "p_0"
            ]
          },
          "metadata": {
            "tags": []
          },
          "execution_count": 28
        }
      ]
    },
    {
      "cell_type": "markdown",
      "metadata": {
        "id": "d-XqmSgRs6NY"
      },
      "source": [
        "This solution is called the [logistic function](https://en.wikipedia.org/wiki/Population_growth#Logistic_equation).\n",
        "\n",
        "In some places you'll see it written in a different form:\n",
        "\n",
        "$f(t) = \\frac{K}{1 + A e^{-rt}}$\n",
        "\n",
        "where $A = (K - p_0) / p_0$.\n",
        "\n",
        "We can use SymPy to confirm that these two forms are equivalent.  First we represent the alternative version of the logistic function:"
      ]
    },
    {
      "cell_type": "code",
      "metadata": {
        "id": "DqJHvzXts6NZ",
        "colab": {
          "base_uri": "https://localhost:8080/",
          "height": 55
        },
        "outputId": "b1a96d04-8501-4f2f-c906-ffd29f47d31c"
      },
      "source": [
        "A = (K - p_0) / p_0\n",
        "A"
      ],
      "execution_count": 29,
      "outputs": [
        {
          "output_type": "execute_result",
          "data": {
            "text/latex": "$\\displaystyle \\frac{K - p_{0}}{p_{0}}$",
            "text/plain": [
              "(K - p_0)/p_0"
            ]
          },
          "metadata": {
            "tags": []
          },
          "execution_count": 29
        }
      ]
    },
    {
      "cell_type": "code",
      "metadata": {
        "id": "g59llVhis6Na",
        "colab": {
          "base_uri": "https://localhost:8080/",
          "height": 63
        },
        "outputId": "340c1f4e-b817-4218-988f-621bd256119b"
      },
      "source": [
        "logistic = K / (1 + A * sp.exp(-r*t))\n",
        "logistic"
      ],
      "execution_count": 30,
      "outputs": [
        {
          "output_type": "execute_result",
          "data": {
            "text/latex": "$\\displaystyle \\frac{K}{1 + \\frac{\\left(K - p_{0}\\right) e^{- r t}}{p_{0}}}$",
            "text/plain": [
              "K/(1 + (K - p_0)*exp(-r*t)/p_0)"
            ]
          },
          "metadata": {
            "tags": []
          },
          "execution_count": 30
        }
      ]
    },
    {
      "cell_type": "markdown",
      "metadata": {
        "id": "H65OhPt3s6Na"
      },
      "source": [
        "To see whether two expressions are equivalent, we can check whether their difference simplifies to 0."
      ]
    },
    {
      "cell_type": "code",
      "metadata": {
        "scrolled": true,
        "id": "MPnwXVB3s6Nb",
        "colab": {
          "base_uri": "https://localhost:8080/",
          "height": 37
        },
        "outputId": "d93ef42a-2c7c-445d-e80a-77ac447d877c"
      },
      "source": [
        "sp.simplify(particular - logistic)"
      ],
      "execution_count": 31,
      "outputs": [
        {
          "output_type": "execute_result",
          "data": {
            "text/latex": "$\\displaystyle 0$",
            "text/plain": [
              "0"
            ]
          },
          "metadata": {
            "tags": []
          },
          "execution_count": 31
        }
      ]
    },
    {
      "cell_type": "markdown",
      "metadata": {
        "id": "Wtx7Z6Ahs6Nd"
      },
      "source": [
        "This test only works one way: if SymPy says the difference reduces to 0, the expressions are definitely equivalent (and not just numerically close).\n",
        "\n",
        "But if SymPy can't find a way to simplify the result to 0, that doesn't necessarily mean there isn't one.  Testing whether two expressions are equivalent is a surprisingly hard problem; in fact, there is no algorithm that can solve it in general."
      ]
    },
    {
      "cell_type": "markdown",
      "metadata": {
        "id": "6UGLb9n0s6Ne"
      },
      "source": [
        "### Exercises\n",
        "\n",
        "**Exercise:** Solve the quadratic growth equation using the alternative parameterization\n",
        "\n",
        "$\\frac{df(t)}{dt} = \\alpha f(t) + \\beta f^2(t) $"
      ]
    },
    {
      "cell_type": "code",
      "metadata": {
        "id": "f1EqvT45s6Nf",
        "colab": {
          "base_uri": "https://localhost:8080/",
          "height": 38
        },
        "outputId": "ea49ce24-3b72-4500-a2d2-e396dc69aadd"
      },
      "source": [
        "# Solution goes here\n",
        "beta = sp.symbols('beta')\n",
        "beta"
      ],
      "execution_count": 32,
      "outputs": [
        {
          "output_type": "execute_result",
          "data": {
            "text/latex": "$\\displaystyle \\beta$",
            "text/plain": [
              "beta"
            ]
          },
          "metadata": {
            "tags": []
          },
          "execution_count": 32
        }
      ]
    },
    {
      "cell_type": "code",
      "metadata": {
        "id": "Pn6k-HDFs6Ng"
      },
      "source": [
        "# Solution goes here\n",
        "dfdt = sp.diff(f(t), t)"
      ],
      "execution_count": 33,
      "outputs": []
    },
    {
      "cell_type": "code",
      "metadata": {
        "id": "I0zb9elos6Nh",
        "colab": {
          "base_uri": "https://localhost:8080/",
          "height": 52
        },
        "outputId": "1a90998d-e57b-40b8-9bb2-b5a61690a6e9"
      },
      "source": [
        "# Solution goes here\n",
        "eq3 = sp.Eq(sp.diff(f(t), t), alpha*f(t) + beta*f(t)**2)\n",
        "eq3"
      ],
      "execution_count": 34,
      "outputs": [
        {
          "output_type": "execute_result",
          "data": {
            "text/latex": "$\\displaystyle \\frac{d}{d t} f{\\left(t \\right)} = \\alpha f{\\left(t \\right)} + \\beta f^{2}{\\left(t \\right)}$",
            "text/plain": [
              "Eq(Derivative(f(t), t), alpha*f(t) + beta*f(t)**2)"
            ]
          },
          "metadata": {
            "tags": []
          },
          "execution_count": 34
        }
      ]
    },
    {
      "cell_type": "code",
      "metadata": {
        "id": "zzLO9_YMs6Nh",
        "colab": {
          "base_uri": "https://localhost:8080/",
          "height": 62
        },
        "outputId": "8a4cbe31-734f-4874-f669-7a3da4118ce8"
      },
      "source": [
        "# Solution goes here\n",
        "solution_eq = sp.dsolve(eq3)\n",
        "solution_eq"
      ],
      "execution_count": 35,
      "outputs": [
        {
          "output_type": "execute_result",
          "data": {
            "text/latex": "$\\displaystyle f{\\left(t \\right)} = \\frac{\\alpha e^{\\alpha \\left(C_{1} + t\\right)}}{\\beta \\left(1 - e^{\\alpha \\left(C_{1} + t\\right)}\\right)}$",
            "text/plain": [
              "Eq(f(t), alpha*exp(alpha*(C1 + t))/(beta*(1 - exp(alpha*(C1 + t)))))"
            ]
          },
          "metadata": {
            "tags": []
          },
          "execution_count": 35
        }
      ]
    },
    {
      "cell_type": "code",
      "metadata": {
        "id": "PY-Cwbsks6Ni"
      },
      "source": [
        "# Solution goes here\n",
        "C1, p_0 = sp.symbols('C1 p_0')"
      ],
      "execution_count": 36,
      "outputs": []
    },
    {
      "cell_type": "code",
      "metadata": {
        "id": "S-7oU1SMs6Nj",
        "colab": {
          "base_uri": "https://localhost:8080/",
          "height": 62
        },
        "outputId": "e05557c2-5bc8-4e33-cb05-e8a89446c168"
      },
      "source": [
        "# Solution goes here\n",
        "particular = solution_eq.subs(C1, p_0)\n",
        "particular"
      ],
      "execution_count": 37,
      "outputs": [
        {
          "output_type": "execute_result",
          "data": {
            "text/latex": "$\\displaystyle f{\\left(t \\right)} = \\frac{\\alpha e^{\\alpha \\left(p_{0} + t\\right)}}{\\beta \\left(1 - e^{\\alpha \\left(p_{0} + t\\right)}\\right)}$",
            "text/plain": [
              "Eq(f(t), alpha*exp(alpha*(p_0 + t))/(beta*(1 - exp(alpha*(p_0 + t)))))"
            ]
          },
          "metadata": {
            "tags": []
          },
          "execution_count": 37
        }
      ]
    },
    {
      "cell_type": "code",
      "metadata": {
        "id": "TOD2Z-xas6Nj",
        "colab": {
          "base_uri": "https://localhost:8080/",
          "height": 62
        },
        "outputId": "9395750c-927c-4342-f8e8-09ebcaa03177"
      },
      "source": [
        "# Solution goes here\n",
        "general = solution_eq.rhs\n",
        "general"
      ],
      "execution_count": 38,
      "outputs": [
        {
          "output_type": "execute_result",
          "data": {
            "text/latex": "$\\displaystyle \\frac{\\alpha e^{\\alpha \\left(C_{1} + t\\right)}}{\\beta \\left(1 - e^{\\alpha \\left(C_{1} + t\\right)}\\right)}$",
            "text/plain": [
              "alpha*exp(alpha*(C1 + t))/(beta*(1 - exp(alpha*(C1 + t))))"
            ]
          },
          "metadata": {
            "tags": []
          },
          "execution_count": 38
        }
      ]
    },
    {
      "cell_type": "code",
      "metadata": {
        "colab": {
          "base_uri": "https://localhost:8080/",
          "height": 59
        },
        "id": "Mr43V-9Vz1RQ",
        "outputId": "a3e3b9c3-3a32-4208-a293-298ed03df84c"
      },
      "source": [
        "at_0 = general.subs(t, 0)\n",
        "at_0"
      ],
      "execution_count": 39,
      "outputs": [
        {
          "output_type": "execute_result",
          "data": {
            "text/latex": "$\\displaystyle \\frac{\\alpha e^{C_{1} \\alpha}}{\\beta \\left(1 - e^{C_{1} \\alpha}\\right)}$",
            "text/plain": [
              "alpha*exp(C1*alpha)/(beta*(1 - exp(C1*alpha)))"
            ]
          },
          "metadata": {
            "tags": []
          },
          "execution_count": 39
        }
      ]
    },
    {
      "cell_type": "code",
      "metadata": {
        "colab": {
          "base_uri": "https://localhost:8080/"
        },
        "id": "A8vPe9BR0gfl",
        "outputId": "0654503e-263c-41ba-e720-c4e2f4f78af2"
      },
      "source": [
        "solutions = sp.solve(sp.Eq(at_0, p_0), C1)\n",
        "type(solutions), len(solutions)\n"
      ],
      "execution_count": 40,
      "outputs": [
        {
          "output_type": "execute_result",
          "data": {
            "text/plain": [
              "(list, 1)"
            ]
          },
          "metadata": {
            "tags": []
          },
          "execution_count": 40
        }
      ]
    },
    {
      "cell_type": "code",
      "metadata": {
        "colab": {
          "base_uri": "https://localhost:8080/",
          "height": 66
        },
        "id": "UaEjR1bW0gP3",
        "outputId": "3c28de39-2064-4f03-cb99-2b8afbf28e0a"
      },
      "source": [
        "value_of_C1 = solutions[0]\n",
        "value_of_C1"
      ],
      "execution_count": 41,
      "outputs": [
        {
          "output_type": "execute_result",
          "data": {
            "text/latex": "$\\displaystyle \\frac{\\log{\\left(\\frac{\\beta p_{0}}{\\alpha + \\beta p_{0}} \\right)}}{\\alpha}$",
            "text/plain": [
              "log(beta*p_0/(alpha + beta*p_0))/alpha"
            ]
          },
          "metadata": {
            "tags": []
          },
          "execution_count": 41
        }
      ]
    },
    {
      "cell_type": "code",
      "metadata": {
        "colab": {
          "base_uri": "https://localhost:8080/",
          "height": 143
        },
        "id": "Qkkkv6We0f7G",
        "outputId": "aa4aa691-0c25-4c54-888f-720ed79a30b8"
      },
      "source": [
        "particular = general.subs(C1, value_of_C1)\n",
        "particular"
      ],
      "execution_count": 42,
      "outputs": [
        {
          "output_type": "execute_result",
          "data": {
            "text/latex": "$\\displaystyle \\frac{\\alpha e^{\\alpha \\left(t + \\frac{\\log{\\left(\\frac{\\beta p_{0}}{\\alpha + \\beta p_{0}} \\right)}}{\\alpha}\\right)}}{\\beta \\left(1 - e^{\\alpha \\left(t + \\frac{\\log{\\left(\\frac{\\beta p_{0}}{\\alpha + \\beta p_{0}} \\right)}}{\\alpha}\\right)}\\right)}$",
            "text/plain": [
              "alpha*exp(alpha*(t + log(beta*p_0/(alpha + beta*p_0))/alpha))/(beta*(1 - exp(alpha*(t + log(beta*p_0/(alpha + beta*p_0))/alpha))))"
            ]
          },
          "metadata": {
            "tags": []
          },
          "execution_count": 42
        }
      ]
    },
    {
      "cell_type": "code",
      "metadata": {
        "colab": {
          "base_uri": "https://localhost:8080/",
          "height": 57
        },
        "id": "YF5Odig84PGn",
        "outputId": "d4e6d35f-407d-4f4e-8bdb-f70813632065"
      },
      "source": [
        "particular.simplify()"
      ],
      "execution_count": 43,
      "outputs": [
        {
          "output_type": "execute_result",
          "data": {
            "text/latex": "$\\displaystyle \\frac{\\alpha p_{0} e^{\\alpha t}}{\\alpha - \\beta p_{0} e^{\\alpha t} + \\beta p_{0}}$",
            "text/plain": [
              "alpha*p_0*exp(alpha*t)/(alpha - beta*p_0*exp(alpha*t) + beta*p_0)"
            ]
          },
          "metadata": {
            "tags": []
          },
          "execution_count": 43
        }
      ]
    },
    {
      "cell_type": "markdown",
      "metadata": {
        "id": "dILJVaLIs6Nk"
      },
      "source": [
        "**Exercise:**  Use [WolframAlpha](https://www.wolframalpha.com/) to solve the quadratic growth model, using either or both forms of parameterization:\n",
        "\n",
        "    df(t) / dt = alpha f(t) + beta f(t)^2\n",
        "\n",
        "or\n",
        "\n",
        "    df(t) / dt = r f(t) (1 - f(t)/K)\n",
        "\n",
        "Find the general solution and also the particular solution where `f(0) = p_0`."
      ]
    },
    {
      "cell_type": "code",
      "metadata": {
        "id": "LTeS4sCiIsL5"
      },
      "source": [
        "from pprint import pprint\n",
        "import requests\n",
        "import os\n",
        "import urllib.parse"
      ],
      "execution_count": 47,
      "outputs": []
    },
    {
      "cell_type": "code",
      "metadata": {
        "colab": {
          "base_uri": "https://localhost:8080/"
        },
        "id": "6zbge6k5MZlv",
        "outputId": "ec2d577f-1eea-4402-c992-7132ba88f2fe"
      },
      "source": [
        "#general solution: df(t) / dt = alpha f(t) + beta f(t)^2\n",
        "equation = \"df(t) / dt = alpha f(t) + beta f(t)^2\"\n",
        "query = urllib.parse.quote_plus(f\"solve {equation}\")\n",
        "query_url = f\"http://api.wolframalpha.com/v2/query?\" \\\n",
        "            f\"appid=YRT622-H9ELPWUELA\" \\\n",
        "            f\"&input={query}\" \\\n",
        "            f\"&includepodid=Result\" \\\n",
        "            f\"&output=json\"\n",
        "\n",
        "r = requests.get(query_url).json()\n",
        "\n",
        "data = r[\"queryresult\"][\"pods\"][0][\"subpods\"][0]\n",
        "plaintext = data[\"plaintext\"]\n",
        "\n",
        "print(f\"Result of {equation} is \\n'{plaintext}'.\")"
      ],
      "execution_count": 45,
      "outputs": [
        {
          "output_type": "stream",
          "text": [
            "Result of df(t) / dt = alpha f(t) + beta f(t)^2 is \n",
            "'f(t) = -(α e^(α c_1 + α t))/(β e^(α c_1 + α t) - 1)'.\n"
          ],
          "name": "stdout"
        }
      ]
    },
    {
      "cell_type": "code",
      "metadata": {
        "colab": {
          "base_uri": "https://localhost:8080/"
        },
        "id": "VIQRyVyZIRg7",
        "outputId": "df3f181c-f525-4e16-f578-679518c99746"
      },
      "source": [
        "#particular solution: df(t) / dt = alpha f(t) + beta f(t)^2, where f(0) = p_0\n",
        "equation = \"df(t) / dt = alpha f(t) + beta f(t)^2, f(0) = p_0\"\n",
        "query = urllib.parse.quote_plus(f\"solve {equation}\")\n",
        "query_url = f\"http://api.wolframalpha.com/v2/query?\" \\\n",
        "            f\"appid=YRT622-H9ELPWUELA\" \\\n",
        "            f\"&input={query}\" \\\n",
        "            f\"&includepodid=Result\" \\\n",
        "            f\"&output=json\"\n",
        "\n",
        "r = requests.get(query_url).json()\n",
        "\n",
        "data = r[\"queryresult\"][\"pods\"][0][\"subpods\"][0]\n",
        "plaintext = data[\"plaintext\"]\n",
        "\n",
        "print(f\"Result of {equation} is \\n'{plaintext}'.\")"
      ],
      "execution_count": 49,
      "outputs": [
        {
          "output_type": "stream",
          "text": [
            "Result of df(t) / dt = alpha f(t) + beta f(t)^2, f(0) = p_0 is \n",
            "'f(t) = (α p_0 e^(α t))/(α - β p_0 (e^(α t) - 1))'.\n"
          ],
          "name": "stdout"
        }
      ]
    },
    {
      "cell_type": "markdown",
      "metadata": {
        "id": "jpzdBjsnZD2Y"
      },
      "source": [
        "Reference: https://towardsdatascience.com/build-your-next-project-with-wolfram-alpha-api-and-python-51c2c361d8b9"
      ]
    }
  ]
}